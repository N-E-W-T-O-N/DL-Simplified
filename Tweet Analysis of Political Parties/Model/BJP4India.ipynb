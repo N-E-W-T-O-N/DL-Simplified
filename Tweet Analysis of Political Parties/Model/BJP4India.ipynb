{
 "cells": [
  {
   "cell_type": "markdown",
   "metadata": {},
   "source": [
    "## Tweet Analysis of Indian Political Parties"
   ]
  },
  {
   "cell_type": "markdown",
   "metadata": {},
   "source": [
    "#### Imports:"
   ]
  },
  {
   "cell_type": "code",
   "execution_count": 2,
   "metadata": {
    "tags": []
   },
   "outputs": [],
   "source": [
    "import os\n",
    "import pandas as pd\n",
    "import numpy as np\n",
    "import matplotlib.pyplot as plt\n",
    "import re\n",
    "import nltk\n",
    "from nltk.corpus import stopwords\n",
    "from nltk.stem import PorterStemmer\n",
    "from nltk.tokenize import TweetTokenizer\n",
    "from nltk.tokenize import word_tokenize\n",
    "from nltk.tokenize import sent_tokenize\n",
    "from nltk.stem import WordNetLemmatizer\n",
    "from nltk import pos_tag\n",
    "from nltk.corpus import wordnet\n",
    "import tqdm"
   ]
  },
  {
   "cell_type": "markdown",
   "metadata": {},
   "source": [
    "#### Twitter Account Analysis of BJP4India"
   ]
  },
  {
   "cell_type": "code",
   "execution_count": 54,
   "metadata": {
    "tags": []
   },
   "outputs": [],
   "source": [
    "# load the data\n",
    "df1 = pd.read_csv(\"/Users/omachrekar/My Work/Artificial Intelligence Projects/Twitter Sentiment Analysis of Political Parties/Dataset/BJP4India.csv\")"
   ]
  },
  {
   "cell_type": "code",
   "execution_count": 55,
   "metadata": {
    "tags": []
   },
   "outputs": [
    {
     "data": {
      "text/html": [
       "<div>\n",
       "<style scoped>\n",
       "    .dataframe tbody tr th:only-of-type {\n",
       "        vertical-align: middle;\n",
       "    }\n",
       "\n",
       "    .dataframe tbody tr th {\n",
       "        vertical-align: top;\n",
       "    }\n",
       "\n",
       "    .dataframe thead th {\n",
       "        text-align: right;\n",
       "    }\n",
       "</style>\n",
       "<table border=\"1\" class=\"dataframe\">\n",
       "  <thead>\n",
       "    <tr style=\"text-align: right;\">\n",
       "      <th></th>\n",
       "      <th>Datetime</th>\n",
       "      <th>Tweet Id</th>\n",
       "      <th>Text</th>\n",
       "      <th>Username</th>\n",
       "      <th>likeCount</th>\n",
       "    </tr>\n",
       "  </thead>\n",
       "  <tbody>\n",
       "    <tr>\n",
       "      <th>0</th>\n",
       "      <td>2023-06-06 17:00:01+00:00</td>\n",
       "      <td>1666127815585181698</td>\n",
       "      <td>Encapsulating 9 years of women empowerment!\\n\\...</td>\n",
       "      <td>BJP4India</td>\n",
       "      <td>584</td>\n",
       "    </tr>\n",
       "    <tr>\n",
       "      <th>1</th>\n",
       "      <td>2023-06-06 16:28:38+00:00</td>\n",
       "      <td>1666119918344081408</td>\n",
       "      <td>फर्क साफ है....\\n\\n2014 से पहले महिलाओं को खान...</td>\n",
       "      <td>BJP4India</td>\n",
       "      <td>805</td>\n",
       "    </tr>\n",
       "    <tr>\n",
       "      <th>2</th>\n",
       "      <td>2023-06-06 15:57:49+00:00</td>\n",
       "      <td>1666112162815938563</td>\n",
       "      <td>भाजपा राष्ट्रीय अध्यक्ष श्री @JPNadda 7 जून को...</td>\n",
       "      <td>BJP4India</td>\n",
       "      <td>722</td>\n",
       "    </tr>\n",
       "    <tr>\n",
       "      <th>3</th>\n",
       "      <td>2023-06-06 13:56:08+00:00</td>\n",
       "      <td>1666081541515034624</td>\n",
       "      <td>सिर्फ 'महिला विकास' नहीं,\\n'महिलाओं के नेतृत्व...</td>\n",
       "      <td>BJP4India</td>\n",
       "      <td>1131</td>\n",
       "    </tr>\n",
       "    <tr>\n",
       "      <th>4</th>\n",
       "      <td>2023-06-06 13:10:37+00:00</td>\n",
       "      <td>1666070087634395136</td>\n",
       "      <td>नारी उत्थान,\\nनए भारत की पहचान!\\n\\nपीएम आवास-ग...</td>\n",
       "      <td>BJP4India</td>\n",
       "      <td>644</td>\n",
       "    </tr>\n",
       "  </tbody>\n",
       "</table>\n",
       "</div>"
      ],
      "text/plain": [
       "                    Datetime             Tweet Id  \\\n",
       "0  2023-06-06 17:00:01+00:00  1666127815585181698   \n",
       "1  2023-06-06 16:28:38+00:00  1666119918344081408   \n",
       "2  2023-06-06 15:57:49+00:00  1666112162815938563   \n",
       "3  2023-06-06 13:56:08+00:00  1666081541515034624   \n",
       "4  2023-06-06 13:10:37+00:00  1666070087634395136   \n",
       "\n",
       "                                                Text   Username  likeCount  \n",
       "0  Encapsulating 9 years of women empowerment!\\n\\...  BJP4India        584  \n",
       "1  फर्क साफ है....\\n\\n2014 से पहले महिलाओं को खान...  BJP4India        805  \n",
       "2  भाजपा राष्ट्रीय अध्यक्ष श्री @JPNadda 7 जून को...  BJP4India        722  \n",
       "3  सिर्फ 'महिला विकास' नहीं,\\n'महिलाओं के नेतृत्व...  BJP4India       1131  \n",
       "4  नारी उत्थान,\\nनए भारत की पहचान!\\n\\nपीएम आवास-ग...  BJP4India        644  "
      ]
     },
     "execution_count": 55,
     "metadata": {},
     "output_type": "execute_result"
    }
   ],
   "source": [
    "# print the first 5 rows of data\n",
    "df1.head()"
   ]
  },
  {
   "cell_type": "code",
   "execution_count": 56,
   "metadata": {
    "tags": []
   },
   "outputs": [
    {
     "data": {
      "text/html": [
       "<div>\n",
       "<style scoped>\n",
       "    .dataframe tbody tr th:only-of-type {\n",
       "        vertical-align: middle;\n",
       "    }\n",
       "\n",
       "    .dataframe tbody tr th {\n",
       "        vertical-align: top;\n",
       "    }\n",
       "\n",
       "    .dataframe thead th {\n",
       "        text-align: right;\n",
       "    }\n",
       "</style>\n",
       "<table border=\"1\" class=\"dataframe\">\n",
       "  <thead>\n",
       "    <tr style=\"text-align: right;\">\n",
       "      <th></th>\n",
       "      <th>Datetime</th>\n",
       "      <th>Tweet Id</th>\n",
       "      <th>Text</th>\n",
       "      <th>Username</th>\n",
       "      <th>likeCount</th>\n",
       "    </tr>\n",
       "  </thead>\n",
       "  <tbody>\n",
       "    <tr>\n",
       "      <th>225256</th>\n",
       "      <td>2010-11-19 07:13:05+00:00</td>\n",
       "      <td>5518911541870592</td>\n",
       "      <td>Its time for voters of Bihar to exercise their...</td>\n",
       "      <td>BJP4India</td>\n",
       "      <td>0</td>\n",
       "    </tr>\n",
       "    <tr>\n",
       "      <th>225257</th>\n",
       "      <td>2010-11-18 11:05:55+00:00</td>\n",
       "      <td>5215117159440384</td>\n",
       "      <td>In a press conference on all corruptions of UP...</td>\n",
       "      <td>BJP4India</td>\n",
       "      <td>0</td>\n",
       "    </tr>\n",
       "    <tr>\n",
       "      <th>225258</th>\n",
       "      <td>2010-11-18 11:04:33+00:00</td>\n",
       "      <td>5214773138427904</td>\n",
       "      <td>In a press conference on all corruptions of UP...</td>\n",
       "      <td>BJP4India</td>\n",
       "      <td>0</td>\n",
       "    </tr>\n",
       "    <tr>\n",
       "      <th>225259</th>\n",
       "      <td>2010-11-18 06:43:27+00:00</td>\n",
       "      <td>5149065960488960</td>\n",
       "      <td>Bharatiya Janata Party will be organizing a tw...</td>\n",
       "      <td>BJP4India</td>\n",
       "      <td>0</td>\n",
       "    </tr>\n",
       "    <tr>\n",
       "      <th>225260</th>\n",
       "      <td>2010-11-16 05:01:05+00:00</td>\n",
       "      <td>4398527031541760</td>\n",
       "      <td>BJP President, Shri Nitin Gadkari has strongly...</td>\n",
       "      <td>BJP4India</td>\n",
       "      <td>0</td>\n",
       "    </tr>\n",
       "  </tbody>\n",
       "</table>\n",
       "</div>"
      ],
      "text/plain": [
       "                         Datetime          Tweet Id  \\\n",
       "225256  2010-11-19 07:13:05+00:00  5518911541870592   \n",
       "225257  2010-11-18 11:05:55+00:00  5215117159440384   \n",
       "225258  2010-11-18 11:04:33+00:00  5214773138427904   \n",
       "225259  2010-11-18 06:43:27+00:00  5149065960488960   \n",
       "225260  2010-11-16 05:01:05+00:00  4398527031541760   \n",
       "\n",
       "                                                     Text   Username  \\\n",
       "225256  Its time for voters of Bihar to exercise their...  BJP4India   \n",
       "225257  In a press conference on all corruptions of UP...  BJP4India   \n",
       "225258  In a press conference on all corruptions of UP...  BJP4India   \n",
       "225259  Bharatiya Janata Party will be organizing a tw...  BJP4India   \n",
       "225260  BJP President, Shri Nitin Gadkari has strongly...  BJP4India   \n",
       "\n",
       "        likeCount  \n",
       "225256          0  \n",
       "225257          0  \n",
       "225258          0  \n",
       "225259          0  \n",
       "225260          0  "
      ]
     },
     "execution_count": 56,
     "metadata": {},
     "output_type": "execute_result"
    }
   ],
   "source": [
    "# print the last 5 rows of data\n",
    "df1.tail()"
   ]
  },
  {
   "cell_type": "code",
   "execution_count": 57,
   "metadata": {
    "tags": []
   },
   "outputs": [
    {
     "data": {
      "text/plain": [
       "(225261, 5)"
      ]
     },
     "execution_count": 57,
     "metadata": {},
     "output_type": "execute_result"
    }
   ],
   "source": [
    "# print the dimensions of the dataframe\n",
    "df1.shape"
   ]
  },
  {
   "cell_type": "code",
   "execution_count": 58,
   "metadata": {
    "tags": []
   },
   "outputs": [
    {
     "data": {
      "text/plain": [
       "476.333377726282"
      ]
     },
     "execution_count": 58,
     "metadata": {},
     "output_type": "execute_result"
    }
   ],
   "source": [
    "# mean of the likeCount\n",
    "df1['likeCount'].mean()"
   ]
  },
  {
   "cell_type": "code",
   "execution_count": 59,
   "metadata": {
    "tags": []
   },
   "outputs": [
    {
     "name": "stdout",
     "output_type": "stream",
     "text": [
      "Latest tweet date:  2023-06-06 17:00:01+00:00\n",
      "Oldest tweet date:  2010-11-16 05:01:05+00:00\n"
     ]
    }
   ],
   "source": [
    "# first date of the tweet and last date of the tweet\n",
    "print(\"Latest tweet date: \", df1['Datetime'].max())\n",
    "print(\"Oldest tweet date: \", df1['Datetime'].min())"
   ]
  },
  {
   "cell_type": "code",
   "execution_count": 60,
   "metadata": {
    "tags": []
   },
   "outputs": [
    {
     "data": {
      "text/plain": [
       "Index(['Datetime', 'Tweet Id', 'Text', 'Username', 'likeCount'], dtype='object')"
      ]
     },
     "execution_count": 60,
     "metadata": {},
     "output_type": "execute_result"
    }
   ],
   "source": [
    "# print columns\n",
    "df1.columns"
   ]
  },
  {
   "cell_type": "markdown",
   "metadata": {},
   "source": [
    "Segregate the tweets based on their language"
   ]
  },
  {
   "cell_type": "code",
   "execution_count": 61,
   "metadata": {},
   "outputs": [],
   "source": [
    "# install langdetect\n",
    "# pip install langdetect"
   ]
  },
  {
   "cell_type": "code",
   "execution_count": 75,
   "metadata": {},
   "outputs": [],
   "source": [
    "from langdetect import detect\n",
    "\n",
    "# Create separate dataframes for English and Hindi tweets\n",
    "english_tweets = []\n",
    "hindi_tweets = []\n",
    "\n",
    "# Iterate over each tweet\n",
    "for index, row in df1.iterrows():\n",
    "    tweet_text = row['Text']\n",
    "    try:\n",
    "        lang = detect(tweet_text)\n",
    "        if lang == 'en':\n",
    "            english_tweets.append(row)\n",
    "        elif lang == 'hi':\n",
    "            hindi_tweets.append(row)\n",
    "    except:\n",
    "        # Handle any errors during language detection\n",
    "        pass\n",
    "\n",
    "# Convert the English and Hindi tweets lists to dataframes\n",
    "english_tweets_df = pd.DataFrame(english_tweets)\n",
    "hindi_tweets_df = pd.DataFrame(hindi_tweets)"
   ]
  },
  {
   "cell_type": "markdown",
   "metadata": {},
   "source": [
    "Cleaning the text. Removing any symbols and unnecessary characters from the text for making it useful for further processing."
   ]
  },
  {
   "cell_type": "code",
   "execution_count": 76,
   "metadata": {},
   "outputs": [],
   "source": [
    "def clean_text(text):\n",
    "    clean_text = re.sub(r'[^a-zA-Z0-9\\s]', '', text)\n",
    "    clean_text = re.sub(r'\\s+', ' ', clean_text)\n",
    "    return clean_text"
   ]
  },
  {
   "cell_type": "code",
   "execution_count": 77,
   "metadata": {},
   "outputs": [],
   "source": [
    "english_tweets_df['Text'] = english_tweets_df['Text'].apply(clean_text)"
   ]
  },
  {
   "cell_type": "code",
   "execution_count": 78,
   "metadata": {},
   "outputs": [
    {
     "data": {
      "text/plain": [
       "(170110, 5)"
      ]
     },
     "execution_count": 78,
     "metadata": {},
     "output_type": "execute_result"
    }
   ],
   "source": [
    "english_tweets_df.shape"
   ]
  },
  {
   "cell_type": "code",
   "execution_count": 79,
   "metadata": {
    "tags": []
   },
   "outputs": [
    {
     "data": {
      "text/html": [
       "<div>\n",
       "<style scoped>\n",
       "    .dataframe tbody tr th:only-of-type {\n",
       "        vertical-align: middle;\n",
       "    }\n",
       "\n",
       "    .dataframe tbody tr th {\n",
       "        vertical-align: top;\n",
       "    }\n",
       "\n",
       "    .dataframe thead th {\n",
       "        text-align: right;\n",
       "    }\n",
       "</style>\n",
       "<table border=\"1\" class=\"dataframe\">\n",
       "  <thead>\n",
       "    <tr style=\"text-align: right;\">\n",
       "      <th></th>\n",
       "      <th>Datetime</th>\n",
       "      <th>Tweet Id</th>\n",
       "      <th>Text</th>\n",
       "      <th>Username</th>\n",
       "      <th>likeCount</th>\n",
       "    </tr>\n",
       "  </thead>\n",
       "  <tbody>\n",
       "    <tr>\n",
       "      <th>0</th>\n",
       "      <td>2023-06-06 17:00:01+00:00</td>\n",
       "      <td>1666127815585181698</td>\n",
       "      <td>Encapsulating 9 years of women empowerment 9Ye...</td>\n",
       "      <td>BJP4India</td>\n",
       "      <td>584</td>\n",
       "    </tr>\n",
       "    <tr>\n",
       "      <th>9</th>\n",
       "      <td>2023-06-06 10:56:31+00:00</td>\n",
       "      <td>1666036339660460034</td>\n",
       "      <td>Sukanya Samriddhi Yojana is a pathbreaking ini...</td>\n",
       "      <td>BJP4India</td>\n",
       "      <td>505</td>\n",
       "    </tr>\n",
       "    <tr>\n",
       "      <th>13</th>\n",
       "      <td>2023-06-06 09:43:27+00:00</td>\n",
       "      <td>1666017950363705345</td>\n",
       "      <td>In order to increase accessibility of veterina...</td>\n",
       "      <td>BJP4India</td>\n",
       "      <td>905</td>\n",
       "    </tr>\n",
       "    <tr>\n",
       "      <th>15</th>\n",
       "      <td>2023-06-06 09:25:48+00:00</td>\n",
       "      <td>1666013508134400000</td>\n",
       "      <td>Modi Govts achievements have been monumental i...</td>\n",
       "      <td>BJP4India</td>\n",
       "      <td>571</td>\n",
       "    </tr>\n",
       "    <tr>\n",
       "      <th>17</th>\n",
       "      <td>2023-06-06 08:17:47+00:00</td>\n",
       "      <td>1665996393616642049</td>\n",
       "      <td>Every initiative of the Modi Government reflec...</td>\n",
       "      <td>BJP4India</td>\n",
       "      <td>1180</td>\n",
       "    </tr>\n",
       "  </tbody>\n",
       "</table>\n",
       "</div>"
      ],
      "text/plain": [
       "                     Datetime             Tweet Id  \\\n",
       "0   2023-06-06 17:00:01+00:00  1666127815585181698   \n",
       "9   2023-06-06 10:56:31+00:00  1666036339660460034   \n",
       "13  2023-06-06 09:43:27+00:00  1666017950363705345   \n",
       "15  2023-06-06 09:25:48+00:00  1666013508134400000   \n",
       "17  2023-06-06 08:17:47+00:00  1665996393616642049   \n",
       "\n",
       "                                                 Text   Username  likeCount  \n",
       "0   Encapsulating 9 years of women empowerment 9Ye...  BJP4India        584  \n",
       "9   Sukanya Samriddhi Yojana is a pathbreaking ini...  BJP4India        505  \n",
       "13  In order to increase accessibility of veterina...  BJP4India        905  \n",
       "15  Modi Govts achievements have been monumental i...  BJP4India        571  \n",
       "17  Every initiative of the Modi Government reflec...  BJP4India       1180  "
      ]
     },
     "execution_count": 79,
     "metadata": {},
     "output_type": "execute_result"
    }
   ],
   "source": [
    "english_tweets_df.head()"
   ]
  },
  {
   "cell_type": "code",
   "execution_count": 80,
   "metadata": {},
   "outputs": [
    {
     "data": {
      "text/plain": [
       "(53347, 5)"
      ]
     },
     "execution_count": 80,
     "metadata": {},
     "output_type": "execute_result"
    }
   ],
   "source": [
    "hindi_tweets_df.shape"
   ]
  },
  {
   "cell_type": "code",
   "execution_count": 81,
   "metadata": {},
   "outputs": [
    {
     "data": {
      "text/html": [
       "<div>\n",
       "<style scoped>\n",
       "    .dataframe tbody tr th:only-of-type {\n",
       "        vertical-align: middle;\n",
       "    }\n",
       "\n",
       "    .dataframe tbody tr th {\n",
       "        vertical-align: top;\n",
       "    }\n",
       "\n",
       "    .dataframe thead th {\n",
       "        text-align: right;\n",
       "    }\n",
       "</style>\n",
       "<table border=\"1\" class=\"dataframe\">\n",
       "  <thead>\n",
       "    <tr style=\"text-align: right;\">\n",
       "      <th></th>\n",
       "      <th>Datetime</th>\n",
       "      <th>Tweet Id</th>\n",
       "      <th>Text</th>\n",
       "      <th>Username</th>\n",
       "      <th>likeCount</th>\n",
       "    </tr>\n",
       "  </thead>\n",
       "  <tbody>\n",
       "    <tr>\n",
       "      <th>1</th>\n",
       "      <td>2023-06-06 16:28:38+00:00</td>\n",
       "      <td>1666119918344081408</td>\n",
       "      <td>फर्क साफ है....\\n\\n2014 से पहले महिलाओं को खान...</td>\n",
       "      <td>BJP4India</td>\n",
       "      <td>805</td>\n",
       "    </tr>\n",
       "    <tr>\n",
       "      <th>2</th>\n",
       "      <td>2023-06-06 15:57:49+00:00</td>\n",
       "      <td>1666112162815938563</td>\n",
       "      <td>भाजपा राष्ट्रीय अध्यक्ष श्री @JPNadda 7 जून को...</td>\n",
       "      <td>BJP4India</td>\n",
       "      <td>722</td>\n",
       "    </tr>\n",
       "    <tr>\n",
       "      <th>3</th>\n",
       "      <td>2023-06-06 13:56:08+00:00</td>\n",
       "      <td>1666081541515034624</td>\n",
       "      <td>सिर्फ 'महिला विकास' नहीं,\\n'महिलाओं के नेतृत्व...</td>\n",
       "      <td>BJP4India</td>\n",
       "      <td>1131</td>\n",
       "    </tr>\n",
       "    <tr>\n",
       "      <th>4</th>\n",
       "      <td>2023-06-06 13:10:37+00:00</td>\n",
       "      <td>1666070087634395136</td>\n",
       "      <td>नारी उत्थान,\\nनए भारत की पहचान!\\n\\nपीएम आवास-ग...</td>\n",
       "      <td>BJP4India</td>\n",
       "      <td>644</td>\n",
       "    </tr>\n",
       "    <tr>\n",
       "      <th>5</th>\n",
       "      <td>2023-06-06 11:41:04+00:00</td>\n",
       "      <td>1666047552607883264</td>\n",
       "      <td>भारत की महिलाओं का बढ़ा मान,\\n\\nप्रतिभा के दम ...</td>\n",
       "      <td>BJP4India</td>\n",
       "      <td>1051</td>\n",
       "    </tr>\n",
       "  </tbody>\n",
       "</table>\n",
       "</div>"
      ],
      "text/plain": [
       "                    Datetime             Tweet Id  \\\n",
       "1  2023-06-06 16:28:38+00:00  1666119918344081408   \n",
       "2  2023-06-06 15:57:49+00:00  1666112162815938563   \n",
       "3  2023-06-06 13:56:08+00:00  1666081541515034624   \n",
       "4  2023-06-06 13:10:37+00:00  1666070087634395136   \n",
       "5  2023-06-06 11:41:04+00:00  1666047552607883264   \n",
       "\n",
       "                                                Text   Username  likeCount  \n",
       "1  फर्क साफ है....\\n\\n2014 से पहले महिलाओं को खान...  BJP4India        805  \n",
       "2  भाजपा राष्ट्रीय अध्यक्ष श्री @JPNadda 7 जून को...  BJP4India        722  \n",
       "3  सिर्फ 'महिला विकास' नहीं,\\n'महिलाओं के नेतृत्व...  BJP4India       1131  \n",
       "4  नारी उत्थान,\\nनए भारत की पहचान!\\n\\nपीएम आवास-ग...  BJP4India        644  \n",
       "5  भारत की महिलाओं का बढ़ा मान,\\n\\nप्रतिभा के दम ...  BJP4India       1051  "
      ]
     },
     "execution_count": 81,
     "metadata": {},
     "output_type": "execute_result"
    }
   ],
   "source": [
    "hindi_tweets_df.head()"
   ]
  },
  {
   "cell_type": "markdown",
   "metadata": {},
   "source": [
    "Translate first 5000 Hindi tweets in english and append them to english tweets dataframe"
   ]
  },
  {
   "cell_type": "code",
   "execution_count": 82,
   "metadata": {},
   "outputs": [],
   "source": [
    "# take only first 5000 tweets from hindi_tweets_df\n",
    "hindi_tweets_df = hindi_tweets_df[:5000]"
   ]
  },
  {
   "cell_type": "code",
   "execution_count": 70,
   "metadata": {},
   "outputs": [
    {
     "name": "stdout",
     "output_type": "stream",
     "text": [
      "Requirement already satisfied: googletrans==3.1.0a0 in /Users/omachrekar/miniforge3/envs/work_nlp/lib/python3.11/site-packages (3.1.0a0)\n",
      "Requirement already satisfied: httpx==0.13.3 in /Users/omachrekar/miniforge3/envs/work_nlp/lib/python3.11/site-packages (from googletrans==3.1.0a0) (0.13.3)\n",
      "Requirement already satisfied: certifi in /Users/omachrekar/miniforge3/envs/work_nlp/lib/python3.11/site-packages (from httpx==0.13.3->googletrans==3.1.0a0) (2023.5.7)\n",
      "Requirement already satisfied: hstspreload in /Users/omachrekar/miniforge3/envs/work_nlp/lib/python3.11/site-packages (from httpx==0.13.3->googletrans==3.1.0a0) (2023.1.1)\n",
      "Requirement already satisfied: sniffio in /Users/omachrekar/miniforge3/envs/work_nlp/lib/python3.11/site-packages (from httpx==0.13.3->googletrans==3.1.0a0) (1.2.0)\n",
      "Requirement already satisfied: chardet==3.* in /Users/omachrekar/miniforge3/envs/work_nlp/lib/python3.11/site-packages (from httpx==0.13.3->googletrans==3.1.0a0) (3.0.4)\n",
      "Requirement already satisfied: idna==2.* in /Users/omachrekar/miniforge3/envs/work_nlp/lib/python3.11/site-packages (from httpx==0.13.3->googletrans==3.1.0a0) (2.10)\n",
      "Requirement already satisfied: rfc3986<2,>=1.3 in /Users/omachrekar/miniforge3/envs/work_nlp/lib/python3.11/site-packages (from httpx==0.13.3->googletrans==3.1.0a0) (1.5.0)\n",
      "Requirement already satisfied: httpcore==0.9.* in /Users/omachrekar/miniforge3/envs/work_nlp/lib/python3.11/site-packages (from httpx==0.13.3->googletrans==3.1.0a0) (0.9.1)\n",
      "Requirement already satisfied: h11<0.10,>=0.8 in /Users/omachrekar/miniforge3/envs/work_nlp/lib/python3.11/site-packages (from httpcore==0.9.*->httpx==0.13.3->googletrans==3.1.0a0) (0.9.0)\n",
      "Requirement already satisfied: h2==3.* in /Users/omachrekar/miniforge3/envs/work_nlp/lib/python3.11/site-packages (from httpcore==0.9.*->httpx==0.13.3->googletrans==3.1.0a0) (3.2.0)\n",
      "Requirement already satisfied: hyperframe<6,>=5.2.0 in /Users/omachrekar/miniforge3/envs/work_nlp/lib/python3.11/site-packages (from h2==3.*->httpcore==0.9.*->httpx==0.13.3->googletrans==3.1.0a0) (5.2.0)\n",
      "Requirement already satisfied: hpack<4,>=3.0 in /Users/omachrekar/miniforge3/envs/work_nlp/lib/python3.11/site-packages (from h2==3.*->httpcore==0.9.*->httpx==0.13.3->googletrans==3.1.0a0) (3.0.0)\n"
     ]
    }
   ],
   "source": [
    "# converting hindi tweets to english\n",
    "!pip3 install googletrans==3.1.0a0"
   ]
  },
  {
   "cell_type": "code",
   "execution_count": 71,
   "metadata": {},
   "outputs": [],
   "source": [
    "from googletrans import Translator\n",
    "\n",
    "# Create an empty translator object\n",
    "translator = Translator()"
   ]
  },
  {
   "cell_type": "code",
   "execution_count": 72,
   "metadata": {},
   "outputs": [
    {
     "name": "stdout",
     "output_type": "stream",
     "text": [
      "The progress of the country is ensured by the progress of women\n",
      "\n",
      "The budget fixed by the Modi government for the empowerment of women has been increased by 50 times as compared to the year 2013-14. Girls are continuously being encouraged for higher education and this is the reason why enrollment of girls in IIT's was only 8% in the year 2016 which has increased to 20% in the year 2021-22.\n"
     ]
    }
   ],
   "source": [
    "translation = translator.translate(\"महिलाओं की प्रगति से सुनिश्चित होती देश की उन्नति\\n\\nमोदी सरकार द्वारा महिलाओं के सशक्तिकरण हेतु तय बजट में वर्ष 2013-14 के मुकाबले 50 गुना की वृद्धि की गई है। लड़कियों को उच्च शिक्षा के लिए निरंतर प्रोत्साहित किया जा रहा है और यही कारण है कि लड़कियों का वर्ष 2016 में IIT's में नामांकन केवल 8% था जोकि वर्ष 2021-22 में 20% हो गया है।\")\n",
    "print(translation.text)"
   ]
  },
  {
   "cell_type": "code",
   "execution_count": 83,
   "metadata": {},
   "outputs": [],
   "source": [
    "# Create an instance of the Translator\n",
    "translator = Translator()\n",
    "\n",
    "# Translate the text column\n",
    "hindi_tweets_df['Translated_Text'] = hindi_tweets_df['Text'].apply(lambda x: translator.translate(x).text)"
   ]
  },
  {
   "cell_type": "code",
   "execution_count": 84,
   "metadata": {},
   "outputs": [
    {
     "data": {
      "text/html": [
       "<div>\n",
       "<style scoped>\n",
       "    .dataframe tbody tr th:only-of-type {\n",
       "        vertical-align: middle;\n",
       "    }\n",
       "\n",
       "    .dataframe tbody tr th {\n",
       "        vertical-align: top;\n",
       "    }\n",
       "\n",
       "    .dataframe thead th {\n",
       "        text-align: right;\n",
       "    }\n",
       "</style>\n",
       "<table border=\"1\" class=\"dataframe\">\n",
       "  <thead>\n",
       "    <tr style=\"text-align: right;\">\n",
       "      <th></th>\n",
       "      <th>Datetime</th>\n",
       "      <th>Tweet Id</th>\n",
       "      <th>Text</th>\n",
       "      <th>Username</th>\n",
       "      <th>likeCount</th>\n",
       "      <th>Translated_Text</th>\n",
       "    </tr>\n",
       "  </thead>\n",
       "  <tbody>\n",
       "    <tr>\n",
       "      <th>1</th>\n",
       "      <td>2023-06-06 16:28:38+00:00</td>\n",
       "      <td>1666119918344081408</td>\n",
       "      <td>फर्क साफ है....\\n\\n2014 से पहले महिलाओं को खान...</td>\n",
       "      <td>BJP4India</td>\n",
       "      <td>805</td>\n",
       "      <td>The difference is clear....\\n\\nBefore 2014, wo...</td>\n",
       "    </tr>\n",
       "    <tr>\n",
       "      <th>2</th>\n",
       "      <td>2023-06-06 15:57:49+00:00</td>\n",
       "      <td>1666112162815938563</td>\n",
       "      <td>भाजपा राष्ट्रीय अध्यक्ष श्री @JPNadda 7 जून को...</td>\n",
       "      <td>BJP4India</td>\n",
       "      <td>722</td>\n",
       "      <td>BJP National President Shri @JPNadda will part...</td>\n",
       "    </tr>\n",
       "    <tr>\n",
       "      <th>3</th>\n",
       "      <td>2023-06-06 13:56:08+00:00</td>\n",
       "      <td>1666081541515034624</td>\n",
       "      <td>सिर्फ 'महिला विकास' नहीं,\\n'महिलाओं के नेतृत्व...</td>\n",
       "      <td>BJP4India</td>\n",
       "      <td>1131</td>\n",
       "      <td>Not just 'women development',\\nIndia moving to...</td>\n",
       "    </tr>\n",
       "    <tr>\n",
       "      <th>4</th>\n",
       "      <td>2023-06-06 13:10:37+00:00</td>\n",
       "      <td>1666070087634395136</td>\n",
       "      <td>नारी उत्थान,\\nनए भारत की पहचान!\\n\\nपीएम आवास-ग...</td>\n",
       "      <td>BJP4India</td>\n",
       "      <td>644</td>\n",
       "      <td>women upliftment,\\nIdentity of new India!\\n\\nU...</td>\n",
       "    </tr>\n",
       "    <tr>\n",
       "      <th>5</th>\n",
       "      <td>2023-06-06 11:41:04+00:00</td>\n",
       "      <td>1666047552607883264</td>\n",
       "      <td>भारत की महिलाओं का बढ़ा मान,\\n\\nप्रतिभा के दम ...</td>\n",
       "      <td>BJP4India</td>\n",
       "      <td>1051</td>\n",
       "      <td>Increased respect for the women of India,\\n\\nT...</td>\n",
       "    </tr>\n",
       "  </tbody>\n",
       "</table>\n",
       "</div>"
      ],
      "text/plain": [
       "                    Datetime             Tweet Id  \\\n",
       "1  2023-06-06 16:28:38+00:00  1666119918344081408   \n",
       "2  2023-06-06 15:57:49+00:00  1666112162815938563   \n",
       "3  2023-06-06 13:56:08+00:00  1666081541515034624   \n",
       "4  2023-06-06 13:10:37+00:00  1666070087634395136   \n",
       "5  2023-06-06 11:41:04+00:00  1666047552607883264   \n",
       "\n",
       "                                                Text   Username  likeCount  \\\n",
       "1  फर्क साफ है....\\n\\n2014 से पहले महिलाओं को खान...  BJP4India        805   \n",
       "2  भाजपा राष्ट्रीय अध्यक्ष श्री @JPNadda 7 जून को...  BJP4India        722   \n",
       "3  सिर्फ 'महिला विकास' नहीं,\\n'महिलाओं के नेतृत्व...  BJP4India       1131   \n",
       "4  नारी उत्थान,\\nनए भारत की पहचान!\\n\\nपीएम आवास-ग...  BJP4India        644   \n",
       "5  भारत की महिलाओं का बढ़ा मान,\\n\\nप्रतिभा के दम ...  BJP4India       1051   \n",
       "\n",
       "                                     Translated_Text  \n",
       "1  The difference is clear....\\n\\nBefore 2014, wo...  \n",
       "2  BJP National President Shri @JPNadda will part...  \n",
       "3  Not just 'women development',\\nIndia moving to...  \n",
       "4  women upliftment,\\nIdentity of new India!\\n\\nU...  \n",
       "5  Increased respect for the women of India,\\n\\nT...  "
      ]
     },
     "execution_count": 84,
     "metadata": {},
     "output_type": "execute_result"
    }
   ],
   "source": [
    "hindi_tweets_df.head()"
   ]
  },
  {
   "cell_type": "code",
   "execution_count": 85,
   "metadata": {},
   "outputs": [],
   "source": [
    "# drop the Text column and rename the Translated_Text column to Text\n",
    "hindi_tweets_df.drop('Text', axis=1, inplace=True)\n",
    "hindi_tweets_df.rename(columns={'Translated_Text': 'Text'}, inplace=True)\n"
   ]
  },
  {
   "cell_type": "code",
   "execution_count": 86,
   "metadata": {},
   "outputs": [],
   "source": [
    "# merge the two dataframes\n",
    "df = pd.concat([english_tweets_df, hindi_tweets_df])"
   ]
  },
  {
   "cell_type": "code",
   "execution_count": 87,
   "metadata": {},
   "outputs": [
    {
     "data": {
      "text/html": [
       "<div>\n",
       "<style scoped>\n",
       "    .dataframe tbody tr th:only-of-type {\n",
       "        vertical-align: middle;\n",
       "    }\n",
       "\n",
       "    .dataframe tbody tr th {\n",
       "        vertical-align: top;\n",
       "    }\n",
       "\n",
       "    .dataframe thead th {\n",
       "        text-align: right;\n",
       "    }\n",
       "</style>\n",
       "<table border=\"1\" class=\"dataframe\">\n",
       "  <thead>\n",
       "    <tr style=\"text-align: right;\">\n",
       "      <th></th>\n",
       "      <th>Datetime</th>\n",
       "      <th>Tweet Id</th>\n",
       "      <th>Text</th>\n",
       "      <th>Username</th>\n",
       "      <th>likeCount</th>\n",
       "    </tr>\n",
       "  </thead>\n",
       "  <tbody>\n",
       "    <tr>\n",
       "      <th>0</th>\n",
       "      <td>2023-06-06 17:00:01+00:00</td>\n",
       "      <td>1666127815585181698</td>\n",
       "      <td>Encapsulating 9 years of women empowerment 9Ye...</td>\n",
       "      <td>BJP4India</td>\n",
       "      <td>584</td>\n",
       "    </tr>\n",
       "    <tr>\n",
       "      <th>9</th>\n",
       "      <td>2023-06-06 10:56:31+00:00</td>\n",
       "      <td>1666036339660460034</td>\n",
       "      <td>Sukanya Samriddhi Yojana is a pathbreaking ini...</td>\n",
       "      <td>BJP4India</td>\n",
       "      <td>505</td>\n",
       "    </tr>\n",
       "    <tr>\n",
       "      <th>13</th>\n",
       "      <td>2023-06-06 09:43:27+00:00</td>\n",
       "      <td>1666017950363705345</td>\n",
       "      <td>In order to increase accessibility of veterina...</td>\n",
       "      <td>BJP4India</td>\n",
       "      <td>905</td>\n",
       "    </tr>\n",
       "    <tr>\n",
       "      <th>15</th>\n",
       "      <td>2023-06-06 09:25:48+00:00</td>\n",
       "      <td>1666013508134400000</td>\n",
       "      <td>Modi Govts achievements have been monumental i...</td>\n",
       "      <td>BJP4India</td>\n",
       "      <td>571</td>\n",
       "    </tr>\n",
       "    <tr>\n",
       "      <th>17</th>\n",
       "      <td>2023-06-06 08:17:47+00:00</td>\n",
       "      <td>1665996393616642049</td>\n",
       "      <td>Every initiative of the Modi Government reflec...</td>\n",
       "      <td>BJP4India</td>\n",
       "      <td>1180</td>\n",
       "    </tr>\n",
       "  </tbody>\n",
       "</table>\n",
       "</div>"
      ],
      "text/plain": [
       "                     Datetime             Tweet Id  \\\n",
       "0   2023-06-06 17:00:01+00:00  1666127815585181698   \n",
       "9   2023-06-06 10:56:31+00:00  1666036339660460034   \n",
       "13  2023-06-06 09:43:27+00:00  1666017950363705345   \n",
       "15  2023-06-06 09:25:48+00:00  1666013508134400000   \n",
       "17  2023-06-06 08:17:47+00:00  1665996393616642049   \n",
       "\n",
       "                                                 Text   Username  likeCount  \n",
       "0   Encapsulating 9 years of women empowerment 9Ye...  BJP4India        584  \n",
       "9   Sukanya Samriddhi Yojana is a pathbreaking ini...  BJP4India        505  \n",
       "13  In order to increase accessibility of veterina...  BJP4India        905  \n",
       "15  Modi Govts achievements have been monumental i...  BJP4India        571  \n",
       "17  Every initiative of the Modi Government reflec...  BJP4India       1180  "
      ]
     },
     "execution_count": 87,
     "metadata": {},
     "output_type": "execute_result"
    }
   ],
   "source": [
    "df.head()"
   ]
  },
  {
   "cell_type": "code",
   "execution_count": 88,
   "metadata": {},
   "outputs": [
    {
     "data": {
      "text/plain": [
       "(175110, 5)"
      ]
     },
     "execution_count": 88,
     "metadata": {},
     "output_type": "execute_result"
    }
   ],
   "source": [
    "df.shape"
   ]
  },
  {
   "cell_type": "code",
   "execution_count": 89,
   "metadata": {},
   "outputs": [],
   "source": [
    "# now we can clean the translated hindi tweets too\n",
    "df['Text'] = df['Text'].apply(clean_text)"
   ]
  },
  {
   "cell_type": "markdown",
   "metadata": {},
   "source": [
    "Some viz"
   ]
  },
  {
   "cell_type": "code",
   "execution_count": 91,
   "metadata": {},
   "outputs": [
    {
     "data": {
      "image/png": "[encoded data removed]",
      "text/plain": [
       "<Figure size 640x480 with 1 Axes>"
      ]
     },
     "metadata": {},
     "output_type": "display_data"
    }
   ],
   "source": [
    "# plot the bar graph of no of tweets yearwise\n",
    "df['year'] = pd.DatetimeIndex(df['Datetime']).year\n",
    "df['year'].value_counts().plot(kind='bar')\n",
    "plt.show()"
   ]
  },
  {
   "cell_type": "markdown",
   "metadata": {},
   "source": [
    "In 2014, there were general elections in India in which BJP+ gained clear majority. We can see that this year have much higher count of tweets, that could be due to their election campaign. This could be one of the reason behind their victory."
   ]
  },
  {
   "cell_type": "code",
   "execution_count": 93,
   "metadata": {},
   "outputs": [
    {
     "data": {
      "text/html": [
       "<div>\n",
       "<style scoped>\n",
       "    .dataframe tbody tr th:only-of-type {\n",
       "        vertical-align: middle;\n",
       "    }\n",
       "\n",
       "    .dataframe tbody tr th {\n",
       "        vertical-align: top;\n",
       "    }\n",
       "\n",
       "    .dataframe thead th {\n",
       "        text-align: right;\n",
       "    }\n",
       "</style>\n",
       "<table border=\"1\" class=\"dataframe\">\n",
       "  <thead>\n",
       "    <tr style=\"text-align: right;\">\n",
       "      <th></th>\n",
       "      <th>Datetime</th>\n",
       "      <th>Tweet Id</th>\n",
       "      <th>Text</th>\n",
       "      <th>Username</th>\n",
       "      <th>likeCount</th>\n",
       "      <th>year</th>\n",
       "    </tr>\n",
       "  </thead>\n",
       "  <tbody>\n",
       "    <tr>\n",
       "      <th>0</th>\n",
       "      <td>2023-06-06 17:00:01+00:00</td>\n",
       "      <td>1666127815585181698</td>\n",
       "      <td>Encapsulating 9 years of women empowerment 9Ye...</td>\n",
       "      <td>BJP4India</td>\n",
       "      <td>584</td>\n",
       "      <td>2023</td>\n",
       "    </tr>\n",
       "    <tr>\n",
       "      <th>9</th>\n",
       "      <td>2023-06-06 10:56:31+00:00</td>\n",
       "      <td>1666036339660460034</td>\n",
       "      <td>Sukanya Samriddhi Yojana is a pathbreaking ini...</td>\n",
       "      <td>BJP4India</td>\n",
       "      <td>505</td>\n",
       "      <td>2023</td>\n",
       "    </tr>\n",
       "    <tr>\n",
       "      <th>13</th>\n",
       "      <td>2023-06-06 09:43:27+00:00</td>\n",
       "      <td>1666017950363705345</td>\n",
       "      <td>In order to increase accessibility of veterina...</td>\n",
       "      <td>BJP4India</td>\n",
       "      <td>905</td>\n",
       "      <td>2023</td>\n",
       "    </tr>\n",
       "    <tr>\n",
       "      <th>15</th>\n",
       "      <td>2023-06-06 09:25:48+00:00</td>\n",
       "      <td>1666013508134400000</td>\n",
       "      <td>Modi Govts achievements have been monumental i...</td>\n",
       "      <td>BJP4India</td>\n",
       "      <td>571</td>\n",
       "      <td>2023</td>\n",
       "    </tr>\n",
       "    <tr>\n",
       "      <th>17</th>\n",
       "      <td>2023-06-06 08:17:47+00:00</td>\n",
       "      <td>1665996393616642049</td>\n",
       "      <td>Every initiative of the Modi Government reflec...</td>\n",
       "      <td>BJP4India</td>\n",
       "      <td>1180</td>\n",
       "      <td>2023</td>\n",
       "    </tr>\n",
       "  </tbody>\n",
       "</table>\n",
       "</div>"
      ],
      "text/plain": [
       "                     Datetime             Tweet Id  \\\n",
       "0   2023-06-06 17:00:01+00:00  1666127815585181698   \n",
       "9   2023-06-06 10:56:31+00:00  1666036339660460034   \n",
       "13  2023-06-06 09:43:27+00:00  1666017950363705345   \n",
       "15  2023-06-06 09:25:48+00:00  1666013508134400000   \n",
       "17  2023-06-06 08:17:47+00:00  1665996393616642049   \n",
       "\n",
       "                                                 Text   Username  likeCount  \\\n",
       "0   Encapsulating 9 years of women empowerment 9Ye...  BJP4India        584   \n",
       "9   Sukanya Samriddhi Yojana is a pathbreaking ini...  BJP4India        505   \n",
       "13  In order to increase accessibility of veterina...  BJP4India        905   \n",
       "15  Modi Govts achievements have been monumental i...  BJP4India        571   \n",
       "17  Every initiative of the Modi Government reflec...  BJP4India       1180   \n",
       "\n",
       "    year  \n",
       "0   2023  \n",
       "9   2023  \n",
       "13  2023  \n",
       "15  2023  \n",
       "17  2023  "
      ]
     },
     "execution_count": 93,
     "metadata": {},
     "output_type": "execute_result"
    }
   ],
   "source": [
    "df.head()"
   ]
  },
  {
   "cell_type": "code",
   "execution_count": 96,
   "metadata": {},
   "outputs": [
    {
     "data": {
      "text/html": [
       "<div>\n",
       "<style scoped>\n",
       "    .dataframe tbody tr th:only-of-type {\n",
       "        vertical-align: middle;\n",
       "    }\n",
       "\n",
       "    .dataframe tbody tr th {\n",
       "        vertical-align: top;\n",
       "    }\n",
       "\n",
       "    .dataframe thead th {\n",
       "        text-align: right;\n",
       "    }\n",
       "</style>\n",
       "<table border=\"1\" class=\"dataframe\">\n",
       "  <thead>\n",
       "    <tr style=\"text-align: right;\">\n",
       "      <th></th>\n",
       "      <th>Datetime</th>\n",
       "      <th>Tweet Id</th>\n",
       "      <th>Text</th>\n",
       "      <th>Username</th>\n",
       "      <th>likeCount</th>\n",
       "      <th>year</th>\n",
       "    </tr>\n",
       "  </thead>\n",
       "  <tbody>\n",
       "    <tr>\n",
       "      <th>50338</th>\n",
       "      <td>2019-09-07 03:21:30+00:00</td>\n",
       "      <td>1170175232889409536</td>\n",
       "      <td>This is how a true leader uplifts his team Thr...</td>\n",
       "      <td>BJP4India</td>\n",
       "      <td>37757</td>\n",
       "      <td>2019</td>\n",
       "    </tr>\n",
       "  </tbody>\n",
       "</table>\n",
       "</div>"
      ],
      "text/plain": [
       "                        Datetime             Tweet Id  \\\n",
       "50338  2019-09-07 03:21:30+00:00  1170175232889409536   \n",
       "\n",
       "                                                    Text   Username  \\\n",
       "50338  This is how a true leader uplifts his team Thr...  BJP4India   \n",
       "\n",
       "       likeCount  year  \n",
       "50338      37757  2019  "
      ]
     },
     "execution_count": 96,
     "metadata": {},
     "output_type": "execute_result"
    }
   ],
   "source": [
    "# tweet that got highest number of likeCount\n",
    "df[df['likeCount'] == df['likeCount'].max()]"
   ]
  },
  {
   "cell_type": "code",
   "execution_count": 97,
   "metadata": {},
   "outputs": [
    {
     "data": {
      "image/png": "[encoded data removed]",
      "text/plain": [
       "<Figure size 640x480 with 1 Axes>"
      ]
     },
     "metadata": {},
     "output_type": "display_data"
    }
   ],
   "source": [
    "# visualise the the no of tweets per month\n",
    "df['month'] = pd.DatetimeIndex(df['Datetime']).month\n",
    "df['month'].value_counts().plot(kind='bar')\n",
    "plt.show()"
   ]
  },
  {
   "cell_type": "markdown",
   "metadata": {},
   "source": [
    "Usually April is the month of general assembly elections in India, so that could be the reason of higher tweet count."
   ]
  },
  {
   "cell_type": "code",
   "execution_count": 99,
   "metadata": {},
   "outputs": [
    {
     "data": {
      "image/png": "[encoded data removed]",
      "text/plain": [
       "<Figure size 640x480 with 1 Axes>"
      ]
     },
     "metadata": {},
     "output_type": "display_data"
    }
   ],
   "source": [
    "# bar plot of tweets in 2023 by monthwise\n",
    "df[df['year'] == 2023]['month'].value_counts().plot(kind='bar')\n",
    "plt.show()"
   ]
  },
  {
   "cell_type": "markdown",
   "metadata": {},
   "source": [
    "In the current year, most tweets are posted in February followed by April. <br>\n",
    "PS: This data is only till 6th June."
   ]
  },
  {
   "cell_type": "code",
   "execution_count": 124,
   "metadata": {},
   "outputs": [],
   "source": [
    "# saving the dataframe to csv file\n",
    "df.to_csv('BJP4India_cleaned.csv', index=False)"
   ]
  },
  {
   "cell_type": "markdown",
   "metadata": {},
   "source": [
    "#### Tweet Sentiment Analysis"
   ]
  },
  {
   "cell_type": "markdown",
   "metadata": {},
   "source": [
    "Sentiment Analysis: Sentiment analysis is a natural language processing technique used to determine the emotional tone of a piece of text, such as positive, negative, or neutral. It involves analyzing the words, phrases, and context to classify the sentiment expressed. The goal is to understand and quantify the subjective sentiment or opinion conveyed in the text, which can be useful for various applications like social media monitoring, customer feedback analysis, and brand reputation management."
   ]
  },
  {
   "cell_type": "markdown",
   "metadata": {},
   "source": [
    "Here two techniques are used for sentiment analysis: <br>\n",
    "1. VADER (Valence Aware Dictionary and Sentiment Reasoner) - Bag of words approach\n",
    "2. Roberta Pretrained Model from Huggingface"
   ]
  },
  {
   "cell_type": "markdown",
   "metadata": {},
   "source": [
    "##### 1. VADER (Valence Aware Dictionary and Sentiment Reasoner)"
   ]
  },
  {
   "cell_type": "markdown",
   "metadata": {},
   "source": [
    "Advantages of using VADER for sentiment analysis:\n",
    "1. Simplicity: VADER (Valence Aware Dictionary and sEntiment Reasoner) is a pre-trained lexicon-based approach that does not require extensive training data or complex models. It offers a simple and ready-to-use solution for sentiment analysis tasks. <br>\n",
    "2. Domain Adaptability: VADER is designed to handle sentiment analysis across different domains. It uses a combination of lexical features, grammar rules, and heuristics to interpret sentiment, allowing it to work reasonably well in various contexts without extensive customization.<br>\n",
    "3. Fine-grained Sentiment: VADER provides not only the overall sentiment polarity (positive, negative, or neutral) but also a measure of sentiment intensity. It assigns sentiment scores to individual words and incorporates their contextual valence to capture subtle variations in sentiment strength.\n",
    "\n",
    "Disadvantages of using VADER for sentiment analysis:\n",
    "1. Reliance on Lexicons: VADER's effectiveness heavily relies on the quality and coverage of its underlying lexicons. If specific domain-specific or colloquial terms are not adequately represented in the lexicon, VADER may struggle to accurately capture the sentiment.<br>\n",
    "2. Limited Contextual Understanding: VADER primarily relies on lexical and grammatical patterns, which may limit its ability to understand more nuanced or complex language structures. It may struggle with sarcasm, irony, or sentiment expressed through subtle linguistic cues.<br>\n",
    "3. Lack of Targeted Sentiment Analysis: While VADER performs well at overall sentiment analysis, it may not be the ideal choice for tasks that require targeted sentiment analysis at the aspect or entity level. It does not explicitly handle the identification of sentiment towards specific entities or aspects within a sentence."
   ]
  },
  {
   "cell_type": "code",
   "execution_count": 28,
   "metadata": {},
   "outputs": [],
   "source": [
    "df = pd.read_csv('BJP4India_cleaned.csv')"
   ]
  },
  {
   "cell_type": "code",
   "execution_count": 29,
   "metadata": {},
   "outputs": [
    {
     "data": {
      "text/html": [
       "<div>\n",
       "<style scoped>\n",
       "    .dataframe tbody tr th:only-of-type {\n",
       "        vertical-align: middle;\n",
       "    }\n",
       "\n",
       "    .dataframe tbody tr th {\n",
       "        vertical-align: top;\n",
       "    }\n",
       "\n",
       "    .dataframe thead th {\n",
       "        text-align: right;\n",
       "    }\n",
       "</style>\n",
       "<table border=\"1\" class=\"dataframe\">\n",
       "  <thead>\n",
       "    <tr style=\"text-align: right;\">\n",
       "      <th></th>\n",
       "      <th>Datetime</th>\n",
       "      <th>Tweet Id</th>\n",
       "      <th>Text</th>\n",
       "      <th>Username</th>\n",
       "      <th>likeCount</th>\n",
       "    </tr>\n",
       "  </thead>\n",
       "  <tbody>\n",
       "    <tr>\n",
       "      <th>0</th>\n",
       "      <td>2023-06-06 17:00:01+00:00</td>\n",
       "      <td>1666127815585181698</td>\n",
       "      <td>Encapsulating 9 years of women empowerment 9Ye...</td>\n",
       "      <td>BJP4India</td>\n",
       "      <td>584</td>\n",
       "    </tr>\n",
       "    <tr>\n",
       "      <th>1</th>\n",
       "      <td>2023-06-06 10:56:31+00:00</td>\n",
       "      <td>1666036339660460034</td>\n",
       "      <td>Sukanya Samriddhi Yojana is a pathbreaking ini...</td>\n",
       "      <td>BJP4India</td>\n",
       "      <td>505</td>\n",
       "    </tr>\n",
       "    <tr>\n",
       "      <th>2</th>\n",
       "      <td>2023-06-06 09:43:27+00:00</td>\n",
       "      <td>1666017950363705345</td>\n",
       "      <td>In order to increase accessibility of veterina...</td>\n",
       "      <td>BJP4India</td>\n",
       "      <td>905</td>\n",
       "    </tr>\n",
       "    <tr>\n",
       "      <th>3</th>\n",
       "      <td>2023-06-06 09:25:48+00:00</td>\n",
       "      <td>1666013508134400000</td>\n",
       "      <td>Modi Govts achievements have been monumental i...</td>\n",
       "      <td>BJP4India</td>\n",
       "      <td>571</td>\n",
       "    </tr>\n",
       "    <tr>\n",
       "      <th>4</th>\n",
       "      <td>2023-06-06 08:17:47+00:00</td>\n",
       "      <td>1665996393616642049</td>\n",
       "      <td>Every initiative of the Modi Government reflec...</td>\n",
       "      <td>BJP4India</td>\n",
       "      <td>1180</td>\n",
       "    </tr>\n",
       "  </tbody>\n",
       "</table>\n",
       "</div>"
      ],
      "text/plain": [
       "                    Datetime             Tweet Id  \\\n",
       "0  2023-06-06 17:00:01+00:00  1666127815585181698   \n",
       "1  2023-06-06 10:56:31+00:00  1666036339660460034   \n",
       "2  2023-06-06 09:43:27+00:00  1666017950363705345   \n",
       "3  2023-06-06 09:25:48+00:00  1666013508134400000   \n",
       "4  2023-06-06 08:17:47+00:00  1665996393616642049   \n",
       "\n",
       "                                                Text   Username  likeCount  \n",
       "0  Encapsulating 9 years of women empowerment 9Ye...  BJP4India        584  \n",
       "1  Sukanya Samriddhi Yojana is a pathbreaking ini...  BJP4India        505  \n",
       "2  In order to increase accessibility of veterina...  BJP4India        905  \n",
       "3  Modi Govts achievements have been monumental i...  BJP4India        571  \n",
       "4  Every initiative of the Modi Government reflec...  BJP4India       1180  "
      ]
     },
     "execution_count": 29,
     "metadata": {},
     "output_type": "execute_result"
    }
   ],
   "source": [
    "df.head()"
   ]
  },
  {
   "cell_type": "code",
   "execution_count": 30,
   "metadata": {},
   "outputs": [],
   "source": [
    "from nltk.sentiment.vader import SentimentIntensityAnalyzer\n",
    "from tqdm.notebook import tqdm"
   ]
  },
  {
   "cell_type": "code",
   "execution_count": 31,
   "metadata": {},
   "outputs": [],
   "source": [
    "# Initializing the VADER sentiment analyzer\n",
    "sia = SentimentIntensityAnalyzer()"
   ]
  },
  {
   "cell_type": "code",
   "execution_count": 32,
   "metadata": {},
   "outputs": [
    {
     "data": {
      "text/plain": [
       "{'neg': 0.0, 'neu': 0.33, 'pos': 0.67, 'compound': 0.7263}"
      ]
     },
     "execution_count": 32,
     "metadata": {},
     "output_type": "execute_result"
    }
   ],
   "source": [
    "sia.polarity_scores('Natural Language Processing is fun!')"
   ]
  },
  {
   "cell_type": "code",
   "execution_count": 33,
   "metadata": {},
   "outputs": [
    {
     "data": {
      "text/plain": [
       "{'neg': 0.221, 'neu': 0.779, 'pos': 0.0, 'compound': -0.2465}"
      ]
     },
     "execution_count": 33,
     "metadata": {},
     "output_type": "execute_result"
    }
   ],
   "source": [
    "sia.polarity_scores('Quantum entalgement is a very hard concept to understand!')"
   ]
  },
  {
   "cell_type": "code",
   "execution_count": 34,
   "metadata": {},
   "outputs": [],
   "source": [
    "# run the polarity_scores() method on each tweet and append the results to a new column in the dataframe\n",
    "df['polarity_score'] = df['Text'].apply(lambda x: sia.polarity_scores(x))"
   ]
  },
  {
   "cell_type": "code",
   "execution_count": 35,
   "metadata": {},
   "outputs": [
    {
     "data": {
      "text/html": [
       "<div>\n",
       "<style scoped>\n",
       "    .dataframe tbody tr th:only-of-type {\n",
       "        vertical-align: middle;\n",
       "    }\n",
       "\n",
       "    .dataframe tbody tr th {\n",
       "        vertical-align: top;\n",
       "    }\n",
       "\n",
       "    .dataframe thead th {\n",
       "        text-align: right;\n",
       "    }\n",
       "</style>\n",
       "<table border=\"1\" class=\"dataframe\">\n",
       "  <thead>\n",
       "    <tr style=\"text-align: right;\">\n",
       "      <th></th>\n",
       "      <th>Datetime</th>\n",
       "      <th>Tweet Id</th>\n",
       "      <th>Text</th>\n",
       "      <th>Username</th>\n",
       "      <th>likeCount</th>\n",
       "      <th>polarity_score</th>\n",
       "    </tr>\n",
       "  </thead>\n",
       "  <tbody>\n",
       "    <tr>\n",
       "      <th>0</th>\n",
       "      <td>2023-06-06 17:00:01+00:00</td>\n",
       "      <td>1666127815585181698</td>\n",
       "      <td>Encapsulating 9 years of women empowerment 9Ye...</td>\n",
       "      <td>BJP4India</td>\n",
       "      <td>584</td>\n",
       "      <td>{'neg': 0.0, 'neu': 1.0, 'pos': 0.0, 'compound...</td>\n",
       "    </tr>\n",
       "    <tr>\n",
       "      <th>1</th>\n",
       "      <td>2023-06-06 10:56:31+00:00</td>\n",
       "      <td>1666036339660460034</td>\n",
       "      <td>Sukanya Samriddhi Yojana is a pathbreaking ini...</td>\n",
       "      <td>BJP4India</td>\n",
       "      <td>505</td>\n",
       "      <td>{'neg': 0.0, 'neu': 0.897, 'pos': 0.103, 'comp...</td>\n",
       "    </tr>\n",
       "    <tr>\n",
       "      <th>2</th>\n",
       "      <td>2023-06-06 09:43:27+00:00</td>\n",
       "      <td>1666017950363705345</td>\n",
       "      <td>In order to increase accessibility of veterina...</td>\n",
       "      <td>BJP4India</td>\n",
       "      <td>905</td>\n",
       "      <td>{'neg': 0.0, 'neu': 0.886, 'pos': 0.114, 'comp...</td>\n",
       "    </tr>\n",
       "    <tr>\n",
       "      <th>3</th>\n",
       "      <td>2023-06-06 09:25:48+00:00</td>\n",
       "      <td>1666013508134400000</td>\n",
       "      <td>Modi Govts achievements have been monumental i...</td>\n",
       "      <td>BJP4India</td>\n",
       "      <td>571</td>\n",
       "      <td>{'neg': 0.0, 'neu': 0.714, 'pos': 0.286, 'comp...</td>\n",
       "    </tr>\n",
       "    <tr>\n",
       "      <th>4</th>\n",
       "      <td>2023-06-06 08:17:47+00:00</td>\n",
       "      <td>1665996393616642049</td>\n",
       "      <td>Every initiative of the Modi Government reflec...</td>\n",
       "      <td>BJP4India</td>\n",
       "      <td>1180</td>\n",
       "      <td>{'neg': 0.0, 'neu': 1.0, 'pos': 0.0, 'compound...</td>\n",
       "    </tr>\n",
       "  </tbody>\n",
       "</table>\n",
       "</div>"
      ],
      "text/plain": [
       "                    Datetime             Tweet Id  \\\n",
       "0  2023-06-06 17:00:01+00:00  1666127815585181698   \n",
       "1  2023-06-06 10:56:31+00:00  1666036339660460034   \n",
       "2  2023-06-06 09:43:27+00:00  1666017950363705345   \n",
       "3  2023-06-06 09:25:48+00:00  1666013508134400000   \n",
       "4  2023-06-06 08:17:47+00:00  1665996393616642049   \n",
       "\n",
       "                                                Text   Username  likeCount  \\\n",
       "0  Encapsulating 9 years of women empowerment 9Ye...  BJP4India        584   \n",
       "1  Sukanya Samriddhi Yojana is a pathbreaking ini...  BJP4India        505   \n",
       "2  In order to increase accessibility of veterina...  BJP4India        905   \n",
       "3  Modi Govts achievements have been monumental i...  BJP4India        571   \n",
       "4  Every initiative of the Modi Government reflec...  BJP4India       1180   \n",
       "\n",
       "                                      polarity_score  \n",
       "0  {'neg': 0.0, 'neu': 1.0, 'pos': 0.0, 'compound...  \n",
       "1  {'neg': 0.0, 'neu': 0.897, 'pos': 0.103, 'comp...  \n",
       "2  {'neg': 0.0, 'neu': 0.886, 'pos': 0.114, 'comp...  \n",
       "3  {'neg': 0.0, 'neu': 0.714, 'pos': 0.286, 'comp...  \n",
       "4  {'neg': 0.0, 'neu': 1.0, 'pos': 0.0, 'compound...  "
      ]
     },
     "execution_count": 35,
     "metadata": {},
     "output_type": "execute_result"
    }
   ],
   "source": [
    "df.head()"
   ]
  },
  {
   "cell_type": "code",
   "execution_count": 36,
   "metadata": {},
   "outputs": [],
   "source": [
    "# separate the polarity score into four separate columns\n",
    "df = pd.concat([df.drop(['polarity_score'], axis=1), df['polarity_score'].apply(pd.Series)], axis=1)\n"
   ]
  },
  {
   "cell_type": "code",
   "execution_count": 38,
   "metadata": {},
   "outputs": [],
   "source": [
    "# add year column\n",
    "df['year'] = pd.DatetimeIndex(df['Datetime']).year"
   ]
  },
  {
   "cell_type": "code",
   "execution_count": 39,
   "metadata": {},
   "outputs": [
    {
     "data": {
      "image/png": "[encoded data removed]",
      "text/plain": [
       "<Figure size 640x480 with 1 Axes>"
      ]
     },
     "metadata": {},
     "output_type": "display_data"
    }
   ],
   "source": [
    "# plot the line graph of positive, negative, neutral scores by yearwise side by side\n",
    "df.groupby('year')['pos'].mean().plot(kind='line', color='green')\n",
    "df.groupby('year')['neg'].mean().plot(kind='line', color='red')\n",
    "df.groupby('year')['neu'].mean().plot(kind='line', color='blue')\n",
    "plt.legend()\n",
    "plt.show()"
   ]
  },
  {
   "cell_type": "code",
   "execution_count": 40,
   "metadata": {},
   "outputs": [
    {
     "data": {
      "text/html": [
       "<div>\n",
       "<style scoped>\n",
       "    .dataframe tbody tr th:only-of-type {\n",
       "        vertical-align: middle;\n",
       "    }\n",
       "\n",
       "    .dataframe tbody tr th {\n",
       "        vertical-align: top;\n",
       "    }\n",
       "\n",
       "    .dataframe thead th {\n",
       "        text-align: right;\n",
       "    }\n",
       "</style>\n",
       "<table border=\"1\" class=\"dataframe\">\n",
       "  <thead>\n",
       "    <tr style=\"text-align: right;\">\n",
       "      <th></th>\n",
       "      <th>Datetime</th>\n",
       "      <th>Tweet Id</th>\n",
       "      <th>Text</th>\n",
       "      <th>Username</th>\n",
       "      <th>likeCount</th>\n",
       "      <th>neg</th>\n",
       "      <th>neu</th>\n",
       "      <th>pos</th>\n",
       "      <th>compound</th>\n",
       "      <th>year</th>\n",
       "    </tr>\n",
       "  </thead>\n",
       "  <tbody>\n",
       "    <tr>\n",
       "      <th>0</th>\n",
       "      <td>2023-06-06 17:00:01+00:00</td>\n",
       "      <td>1666127815585181698</td>\n",
       "      <td>Encapsulating 9 years of women empowerment 9Ye...</td>\n",
       "      <td>BJP4India</td>\n",
       "      <td>584</td>\n",
       "      <td>0.0</td>\n",
       "      <td>1.000</td>\n",
       "      <td>0.000</td>\n",
       "      <td>0.0000</td>\n",
       "      <td>2023</td>\n",
       "    </tr>\n",
       "    <tr>\n",
       "      <th>1</th>\n",
       "      <td>2023-06-06 10:56:31+00:00</td>\n",
       "      <td>1666036339660460034</td>\n",
       "      <td>Sukanya Samriddhi Yojana is a pathbreaking ini...</td>\n",
       "      <td>BJP4India</td>\n",
       "      <td>505</td>\n",
       "      <td>0.0</td>\n",
       "      <td>0.897</td>\n",
       "      <td>0.103</td>\n",
       "      <td>0.3400</td>\n",
       "      <td>2023</td>\n",
       "    </tr>\n",
       "    <tr>\n",
       "      <th>2</th>\n",
       "      <td>2023-06-06 09:43:27+00:00</td>\n",
       "      <td>1666017950363705345</td>\n",
       "      <td>In order to increase accessibility of veterina...</td>\n",
       "      <td>BJP4India</td>\n",
       "      <td>905</td>\n",
       "      <td>0.0</td>\n",
       "      <td>0.886</td>\n",
       "      <td>0.114</td>\n",
       "      <td>0.5256</td>\n",
       "      <td>2023</td>\n",
       "    </tr>\n",
       "    <tr>\n",
       "      <th>3</th>\n",
       "      <td>2023-06-06 09:25:48+00:00</td>\n",
       "      <td>1666013508134400000</td>\n",
       "      <td>Modi Govts achievements have been monumental i...</td>\n",
       "      <td>BJP4India</td>\n",
       "      <td>571</td>\n",
       "      <td>0.0</td>\n",
       "      <td>0.714</td>\n",
       "      <td>0.286</td>\n",
       "      <td>0.5859</td>\n",
       "      <td>2023</td>\n",
       "    </tr>\n",
       "    <tr>\n",
       "      <th>4</th>\n",
       "      <td>2023-06-06 08:17:47+00:00</td>\n",
       "      <td>1665996393616642049</td>\n",
       "      <td>Every initiative of the Modi Government reflec...</td>\n",
       "      <td>BJP4India</td>\n",
       "      <td>1180</td>\n",
       "      <td>0.0</td>\n",
       "      <td>1.000</td>\n",
       "      <td>0.000</td>\n",
       "      <td>0.0000</td>\n",
       "      <td>2023</td>\n",
       "    </tr>\n",
       "  </tbody>\n",
       "</table>\n",
       "</div>"
      ],
      "text/plain": [
       "                    Datetime             Tweet Id  \\\n",
       "0  2023-06-06 17:00:01+00:00  1666127815585181698   \n",
       "1  2023-06-06 10:56:31+00:00  1666036339660460034   \n",
       "2  2023-06-06 09:43:27+00:00  1666017950363705345   \n",
       "3  2023-06-06 09:25:48+00:00  1666013508134400000   \n",
       "4  2023-06-06 08:17:47+00:00  1665996393616642049   \n",
       "\n",
       "                                                Text   Username  likeCount  \\\n",
       "0  Encapsulating 9 years of women empowerment 9Ye...  BJP4India        584   \n",
       "1  Sukanya Samriddhi Yojana is a pathbreaking ini...  BJP4India        505   \n",
       "2  In order to increase accessibility of veterina...  BJP4India        905   \n",
       "3  Modi Govts achievements have been monumental i...  BJP4India        571   \n",
       "4  Every initiative of the Modi Government reflec...  BJP4India       1180   \n",
       "\n",
       "   neg    neu    pos  compound  year  \n",
       "0  0.0  1.000  0.000    0.0000  2023  \n",
       "1  0.0  0.897  0.103    0.3400  2023  \n",
       "2  0.0  0.886  0.114    0.5256  2023  \n",
       "3  0.0  0.714  0.286    0.5859  2023  \n",
       "4  0.0  1.000  0.000    0.0000  2023  "
      ]
     },
     "execution_count": 40,
     "metadata": {},
     "output_type": "execute_result"
    }
   ],
   "source": [
    "df.head()"
   ]
  },
  {
   "cell_type": "markdown",
   "metadata": {},
   "source": [
    "1. Negative (neg): This score represents the probability or intensity of negative sentiment in the given text. It measures the extent to which the text expresses negativity or a negative emotional tone. A higher neg score indicates a stronger negative sentiment.\n",
    "\n",
    "2. Neutral (neu): The neu score indicates the probability or intensity of neutral sentiment in the text. It measures the degree of neutrality or lack of strong emotional sentiment. A higher neu score suggests a more neutral or unbiased expression.\n",
    "\n",
    "3. Positive (pos): The pos score reflects the probability or intensity of positive sentiment in the text. It measures the extent to which the text conveys positivity or a positive emotional tone. A higher pos score indicates a stronger positive sentiment.\n",
    "\n",
    "4. Compound: The compound score represents an overall normalized sentiment score that combines the positive, negative, and neutral scores. It provides a single aggregated measure of sentiment that ranges from -1 to 1, where -1 indicates highly negative sentiment, 0 represents neutral sentiment, and 1 indicates highly positive sentiment."
   ]
  },
  {
   "cell_type": "code",
   "execution_count": 41,
   "metadata": {},
   "outputs": [],
   "source": [
    "# drop neg neu pos columns\n",
    "df.drop(['neg', 'neu', 'pos'], axis=1, inplace=True)"
   ]
  },
  {
   "cell_type": "code",
   "execution_count": 42,
   "metadata": {},
   "outputs": [
    {
     "data": {
      "image/png": "[encoded data removed]",
      "text/plain": [
       "<Figure size 640x480 with 1 Axes>"
      ]
     },
     "metadata": {},
     "output_type": "display_data"
    }
   ],
   "source": [
    "# plot the histogram of compound scores\n",
    "df['compound'].hist()\n",
    "plt.show()"
   ]
  },
  {
   "cell_type": "code",
   "execution_count": 43,
   "metadata": {},
   "outputs": [
    {
     "data": {
      "image/png": "[encoded data removed]",
      "text/plain": [
       "<Figure size 640x480 with 1 Axes>"
      ]
     },
     "metadata": {},
     "output_type": "display_data"
    }
   ],
   "source": [
    "# plot line graph of compound scores yearwise\n",
    "df.groupby('year')['compound'].mean().plot(kind='line')\n",
    "plt.show()"
   ]
  },
  {
   "cell_type": "code",
   "execution_count": 44,
   "metadata": {},
   "outputs": [
    {
     "data": {
      "text/html": [
       "<div>\n",
       "<style scoped>\n",
       "    .dataframe tbody tr th:only-of-type {\n",
       "        vertical-align: middle;\n",
       "    }\n",
       "\n",
       "    .dataframe tbody tr th {\n",
       "        vertical-align: top;\n",
       "    }\n",
       "\n",
       "    .dataframe thead th {\n",
       "        text-align: right;\n",
       "    }\n",
       "</style>\n",
       "<table border=\"1\" class=\"dataframe\">\n",
       "  <thead>\n",
       "    <tr style=\"text-align: right;\">\n",
       "      <th></th>\n",
       "      <th>Datetime</th>\n",
       "      <th>Tweet Id</th>\n",
       "      <th>Text</th>\n",
       "      <th>Username</th>\n",
       "      <th>likeCount</th>\n",
       "      <th>compound</th>\n",
       "    </tr>\n",
       "  </thead>\n",
       "  <tbody>\n",
       "    <tr>\n",
       "      <th>0</th>\n",
       "      <td>2023-06-06 17:00:01+00:00</td>\n",
       "      <td>1666127815585181698</td>\n",
       "      <td>Encapsulating 9 years of women empowerment 9Ye...</td>\n",
       "      <td>BJP4India</td>\n",
       "      <td>584</td>\n",
       "      <td>0.0000</td>\n",
       "    </tr>\n",
       "    <tr>\n",
       "      <th>1</th>\n",
       "      <td>2023-06-06 10:56:31+00:00</td>\n",
       "      <td>1666036339660460034</td>\n",
       "      <td>Sukanya Samriddhi Yojana is a pathbreaking ini...</td>\n",
       "      <td>BJP4India</td>\n",
       "      <td>505</td>\n",
       "      <td>0.3400</td>\n",
       "    </tr>\n",
       "    <tr>\n",
       "      <th>2</th>\n",
       "      <td>2023-06-06 09:43:27+00:00</td>\n",
       "      <td>1666017950363705345</td>\n",
       "      <td>In order to increase accessibility of veterina...</td>\n",
       "      <td>BJP4India</td>\n",
       "      <td>905</td>\n",
       "      <td>0.5256</td>\n",
       "    </tr>\n",
       "    <tr>\n",
       "      <th>3</th>\n",
       "      <td>2023-06-06 09:25:48+00:00</td>\n",
       "      <td>1666013508134400000</td>\n",
       "      <td>Modi Govts achievements have been monumental i...</td>\n",
       "      <td>BJP4India</td>\n",
       "      <td>571</td>\n",
       "      <td>0.5859</td>\n",
       "    </tr>\n",
       "    <tr>\n",
       "      <th>4</th>\n",
       "      <td>2023-06-06 08:17:47+00:00</td>\n",
       "      <td>1665996393616642049</td>\n",
       "      <td>Every initiative of the Modi Government reflec...</td>\n",
       "      <td>BJP4India</td>\n",
       "      <td>1180</td>\n",
       "      <td>0.0000</td>\n",
       "    </tr>\n",
       "  </tbody>\n",
       "</table>\n",
       "</div>"
      ],
      "text/plain": [
       "                    Datetime             Tweet Id  \\\n",
       "0  2023-06-06 17:00:01+00:00  1666127815585181698   \n",
       "1  2023-06-06 10:56:31+00:00  1666036339660460034   \n",
       "2  2023-06-06 09:43:27+00:00  1666017950363705345   \n",
       "3  2023-06-06 09:25:48+00:00  1666013508134400000   \n",
       "4  2023-06-06 08:17:47+00:00  1665996393616642049   \n",
       "\n",
       "                                                Text   Username  likeCount  \\\n",
       "0  Encapsulating 9 years of women empowerment 9Ye...  BJP4India        584   \n",
       "1  Sukanya Samriddhi Yojana is a pathbreaking ini...  BJP4India        505   \n",
       "2  In order to increase accessibility of veterina...  BJP4India        905   \n",
       "3  Modi Govts achievements have been monumental i...  BJP4India        571   \n",
       "4  Every initiative of the Modi Government reflec...  BJP4India       1180   \n",
       "\n",
       "   compound  \n",
       "0    0.0000  \n",
       "1    0.3400  \n",
       "2    0.5256  \n",
       "3    0.5859  \n",
       "4    0.0000  "
      ]
     },
     "execution_count": 44,
     "metadata": {},
     "output_type": "execute_result"
    }
   ],
   "source": [
    "# drop the year column\n",
    "df.drop('year', axis=1, inplace=True)\n",
    "df.head()"
   ]
  },
  {
   "cell_type": "markdown",
   "metadata": {},
   "source": [
    "An average compound score of 0.09786676089315291 indicates a slightly positive sentiment in the given text. The compound score ranges from -1 to 1, where values closer to -1 indicate strong negative sentiment, values closer to 1 indicate strong positive sentiment, and values around 0 suggest a more neutral sentiment.\n",
    "<br>In this case, the positive sentiment is relatively weak, as the compound score is closer to 0 than to 1. It suggests that the text has some positive elements but may also contain elements of neutral or slightly negative sentiment. "
   ]
  },
  {
   "cell_type": "markdown",
   "metadata": {},
   "source": [
    "##### 2. RoBERTa Pretrained Model from Huggingface"
   ]
  },
  {
   "cell_type": "markdown",
   "metadata": {},
   "source": [
    "Advantages of using the RoBERTa model for sentiment analysis:\n",
    "1. State-of-the-art Performance: RoBERTa is a highly advanced and powerful language model that has achieved state-of-the-art performance on various natural language processing tasks, including sentiment analysis. It has been trained on a large corpus of text data and can capture intricate linguistic patterns and context effectively.\n",
    "\n",
    "2. Contextual Understanding: RoBERTa exhibits a strong contextual understanding of text, allowing it to consider the meaning and sentiment of words in relation to their surrounding context. This enables more accurate sentiment analysis, especially for sentences with complex structures or ambiguous sentiment expressions.\n",
    "\n",
    "3. Transfer Learning Capability: RoBERTa benefits from transfer learning, as it has been pre-trained on a massive amount of data. This means it can leverage its knowledge from a diverse range of language patterns and semantics, making it adaptable to sentiment analysis tasks across different domains and languages.\n",
    "\n",
    "Disadvantages of using the RoBERTa model for sentiment analysis:\n",
    "\n",
    "1. Computational Resources: RoBERTa is a large and complex model that requires significant computational resources, including powerful hardware and substantial memory. Deploying and utilizing RoBERTa for sentiment analysis can be resource-intensive, limiting its practicality in resource-constrained environments.\n",
    "\n",
    "2. Training Data Dependence: While RoBERTa performs well in general sentiment analysis, its effectiveness is largely dependent on the quality, relevance, and representativeness of the training data used. If the sentiment analysis task involves a specific domain or uses case, additional fine-tuning or customization may be necessary to achieve optimal performance.\n",
    "\n",
    "3. Model Interpretability: Deep neural network models like RoBERTa are often considered black boxes, making it challenging to interpret and understand the underlying decision-making process. The lack of transparency can make it difficult to explain and validate the sentiment analysis results, especially in sensitive or regulated domains."
   ]
  },
  {
   "cell_type": "code",
   "execution_count": null,
   "metadata": {},
   "outputs": [],
   "source": [
    "!pip3 install transformers\n",
    "!pip3 install scipy\n",
    "!pip3 install torch\n",
    "!pip3 install tensorflow"
   ]
  },
  {
   "cell_type": "code",
   "execution_count": null,
   "metadata": {},
   "outputs": [],
   "source": [
    "!pip3 install torch torchvision torchaudio"
   ]
  },
  {
   "cell_type": "code",
   "execution_count": 45,
   "metadata": {},
   "outputs": [],
   "source": [
    "from transformers import AutoTokenizer\n",
    "from transformers import AutoModelForSequenceClassification\n",
    "from scipy.special import softmax"
   ]
  },
  {
   "cell_type": "code",
   "execution_count": 46,
   "metadata": {},
   "outputs": [],
   "source": [
    "MODEL = f\"cardiffnlp/twitter-roberta-base-sentiment\"\n",
    "tokenizer = AutoTokenizer.from_pretrained(MODEL)\n",
    "model = AutoModelForSequenceClassification.from_pretrained(MODEL)"
   ]
  },
  {
   "cell_type": "code",
   "execution_count": 47,
   "metadata": {},
   "outputs": [
    {
     "name": "stdout",
     "output_type": "stream",
     "text": [
      "{'roberta_neg': 0.9654269, 'roberta_neu': 0.02899637, 'roberta_pos': 0.005576666}\n"
     ]
    }
   ],
   "source": [
    "# Run for Roberta \n",
    "example = \"I hate you\"\n",
    "\n",
    "encoded_text = tokenizer(example, return_tensors='pt')\n",
    "output = model(**encoded_text)\n",
    "scores = output[0][0].detach().numpy()\n",
    "scores = softmax(scores)\n",
    "scores_dict = {\n",
    "    'roberta_neg' : scores[0],\n",
    "    'roberta_neu' : scores[1],\n",
    "    'roberta_pos' : scores[2]\n",
    "}\n",
    "print(scores_dict)"
   ]
  },
  {
   "cell_type": "code",
   "execution_count": 49,
   "metadata": {},
   "outputs": [],
   "source": [
    "# apply the model on each tweet and append the results to a new column in the dataframe and also show the progress bar\n",
    "def get_sentiment(text):\n",
    "    encoded_text = tokenizer(text, return_tensors='pt')\n",
    "    output = model(**encoded_text)\n",
    "    scores = output[0][0].detach().numpy()\n",
    "    scores = softmax(scores)\n",
    "    scores_dict = {\n",
    "        'roberta_neg' : scores[0],\n",
    "        'roberta_neu' : scores[1],\n",
    "        'roberta_pos' : scores[2]\n",
    "    }\n",
    "    return scores_dict\n",
    "\n"
   ]
  },
  {
   "cell_type": "code",
   "execution_count": 56,
   "metadata": {},
   "outputs": [],
   "source": [
    "# remove the roberta score column\n",
    "df.drop(['roberta_scores' ], axis=1, inplace=True)"
   ]
  },
  {
   "cell_type": "code",
   "execution_count": 57,
   "metadata": {},
   "outputs": [
    {
     "data": {
      "text/html": [
       "<div>\n",
       "<style scoped>\n",
       "    .dataframe tbody tr th:only-of-type {\n",
       "        vertical-align: middle;\n",
       "    }\n",
       "\n",
       "    .dataframe tbody tr th {\n",
       "        vertical-align: top;\n",
       "    }\n",
       "\n",
       "    .dataframe thead th {\n",
       "        text-align: right;\n",
       "    }\n",
       "</style>\n",
       "<table border=\"1\" class=\"dataframe\">\n",
       "  <thead>\n",
       "    <tr style=\"text-align: right;\">\n",
       "      <th></th>\n",
       "      <th>Datetime</th>\n",
       "      <th>Tweet Id</th>\n",
       "      <th>Text</th>\n",
       "      <th>Username</th>\n",
       "      <th>likeCount</th>\n",
       "      <th>compound</th>\n",
       "    </tr>\n",
       "  </thead>\n",
       "  <tbody>\n",
       "    <tr>\n",
       "      <th>0</th>\n",
       "      <td>2023-06-06 17:00:01+00:00</td>\n",
       "      <td>1666127815585181698</td>\n",
       "      <td>Encapsulating 9 years of women empowerment 9Ye...</td>\n",
       "      <td>BJP4India</td>\n",
       "      <td>584</td>\n",
       "      <td>0.0000</td>\n",
       "    </tr>\n",
       "    <tr>\n",
       "      <th>1</th>\n",
       "      <td>2023-06-06 10:56:31+00:00</td>\n",
       "      <td>1666036339660460034</td>\n",
       "      <td>Sukanya Samriddhi Yojana is a pathbreaking ini...</td>\n",
       "      <td>BJP4India</td>\n",
       "      <td>505</td>\n",
       "      <td>0.3400</td>\n",
       "    </tr>\n",
       "    <tr>\n",
       "      <th>2</th>\n",
       "      <td>2023-06-06 09:43:27+00:00</td>\n",
       "      <td>1666017950363705345</td>\n",
       "      <td>In order to increase accessibility of veterina...</td>\n",
       "      <td>BJP4India</td>\n",
       "      <td>905</td>\n",
       "      <td>0.5256</td>\n",
       "    </tr>\n",
       "    <tr>\n",
       "      <th>3</th>\n",
       "      <td>2023-06-06 09:25:48+00:00</td>\n",
       "      <td>1666013508134400000</td>\n",
       "      <td>Modi Govts achievements have been monumental i...</td>\n",
       "      <td>BJP4India</td>\n",
       "      <td>571</td>\n",
       "      <td>0.5859</td>\n",
       "    </tr>\n",
       "    <tr>\n",
       "      <th>4</th>\n",
       "      <td>2023-06-06 08:17:47+00:00</td>\n",
       "      <td>1665996393616642049</td>\n",
       "      <td>Every initiative of the Modi Government reflec...</td>\n",
       "      <td>BJP4India</td>\n",
       "      <td>1180</td>\n",
       "      <td>0.0000</td>\n",
       "    </tr>\n",
       "  </tbody>\n",
       "</table>\n",
       "</div>"
      ],
      "text/plain": [
       "                    Datetime             Tweet Id  \\\n",
       "0  2023-06-06 17:00:01+00:00  1666127815585181698   \n",
       "1  2023-06-06 10:56:31+00:00  1666036339660460034   \n",
       "2  2023-06-06 09:43:27+00:00  1666017950363705345   \n",
       "3  2023-06-06 09:25:48+00:00  1666013508134400000   \n",
       "4  2023-06-06 08:17:47+00:00  1665996393616642049   \n",
       "\n",
       "                                                Text   Username  likeCount  \\\n",
       "0  Encapsulating 9 years of women empowerment 9Ye...  BJP4India        584   \n",
       "1  Sukanya Samriddhi Yojana is a pathbreaking ini...  BJP4India        505   \n",
       "2  In order to increase accessibility of veterina...  BJP4India        905   \n",
       "3  Modi Govts achievements have been monumental i...  BJP4India        571   \n",
       "4  Every initiative of the Modi Government reflec...  BJP4India       1180   \n",
       "\n",
       "   compound  \n",
       "0    0.0000  \n",
       "1    0.3400  \n",
       "2    0.5256  \n",
       "3    0.5859  \n",
       "4    0.0000  "
      ]
     },
     "execution_count": 57,
     "metadata": {},
     "output_type": "execute_result"
    }
   ],
   "source": [
    "df.head()"
   ]
  },
  {
   "cell_type": "code",
   "execution_count": 58,
   "metadata": {},
   "outputs": [],
   "source": [
    "dfdummy = df.head(100)"
   ]
  },
  {
   "cell_type": "code",
   "execution_count": 59,
   "metadata": {},
   "outputs": [
    {
     "name": "stderr",
     "output_type": "stream",
     "text": [
      "/var/folders/zv/x2lv03fs46n15fxz2b08zwx00000gn/T/ipykernel_8348/1877181773.py:2: SettingWithCopyWarning: \n",
      "A value is trying to be set on a copy of a slice from a DataFrame.\n",
      "Try using .loc[row_indexer,col_indexer] = value instead\n",
      "\n",
      "See the caveats in the documentation: https://pandas.pydata.org/pandas-docs/stable/user_guide/indexing.html#returning-a-view-versus-a-copy\n",
      "  dfdummy['roberta_scores'] = dfdummy['Text'].apply(get_sentiment)\n"
     ]
    }
   ],
   "source": [
    "# apply the get_sentiment() function on each tweet and append the results to a new column in the dataframe \n",
    "dfdummy['roberta_scores'] = dfdummy['Text'].apply(get_sentiment)"
   ]
  },
  {
   "cell_type": "code",
   "execution_count": 60,
   "metadata": {},
   "outputs": [
    {
     "data": {
      "text/html": [
       "<div>\n",
       "<style scoped>\n",
       "    .dataframe tbody tr th:only-of-type {\n",
       "        vertical-align: middle;\n",
       "    }\n",
       "\n",
       "    .dataframe tbody tr th {\n",
       "        vertical-align: top;\n",
       "    }\n",
       "\n",
       "    .dataframe thead th {\n",
       "        text-align: right;\n",
       "    }\n",
       "</style>\n",
       "<table border=\"1\" class=\"dataframe\">\n",
       "  <thead>\n",
       "    <tr style=\"text-align: right;\">\n",
       "      <th></th>\n",
       "      <th>Datetime</th>\n",
       "      <th>Tweet Id</th>\n",
       "      <th>Text</th>\n",
       "      <th>Username</th>\n",
       "      <th>likeCount</th>\n",
       "      <th>compound</th>\n",
       "      <th>roberta_scores</th>\n",
       "    </tr>\n",
       "  </thead>\n",
       "  <tbody>\n",
       "    <tr>\n",
       "      <th>0</th>\n",
       "      <td>2023-06-06 17:00:01+00:00</td>\n",
       "      <td>1666127815585181698</td>\n",
       "      <td>Encapsulating 9 years of women empowerment 9Ye...</td>\n",
       "      <td>BJP4India</td>\n",
       "      <td>584</td>\n",
       "      <td>0.0000</td>\n",
       "      <td>{'roberta_neg': 0.01506771, 'roberta_neu': 0.8...</td>\n",
       "    </tr>\n",
       "    <tr>\n",
       "      <th>1</th>\n",
       "      <td>2023-06-06 10:56:31+00:00</td>\n",
       "      <td>1666036339660460034</td>\n",
       "      <td>Sukanya Samriddhi Yojana is a pathbreaking ini...</td>\n",
       "      <td>BJP4India</td>\n",
       "      <td>505</td>\n",
       "      <td>0.3400</td>\n",
       "      <td>{'roberta_neg': 0.0055726906, 'roberta_neu': 0...</td>\n",
       "    </tr>\n",
       "    <tr>\n",
       "      <th>2</th>\n",
       "      <td>2023-06-06 09:43:27+00:00</td>\n",
       "      <td>1666017950363705345</td>\n",
       "      <td>In order to increase accessibility of veterina...</td>\n",
       "      <td>BJP4India</td>\n",
       "      <td>905</td>\n",
       "      <td>0.5256</td>\n",
       "      <td>{'roberta_neg': 0.0015218849, 'roberta_neu': 0...</td>\n",
       "    </tr>\n",
       "    <tr>\n",
       "      <th>3</th>\n",
       "      <td>2023-06-06 09:25:48+00:00</td>\n",
       "      <td>1666013508134400000</td>\n",
       "      <td>Modi Govts achievements have been monumental i...</td>\n",
       "      <td>BJP4India</td>\n",
       "      <td>571</td>\n",
       "      <td>0.5859</td>\n",
       "      <td>{'roberta_neg': 0.0024599396, 'roberta_neu': 0...</td>\n",
       "    </tr>\n",
       "    <tr>\n",
       "      <th>4</th>\n",
       "      <td>2023-06-06 08:17:47+00:00</td>\n",
       "      <td>1665996393616642049</td>\n",
       "      <td>Every initiative of the Modi Government reflec...</td>\n",
       "      <td>BJP4India</td>\n",
       "      <td>1180</td>\n",
       "      <td>0.0000</td>\n",
       "      <td>{'roberta_neg': 0.0034425727, 'roberta_neu': 0...</td>\n",
       "    </tr>\n",
       "  </tbody>\n",
       "</table>\n",
       "</div>"
      ],
      "text/plain": [
       "                    Datetime             Tweet Id  \\\n",
       "0  2023-06-06 17:00:01+00:00  1666127815585181698   \n",
       "1  2023-06-06 10:56:31+00:00  1666036339660460034   \n",
       "2  2023-06-06 09:43:27+00:00  1666017950363705345   \n",
       "3  2023-06-06 09:25:48+00:00  1666013508134400000   \n",
       "4  2023-06-06 08:17:47+00:00  1665996393616642049   \n",
       "\n",
       "                                                Text   Username  likeCount  \\\n",
       "0  Encapsulating 9 years of women empowerment 9Ye...  BJP4India        584   \n",
       "1  Sukanya Samriddhi Yojana is a pathbreaking ini...  BJP4India        505   \n",
       "2  In order to increase accessibility of veterina...  BJP4India        905   \n",
       "3  Modi Govts achievements have been monumental i...  BJP4India        571   \n",
       "4  Every initiative of the Modi Government reflec...  BJP4India       1180   \n",
       "\n",
       "   compound                                     roberta_scores  \n",
       "0    0.0000  {'roberta_neg': 0.01506771, 'roberta_neu': 0.8...  \n",
       "1    0.3400  {'roberta_neg': 0.0055726906, 'roberta_neu': 0...  \n",
       "2    0.5256  {'roberta_neg': 0.0015218849, 'roberta_neu': 0...  \n",
       "3    0.5859  {'roberta_neg': 0.0024599396, 'roberta_neu': 0...  \n",
       "4    0.0000  {'roberta_neg': 0.0034425727, 'roberta_neu': 0...  "
      ]
     },
     "execution_count": 60,
     "metadata": {},
     "output_type": "execute_result"
    }
   ],
   "source": [
    "dfdummy.head()"
   ]
  },
  {
   "cell_type": "code",
   "execution_count": 61,
   "metadata": {},
   "outputs": [
    {
     "data": {
      "text/plain": [
       "(175110, 6)"
      ]
     },
     "execution_count": 61,
     "metadata": {},
     "output_type": "execute_result"
    }
   ],
   "source": [
    "df.shape"
   ]
  },
  {
   "cell_type": "code",
   "execution_count": 62,
   "metadata": {},
   "outputs": [],
   "source": [
    "# apply the get_sentiment() function on each tweet and append the results to a new column in the dataframe\n",
    "df['roberta_scores'] = df['Text'].apply(get_sentiment)"
   ]
  },
  {
   "cell_type": "code",
   "execution_count": 63,
   "metadata": {},
   "outputs": [
    {
     "data": {
      "text/html": [
       "<div>\n",
       "<style scoped>\n",
       "    .dataframe tbody tr th:only-of-type {\n",
       "        vertical-align: middle;\n",
       "    }\n",
       "\n",
       "    .dataframe tbody tr th {\n",
       "        vertical-align: top;\n",
       "    }\n",
       "\n",
       "    .dataframe thead th {\n",
       "        text-align: right;\n",
       "    }\n",
       "</style>\n",
       "<table border=\"1\" class=\"dataframe\">\n",
       "  <thead>\n",
       "    <tr style=\"text-align: right;\">\n",
       "      <th></th>\n",
       "      <th>Datetime</th>\n",
       "      <th>Tweet Id</th>\n",
       "      <th>Text</th>\n",
       "      <th>Username</th>\n",
       "      <th>likeCount</th>\n",
       "      <th>compound</th>\n",
       "      <th>roberta_scores</th>\n",
       "    </tr>\n",
       "  </thead>\n",
       "  <tbody>\n",
       "    <tr>\n",
       "      <th>0</th>\n",
       "      <td>2023-06-06 17:00:01+00:00</td>\n",
       "      <td>1666127815585181698</td>\n",
       "      <td>Encapsulating 9 years of women empowerment 9Ye...</td>\n",
       "      <td>BJP4India</td>\n",
       "      <td>584</td>\n",
       "      <td>0.0000</td>\n",
       "      <td>{'roberta_neg': 0.01506771, 'roberta_neu': 0.8...</td>\n",
       "    </tr>\n",
       "    <tr>\n",
       "      <th>1</th>\n",
       "      <td>2023-06-06 10:56:31+00:00</td>\n",
       "      <td>1666036339660460034</td>\n",
       "      <td>Sukanya Samriddhi Yojana is a pathbreaking ini...</td>\n",
       "      <td>BJP4India</td>\n",
       "      <td>505</td>\n",
       "      <td>0.3400</td>\n",
       "      <td>{'roberta_neg': 0.0055726906, 'roberta_neu': 0...</td>\n",
       "    </tr>\n",
       "    <tr>\n",
       "      <th>2</th>\n",
       "      <td>2023-06-06 09:43:27+00:00</td>\n",
       "      <td>1666017950363705345</td>\n",
       "      <td>In order to increase accessibility of veterina...</td>\n",
       "      <td>BJP4India</td>\n",
       "      <td>905</td>\n",
       "      <td>0.5256</td>\n",
       "      <td>{'roberta_neg': 0.0015218849, 'roberta_neu': 0...</td>\n",
       "    </tr>\n",
       "    <tr>\n",
       "      <th>3</th>\n",
       "      <td>2023-06-06 09:25:48+00:00</td>\n",
       "      <td>1666013508134400000</td>\n",
       "      <td>Modi Govts achievements have been monumental i...</td>\n",
       "      <td>BJP4India</td>\n",
       "      <td>571</td>\n",
       "      <td>0.5859</td>\n",
       "      <td>{'roberta_neg': 0.0024599396, 'roberta_neu': 0...</td>\n",
       "    </tr>\n",
       "    <tr>\n",
       "      <th>4</th>\n",
       "      <td>2023-06-06 08:17:47+00:00</td>\n",
       "      <td>1665996393616642049</td>\n",
       "      <td>Every initiative of the Modi Government reflec...</td>\n",
       "      <td>BJP4India</td>\n",
       "      <td>1180</td>\n",
       "      <td>0.0000</td>\n",
       "      <td>{'roberta_neg': 0.0034425727, 'roberta_neu': 0...</td>\n",
       "    </tr>\n",
       "  </tbody>\n",
       "</table>\n",
       "</div>"
      ],
      "text/plain": [
       "                    Datetime             Tweet Id  \\\n",
       "0  2023-06-06 17:00:01+00:00  1666127815585181698   \n",
       "1  2023-06-06 10:56:31+00:00  1666036339660460034   \n",
       "2  2023-06-06 09:43:27+00:00  1666017950363705345   \n",
       "3  2023-06-06 09:25:48+00:00  1666013508134400000   \n",
       "4  2023-06-06 08:17:47+00:00  1665996393616642049   \n",
       "\n",
       "                                                Text   Username  likeCount  \\\n",
       "0  Encapsulating 9 years of women empowerment 9Ye...  BJP4India        584   \n",
       "1  Sukanya Samriddhi Yojana is a pathbreaking ini...  BJP4India        505   \n",
       "2  In order to increase accessibility of veterina...  BJP4India        905   \n",
       "3  Modi Govts achievements have been monumental i...  BJP4India        571   \n",
       "4  Every initiative of the Modi Government reflec...  BJP4India       1180   \n",
       "\n",
       "   compound                                     roberta_scores  \n",
       "0    0.0000  {'roberta_neg': 0.01506771, 'roberta_neu': 0.8...  \n",
       "1    0.3400  {'roberta_neg': 0.0055726906, 'roberta_neu': 0...  \n",
       "2    0.5256  {'roberta_neg': 0.0015218849, 'roberta_neu': 0...  \n",
       "3    0.5859  {'roberta_neg': 0.0024599396, 'roberta_neu': 0...  \n",
       "4    0.0000  {'roberta_neg': 0.0034425727, 'roberta_neu': 0...  "
      ]
     },
     "execution_count": 63,
     "metadata": {},
     "output_type": "execute_result"
    }
   ],
   "source": [
    "df.head()"
   ]
  },
  {
   "cell_type": "code",
   "execution_count": 64,
   "metadata": {},
   "outputs": [],
   "source": [
    "# seprate the roberta_scores column into three separate columns\n",
    "df = pd.concat([df.drop(['roberta_scores'], axis=1), df['roberta_scores'].apply(pd.Series)], axis=1)"
   ]
  },
  {
   "cell_type": "code",
   "execution_count": 65,
   "metadata": {},
   "outputs": [
    {
     "data": {
      "text/html": [
       "<div>\n",
       "<style scoped>\n",
       "    .dataframe tbody tr th:only-of-type {\n",
       "        vertical-align: middle;\n",
       "    }\n",
       "\n",
       "    .dataframe tbody tr th {\n",
       "        vertical-align: top;\n",
       "    }\n",
       "\n",
       "    .dataframe thead th {\n",
       "        text-align: right;\n",
       "    }\n",
       "</style>\n",
       "<table border=\"1\" class=\"dataframe\">\n",
       "  <thead>\n",
       "    <tr style=\"text-align: right;\">\n",
       "      <th></th>\n",
       "      <th>Datetime</th>\n",
       "      <th>Tweet Id</th>\n",
       "      <th>Text</th>\n",
       "      <th>Username</th>\n",
       "      <th>likeCount</th>\n",
       "      <th>compound</th>\n",
       "      <th>roberta_neg</th>\n",
       "      <th>roberta_neu</th>\n",
       "      <th>roberta_pos</th>\n",
       "    </tr>\n",
       "  </thead>\n",
       "  <tbody>\n",
       "    <tr>\n",
       "      <th>0</th>\n",
       "      <td>2023-06-06 17:00:01+00:00</td>\n",
       "      <td>1666127815585181698</td>\n",
       "      <td>Encapsulating 9 years of women empowerment 9Ye...</td>\n",
       "      <td>BJP4India</td>\n",
       "      <td>584</td>\n",
       "      <td>0.0000</td>\n",
       "      <td>0.015068</td>\n",
       "      <td>0.807598</td>\n",
       "      <td>0.177334</td>\n",
       "    </tr>\n",
       "    <tr>\n",
       "      <th>1</th>\n",
       "      <td>2023-06-06 10:56:31+00:00</td>\n",
       "      <td>1666036339660460034</td>\n",
       "      <td>Sukanya Samriddhi Yojana is a pathbreaking ini...</td>\n",
       "      <td>BJP4India</td>\n",
       "      <td>505</td>\n",
       "      <td>0.3400</td>\n",
       "      <td>0.005573</td>\n",
       "      <td>0.288496</td>\n",
       "      <td>0.705931</td>\n",
       "    </tr>\n",
       "    <tr>\n",
       "      <th>2</th>\n",
       "      <td>2023-06-06 09:43:27+00:00</td>\n",
       "      <td>1666017950363705345</td>\n",
       "      <td>In order to increase accessibility of veterina...</td>\n",
       "      <td>BJP4India</td>\n",
       "      <td>905</td>\n",
       "      <td>0.5256</td>\n",
       "      <td>0.001522</td>\n",
       "      <td>0.127804</td>\n",
       "      <td>0.870674</td>\n",
       "    </tr>\n",
       "    <tr>\n",
       "      <th>3</th>\n",
       "      <td>2023-06-06 09:25:48+00:00</td>\n",
       "      <td>1666013508134400000</td>\n",
       "      <td>Modi Govts achievements have been monumental i...</td>\n",
       "      <td>BJP4India</td>\n",
       "      <td>571</td>\n",
       "      <td>0.5859</td>\n",
       "      <td>0.002460</td>\n",
       "      <td>0.077786</td>\n",
       "      <td>0.919754</td>\n",
       "    </tr>\n",
       "    <tr>\n",
       "      <th>4</th>\n",
       "      <td>2023-06-06 08:17:47+00:00</td>\n",
       "      <td>1665996393616642049</td>\n",
       "      <td>Every initiative of the Modi Government reflec...</td>\n",
       "      <td>BJP4India</td>\n",
       "      <td>1180</td>\n",
       "      <td>0.0000</td>\n",
       "      <td>0.003443</td>\n",
       "      <td>0.189079</td>\n",
       "      <td>0.807478</td>\n",
       "    </tr>\n",
       "  </tbody>\n",
       "</table>\n",
       "</div>"
      ],
      "text/plain": [
       "                    Datetime             Tweet Id  \\\n",
       "0  2023-06-06 17:00:01+00:00  1666127815585181698   \n",
       "1  2023-06-06 10:56:31+00:00  1666036339660460034   \n",
       "2  2023-06-06 09:43:27+00:00  1666017950363705345   \n",
       "3  2023-06-06 09:25:48+00:00  1666013508134400000   \n",
       "4  2023-06-06 08:17:47+00:00  1665996393616642049   \n",
       "\n",
       "                                                Text   Username  likeCount  \\\n",
       "0  Encapsulating 9 years of women empowerment 9Ye...  BJP4India        584   \n",
       "1  Sukanya Samriddhi Yojana is a pathbreaking ini...  BJP4India        505   \n",
       "2  In order to increase accessibility of veterina...  BJP4India        905   \n",
       "3  Modi Govts achievements have been monumental i...  BJP4India        571   \n",
       "4  Every initiative of the Modi Government reflec...  BJP4India       1180   \n",
       "\n",
       "   compound  roberta_neg  roberta_neu  roberta_pos  \n",
       "0    0.0000     0.015068     0.807598     0.177334  \n",
       "1    0.3400     0.005573     0.288496     0.705931  \n",
       "2    0.5256     0.001522     0.127804     0.870674  \n",
       "3    0.5859     0.002460     0.077786     0.919754  \n",
       "4    0.0000     0.003443     0.189079     0.807478  "
      ]
     },
     "execution_count": 65,
     "metadata": {},
     "output_type": "execute_result"
    }
   ],
   "source": [
    "df.head()"
   ]
  },
  {
   "cell_type": "code",
   "execution_count": 66,
   "metadata": {},
   "outputs": [
    {
     "data": {
      "text/plain": [
       "Index(['Datetime', 'Tweet Id', 'Text', 'Username', 'likeCount', 'compound',\n",
       "       'roberta_neg', 'roberta_neu', 'roberta_pos'],\n",
       "      dtype='object')"
      ]
     },
     "execution_count": 66,
     "metadata": {},
     "output_type": "execute_result"
    }
   ],
   "source": [
    "# list columns\n",
    "df.columns"
   ]
  },
  {
   "cell_type": "code",
   "execution_count": 67,
   "metadata": {},
   "outputs": [],
   "source": [
    "# save the dataframe to csv file\n",
    "df.to_csv('BJP4India_VADER_ROBERTA_done.csv', index=False)"
   ]
  },
  {
   "cell_type": "code",
   "execution_count": 69,
   "metadata": {},
   "outputs": [],
   "source": [
    "# create a year column\n",
    "df['year'] = pd.DatetimeIndex(df['Datetime']).year"
   ]
  },
  {
   "cell_type": "code",
   "execution_count": 70,
   "metadata": {},
   "outputs": [
    {
     "data": {
      "image/png": "[encoded data removed]",
      "text/plain": [
       "<Figure size 640x480 with 1 Axes>"
      ]
     },
     "metadata": {},
     "output_type": "display_data"
    }
   ],
   "source": [
    "# calculate the mean of roberta_neg, roberta_neu, roberta_pos columns and plot the line graph\n",
    "df.groupby('year')['roberta_neg'].mean().plot(kind='line', color='red')\n",
    "df.groupby('year')['roberta_neu'].mean().plot(kind='line', color='blue')\n",
    "df.groupby('year')['roberta_pos'].mean().plot(kind='line', color='green')   \n",
    "plt.legend()\n",
    "plt.show()"
   ]
  },
  {
   "cell_type": "markdown",
   "metadata": {},
   "source": [
    "We can see a clear dip in sentiment score in 2014 year and we know why."
   ]
  },
  {
   "cell_type": "code",
   "execution_count": 75,
   "metadata": {},
   "outputs": [
    {
     "data": {
      "text/html": [
       "<div>\n",
       "<style scoped>\n",
       "    .dataframe tbody tr th:only-of-type {\n",
       "        vertical-align: middle;\n",
       "    }\n",
       "\n",
       "    .dataframe tbody tr th {\n",
       "        vertical-align: top;\n",
       "    }\n",
       "\n",
       "    .dataframe thead th {\n",
       "        text-align: right;\n",
       "    }\n",
       "</style>\n",
       "<table border=\"1\" class=\"dataframe\">\n",
       "  <thead>\n",
       "    <tr style=\"text-align: right;\">\n",
       "      <th></th>\n",
       "      <th>Datetime</th>\n",
       "      <th>Tweet Id</th>\n",
       "      <th>Text</th>\n",
       "      <th>Username</th>\n",
       "      <th>likeCount</th>\n",
       "      <th>compound</th>\n",
       "      <th>roberta_neg</th>\n",
       "      <th>roberta_neu</th>\n",
       "      <th>roberta_pos</th>\n",
       "    </tr>\n",
       "  </thead>\n",
       "  <tbody>\n",
       "    <tr>\n",
       "      <th>0</th>\n",
       "      <td>2023-06-06 17:00:01+00:00</td>\n",
       "      <td>1666127815585181698</td>\n",
       "      <td>Encapsulating 9 years of women empowerment 9Ye...</td>\n",
       "      <td>BJP4India</td>\n",
       "      <td>584</td>\n",
       "      <td>0.0000</td>\n",
       "      <td>0.015068</td>\n",
       "      <td>0.807598</td>\n",
       "      <td>0.177334</td>\n",
       "    </tr>\n",
       "    <tr>\n",
       "      <th>1</th>\n",
       "      <td>2023-06-06 10:56:31+00:00</td>\n",
       "      <td>1666036339660460034</td>\n",
       "      <td>Sukanya Samriddhi Yojana is a pathbreaking ini...</td>\n",
       "      <td>BJP4India</td>\n",
       "      <td>505</td>\n",
       "      <td>0.3400</td>\n",
       "      <td>0.005573</td>\n",
       "      <td>0.288496</td>\n",
       "      <td>0.705931</td>\n",
       "    </tr>\n",
       "    <tr>\n",
       "      <th>2</th>\n",
       "      <td>2023-06-06 09:43:27+00:00</td>\n",
       "      <td>1666017950363705345</td>\n",
       "      <td>In order to increase accessibility of veterina...</td>\n",
       "      <td>BJP4India</td>\n",
       "      <td>905</td>\n",
       "      <td>0.5256</td>\n",
       "      <td>0.001522</td>\n",
       "      <td>0.127804</td>\n",
       "      <td>0.870674</td>\n",
       "    </tr>\n",
       "    <tr>\n",
       "      <th>3</th>\n",
       "      <td>2023-06-06 09:25:48+00:00</td>\n",
       "      <td>1666013508134400000</td>\n",
       "      <td>Modi Govts achievements have been monumental i...</td>\n",
       "      <td>BJP4India</td>\n",
       "      <td>571</td>\n",
       "      <td>0.5859</td>\n",
       "      <td>0.002460</td>\n",
       "      <td>0.077786</td>\n",
       "      <td>0.919754</td>\n",
       "    </tr>\n",
       "    <tr>\n",
       "      <th>4</th>\n",
       "      <td>2023-06-06 08:17:47+00:00</td>\n",
       "      <td>1665996393616642049</td>\n",
       "      <td>Every initiative of the Modi Government reflec...</td>\n",
       "      <td>BJP4India</td>\n",
       "      <td>1180</td>\n",
       "      <td>0.0000</td>\n",
       "      <td>0.003443</td>\n",
       "      <td>0.189079</td>\n",
       "      <td>0.807478</td>\n",
       "    </tr>\n",
       "  </tbody>\n",
       "</table>\n",
       "</div>"
      ],
      "text/plain": [
       "                    Datetime             Tweet Id  \\\n",
       "0  2023-06-06 17:00:01+00:00  1666127815585181698   \n",
       "1  2023-06-06 10:56:31+00:00  1666036339660460034   \n",
       "2  2023-06-06 09:43:27+00:00  1666017950363705345   \n",
       "3  2023-06-06 09:25:48+00:00  1666013508134400000   \n",
       "4  2023-06-06 08:17:47+00:00  1665996393616642049   \n",
       "\n",
       "                                                Text   Username  likeCount  \\\n",
       "0  Encapsulating 9 years of women empowerment 9Ye...  BJP4India        584   \n",
       "1  Sukanya Samriddhi Yojana is a pathbreaking ini...  BJP4India        505   \n",
       "2  In order to increase accessibility of veterina...  BJP4India        905   \n",
       "3  Modi Govts achievements have been monumental i...  BJP4India        571   \n",
       "4  Every initiative of the Modi Government reflec...  BJP4India       1180   \n",
       "\n",
       "   compound  roberta_neg  roberta_neu  roberta_pos  \n",
       "0    0.0000     0.015068     0.807598     0.177334  \n",
       "1    0.3400     0.005573     0.288496     0.705931  \n",
       "2    0.5256     0.001522     0.127804     0.870674  \n",
       "3    0.5859     0.002460     0.077786     0.919754  \n",
       "4    0.0000     0.003443     0.189079     0.807478  "
      ]
     },
     "execution_count": 75,
     "metadata": {},
     "output_type": "execute_result"
    }
   ],
   "source": [
    "df.head()"
   ]
  },
  {
   "cell_type": "markdown",
   "metadata": {},
   "source": [
    "##### End Comparision"
   ]
  },
  {
   "cell_type": "code",
   "execution_count": 76,
   "metadata": {},
   "outputs": [],
   "source": [
    "# add year column\n",
    "df['year'] = pd.DatetimeIndex(df['Datetime']).year"
   ]
  },
  {
   "cell_type": "code",
   "execution_count": 77,
   "metadata": {},
   "outputs": [
    {
     "data": {
      "image/png": "[encoded data removed]",
      "text/plain": [
       "<Figure size 640x480 with 1 Axes>"
      ]
     },
     "metadata": {},
     "output_type": "display_data"
    }
   ],
   "source": [
    "# comparision of VADER and ROBERTA\n",
    "df.groupby('year')['compound'].mean().plot(kind='line', color='red')\n",
    "df.groupby('year')['roberta_neg'].mean().plot(kind='line', color='blue')\n",
    "df.groupby('year')['roberta_neu'].mean().plot(kind='line', color='green')\n",
    "df.groupby('year')['roberta_pos'].mean().plot(kind='line', color='yellow')\n",
    "plt.legend()\n",
    "plt.show()"
   ]
  },
  {
   "cell_type": "code",
   "execution_count": 79,
   "metadata": {},
   "outputs": [],
   "source": [
    "# mean roberta_neg, roberta_neu, roberta_pos scores\n",
    "ro_neg_mean = df['roberta_neg'].mean()\n",
    "ro_neu_mean = df['roberta_neu'].mean()\n",
    "ro_pos_mean = df['roberta_pos'].mean()"
   ]
  },
  {
   "cell_type": "code",
   "execution_count": 80,
   "metadata": {},
   "outputs": [
    {
     "name": "stdout",
     "output_type": "stream",
     "text": [
      "0.05040156 0.45851955 0.49107894\n"
     ]
    }
   ],
   "source": [
    "print(ro_neg_mean, ro_neu_mean, ro_pos_mean)"
   ]
  }
 ],
 "metadata": {
  "kernelspec": {
   "display_name": "Python 3.10.10 ('work')",
   "language": "python",
   "name": "python3"
  },
  "language_info": {
   "codemirror_mode": {
    "name": "ipython",
    "version": 3
   },
   "file_extension": ".py",
   "mimetype": "text/x-python",
   "name": "python",
   "nbconvert_exporter": "python",
   "pygments_lexer": "ipython3",
   "version": "3.10.10"
  },
  "vscode": {
   "interpreter": {
    "hash": "f6becb90ea85e501e0c5dc0cf472a45ace99c50f8d1426b3da8c341d18623653"
   }
  }
 },
 "nbformat": 4,
 "nbformat_minor": 4
}
