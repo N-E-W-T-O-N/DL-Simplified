{
 "cells": [
  {
   "cell_type": "markdown",
   "id": "d75871a1",
   "metadata": {
    "id": "d75871a1"
   },
   "source": [
    "### Importing Libraries"
   ]
  },
  {
   "cell_type": "code",
   "execution_count": 1,
   "id": "5eb8fef5",
   "metadata": {
    "id": "5eb8fef5"
   },
   "outputs": [],
   "source": [
    "import numpy as np\n",
    "import pandas as pd\n",
    "import os\n",
    "import matplotlib.pyplot as plt\n",
    "import seaborn as sns\n",
    "\n",
    "from wordcloud import WordCloud, STOPWORDS\n",
    "from sklearn.decomposition import LatentDirichletAllocation\n",
    "from collections import Counter\n",
    "from nltk.sentiment import SentimentIntensityAnalyzer\n",
    "from textblob import TextBlob\n",
    "import nltk"
   ]
  },
  {
   "cell_type": "code",
   "execution_count": 2,
   "id": "2bb6570a",
   "metadata": {
    "id": "2bb6570a"
   },
   "outputs": [],
   "source": [
    "import tensorflow as tf"
   ]
  },
  {
   "cell_type": "code",
   "execution_count": 3,
   "id": "fe8db7b5",
   "metadata": {
    "id": "fe8db7b5"
   },
   "outputs": [],
   "source": [
    "from tensorflow.keras.models import Sequential\n",
    "from tensorflow.keras.layers import LSTM, Embedding, Dense\n",
    "from tensorflow.keras.preprocessing.sequence import pad_sequences\n",
    "from tensorflow.keras.preprocessing.text import Tokenizer"
   ]
  },
  {
   "cell_type": "code",
   "execution_count": 4,
   "id": "1045420c",
   "metadata": {
    "colab": {
     "base_uri": "https://localhost:8080/"
    },
    "id": "1045420c",
    "outputId": "588544ce-609a-4552-853b-2c109acb370f"
   },
   "outputs": [
    {
     "name": "stderr",
     "output_type": "stream",
     "text": [
      "[nltk_data] Downloading package vader_lexicon to /root/nltk_data...\n"
     ]
    },
    {
     "data": {
      "text/plain": [
       "True"
      ]
     },
     "execution_count": 4,
     "metadata": {},
     "output_type": "execute_result"
    }
   ],
   "source": [
    "nltk.download('vader_lexicon')"
   ]
  },
  {
   "cell_type": "markdown",
   "id": "d6ede93f",
   "metadata": {
    "id": "d6ede93f"
   },
   "source": [
    "### Reading the CSV file"
   ]
  },
  {
   "cell_type": "code",
   "execution_count": 6,
   "id": "3d38ea78",
   "metadata": {
    "id": "3d38ea78"
   },
   "outputs": [],
   "source": [
    "df = pd.read_csv(r'chatgpt1.csv')"
   ]
  },
  {
   "cell_type": "code",
   "execution_count": 7,
   "id": "c224f51d",
   "metadata": {
    "colab": {
     "base_uri": "https://localhost:8080/",
     "height": 496
    },
    "id": "c224f51d",
    "outputId": "b71cbc4a-7f96-4c06-96b0-70edec06a055"
   },
   "outputs": [
    {
     "data": {
      "text/html": [
       "\n",
       "\n",
       "  <div id=\"df-cc874da8-7145-4fbb-8897-50f2abfc8e65\">\n",
       "    <div class=\"colab-df-container\">\n",
       "      <div>\n",
       "<style scoped>\n",
       "    .dataframe tbody tr th:only-of-type {\n",
       "        vertical-align: middle;\n",
       "    }\n",
       "\n",
       "    .dataframe tbody tr th {\n",
       "        vertical-align: top;\n",
       "    }\n",
       "\n",
       "    .dataframe thead th {\n",
       "        text-align: right;\n",
       "    }\n",
       "</style>\n",
       "<table border=\"1\" class=\"dataframe\">\n",
       "  <thead>\n",
       "    <tr style=\"text-align: right;\">\n",
       "      <th></th>\n",
       "      <th>Datetime</th>\n",
       "      <th>Tweet Id</th>\n",
       "      <th>Text</th>\n",
       "      <th>Username</th>\n",
       "      <th>Permalink</th>\n",
       "      <th>User</th>\n",
       "      <th>Outlinks</th>\n",
       "      <th>CountLinks</th>\n",
       "      <th>ReplyCount</th>\n",
       "      <th>RetweetCount</th>\n",
       "      <th>LikeCount</th>\n",
       "      <th>QuoteCount</th>\n",
       "      <th>ConversationId</th>\n",
       "      <th>Language</th>\n",
       "      <th>Source</th>\n",
       "      <th>Media</th>\n",
       "      <th>QuotedTweet</th>\n",
       "      <th>MentionedUsers</th>\n",
       "      <th>hashtag</th>\n",
       "      <th>hastag_counts</th>\n",
       "    </tr>\n",
       "  </thead>\n",
       "  <tbody>\n",
       "    <tr>\n",
       "      <th>0</th>\n",
       "      <td>2023-01-22 13:44:34+00:00</td>\n",
       "      <td>1617156270871699456</td>\n",
       "      <td>ChatGPTで遊ぶの忘れてた！！\\n書類作るコード書いてみてほしいのと、\\nどこまで思考整...</td>\n",
       "      <td>mochico0123</td>\n",
       "      <td>https://twitter.com/mochico0123/status/1617156...</td>\n",
       "      <td>https://twitter.com/mochico0123</td>\n",
       "      <td>NaN</td>\n",
       "      <td>NaN</td>\n",
       "      <td>1.0</td>\n",
       "      <td>0.0</td>\n",
       "      <td>5.0</td>\n",
       "      <td>0.0</td>\n",
       "      <td>1.617156e+18</td>\n",
       "      <td>ja</td>\n",
       "      <td>&lt;a href=\"http://twitter.com/download/iphone\" r...</td>\n",
       "      <td>NaN</td>\n",
       "      <td>NaN</td>\n",
       "      <td>NaN</td>\n",
       "      <td>[]</td>\n",
       "      <td>0.0</td>\n",
       "    </tr>\n",
       "    <tr>\n",
       "      <th>1</th>\n",
       "      <td>2023-01-22 13:44:39+00:00</td>\n",
       "      <td>1617156291046133761</td>\n",
       "      <td>@AlexandrovnaIng Prohibition of ChatGPT has be...</td>\n",
       "      <td>Caput_LupinumSG</td>\n",
       "      <td>https://twitter.com/Caput_LupinumSG/status/161...</td>\n",
       "      <td>https://twitter.com/Caput_LupinumSG</td>\n",
       "      <td>NaN</td>\n",
       "      <td>NaN</td>\n",
       "      <td>1.0</td>\n",
       "      <td>0.0</td>\n",
       "      <td>5.0</td>\n",
       "      <td>0.0</td>\n",
       "      <td>1.617149e+18</td>\n",
       "      <td>en</td>\n",
       "      <td>&lt;a href=\"http://twitter.com/download/iphone\" r...</td>\n",
       "      <td>NaN</td>\n",
       "      <td>NaN</td>\n",
       "      <td>[User(username='AlexandrovnaIng', id=282705900...</td>\n",
       "      <td>[]</td>\n",
       "      <td>0.0</td>\n",
       "    </tr>\n",
       "    <tr>\n",
       "      <th>2</th>\n",
       "      <td>2023-01-22 13:44:44+00:00</td>\n",
       "      <td>1617156308926349312</td>\n",
       "      <td>Schaut Euch an, was @fobizz @DianaKnodel alles...</td>\n",
       "      <td>ciffi</td>\n",
       "      <td>https://twitter.com/ciffi/status/1617156308926...</td>\n",
       "      <td>https://twitter.com/ciffi</td>\n",
       "      <td>['https://us02web.zoom.us/webinar/register/801...</td>\n",
       "      <td>['https://t.co/DsoeVJrPBp', 'https://t.co/HflT...</td>\n",
       "      <td>0.0</td>\n",
       "      <td>0.0</td>\n",
       "      <td>4.0</td>\n",
       "      <td>0.0</td>\n",
       "      <td>1.617156e+18</td>\n",
       "      <td>de</td>\n",
       "      <td>&lt;a href=\"http://twitter.com/#!/download/ipad\" ...</td>\n",
       "      <td>[Photo(previewUrl='https://pbs.twimg.com/media...</td>\n",
       "      <td>https://twitter.com/DianaKnodel/status/1617153...</td>\n",
       "      <td>[User(username='fobizz', id=884708145792253952...</td>\n",
       "      <td>['#ChatGPT']</td>\n",
       "      <td>1.0</td>\n",
       "    </tr>\n",
       "    <tr>\n",
       "      <th>3</th>\n",
       "      <td>2023-01-22 13:44:49+00:00</td>\n",
       "      <td>1617156332297256961</td>\n",
       "      <td>Bow down to chatGPT 🫡..... https://t.co/ENTSzi...</td>\n",
       "      <td>Vishwasrisiri</td>\n",
       "      <td>https://twitter.com/Vishwasrisiri/status/16171...</td>\n",
       "      <td>https://twitter.com/Vishwasrisiri</td>\n",
       "      <td>['https://twitter.com/agadmator/status/1617155...</td>\n",
       "      <td>['https://t.co/ENTSzi2AQ9']</td>\n",
       "      <td>0.0</td>\n",
       "      <td>0.0</td>\n",
       "      <td>2.0</td>\n",
       "      <td>0.0</td>\n",
       "      <td>1.617156e+18</td>\n",
       "      <td>en</td>\n",
       "      <td>&lt;a href=\"http://twitter.com/download/android\" ...</td>\n",
       "      <td>NaN</td>\n",
       "      <td>https://twitter.com/agadmator/status/161715501...</td>\n",
       "      <td>NaN</td>\n",
       "      <td>[]</td>\n",
       "      <td>0.0</td>\n",
       "    </tr>\n",
       "    <tr>\n",
       "      <th>4</th>\n",
       "      <td>2023-01-22 13:44:52+00:00</td>\n",
       "      <td>1617156345064570880</td>\n",
       "      <td>Profilinde vatan, Türkiye falan yazan bireyler...</td>\n",
       "      <td>0xGenetikciniz</td>\n",
       "      <td>https://twitter.com/0xGenetikciniz/status/1617...</td>\n",
       "      <td>https://twitter.com/0xGenetikciniz</td>\n",
       "      <td>NaN</td>\n",
       "      <td>NaN</td>\n",
       "      <td>0.0</td>\n",
       "      <td>0.0</td>\n",
       "      <td>4.0</td>\n",
       "      <td>0.0</td>\n",
       "      <td>1.617156e+18</td>\n",
       "      <td>tr</td>\n",
       "      <td>&lt;a href=\"http://twitter.com/download/iphone\" r...</td>\n",
       "      <td>NaN</td>\n",
       "      <td>NaN</td>\n",
       "      <td>NaN</td>\n",
       "      <td>[]</td>\n",
       "      <td>0.0</td>\n",
       "    </tr>\n",
       "  </tbody>\n",
       "</table>\n",
       "</div>\n",
       "      <button class=\"colab-df-convert\" onclick=\"convertToInteractive('df-cc874da8-7145-4fbb-8897-50f2abfc8e65')\"\n",
       "              title=\"Convert this dataframe to an interactive table.\"\n",
       "              style=\"display:none;\">\n",
       "\n",
       "  <svg xmlns=\"http://www.w3.org/2000/svg\" height=\"24px\"viewBox=\"0 0 24 24\"\n",
       "       width=\"24px\">\n",
       "    <path d=\"M0 0h24v24H0V0z\" fill=\"none\"/>\n",
       "    <path d=\"M18.56 5.44l.94 2.06.94-2.06 2.06-.94-2.06-.94-.94-2.06-.94 2.06-2.06.94zm-11 1L8.5 8.5l.94-2.06 2.06-.94-2.06-.94L8.5 2.5l-.94 2.06-2.06.94zm10 10l.94 2.06.94-2.06 2.06-.94-2.06-.94-.94-2.06-.94 2.06-2.06.94z\"/><path d=\"M17.41 7.96l-1.37-1.37c-.4-.4-.92-.59-1.43-.59-.52 0-1.04.2-1.43.59L10.3 9.45l-7.72 7.72c-.78.78-.78 2.05 0 2.83L4 21.41c.39.39.9.59 1.41.59.51 0 1.02-.2 1.41-.59l7.78-7.78 2.81-2.81c.8-.78.8-2.07 0-2.86zM5.41 20L4 18.59l7.72-7.72 1.47 1.35L5.41 20z\"/>\n",
       "  </svg>\n",
       "      </button>\n",
       "\n",
       "\n",
       "\n",
       "    <div id=\"df-f9ba71ad-3fb7-43fa-921f-f00082dd2b44\">\n",
       "      <button class=\"colab-df-quickchart\" onclick=\"quickchart('df-f9ba71ad-3fb7-43fa-921f-f00082dd2b44')\"\n",
       "              title=\"Suggest charts.\"\n",
       "              style=\"display:none;\">\n",
       "\n",
       "<svg xmlns=\"http://www.w3.org/2000/svg\" height=\"24px\"viewBox=\"0 0 24 24\"\n",
       "     width=\"24px\">\n",
       "    <g>\n",
       "        <path d=\"M19 3H5c-1.1 0-2 .9-2 2v14c0 1.1.9 2 2 2h14c1.1 0 2-.9 2-2V5c0-1.1-.9-2-2-2zM9 17H7v-7h2v7zm4 0h-2V7h2v10zm4 0h-2v-4h2v4z\"/>\n",
       "    </g>\n",
       "</svg>\n",
       "      </button>\n",
       "    </div>\n",
       "\n",
       "<style>\n",
       "  .colab-df-quickchart {\n",
       "    background-color: #E8F0FE;\n",
       "    border: none;\n",
       "    border-radius: 50%;\n",
       "    cursor: pointer;\n",
       "    display: none;\n",
       "    fill: #1967D2;\n",
       "    height: 32px;\n",
       "    padding: 0 0 0 0;\n",
       "    width: 32px;\n",
       "  }\n",
       "\n",
       "  .colab-df-quickchart:hover {\n",
       "    background-color: #E2EBFA;\n",
       "    box-shadow: 0px 1px 2px rgba(60, 64, 67, 0.3), 0px 1px 3px 1px rgba(60, 64, 67, 0.15);\n",
       "    fill: #174EA6;\n",
       "  }\n",
       "\n",
       "  [theme=dark] .colab-df-quickchart {\n",
       "    background-color: #3B4455;\n",
       "    fill: #D2E3FC;\n",
       "  }\n",
       "\n",
       "  [theme=dark] .colab-df-quickchart:hover {\n",
       "    background-color: #434B5C;\n",
       "    box-shadow: 0px 1px 3px 1px rgba(0, 0, 0, 0.15);\n",
       "    filter: drop-shadow(0px 1px 2px rgba(0, 0, 0, 0.3));\n",
       "    fill: #FFFFFF;\n",
       "  }\n",
       "</style>\n",
       "\n",
       "    <script>\n",
       "      async function quickchart(key) {\n",
       "        const containerElement = document.querySelector('#' + key);\n",
       "        const charts = await google.colab.kernel.invokeFunction(\n",
       "            'suggestCharts', [key], {});\n",
       "      }\n",
       "    </script>\n",
       "\n",
       "      <script>\n",
       "\n",
       "function displayQuickchartButton(domScope) {\n",
       "  let quickchartButtonEl =\n",
       "    domScope.querySelector('#df-f9ba71ad-3fb7-43fa-921f-f00082dd2b44 button.colab-df-quickchart');\n",
       "  quickchartButtonEl.style.display =\n",
       "    google.colab.kernel.accessAllowed ? 'block' : 'none';\n",
       "}\n",
       "\n",
       "        displayQuickchartButton(document);\n",
       "      </script>\n",
       "      <style>\n",
       "    .colab-df-container {\n",
       "      display:flex;\n",
       "      flex-wrap:wrap;\n",
       "      gap: 12px;\n",
       "    }\n",
       "\n",
       "    .colab-df-convert {\n",
       "      background-color: #E8F0FE;\n",
       "      border: none;\n",
       "      border-radius: 50%;\n",
       "      cursor: pointer;\n",
       "      display: none;\n",
       "      fill: #1967D2;\n",
       "      height: 32px;\n",
       "      padding: 0 0 0 0;\n",
       "      width: 32px;\n",
       "    }\n",
       "\n",
       "    .colab-df-convert:hover {\n",
       "      background-color: #E2EBFA;\n",
       "      box-shadow: 0px 1px 2px rgba(60, 64, 67, 0.3), 0px 1px 3px 1px rgba(60, 64, 67, 0.15);\n",
       "      fill: #174EA6;\n",
       "    }\n",
       "\n",
       "    [theme=dark] .colab-df-convert {\n",
       "      background-color: #3B4455;\n",
       "      fill: #D2E3FC;\n",
       "    }\n",
       "\n",
       "    [theme=dark] .colab-df-convert:hover {\n",
       "      background-color: #434B5C;\n",
       "      box-shadow: 0px 1px 3px 1px rgba(0, 0, 0, 0.15);\n",
       "      filter: drop-shadow(0px 1px 2px rgba(0, 0, 0, 0.3));\n",
       "      fill: #FFFFFF;\n",
       "    }\n",
       "  </style>\n",
       "\n",
       "      <script>\n",
       "        const buttonEl =\n",
       "          document.querySelector('#df-cc874da8-7145-4fbb-8897-50f2abfc8e65 button.colab-df-convert');\n",
       "        buttonEl.style.display =\n",
       "          google.colab.kernel.accessAllowed ? 'block' : 'none';\n",
       "\n",
       "        async function convertToInteractive(key) {\n",
       "          const element = document.querySelector('#df-cc874da8-7145-4fbb-8897-50f2abfc8e65');\n",
       "          const dataTable =\n",
       "            await google.colab.kernel.invokeFunction('convertToInteractive',\n",
       "                                                     [key], {});\n",
       "          if (!dataTable) return;\n",
       "\n",
       "          const docLinkHtml = 'Like what you see? Visit the ' +\n",
       "            '<a target=\"_blank\" href=https://colab.research.google.com/notebooks/data_table.ipynb>data table notebook</a>'\n",
       "            + ' to learn more about interactive tables.';\n",
       "          element.innerHTML = '';\n",
       "          dataTable['output_type'] = 'display_data';\n",
       "          await google.colab.output.renderOutput(dataTable, element);\n",
       "          const docLink = document.createElement('div');\n",
       "          docLink.innerHTML = docLinkHtml;\n",
       "          element.appendChild(docLink);\n",
       "        }\n",
       "      </script>\n",
       "    </div>\n",
       "  </div>\n"
      ],
      "text/plain": [
       "                    Datetime             Tweet Id  \\\n",
       "0  2023-01-22 13:44:34+00:00  1617156270871699456   \n",
       "1  2023-01-22 13:44:39+00:00  1617156291046133761   \n",
       "2  2023-01-22 13:44:44+00:00  1617156308926349312   \n",
       "3  2023-01-22 13:44:49+00:00  1617156332297256961   \n",
       "4  2023-01-22 13:44:52+00:00  1617156345064570880   \n",
       "\n",
       "                                                Text         Username  \\\n",
       "0  ChatGPTで遊ぶの忘れてた！！\\n書類作るコード書いてみてほしいのと、\\nどこまで思考整...      mochico0123   \n",
       "1  @AlexandrovnaIng Prohibition of ChatGPT has be...  Caput_LupinumSG   \n",
       "2  Schaut Euch an, was @fobizz @DianaKnodel alles...            ciffi   \n",
       "3  Bow down to chatGPT 🫡..... https://t.co/ENTSzi...    Vishwasrisiri   \n",
       "4  Profilinde vatan, Türkiye falan yazan bireyler...   0xGenetikciniz   \n",
       "\n",
       "                                           Permalink  \\\n",
       "0  https://twitter.com/mochico0123/status/1617156...   \n",
       "1  https://twitter.com/Caput_LupinumSG/status/161...   \n",
       "2  https://twitter.com/ciffi/status/1617156308926...   \n",
       "3  https://twitter.com/Vishwasrisiri/status/16171...   \n",
       "4  https://twitter.com/0xGenetikciniz/status/1617...   \n",
       "\n",
       "                                  User  \\\n",
       "0      https://twitter.com/mochico0123   \n",
       "1  https://twitter.com/Caput_LupinumSG   \n",
       "2            https://twitter.com/ciffi   \n",
       "3    https://twitter.com/Vishwasrisiri   \n",
       "4   https://twitter.com/0xGenetikciniz   \n",
       "\n",
       "                                            Outlinks  \\\n",
       "0                                                NaN   \n",
       "1                                                NaN   \n",
       "2  ['https://us02web.zoom.us/webinar/register/801...   \n",
       "3  ['https://twitter.com/agadmator/status/1617155...   \n",
       "4                                                NaN   \n",
       "\n",
       "                                          CountLinks  ReplyCount  \\\n",
       "0                                                NaN         1.0   \n",
       "1                                                NaN         1.0   \n",
       "2  ['https://t.co/DsoeVJrPBp', 'https://t.co/HflT...         0.0   \n",
       "3                        ['https://t.co/ENTSzi2AQ9']         0.0   \n",
       "4                                                NaN         0.0   \n",
       "\n",
       "   RetweetCount  LikeCount  QuoteCount  ConversationId Language  \\\n",
       "0           0.0        5.0         0.0    1.617156e+18       ja   \n",
       "1           0.0        5.0         0.0    1.617149e+18       en   \n",
       "2           0.0        4.0         0.0    1.617156e+18       de   \n",
       "3           0.0        2.0         0.0    1.617156e+18       en   \n",
       "4           0.0        4.0         0.0    1.617156e+18       tr   \n",
       "\n",
       "                                              Source  \\\n",
       "0  <a href=\"http://twitter.com/download/iphone\" r...   \n",
       "1  <a href=\"http://twitter.com/download/iphone\" r...   \n",
       "2  <a href=\"http://twitter.com/#!/download/ipad\" ...   \n",
       "3  <a href=\"http://twitter.com/download/android\" ...   \n",
       "4  <a href=\"http://twitter.com/download/iphone\" r...   \n",
       "\n",
       "                                               Media  \\\n",
       "0                                                NaN   \n",
       "1                                                NaN   \n",
       "2  [Photo(previewUrl='https://pbs.twimg.com/media...   \n",
       "3                                                NaN   \n",
       "4                                                NaN   \n",
       "\n",
       "                                         QuotedTweet  \\\n",
       "0                                                NaN   \n",
       "1                                                NaN   \n",
       "2  https://twitter.com/DianaKnodel/status/1617153...   \n",
       "3  https://twitter.com/agadmator/status/161715501...   \n",
       "4                                                NaN   \n",
       "\n",
       "                                      MentionedUsers       hashtag  \\\n",
       "0                                                NaN            []   \n",
       "1  [User(username='AlexandrovnaIng', id=282705900...            []   \n",
       "2  [User(username='fobizz', id=884708145792253952...  ['#ChatGPT']   \n",
       "3                                                NaN            []   \n",
       "4                                                NaN            []   \n",
       "\n",
       "   hastag_counts  \n",
       "0            0.0  \n",
       "1            0.0  \n",
       "2            1.0  \n",
       "3            0.0  \n",
       "4            0.0  "
      ]
     },
     "execution_count": 7,
     "metadata": {},
     "output_type": "execute_result"
    }
   ],
   "source": [
    "df.head()"
   ]
  },
  {
   "cell_type": "code",
   "execution_count": 8,
   "id": "f61d398f",
   "metadata": {
    "colab": {
     "base_uri": "https://localhost:8080/",
     "height": 652
    },
    "id": "f61d398f",
    "outputId": "eb40d2f5-259b-481b-94cc-8931f22a8010"
   },
   "outputs": [
    {
     "data": {
      "text/html": [
       "\n",
       "\n",
       "  <div id=\"df-72789f26-4147-49eb-a3a8-bd4e5dcc49f3\">\n",
       "    <div class=\"colab-df-container\">\n",
       "      <div>\n",
       "<style scoped>\n",
       "    .dataframe tbody tr th:only-of-type {\n",
       "        vertical-align: middle;\n",
       "    }\n",
       "\n",
       "    .dataframe tbody tr th {\n",
       "        vertical-align: top;\n",
       "    }\n",
       "\n",
       "    .dataframe thead th {\n",
       "        text-align: right;\n",
       "    }\n",
       "</style>\n",
       "<table border=\"1\" class=\"dataframe\">\n",
       "  <thead>\n",
       "    <tr style=\"text-align: right;\">\n",
       "      <th></th>\n",
       "      <th>Datetime</th>\n",
       "      <th>Tweet Id</th>\n",
       "      <th>Text</th>\n",
       "      <th>Username</th>\n",
       "      <th>Permalink</th>\n",
       "      <th>User</th>\n",
       "      <th>Outlinks</th>\n",
       "      <th>CountLinks</th>\n",
       "      <th>ReplyCount</th>\n",
       "      <th>RetweetCount</th>\n",
       "      <th>LikeCount</th>\n",
       "      <th>QuoteCount</th>\n",
       "      <th>ConversationId</th>\n",
       "      <th>Language</th>\n",
       "      <th>Source</th>\n",
       "      <th>Media</th>\n",
       "      <th>QuotedTweet</th>\n",
       "      <th>MentionedUsers</th>\n",
       "      <th>hashtag</th>\n",
       "      <th>hastag_counts</th>\n",
       "    </tr>\n",
       "  </thead>\n",
       "  <tbody>\n",
       "    <tr>\n",
       "      <th>2844</th>\n",
       "      <td>2023-01-22 16:17:01+00:00</td>\n",
       "      <td>1617194634765008899</td>\n",
       "      <td>It's fun to watch ChatGPT get simple history q...</td>\n",
       "      <td>pardon_mi</td>\n",
       "      <td>https://twitter.com/pardon_mi/status/161719463...</td>\n",
       "      <td>https://twitter.com/pardon_mi</td>\n",
       "      <td>NaN</td>\n",
       "      <td>NaN</td>\n",
       "      <td>3.0</td>\n",
       "      <td>13.0</td>\n",
       "      <td>93.0</td>\n",
       "      <td>2.0</td>\n",
       "      <td>1.617195e+18</td>\n",
       "      <td>en</td>\n",
       "      <td>&lt;a href=\"http://twitter.com/download/android\" ...</td>\n",
       "      <td>NaN</td>\n",
       "      <td>NaN</td>\n",
       "      <td>NaN</td>\n",
       "      <td>[]</td>\n",
       "      <td>0.0</td>\n",
       "    </tr>\n",
       "    <tr>\n",
       "      <th>2845</th>\n",
       "      <td>2023-01-22 16:17:07+00:00</td>\n",
       "      <td>1617194660304125954</td>\n",
       "      <td>@bennibaehr Je nachdem wie häufig ich davon ab...</td>\n",
       "      <td>xSakros</td>\n",
       "      <td>https://twitter.com/xSakros/status/16171946603...</td>\n",
       "      <td>https://twitter.com/xSakros</td>\n",
       "      <td>NaN</td>\n",
       "      <td>NaN</td>\n",
       "      <td>0.0</td>\n",
       "      <td>0.0</td>\n",
       "      <td>0.0</td>\n",
       "      <td>0.0</td>\n",
       "      <td>1.616886e+18</td>\n",
       "      <td>de</td>\n",
       "      <td>&lt;a href=\"https://mobile.twitter.com\" rel=\"nofo...</td>\n",
       "      <td>NaN</td>\n",
       "      <td>NaN</td>\n",
       "      <td>[User(username='bennibaehr', id=116497984, dis...</td>\n",
       "      <td>[]</td>\n",
       "      <td>0.0</td>\n",
       "    </tr>\n",
       "    <tr>\n",
       "      <th>2846</th>\n",
       "      <td>2023-01-22 16:17:07+00:00</td>\n",
       "      <td>1617194658836393985</td>\n",
       "      <td>ChatGPTの有料プランを検討しようとアクセスしたら，ChatGPT is at capa...</td>\n",
       "      <td>igakunomichi</td>\n",
       "      <td>https://twitter.com/igakunomichi/status/161719...</td>\n",
       "      <td>https://twitter.com/igakunomichi</td>\n",
       "      <td>NaN</td>\n",
       "      <td>NaN</td>\n",
       "      <td>0.0</td>\n",
       "      <td>0.0</td>\n",
       "      <td>0.0</td>\n",
       "      <td>0.0</td>\n",
       "      <td>1.617195e+18</td>\n",
       "      <td>ja</td>\n",
       "      <td>&lt;a href=\"http://twitter.com/#!/download/ipad\" ...</td>\n",
       "      <td>NaN</td>\n",
       "      <td>NaN</td>\n",
       "      <td>NaN</td>\n",
       "      <td>[]</td>\n",
       "      <td>0.0</td>\n",
       "    </tr>\n",
       "    <tr>\n",
       "      <th>2847</th>\n",
       "      <td>2023-01-22 16:17:15+00:00</td>\n",
       "      <td>1617194694542528513</td>\n",
       "      <td>@y2m4k7 CHATGPTっていうツール　文章系ならなんでもプログラミングもHTMLもス...</td>\n",
       "      <td>sakuraba_yuri</td>\n",
       "      <td>https://twitter.com/sakuraba_yuri/status/16171...</td>\n",
       "      <td>https://twitter.com/sakuraba_yuri</td>\n",
       "      <td>NaN</td>\n",
       "      <td>NaN</td>\n",
       "      <td>1.0</td>\n",
       "      <td>0.0</td>\n",
       "      <td>0.0</td>\n",
       "      <td>0.0</td>\n",
       "      <td>1.617132e+18</td>\n",
       "      <td>ja</td>\n",
       "      <td>&lt;a href=\"https://mobile.twitter.com\" rel=\"nofo...</td>\n",
       "      <td>NaN</td>\n",
       "      <td>NaN</td>\n",
       "      <td>[User(username='y2m4k7', id=2583096188, displa...</td>\n",
       "      <td>[]</td>\n",
       "      <td>0.0</td>\n",
       "    </tr>\n",
       "    <tr>\n",
       "      <th>2848</th>\n",
       "      <td>2023-01-22 16:17:21+00:00</td>\n",
       "      <td>1617194717816492037</td>\n",
       "      <td>OpenAI está trabalhando em um ritmo mais lento...</td>\n",
       "      <td>NaN</td>\n",
       "      <td>NaN</td>\n",
       "      <td>NaN</td>\n",
       "      <td>NaN</td>\n",
       "      <td>NaN</td>\n",
       "      <td>NaN</td>\n",
       "      <td>NaN</td>\n",
       "      <td>NaN</td>\n",
       "      <td>NaN</td>\n",
       "      <td>NaN</td>\n",
       "      <td>NaN</td>\n",
       "      <td>NaN</td>\n",
       "      <td>NaN</td>\n",
       "      <td>NaN</td>\n",
       "      <td>NaN</td>\n",
       "      <td>NaN</td>\n",
       "      <td>NaN</td>\n",
       "    </tr>\n",
       "  </tbody>\n",
       "</table>\n",
       "</div>\n",
       "      <button class=\"colab-df-convert\" onclick=\"convertToInteractive('df-72789f26-4147-49eb-a3a8-bd4e5dcc49f3')\"\n",
       "              title=\"Convert this dataframe to an interactive table.\"\n",
       "              style=\"display:none;\">\n",
       "\n",
       "  <svg xmlns=\"http://www.w3.org/2000/svg\" height=\"24px\"viewBox=\"0 0 24 24\"\n",
       "       width=\"24px\">\n",
       "    <path d=\"M0 0h24v24H0V0z\" fill=\"none\"/>\n",
       "    <path d=\"M18.56 5.44l.94 2.06.94-2.06 2.06-.94-2.06-.94-.94-2.06-.94 2.06-2.06.94zm-11 1L8.5 8.5l.94-2.06 2.06-.94-2.06-.94L8.5 2.5l-.94 2.06-2.06.94zm10 10l.94 2.06.94-2.06 2.06-.94-2.06-.94-.94-2.06-.94 2.06-2.06.94z\"/><path d=\"M17.41 7.96l-1.37-1.37c-.4-.4-.92-.59-1.43-.59-.52 0-1.04.2-1.43.59L10.3 9.45l-7.72 7.72c-.78.78-.78 2.05 0 2.83L4 21.41c.39.39.9.59 1.41.59.51 0 1.02-.2 1.41-.59l7.78-7.78 2.81-2.81c.8-.78.8-2.07 0-2.86zM5.41 20L4 18.59l7.72-7.72 1.47 1.35L5.41 20z\"/>\n",
       "  </svg>\n",
       "      </button>\n",
       "\n",
       "\n",
       "\n",
       "    <div id=\"df-a2389ac4-8c04-4bee-a886-79542c790159\">\n",
       "      <button class=\"colab-df-quickchart\" onclick=\"quickchart('df-a2389ac4-8c04-4bee-a886-79542c790159')\"\n",
       "              title=\"Suggest charts.\"\n",
       "              style=\"display:none;\">\n",
       "\n",
       "<svg xmlns=\"http://www.w3.org/2000/svg\" height=\"24px\"viewBox=\"0 0 24 24\"\n",
       "     width=\"24px\">\n",
       "    <g>\n",
       "        <path d=\"M19 3H5c-1.1 0-2 .9-2 2v14c0 1.1.9 2 2 2h14c1.1 0 2-.9 2-2V5c0-1.1-.9-2-2-2zM9 17H7v-7h2v7zm4 0h-2V7h2v10zm4 0h-2v-4h2v4z\"/>\n",
       "    </g>\n",
       "</svg>\n",
       "      </button>\n",
       "    </div>\n",
       "\n",
       "<style>\n",
       "  .colab-df-quickchart {\n",
       "    background-color: #E8F0FE;\n",
       "    border: none;\n",
       "    border-radius: 50%;\n",
       "    cursor: pointer;\n",
       "    display: none;\n",
       "    fill: #1967D2;\n",
       "    height: 32px;\n",
       "    padding: 0 0 0 0;\n",
       "    width: 32px;\n",
       "  }\n",
       "\n",
       "  .colab-df-quickchart:hover {\n",
       "    background-color: #E2EBFA;\n",
       "    box-shadow: 0px 1px 2px rgba(60, 64, 67, 0.3), 0px 1px 3px 1px rgba(60, 64, 67, 0.15);\n",
       "    fill: #174EA6;\n",
       "  }\n",
       "\n",
       "  [theme=dark] .colab-df-quickchart {\n",
       "    background-color: #3B4455;\n",
       "    fill: #D2E3FC;\n",
       "  }\n",
       "\n",
       "  [theme=dark] .colab-df-quickchart:hover {\n",
       "    background-color: #434B5C;\n",
       "    box-shadow: 0px 1px 3px 1px rgba(0, 0, 0, 0.15);\n",
       "    filter: drop-shadow(0px 1px 2px rgba(0, 0, 0, 0.3));\n",
       "    fill: #FFFFFF;\n",
       "  }\n",
       "</style>\n",
       "\n",
       "    <script>\n",
       "      async function quickchart(key) {\n",
       "        const containerElement = document.querySelector('#' + key);\n",
       "        const charts = await google.colab.kernel.invokeFunction(\n",
       "            'suggestCharts', [key], {});\n",
       "      }\n",
       "    </script>\n",
       "\n",
       "      <script>\n",
       "\n",
       "function displayQuickchartButton(domScope) {\n",
       "  let quickchartButtonEl =\n",
       "    domScope.querySelector('#df-a2389ac4-8c04-4bee-a886-79542c790159 button.colab-df-quickchart');\n",
       "  quickchartButtonEl.style.display =\n",
       "    google.colab.kernel.accessAllowed ? 'block' : 'none';\n",
       "}\n",
       "\n",
       "        displayQuickchartButton(document);\n",
       "      </script>\n",
       "      <style>\n",
       "    .colab-df-container {\n",
       "      display:flex;\n",
       "      flex-wrap:wrap;\n",
       "      gap: 12px;\n",
       "    }\n",
       "\n",
       "    .colab-df-convert {\n",
       "      background-color: #E8F0FE;\n",
       "      border: none;\n",
       "      border-radius: 50%;\n",
       "      cursor: pointer;\n",
       "      display: none;\n",
       "      fill: #1967D2;\n",
       "      height: 32px;\n",
       "      padding: 0 0 0 0;\n",
       "      width: 32px;\n",
       "    }\n",
       "\n",
       "    .colab-df-convert:hover {\n",
       "      background-color: #E2EBFA;\n",
       "      box-shadow: 0px 1px 2px rgba(60, 64, 67, 0.3), 0px 1px 3px 1px rgba(60, 64, 67, 0.15);\n",
       "      fill: #174EA6;\n",
       "    }\n",
       "\n",
       "    [theme=dark] .colab-df-convert {\n",
       "      background-color: #3B4455;\n",
       "      fill: #D2E3FC;\n",
       "    }\n",
       "\n",
       "    [theme=dark] .colab-df-convert:hover {\n",
       "      background-color: #434B5C;\n",
       "      box-shadow: 0px 1px 3px 1px rgba(0, 0, 0, 0.15);\n",
       "      filter: drop-shadow(0px 1px 2px rgba(0, 0, 0, 0.3));\n",
       "      fill: #FFFFFF;\n",
       "    }\n",
       "  </style>\n",
       "\n",
       "      <script>\n",
       "        const buttonEl =\n",
       "          document.querySelector('#df-72789f26-4147-49eb-a3a8-bd4e5dcc49f3 button.colab-df-convert');\n",
       "        buttonEl.style.display =\n",
       "          google.colab.kernel.accessAllowed ? 'block' : 'none';\n",
       "\n",
       "        async function convertToInteractive(key) {\n",
       "          const element = document.querySelector('#df-72789f26-4147-49eb-a3a8-bd4e5dcc49f3');\n",
       "          const dataTable =\n",
       "            await google.colab.kernel.invokeFunction('convertToInteractive',\n",
       "                                                     [key], {});\n",
       "          if (!dataTable) return;\n",
       "\n",
       "          const docLinkHtml = 'Like what you see? Visit the ' +\n",
       "            '<a target=\"_blank\" href=https://colab.research.google.com/notebooks/data_table.ipynb>data table notebook</a>'\n",
       "            + ' to learn more about interactive tables.';\n",
       "          element.innerHTML = '';\n",
       "          dataTable['output_type'] = 'display_data';\n",
       "          await google.colab.output.renderOutput(dataTable, element);\n",
       "          const docLink = document.createElement('div');\n",
       "          docLink.innerHTML = docLinkHtml;\n",
       "          element.appendChild(docLink);\n",
       "        }\n",
       "      </script>\n",
       "    </div>\n",
       "  </div>\n"
      ],
      "text/plain": [
       "                       Datetime             Tweet Id  \\\n",
       "2844  2023-01-22 16:17:01+00:00  1617194634765008899   \n",
       "2845  2023-01-22 16:17:07+00:00  1617194660304125954   \n",
       "2846  2023-01-22 16:17:07+00:00  1617194658836393985   \n",
       "2847  2023-01-22 16:17:15+00:00  1617194694542528513   \n",
       "2848  2023-01-22 16:17:21+00:00  1617194717816492037   \n",
       "\n",
       "                                                   Text       Username  \\\n",
       "2844  It's fun to watch ChatGPT get simple history q...      pardon_mi   \n",
       "2845  @bennibaehr Je nachdem wie häufig ich davon ab...        xSakros   \n",
       "2846  ChatGPTの有料プランを検討しようとアクセスしたら，ChatGPT is at capa...   igakunomichi   \n",
       "2847  @y2m4k7 CHATGPTっていうツール　文章系ならなんでもプログラミングもHTMLもス...  sakuraba_yuri   \n",
       "2848  OpenAI está trabalhando em um ritmo mais lento...            NaN   \n",
       "\n",
       "                                              Permalink  \\\n",
       "2844  https://twitter.com/pardon_mi/status/161719463...   \n",
       "2845  https://twitter.com/xSakros/status/16171946603...   \n",
       "2846  https://twitter.com/igakunomichi/status/161719...   \n",
       "2847  https://twitter.com/sakuraba_yuri/status/16171...   \n",
       "2848                                                NaN   \n",
       "\n",
       "                                   User Outlinks CountLinks  ReplyCount  \\\n",
       "2844      https://twitter.com/pardon_mi      NaN        NaN         3.0   \n",
       "2845        https://twitter.com/xSakros      NaN        NaN         0.0   \n",
       "2846   https://twitter.com/igakunomichi      NaN        NaN         0.0   \n",
       "2847  https://twitter.com/sakuraba_yuri      NaN        NaN         1.0   \n",
       "2848                                NaN      NaN        NaN         NaN   \n",
       "\n",
       "      RetweetCount  LikeCount  QuoteCount  ConversationId Language  \\\n",
       "2844          13.0       93.0         2.0    1.617195e+18       en   \n",
       "2845           0.0        0.0         0.0    1.616886e+18       de   \n",
       "2846           0.0        0.0         0.0    1.617195e+18       ja   \n",
       "2847           0.0        0.0         0.0    1.617132e+18       ja   \n",
       "2848           NaN        NaN         NaN             NaN      NaN   \n",
       "\n",
       "                                                 Source Media QuotedTweet  \\\n",
       "2844  <a href=\"http://twitter.com/download/android\" ...   NaN         NaN   \n",
       "2845  <a href=\"https://mobile.twitter.com\" rel=\"nofo...   NaN         NaN   \n",
       "2846  <a href=\"http://twitter.com/#!/download/ipad\" ...   NaN         NaN   \n",
       "2847  <a href=\"https://mobile.twitter.com\" rel=\"nofo...   NaN         NaN   \n",
       "2848                                                NaN   NaN         NaN   \n",
       "\n",
       "                                         MentionedUsers hashtag  hastag_counts  \n",
       "2844                                                NaN      []            0.0  \n",
       "2845  [User(username='bennibaehr', id=116497984, dis...      []            0.0  \n",
       "2846                                                NaN      []            0.0  \n",
       "2847  [User(username='y2m4k7', id=2583096188, displa...      []            0.0  \n",
       "2848                                                NaN     NaN            NaN  "
      ]
     },
     "execution_count": 8,
     "metadata": {},
     "output_type": "execute_result"
    }
   ],
   "source": [
    "df.tail()"
   ]
  },
  {
   "cell_type": "code",
   "execution_count": 9,
   "id": "9b943a08",
   "metadata": {
    "colab": {
     "base_uri": "https://localhost:8080/"
    },
    "id": "9b943a08",
    "outputId": "df29a402-4134-41f8-8380-4437dd3f59a4"
   },
   "outputs": [
    {
     "data": {
      "text/plain": [
       "Index(['Datetime', 'Tweet Id', 'Text', 'Username', 'Permalink', 'User',\n",
       "       'Outlinks', 'CountLinks', 'ReplyCount', 'RetweetCount', 'LikeCount',\n",
       "       'QuoteCount', 'ConversationId', 'Language', 'Source', 'Media',\n",
       "       'QuotedTweet', 'MentionedUsers', 'hashtag', 'hastag_counts'],\n",
       "      dtype='object')"
      ]
     },
     "execution_count": 9,
     "metadata": {},
     "output_type": "execute_result"
    }
   ],
   "source": [
    "df.columns"
   ]
  },
  {
   "cell_type": "code",
   "execution_count": 10,
   "id": "0faf7e93",
   "metadata": {
    "colab": {
     "base_uri": "https://localhost:8080/"
    },
    "id": "0faf7e93",
    "outputId": "e44cf6ab-1623-4d49-8283-9c9fbad223f3"
   },
   "outputs": [
    {
     "data": {
      "text/plain": [
       "(2849, 20)"
      ]
     },
     "execution_count": 10,
     "metadata": {},
     "output_type": "execute_result"
    }
   ],
   "source": [
    "df.shape"
   ]
  },
  {
   "cell_type": "code",
   "execution_count": 11,
   "id": "9e99aaa5",
   "metadata": {
    "colab": {
     "base_uri": "https://localhost:8080/"
    },
    "id": "9e99aaa5",
    "outputId": "5adb3fec-088d-4103-af85-66f2d1d24114"
   },
   "outputs": [
    {
     "data": {
      "text/plain": [
       "0"
      ]
     },
     "execution_count": 11,
     "metadata": {},
     "output_type": "execute_result"
    }
   ],
   "source": [
    "df.duplicated().sum()"
   ]
  },
  {
   "cell_type": "code",
   "execution_count": 12,
   "id": "bcb06992",
   "metadata": {
    "colab": {
     "base_uri": "https://localhost:8080/"
    },
    "id": "bcb06992",
    "outputId": "c9419f22-9e96-447a-c8e7-350aa35cb48e"
   },
   "outputs": [
    {
     "data": {
      "text/plain": [
       "Datetime             0\n",
       "Tweet Id             0\n",
       "Text                 0\n",
       "Username             1\n",
       "Permalink            1\n",
       "User                 1\n",
       "Outlinks          1834\n",
       "CountLinks        1834\n",
       "ReplyCount           1\n",
       "RetweetCount         1\n",
       "LikeCount            1\n",
       "QuoteCount           1\n",
       "ConversationId       1\n",
       "Language             1\n",
       "Source               1\n",
       "Media             2277\n",
       "QuotedTweet       2647\n",
       "MentionedUsers    1878\n",
       "hashtag              1\n",
       "hastag_counts        1\n",
       "dtype: int64"
      ]
     },
     "execution_count": 12,
     "metadata": {},
     "output_type": "execute_result"
    }
   ],
   "source": [
    "df.isnull().sum()"
   ]
  },
  {
   "cell_type": "code",
   "execution_count": 13,
   "id": "7ae28123",
   "metadata": {
    "colab": {
     "base_uri": "https://localhost:8080/"
    },
    "id": "7ae28123",
    "outputId": "7d4dc63a-4798-40af-cf44-110367df73de"
   },
   "outputs": [
    {
     "name": "stdout",
     "output_type": "stream",
     "text": [
      "<class 'pandas.core.frame.DataFrame'>\n",
      "RangeIndex: 2849 entries, 0 to 2848\n",
      "Data columns (total 20 columns):\n",
      " #   Column          Non-Null Count  Dtype  \n",
      "---  ------          --------------  -----  \n",
      " 0   Datetime        2849 non-null   object \n",
      " 1   Tweet Id        2849 non-null   int64  \n",
      " 2   Text            2849 non-null   object \n",
      " 3   Username        2848 non-null   object \n",
      " 4   Permalink       2848 non-null   object \n",
      " 5   User            2848 non-null   object \n",
      " 6   Outlinks        1015 non-null   object \n",
      " 7   CountLinks      1015 non-null   object \n",
      " 8   ReplyCount      2848 non-null   float64\n",
      " 9   RetweetCount    2848 non-null   float64\n",
      " 10  LikeCount       2848 non-null   float64\n",
      " 11  QuoteCount      2848 non-null   float64\n",
      " 12  ConversationId  2848 non-null   float64\n",
      " 13  Language        2848 non-null   object \n",
      " 14  Source          2848 non-null   object \n",
      " 15  Media           572 non-null    object \n",
      " 16  QuotedTweet     202 non-null    object \n",
      " 17  MentionedUsers  971 non-null    object \n",
      " 18  hashtag         2848 non-null   object \n",
      " 19  hastag_counts   2848 non-null   float64\n",
      "dtypes: float64(6), int64(1), object(13)\n",
      "memory usage: 445.3+ KB\n"
     ]
    }
   ],
   "source": [
    "df.info()"
   ]
  },
  {
   "cell_type": "code",
   "execution_count": 14,
   "id": "8580b471",
   "metadata": {
    "colab": {
     "base_uri": "https://localhost:8080/",
     "height": 300
    },
    "id": "8580b471",
    "outputId": "77db0a3a-b3d4-4088-bc12-eb7b9cf32cc2"
   },
   "outputs": [
    {
     "data": {
      "text/html": [
       "\n",
       "\n",
       "  <div id=\"df-4717a713-5a2b-4860-a99e-dc99a848ae82\">\n",
       "    <div class=\"colab-df-container\">\n",
       "      <div>\n",
       "<style scoped>\n",
       "    .dataframe tbody tr th:only-of-type {\n",
       "        vertical-align: middle;\n",
       "    }\n",
       "\n",
       "    .dataframe tbody tr th {\n",
       "        vertical-align: top;\n",
       "    }\n",
       "\n",
       "    .dataframe thead th {\n",
       "        text-align: right;\n",
       "    }\n",
       "</style>\n",
       "<table border=\"1\" class=\"dataframe\">\n",
       "  <thead>\n",
       "    <tr style=\"text-align: right;\">\n",
       "      <th></th>\n",
       "      <th>Tweet Id</th>\n",
       "      <th>ReplyCount</th>\n",
       "      <th>RetweetCount</th>\n",
       "      <th>LikeCount</th>\n",
       "      <th>QuoteCount</th>\n",
       "      <th>ConversationId</th>\n",
       "      <th>hastag_counts</th>\n",
       "    </tr>\n",
       "  </thead>\n",
       "  <tbody>\n",
       "    <tr>\n",
       "      <th>count</th>\n",
       "      <td>2.849000e+03</td>\n",
       "      <td>2848.000000</td>\n",
       "      <td>2848.000000</td>\n",
       "      <td>2848.000000</td>\n",
       "      <td>2848.000000</td>\n",
       "      <td>2.848000e+03</td>\n",
       "      <td>2848.000000</td>\n",
       "    </tr>\n",
       "    <tr>\n",
       "      <th>mean</th>\n",
       "      <td>1.617176e+18</td>\n",
       "      <td>2.600772</td>\n",
       "      <td>3.955056</td>\n",
       "      <td>33.018258</td>\n",
       "      <td>0.853581</td>\n",
       "      <td>1.616440e+18</td>\n",
       "      <td>0.724368</td>\n",
       "    </tr>\n",
       "    <tr>\n",
       "      <th>std</th>\n",
       "      <td>1.100449e+13</td>\n",
       "      <td>64.439850</td>\n",
       "      <td>130.116343</td>\n",
       "      <td>1073.430748</td>\n",
       "      <td>36.557426</td>\n",
       "      <td>1.913481e+16</td>\n",
       "      <td>1.755180</td>\n",
       "    </tr>\n",
       "    <tr>\n",
       "      <th>min</th>\n",
       "      <td>1.617156e+18</td>\n",
       "      <td>0.000000</td>\n",
       "      <td>0.000000</td>\n",
       "      <td>0.000000</td>\n",
       "      <td>0.000000</td>\n",
       "      <td>7.115537e+17</td>\n",
       "      <td>0.000000</td>\n",
       "    </tr>\n",
       "    <tr>\n",
       "      <th>25%</th>\n",
       "      <td>1.617166e+18</td>\n",
       "      <td>0.000000</td>\n",
       "      <td>0.000000</td>\n",
       "      <td>0.000000</td>\n",
       "      <td>0.000000</td>\n",
       "      <td>1.617159e+18</td>\n",
       "      <td>0.000000</td>\n",
       "    </tr>\n",
       "    <tr>\n",
       "      <th>50%</th>\n",
       "      <td>1.617175e+18</td>\n",
       "      <td>0.000000</td>\n",
       "      <td>0.000000</td>\n",
       "      <td>0.000000</td>\n",
       "      <td>0.000000</td>\n",
       "      <td>1.617170e+18</td>\n",
       "      <td>0.000000</td>\n",
       "    </tr>\n",
       "    <tr>\n",
       "      <th>75%</th>\n",
       "      <td>1.617185e+18</td>\n",
       "      <td>1.000000</td>\n",
       "      <td>0.000000</td>\n",
       "      <td>2.000000</td>\n",
       "      <td>0.000000</td>\n",
       "      <td>1.617182e+18</td>\n",
       "      <td>1.000000</td>\n",
       "    </tr>\n",
       "    <tr>\n",
       "      <th>max</th>\n",
       "      <td>1.617195e+18</td>\n",
       "      <td>3098.000000</td>\n",
       "      <td>6815.000000</td>\n",
       "      <td>56073.000000</td>\n",
       "      <td>1947.000000</td>\n",
       "      <td>1.617195e+18</td>\n",
       "      <td>23.000000</td>\n",
       "    </tr>\n",
       "  </tbody>\n",
       "</table>\n",
       "</div>\n",
       "      <button class=\"colab-df-convert\" onclick=\"convertToInteractive('df-4717a713-5a2b-4860-a99e-dc99a848ae82')\"\n",
       "              title=\"Convert this dataframe to an interactive table.\"\n",
       "              style=\"display:none;\">\n",
       "\n",
       "  <svg xmlns=\"http://www.w3.org/2000/svg\" height=\"24px\"viewBox=\"0 0 24 24\"\n",
       "       width=\"24px\">\n",
       "    <path d=\"M0 0h24v24H0V0z\" fill=\"none\"/>\n",
       "    <path d=\"M18.56 5.44l.94 2.06.94-2.06 2.06-.94-2.06-.94-.94-2.06-.94 2.06-2.06.94zm-11 1L8.5 8.5l.94-2.06 2.06-.94-2.06-.94L8.5 2.5l-.94 2.06-2.06.94zm10 10l.94 2.06.94-2.06 2.06-.94-2.06-.94-.94-2.06-.94 2.06-2.06.94z\"/><path d=\"M17.41 7.96l-1.37-1.37c-.4-.4-.92-.59-1.43-.59-.52 0-1.04.2-1.43.59L10.3 9.45l-7.72 7.72c-.78.78-.78 2.05 0 2.83L4 21.41c.39.39.9.59 1.41.59.51 0 1.02-.2 1.41-.59l7.78-7.78 2.81-2.81c.8-.78.8-2.07 0-2.86zM5.41 20L4 18.59l7.72-7.72 1.47 1.35L5.41 20z\"/>\n",
       "  </svg>\n",
       "      </button>\n",
       "\n",
       "\n",
       "\n",
       "    <div id=\"df-83a83214-c8fb-44f3-9406-7eb760ea1362\">\n",
       "      <button class=\"colab-df-quickchart\" onclick=\"quickchart('df-83a83214-c8fb-44f3-9406-7eb760ea1362')\"\n",
       "              title=\"Suggest charts.\"\n",
       "              style=\"display:none;\">\n",
       "\n",
       "<svg xmlns=\"http://www.w3.org/2000/svg\" height=\"24px\"viewBox=\"0 0 24 24\"\n",
       "     width=\"24px\">\n",
       "    <g>\n",
       "        <path d=\"M19 3H5c-1.1 0-2 .9-2 2v14c0 1.1.9 2 2 2h14c1.1 0 2-.9 2-2V5c0-1.1-.9-2-2-2zM9 17H7v-7h2v7zm4 0h-2V7h2v10zm4 0h-2v-4h2v4z\"/>\n",
       "    </g>\n",
       "</svg>\n",
       "      </button>\n",
       "    </div>\n",
       "\n",
       "<style>\n",
       "  .colab-df-quickchart {\n",
       "    background-color: #E8F0FE;\n",
       "    border: none;\n",
       "    border-radius: 50%;\n",
       "    cursor: pointer;\n",
       "    display: none;\n",
       "    fill: #1967D2;\n",
       "    height: 32px;\n",
       "    padding: 0 0 0 0;\n",
       "    width: 32px;\n",
       "  }\n",
       "\n",
       "  .colab-df-quickchart:hover {\n",
       "    background-color: #E2EBFA;\n",
       "    box-shadow: 0px 1px 2px rgba(60, 64, 67, 0.3), 0px 1px 3px 1px rgba(60, 64, 67, 0.15);\n",
       "    fill: #174EA6;\n",
       "  }\n",
       "\n",
       "  [theme=dark] .colab-df-quickchart {\n",
       "    background-color: #3B4455;\n",
       "    fill: #D2E3FC;\n",
       "  }\n",
       "\n",
       "  [theme=dark] .colab-df-quickchart:hover {\n",
       "    background-color: #434B5C;\n",
       "    box-shadow: 0px 1px 3px 1px rgba(0, 0, 0, 0.15);\n",
       "    filter: drop-shadow(0px 1px 2px rgba(0, 0, 0, 0.3));\n",
       "    fill: #FFFFFF;\n",
       "  }\n",
       "</style>\n",
       "\n",
       "    <script>\n",
       "      async function quickchart(key) {\n",
       "        const containerElement = document.querySelector('#' + key);\n",
       "        const charts = await google.colab.kernel.invokeFunction(\n",
       "            'suggestCharts', [key], {});\n",
       "      }\n",
       "    </script>\n",
       "\n",
       "      <script>\n",
       "\n",
       "function displayQuickchartButton(domScope) {\n",
       "  let quickchartButtonEl =\n",
       "    domScope.querySelector('#df-83a83214-c8fb-44f3-9406-7eb760ea1362 button.colab-df-quickchart');\n",
       "  quickchartButtonEl.style.display =\n",
       "    google.colab.kernel.accessAllowed ? 'block' : 'none';\n",
       "}\n",
       "\n",
       "        displayQuickchartButton(document);\n",
       "      </script>\n",
       "      <style>\n",
       "    .colab-df-container {\n",
       "      display:flex;\n",
       "      flex-wrap:wrap;\n",
       "      gap: 12px;\n",
       "    }\n",
       "\n",
       "    .colab-df-convert {\n",
       "      background-color: #E8F0FE;\n",
       "      border: none;\n",
       "      border-radius: 50%;\n",
       "      cursor: pointer;\n",
       "      display: none;\n",
       "      fill: #1967D2;\n",
       "      height: 32px;\n",
       "      padding: 0 0 0 0;\n",
       "      width: 32px;\n",
       "    }\n",
       "\n",
       "    .colab-df-convert:hover {\n",
       "      background-color: #E2EBFA;\n",
       "      box-shadow: 0px 1px 2px rgba(60, 64, 67, 0.3), 0px 1px 3px 1px rgba(60, 64, 67, 0.15);\n",
       "      fill: #174EA6;\n",
       "    }\n",
       "\n",
       "    [theme=dark] .colab-df-convert {\n",
       "      background-color: #3B4455;\n",
       "      fill: #D2E3FC;\n",
       "    }\n",
       "\n",
       "    [theme=dark] .colab-df-convert:hover {\n",
       "      background-color: #434B5C;\n",
       "      box-shadow: 0px 1px 3px 1px rgba(0, 0, 0, 0.15);\n",
       "      filter: drop-shadow(0px 1px 2px rgba(0, 0, 0, 0.3));\n",
       "      fill: #FFFFFF;\n",
       "    }\n",
       "  </style>\n",
       "\n",
       "      <script>\n",
       "        const buttonEl =\n",
       "          document.querySelector('#df-4717a713-5a2b-4860-a99e-dc99a848ae82 button.colab-df-convert');\n",
       "        buttonEl.style.display =\n",
       "          google.colab.kernel.accessAllowed ? 'block' : 'none';\n",
       "\n",
       "        async function convertToInteractive(key) {\n",
       "          const element = document.querySelector('#df-4717a713-5a2b-4860-a99e-dc99a848ae82');\n",
       "          const dataTable =\n",
       "            await google.colab.kernel.invokeFunction('convertToInteractive',\n",
       "                                                     [key], {});\n",
       "          if (!dataTable) return;\n",
       "\n",
       "          const docLinkHtml = 'Like what you see? Visit the ' +\n",
       "            '<a target=\"_blank\" href=https://colab.research.google.com/notebooks/data_table.ipynb>data table notebook</a>'\n",
       "            + ' to learn more about interactive tables.';\n",
       "          element.innerHTML = '';\n",
       "          dataTable['output_type'] = 'display_data';\n",
       "          await google.colab.output.renderOutput(dataTable, element);\n",
       "          const docLink = document.createElement('div');\n",
       "          docLink.innerHTML = docLinkHtml;\n",
       "          element.appendChild(docLink);\n",
       "        }\n",
       "      </script>\n",
       "    </div>\n",
       "  </div>\n"
      ],
      "text/plain": [
       "           Tweet Id   ReplyCount  RetweetCount     LikeCount   QuoteCount  \\\n",
       "count  2.849000e+03  2848.000000   2848.000000   2848.000000  2848.000000   \n",
       "mean   1.617176e+18     2.600772      3.955056     33.018258     0.853581   \n",
       "std    1.100449e+13    64.439850    130.116343   1073.430748    36.557426   \n",
       "min    1.617156e+18     0.000000      0.000000      0.000000     0.000000   \n",
       "25%    1.617166e+18     0.000000      0.000000      0.000000     0.000000   \n",
       "50%    1.617175e+18     0.000000      0.000000      0.000000     0.000000   \n",
       "75%    1.617185e+18     1.000000      0.000000      2.000000     0.000000   \n",
       "max    1.617195e+18  3098.000000   6815.000000  56073.000000  1947.000000   \n",
       "\n",
       "       ConversationId  hastag_counts  \n",
       "count    2.848000e+03    2848.000000  \n",
       "mean     1.616440e+18       0.724368  \n",
       "std      1.913481e+16       1.755180  \n",
       "min      7.115537e+17       0.000000  \n",
       "25%      1.617159e+18       0.000000  \n",
       "50%      1.617170e+18       0.000000  \n",
       "75%      1.617182e+18       1.000000  \n",
       "max      1.617195e+18      23.000000  "
      ]
     },
     "execution_count": 14,
     "metadata": {},
     "output_type": "execute_result"
    }
   ],
   "source": [
    "df.describe()"
   ]
  },
  {
   "cell_type": "code",
   "execution_count": 15,
   "id": "6d8bfb4b",
   "metadata": {
    "colab": {
     "base_uri": "https://localhost:8080/"
    },
    "id": "6d8bfb4b",
    "outputId": "ef6b202f-db99-46b4-a5d5-1f01b34a3127",
    "scrolled": true
   },
   "outputs": [
    {
     "data": {
      "text/plain": [
       "Datetime          2441\n",
       "Tweet Id          2849\n",
       "Text              2793\n",
       "Username          2556\n",
       "Permalink         2848\n",
       "User              2556\n",
       "Outlinks           858\n",
       "CountLinks        1007\n",
       "ReplyCount          35\n",
       "RetweetCount        43\n",
       "LikeCount           99\n",
       "QuoteCount          15\n",
       "ConversationId    2469\n",
       "Language            44\n",
       "Source             128\n",
       "Media              568\n",
       "QuotedTweet        159\n",
       "MentionedUsers     725\n",
       "hashtag            494\n",
       "hastag_counts       18\n",
       "dtype: int64"
      ]
     },
     "execution_count": 15,
     "metadata": {},
     "output_type": "execute_result"
    }
   ],
   "source": [
    "df.nunique()"
   ]
  },
  {
   "cell_type": "markdown",
   "id": "c568e174",
   "metadata": {
    "id": "c568e174"
   },
   "source": [
    "#### Checking the most frequent value"
   ]
  },
  {
   "cell_type": "code",
   "execution_count": 16,
   "id": "9ae54ef9",
   "metadata": {
    "id": "9ae54ef9"
   },
   "outputs": [],
   "source": [
    "def max_frequent_values(data):\n",
    "    total = data.count()\n",
    "    total_count = pd.DataFrame(total)\n",
    "    total_count.columns = ['Total']\n",
    "    items = []\n",
    "    vals = []\n",
    "    for col in data.columns:\n",
    "        try:\n",
    "            itm = data[col].value_counts().index[0]\n",
    "            val = data[col].value_counts().values[0]\n",
    "            items.append(itm)\n",
    "            vals.append(val)\n",
    "        except Exception as ex:\n",
    "            print(ex)\n",
    "            items.append(0)\n",
    "            vals.append(0)\n",
    "            continue\n",
    "    total_count['Most frequent item'] = items\n",
    "    total_count['Frequency'] = vals\n",
    "    total_count['Percent from total'] = np.round(vals / total * 100, 3)\n",
    "    return(np.transpose(total_count))"
   ]
  },
  {
   "cell_type": "code",
   "execution_count": 17,
   "id": "d1ea8711",
   "metadata": {
    "colab": {
     "base_uri": "https://localhost:8080/",
     "height": 291
    },
    "id": "d1ea8711",
    "outputId": "11596c23-7f44-4db4-b586-5f7afde88f00"
   },
   "outputs": [
    {
     "data": {
      "text/html": [
       "\n",
       "\n",
       "  <div id=\"df-16f3d40e-5364-444e-a50f-f55364d9122e\">\n",
       "    <div class=\"colab-df-container\">\n",
       "      <div>\n",
       "<style scoped>\n",
       "    .dataframe tbody tr th:only-of-type {\n",
       "        vertical-align: middle;\n",
       "    }\n",
       "\n",
       "    .dataframe tbody tr th {\n",
       "        vertical-align: top;\n",
       "    }\n",
       "\n",
       "    .dataframe thead th {\n",
       "        text-align: right;\n",
       "    }\n",
       "</style>\n",
       "<table border=\"1\" class=\"dataframe\">\n",
       "  <thead>\n",
       "    <tr style=\"text-align: right;\">\n",
       "      <th></th>\n",
       "      <th>Datetime</th>\n",
       "      <th>Tweet Id</th>\n",
       "      <th>Text</th>\n",
       "      <th>Username</th>\n",
       "      <th>Permalink</th>\n",
       "      <th>User</th>\n",
       "      <th>Outlinks</th>\n",
       "      <th>CountLinks</th>\n",
       "      <th>ReplyCount</th>\n",
       "      <th>RetweetCount</th>\n",
       "      <th>LikeCount</th>\n",
       "      <th>QuoteCount</th>\n",
       "      <th>ConversationId</th>\n",
       "      <th>Language</th>\n",
       "      <th>Source</th>\n",
       "      <th>Media</th>\n",
       "      <th>QuotedTweet</th>\n",
       "      <th>MentionedUsers</th>\n",
       "      <th>hashtag</th>\n",
       "      <th>hastag_counts</th>\n",
       "    </tr>\n",
       "  </thead>\n",
       "  <tbody>\n",
       "    <tr>\n",
       "      <th>Total</th>\n",
       "      <td>2849</td>\n",
       "      <td>2849</td>\n",
       "      <td>2849</td>\n",
       "      <td>2848</td>\n",
       "      <td>2848</td>\n",
       "      <td>2848</td>\n",
       "      <td>1015</td>\n",
       "      <td>1015</td>\n",
       "      <td>2848</td>\n",
       "      <td>2848</td>\n",
       "      <td>2848</td>\n",
       "      <td>2848</td>\n",
       "      <td>2848</td>\n",
       "      <td>2848</td>\n",
       "      <td>2848</td>\n",
       "      <td>572</td>\n",
       "      <td>202</td>\n",
       "      <td>971</td>\n",
       "      <td>2848</td>\n",
       "      <td>2848</td>\n",
       "    </tr>\n",
       "    <tr>\n",
       "      <th>Most frequent item</th>\n",
       "      <td>2023-01-22 14:00:03+00:00</td>\n",
       "      <td>1617156270871699456</td>\n",
       "      <td>@chatgpt_issac AI</td>\n",
       "      <td>LluisMontoliu</td>\n",
       "      <td>https://twitter.com/mochico0123/status/1617156...</td>\n",
       "      <td>https://twitter.com/LluisMontoliu</td>\n",
       "      <td>['https://www.ft.com/content/7229ba86-142a-49f...</td>\n",
       "      <td>['https://t.co/fB4gOHiHgs']</td>\n",
       "      <td>0.0</td>\n",
       "      <td>0.0</td>\n",
       "      <td>0.0</td>\n",
       "      <td>0.0</td>\n",
       "      <td>1617156832556126208.0</td>\n",
       "      <td>en</td>\n",
       "      <td>&lt;a href=\"https://mobile.twitter.com\" rel=\"nofo...</td>\n",
       "      <td>[Photo(previewUrl='https://pbs.twimg.com/media...</td>\n",
       "      <td>https://twitter.com/nabeelqu/status/1616845386...</td>\n",
       "      <td>[User(username='chatgpt_issac', id=13670024231...</td>\n",
       "      <td>[]</td>\n",
       "      <td>0.0</td>\n",
       "    </tr>\n",
       "    <tr>\n",
       "      <th>Frequency</th>\n",
       "      <td>4</td>\n",
       "      <td>1</td>\n",
       "      <td>49</td>\n",
       "      <td>8</td>\n",
       "      <td>1</td>\n",
       "      <td>8</td>\n",
       "      <td>22</td>\n",
       "      <td>3</td>\n",
       "      <td>2011</td>\n",
       "      <td>2408</td>\n",
       "      <td>1464</td>\n",
       "      <td>2707</td>\n",
       "      <td>56</td>\n",
       "      <td>1767</td>\n",
       "      <td>929</td>\n",
       "      <td>3</td>\n",
       "      <td>13</td>\n",
       "      <td>55</td>\n",
       "      <td>2076</td>\n",
       "      <td>2076</td>\n",
       "    </tr>\n",
       "    <tr>\n",
       "      <th>Percent from total</th>\n",
       "      <td>0.14</td>\n",
       "      <td>0.035</td>\n",
       "      <td>1.72</td>\n",
       "      <td>0.281</td>\n",
       "      <td>0.035</td>\n",
       "      <td>0.281</td>\n",
       "      <td>2.167</td>\n",
       "      <td>0.296</td>\n",
       "      <td>70.611</td>\n",
       "      <td>84.551</td>\n",
       "      <td>51.404</td>\n",
       "      <td>95.049</td>\n",
       "      <td>1.966</td>\n",
       "      <td>62.044</td>\n",
       "      <td>32.619</td>\n",
       "      <td>0.524</td>\n",
       "      <td>6.436</td>\n",
       "      <td>5.664</td>\n",
       "      <td>72.893</td>\n",
       "      <td>72.893</td>\n",
       "    </tr>\n",
       "  </tbody>\n",
       "</table>\n",
       "</div>\n",
       "      <button class=\"colab-df-convert\" onclick=\"convertToInteractive('df-16f3d40e-5364-444e-a50f-f55364d9122e')\"\n",
       "              title=\"Convert this dataframe to an interactive table.\"\n",
       "              style=\"display:none;\">\n",
       "\n",
       "  <svg xmlns=\"http://www.w3.org/2000/svg\" height=\"24px\"viewBox=\"0 0 24 24\"\n",
       "       width=\"24px\">\n",
       "    <path d=\"M0 0h24v24H0V0z\" fill=\"none\"/>\n",
       "    <path d=\"M18.56 5.44l.94 2.06.94-2.06 2.06-.94-2.06-.94-.94-2.06-.94 2.06-2.06.94zm-11 1L8.5 8.5l.94-2.06 2.06-.94-2.06-.94L8.5 2.5l-.94 2.06-2.06.94zm10 10l.94 2.06.94-2.06 2.06-.94-2.06-.94-.94-2.06-.94 2.06-2.06.94z\"/><path d=\"M17.41 7.96l-1.37-1.37c-.4-.4-.92-.59-1.43-.59-.52 0-1.04.2-1.43.59L10.3 9.45l-7.72 7.72c-.78.78-.78 2.05 0 2.83L4 21.41c.39.39.9.59 1.41.59.51 0 1.02-.2 1.41-.59l7.78-7.78 2.81-2.81c.8-.78.8-2.07 0-2.86zM5.41 20L4 18.59l7.72-7.72 1.47 1.35L5.41 20z\"/>\n",
       "  </svg>\n",
       "      </button>\n",
       "\n",
       "\n",
       "\n",
       "    <div id=\"df-7ef335c5-2e6f-4207-b31e-8c7d3914ed69\">\n",
       "      <button class=\"colab-df-quickchart\" onclick=\"quickchart('df-7ef335c5-2e6f-4207-b31e-8c7d3914ed69')\"\n",
       "              title=\"Suggest charts.\"\n",
       "              style=\"display:none;\">\n",
       "\n",
       "<svg xmlns=\"http://www.w3.org/2000/svg\" height=\"24px\"viewBox=\"0 0 24 24\"\n",
       "     width=\"24px\">\n",
       "    <g>\n",
       "        <path d=\"M19 3H5c-1.1 0-2 .9-2 2v14c0 1.1.9 2 2 2h14c1.1 0 2-.9 2-2V5c0-1.1-.9-2-2-2zM9 17H7v-7h2v7zm4 0h-2V7h2v10zm4 0h-2v-4h2v4z\"/>\n",
       "    </g>\n",
       "</svg>\n",
       "      </button>\n",
       "    </div>\n",
       "\n",
       "<style>\n",
       "  .colab-df-quickchart {\n",
       "    background-color: #E8F0FE;\n",
       "    border: none;\n",
       "    border-radius: 50%;\n",
       "    cursor: pointer;\n",
       "    display: none;\n",
       "    fill: #1967D2;\n",
       "    height: 32px;\n",
       "    padding: 0 0 0 0;\n",
       "    width: 32px;\n",
       "  }\n",
       "\n",
       "  .colab-df-quickchart:hover {\n",
       "    background-color: #E2EBFA;\n",
       "    box-shadow: 0px 1px 2px rgba(60, 64, 67, 0.3), 0px 1px 3px 1px rgba(60, 64, 67, 0.15);\n",
       "    fill: #174EA6;\n",
       "  }\n",
       "\n",
       "  [theme=dark] .colab-df-quickchart {\n",
       "    background-color: #3B4455;\n",
       "    fill: #D2E3FC;\n",
       "  }\n",
       "\n",
       "  [theme=dark] .colab-df-quickchart:hover {\n",
       "    background-color: #434B5C;\n",
       "    box-shadow: 0px 1px 3px 1px rgba(0, 0, 0, 0.15);\n",
       "    filter: drop-shadow(0px 1px 2px rgba(0, 0, 0, 0.3));\n",
       "    fill: #FFFFFF;\n",
       "  }\n",
       "</style>\n",
       "\n",
       "    <script>\n",
       "      async function quickchart(key) {\n",
       "        const containerElement = document.querySelector('#' + key);\n",
       "        const charts = await google.colab.kernel.invokeFunction(\n",
       "            'suggestCharts', [key], {});\n",
       "      }\n",
       "    </script>\n",
       "\n",
       "      <script>\n",
       "\n",
       "function displayQuickchartButton(domScope) {\n",
       "  let quickchartButtonEl =\n",
       "    domScope.querySelector('#df-7ef335c5-2e6f-4207-b31e-8c7d3914ed69 button.colab-df-quickchart');\n",
       "  quickchartButtonEl.style.display =\n",
       "    google.colab.kernel.accessAllowed ? 'block' : 'none';\n",
       "}\n",
       "\n",
       "        displayQuickchartButton(document);\n",
       "      </script>\n",
       "      <style>\n",
       "    .colab-df-container {\n",
       "      display:flex;\n",
       "      flex-wrap:wrap;\n",
       "      gap: 12px;\n",
       "    }\n",
       "\n",
       "    .colab-df-convert {\n",
       "      background-color: #E8F0FE;\n",
       "      border: none;\n",
       "      border-radius: 50%;\n",
       "      cursor: pointer;\n",
       "      display: none;\n",
       "      fill: #1967D2;\n",
       "      height: 32px;\n",
       "      padding: 0 0 0 0;\n",
       "      width: 32px;\n",
       "    }\n",
       "\n",
       "    .colab-df-convert:hover {\n",
       "      background-color: #E2EBFA;\n",
       "      box-shadow: 0px 1px 2px rgba(60, 64, 67, 0.3), 0px 1px 3px 1px rgba(60, 64, 67, 0.15);\n",
       "      fill: #174EA6;\n",
       "    }\n",
       "\n",
       "    [theme=dark] .colab-df-convert {\n",
       "      background-color: #3B4455;\n",
       "      fill: #D2E3FC;\n",
       "    }\n",
       "\n",
       "    [theme=dark] .colab-df-convert:hover {\n",
       "      background-color: #434B5C;\n",
       "      box-shadow: 0px 1px 3px 1px rgba(0, 0, 0, 0.15);\n",
       "      filter: drop-shadow(0px 1px 2px rgba(0, 0, 0, 0.3));\n",
       "      fill: #FFFFFF;\n",
       "    }\n",
       "  </style>\n",
       "\n",
       "      <script>\n",
       "        const buttonEl =\n",
       "          document.querySelector('#df-16f3d40e-5364-444e-a50f-f55364d9122e button.colab-df-convert');\n",
       "        buttonEl.style.display =\n",
       "          google.colab.kernel.accessAllowed ? 'block' : 'none';\n",
       "\n",
       "        async function convertToInteractive(key) {\n",
       "          const element = document.querySelector('#df-16f3d40e-5364-444e-a50f-f55364d9122e');\n",
       "          const dataTable =\n",
       "            await google.colab.kernel.invokeFunction('convertToInteractive',\n",
       "                                                     [key], {});\n",
       "          if (!dataTable) return;\n",
       "\n",
       "          const docLinkHtml = 'Like what you see? Visit the ' +\n",
       "            '<a target=\"_blank\" href=https://colab.research.google.com/notebooks/data_table.ipynb>data table notebook</a>'\n",
       "            + ' to learn more about interactive tables.';\n",
       "          element.innerHTML = '';\n",
       "          dataTable['output_type'] = 'display_data';\n",
       "          await google.colab.output.renderOutput(dataTable, element);\n",
       "          const docLink = document.createElement('div');\n",
       "          docLink.innerHTML = docLinkHtml;\n",
       "          element.appendChild(docLink);\n",
       "        }\n",
       "      </script>\n",
       "    </div>\n",
       "  </div>\n"
      ],
      "text/plain": [
       "                                     Datetime             Tweet Id  \\\n",
       "Total                                    2849                 2849   \n",
       "Most frequent item  2023-01-22 14:00:03+00:00  1617156270871699456   \n",
       "Frequency                                   4                    1   \n",
       "Percent from total                       0.14                0.035   \n",
       "\n",
       "                                 Text       Username  \\\n",
       "Total                            2849           2848   \n",
       "Most frequent item  @chatgpt_issac AI  LluisMontoliu   \n",
       "Frequency                          49              8   \n",
       "Percent from total               1.72          0.281   \n",
       "\n",
       "                                                            Permalink  \\\n",
       "Total                                                            2848   \n",
       "Most frequent item  https://twitter.com/mochico0123/status/1617156...   \n",
       "Frequency                                                           1   \n",
       "Percent from total                                              0.035   \n",
       "\n",
       "                                                 User  \\\n",
       "Total                                            2848   \n",
       "Most frequent item  https://twitter.com/LluisMontoliu   \n",
       "Frequency                                           8   \n",
       "Percent from total                              0.281   \n",
       "\n",
       "                                                             Outlinks  \\\n",
       "Total                                                            1015   \n",
       "Most frequent item  ['https://www.ft.com/content/7229ba86-142a-49f...   \n",
       "Frequency                                                          22   \n",
       "Percent from total                                              2.167   \n",
       "\n",
       "                                     CountLinks ReplyCount RetweetCount  \\\n",
       "Total                                      1015       2848         2848   \n",
       "Most frequent item  ['https://t.co/fB4gOHiHgs']        0.0          0.0   \n",
       "Frequency                                     3       2011         2408   \n",
       "Percent from total                        0.296     70.611       84.551   \n",
       "\n",
       "                   LikeCount QuoteCount         ConversationId Language  \\\n",
       "Total                   2848       2848                   2848     2848   \n",
       "Most frequent item       0.0        0.0  1617156832556126208.0       en   \n",
       "Frequency               1464       2707                     56     1767   \n",
       "Percent from total    51.404     95.049                  1.966   62.044   \n",
       "\n",
       "                                                               Source  \\\n",
       "Total                                                            2848   \n",
       "Most frequent item  <a href=\"https://mobile.twitter.com\" rel=\"nofo...   \n",
       "Frequency                                                         929   \n",
       "Percent from total                                             32.619   \n",
       "\n",
       "                                                                Media  \\\n",
       "Total                                                             572   \n",
       "Most frequent item  [Photo(previewUrl='https://pbs.twimg.com/media...   \n",
       "Frequency                                                           3   \n",
       "Percent from total                                              0.524   \n",
       "\n",
       "                                                          QuotedTweet  \\\n",
       "Total                                                             202   \n",
       "Most frequent item  https://twitter.com/nabeelqu/status/1616845386...   \n",
       "Frequency                                                          13   \n",
       "Percent from total                                              6.436   \n",
       "\n",
       "                                                       MentionedUsers hashtag  \\\n",
       "Total                                                             971    2848   \n",
       "Most frequent item  [User(username='chatgpt_issac', id=13670024231...      []   \n",
       "Frequency                                                          55    2076   \n",
       "Percent from total                                              5.664  72.893   \n",
       "\n",
       "                   hastag_counts  \n",
       "Total                       2848  \n",
       "Most frequent item           0.0  \n",
       "Frequency                   2076  \n",
       "Percent from total        72.893  "
      ]
     },
     "execution_count": 17,
     "metadata": {},
     "output_type": "execute_result"
    }
   ],
   "source": [
    "max_frequent_values(df)"
   ]
  },
  {
   "cell_type": "code",
   "execution_count": 18,
   "id": "61581e2c",
   "metadata": {
    "colab": {
     "base_uri": "https://localhost:8080/"
    },
    "id": "61581e2c",
    "outputId": "face3498-50bf-42f2-ee07-119100e5999c"
   },
   "outputs": [
    {
     "data": {
      "text/plain": [
       "array(['mochico0123', 'Caput_LupinumSG', 'ciffi', ..., 'igakunomichi',\n",
       "       'sakuraba_yuri', nan], dtype=object)"
      ]
     },
     "execution_count": 18,
     "metadata": {},
     "output_type": "execute_result"
    }
   ],
   "source": [
    "df['Username'].unique()"
   ]
  },
  {
   "cell_type": "code",
   "execution_count": 19,
   "id": "9402501a",
   "metadata": {
    "colab": {
     "base_uri": "https://localhost:8080/"
    },
    "id": "9402501a",
    "outputId": "635dce94-5f4f-4991-b8eb-a0a541eb5358"
   },
   "outputs": [
    {
     "data": {
      "text/plain": [
       "LluisMontoliu     8\n",
       "zaganos_pacha     8\n",
       "k_looked          7\n",
       "Chad_GPT_DAO      6\n",
       "N3tyan_           6\n",
       "                 ..\n",
       "tom2rd            1\n",
       "CrazyDutchGuy1    1\n",
       "convl0            1\n",
       "Keyurshah3535     1\n",
       "sakuraba_yuri     1\n",
       "Name: Username, Length: 2556, dtype: int64"
      ]
     },
     "execution_count": 19,
     "metadata": {},
     "output_type": "execute_result"
    }
   ],
   "source": [
    "df['Username'].value_counts()"
   ]
  },
  {
   "cell_type": "code",
   "execution_count": 20,
   "id": "e8548f61",
   "metadata": {
    "colab": {
     "base_uri": "https://localhost:8080/",
     "height": 649
    },
    "id": "e8548f61",
    "outputId": "51da4f7c-37a4-4d5e-eeca-a5a856c7c1f5"
   },
   "outputs": [
    {
     "data": {
      "image/png": "[encoded data removed]",
      "text/plain": [
       "<Figure size 1500x600 with 1 Axes>"
      ]
     },
     "metadata": {},
     "output_type": "display_data"
    }
   ],
   "source": [
    "plt.figure(figsize=(15,6))\n",
    "sns.countplot(data=df, x='Username', order=df[\"Username\"].value_counts().index[:20])\n",
    "plt.xticks(rotation=90)\n",
    "plt.show()"
   ]
  },
  {
   "cell_type": "code",
   "execution_count": 21,
   "id": "449802bc",
   "metadata": {
    "colab": {
     "base_uri": "https://localhost:8080/"
    },
    "id": "449802bc",
    "outputId": "91e42688-f504-4641-bd46-aeac70084ab2"
   },
   "outputs": [
    {
     "data": {
      "text/plain": [
       "array(['https://twitter.com/mochico0123',\n",
       "       'https://twitter.com/Caput_LupinumSG', 'https://twitter.com/ciffi',\n",
       "       ..., 'https://twitter.com/igakunomichi',\n",
       "       'https://twitter.com/sakuraba_yuri', nan], dtype=object)"
      ]
     },
     "execution_count": 21,
     "metadata": {},
     "output_type": "execute_result"
    }
   ],
   "source": [
    "df['User'].unique()"
   ]
  },
  {
   "cell_type": "code",
   "execution_count": 22,
   "id": "0c692e0c",
   "metadata": {
    "colab": {
     "base_uri": "https://localhost:8080/"
    },
    "id": "0c692e0c",
    "outputId": "e65d6c35-9b56-4192-9f0c-8d046df53001"
   },
   "outputs": [
    {
     "data": {
      "text/plain": [
       "https://twitter.com/LluisMontoliu     8\n",
       "https://twitter.com/zaganos_pacha     8\n",
       "https://twitter.com/k_looked          7\n",
       "https://twitter.com/Chad_GPT_DAO      6\n",
       "https://twitter.com/N3tyan_           6\n",
       "                                     ..\n",
       "https://twitter.com/tom2rd            1\n",
       "https://twitter.com/CrazyDutchGuy1    1\n",
       "https://twitter.com/convl0            1\n",
       "https://twitter.com/Keyurshah3535     1\n",
       "https://twitter.com/sakuraba_yuri     1\n",
       "Name: User, Length: 2556, dtype: int64"
      ]
     },
     "execution_count": 22,
     "metadata": {},
     "output_type": "execute_result"
    }
   ],
   "source": [
    "df['User'].value_counts()"
   ]
  },
  {
   "cell_type": "code",
   "execution_count": 23,
   "id": "5ef7cb68",
   "metadata": {
    "colab": {
     "base_uri": "https://localhost:8080/",
     "height": 782
    },
    "id": "5ef7cb68",
    "outputId": "1d7b18a6-4413-4f6a-8425-f9552c7b2bc8"
   },
   "outputs": [
    {
     "data": {
      "image/png": "[encoded data removed]",
      "text/plain": [
       "<Figure size 1500x600 with 1 Axes>"
      ]
     },
     "metadata": {},
     "output_type": "display_data"
    }
   ],
   "source": [
    "plt.figure(figsize=(15,6))\n",
    "sns.countplot(data=df, x='User', order=df[\"User\"].value_counts().index[:20])\n",
    "plt.xticks(rotation=90)\n",
    "plt.show()"
   ]
  },
  {
   "cell_type": "code",
   "execution_count": 24,
   "id": "4e65f5c1",
   "metadata": {
    "colab": {
     "base_uri": "https://localhost:8080/"
    },
    "id": "4e65f5c1",
    "outputId": "b227b245-a329-4db2-cf7f-28343af7bf0c"
   },
   "outputs": [
    {
     "data": {
      "text/plain": [
       "array([1.000e+00, 0.000e+00, 2.300e+01, 4.000e+00, 3.700e+01, 2.000e+00,\n",
       "       3.000e+00, 2.090e+02, 1.490e+02, 1.260e+02, 1.700e+01, 2.200e+01,\n",
       "       5.000e+00, 5.400e+01, 3.400e+01, 2.100e+01, 1.300e+01, 3.098e+03,\n",
       "       6.900e+01, 1.421e+03, 1.000e+01, 8.000e+00, 6.000e+00, 9.000e+00,\n",
       "       7.000e+00, 4.300e+01, 1.500e+01, 1.100e+01, 1.200e+01, 1.110e+02,\n",
       "       2.900e+01, 1.640e+02, 2.860e+02, 2.800e+01, 2.000e+01,       nan])"
      ]
     },
     "execution_count": 24,
     "metadata": {},
     "output_type": "execute_result"
    }
   ],
   "source": [
    "df['ReplyCount'].unique()"
   ]
  },
  {
   "cell_type": "code",
   "execution_count": 25,
   "id": "c208919c",
   "metadata": {
    "colab": {
     "base_uri": "https://localhost:8080/"
    },
    "id": "c208919c",
    "outputId": "e1f82d67-9fd1-4b6e-f5b3-57674ae6ad97"
   },
   "outputs": [
    {
     "data": {
      "text/plain": [
       "0.0       2011\n",
       "1.0        598\n",
       "2.0        107\n",
       "3.0         44\n",
       "5.0         14\n",
       "4.0         13\n",
       "7.0         11\n",
       "8.0          6\n",
       "9.0          5\n",
       "10.0         5\n",
       "6.0          5\n",
       "17.0         2\n",
       "11.0         2\n",
       "15.0         2\n",
       "13.0         2\n",
       "23.0         2\n",
       "29.0         1\n",
       "12.0         1\n",
       "164.0        1\n",
       "43.0         1\n",
       "286.0        1\n",
       "28.0         1\n",
       "111.0        1\n",
       "3098.0       1\n",
       "1421.0       1\n",
       "69.0         1\n",
       "21.0         1\n",
       "34.0         1\n",
       "54.0         1\n",
       "22.0         1\n",
       "126.0        1\n",
       "149.0        1\n",
       "209.0        1\n",
       "37.0         1\n",
       "20.0         1\n",
       "Name: ReplyCount, dtype: int64"
      ]
     },
     "execution_count": 25,
     "metadata": {},
     "output_type": "execute_result"
    }
   ],
   "source": [
    "df['ReplyCount'].value_counts()"
   ]
  },
  {
   "cell_type": "code",
   "execution_count": 26,
   "id": "a611722c",
   "metadata": {
    "colab": {
     "base_uri": "https://localhost:8080/",
     "height": 550
    },
    "id": "a611722c",
    "outputId": "03d28b68-7873-4256-c35a-47ed5e82ff42"
   },
   "outputs": [
    {
     "data": {
      "image/png": "[encoded data removed]",
      "text/plain": [
       "<Figure size 1500x600 with 1 Axes>"
      ]
     },
     "metadata": {},
     "output_type": "display_data"
    }
   ],
   "source": [
    "plt.figure(figsize=(15,6))\n",
    "sns.countplot(data=df, x='ReplyCount', order=df[\"ReplyCount\"].value_counts().index[:5])\n",
    "plt.xticks(rotation=90)\n",
    "plt.show()"
   ]
  },
  {
   "cell_type": "code",
   "execution_count": 27,
   "id": "50adfd4c",
   "metadata": {
    "colab": {
     "base_uri": "https://localhost:8080/"
    },
    "id": "50adfd4c",
    "outputId": "4776ddfc-dfa3-4da1-adfe-45455b47a7f5"
   },
   "outputs": [
    {
     "data": {
      "text/plain": [
       "array([0.000e+00, 1.000e+00, 5.000e+00, 6.000e+00, 5.420e+02, 4.000e+01,\n",
       "       4.900e+01, 1.800e+01, 3.000e+00, 2.000e+00, 1.600e+01, 4.000e+00,\n",
       "       1.120e+02, 3.900e+01, 3.600e+01, 1.094e+03, 1.200e+01, 6.815e+03,\n",
       "       1.000e+01, 2.000e+01, 7.000e+00, 5.800e+01, 2.300e+01, 1.100e+01,\n",
       "       1.500e+01, 4.500e+01, 3.700e+01, 8.000e+00, 3.100e+01, 1.900e+01,\n",
       "       1.600e+02, 2.700e+01, 9.000e+00, 3.800e+01, 3.400e+01, 1.400e+01,\n",
       "       1.250e+02, 1.700e+01, 7.400e+01, 4.610e+02, 6.800e+01, 2.600e+01,\n",
       "       1.300e+01,       nan])"
      ]
     },
     "execution_count": 27,
     "metadata": {},
     "output_type": "execute_result"
    }
   ],
   "source": [
    "df['RetweetCount'].unique()"
   ]
  },
  {
   "cell_type": "code",
   "execution_count": 28,
   "id": "8587b3f6",
   "metadata": {
    "colab": {
     "base_uri": "https://localhost:8080/"
    },
    "id": "8587b3f6",
    "outputId": "328d799f-2724-4df0-ebae-8025d195bebb"
   },
   "outputs": [
    {
     "data": {
      "text/plain": [
       "0.0       2408\n",
       "1.0        234\n",
       "2.0         70\n",
       "3.0         28\n",
       "4.0         18\n",
       "5.0         11\n",
       "6.0          9\n",
       "7.0          7\n",
       "12.0         6\n",
       "10.0         6\n",
       "8.0          5\n",
       "15.0         3\n",
       "19.0         3\n",
       "18.0         3\n",
       "49.0         2\n",
       "27.0         2\n",
       "31.0         2\n",
       "26.0         2\n",
       "16.0         2\n",
       "20.0         2\n",
       "34.0         2\n",
       "11.0         2\n",
       "38.0         1\n",
       "9.0          1\n",
       "74.0         1\n",
       "68.0         1\n",
       "17.0         1\n",
       "14.0         1\n",
       "461.0        1\n",
       "125.0        1\n",
       "58.0         1\n",
       "160.0        1\n",
       "37.0         1\n",
       "45.0         1\n",
       "23.0         1\n",
       "6815.0       1\n",
       "1094.0       1\n",
       "36.0         1\n",
       "39.0         1\n",
       "112.0        1\n",
       "40.0         1\n",
       "542.0        1\n",
       "13.0         1\n",
       "Name: RetweetCount, dtype: int64"
      ]
     },
     "execution_count": 28,
     "metadata": {},
     "output_type": "execute_result"
    }
   ],
   "source": [
    "df['RetweetCount'].value_counts()"
   ]
  },
  {
   "cell_type": "code",
   "execution_count": 29,
   "id": "6f4ef124",
   "metadata": {
    "colab": {
     "base_uri": "https://localhost:8080/",
     "height": 550
    },
    "id": "6f4ef124",
    "outputId": "75638396-e22a-4470-f5ef-09c0ad7cdbb1"
   },
   "outputs": [
    {
     "data": {
      "image/png": "[encoded data removed]",
      "text/plain": [
       "<Figure size 1500x600 with 1 Axes>"
      ]
     },
     "metadata": {},
     "output_type": "display_data"
    }
   ],
   "source": [
    "plt.figure(figsize=(15,6))\n",
    "sns.countplot(data=df, x='RetweetCount', order=df[\"RetweetCount\"].value_counts().index[:5])\n",
    "plt.xticks(rotation=90)\n",
    "plt.show()"
   ]
  },
  {
   "cell_type": "code",
   "execution_count": 30,
   "id": "9948c592",
   "metadata": {
    "colab": {
     "base_uri": "https://localhost:8080/"
    },
    "id": "9948c592",
    "outputId": "b3cbfbea-7d77-4b60-e1db-ea8eb09de0cb"
   },
   "outputs": [
    {
     "data": {
      "text/plain": [
       "array([5.0000e+00, 4.0000e+00, 2.0000e+00, 1.0000e+00, 0.0000e+00,\n",
       "       3.0000e+00, 6.6000e+01, 2.0000e+01, 9.1250e+03, 7.0000e+00,\n",
       "       3.4800e+02, 6.0700e+02, 1.1000e+01, 9.0000e+00, 4.0400e+02,\n",
       "       8.0000e+00, 6.0000e+00, 6.8000e+01, 3.2900e+02, 1.0000e+01,\n",
       "       1.7000e+01, 1.5000e+01, 1.9050e+03, 2.1100e+02, 1.6000e+01,\n",
       "       2.2000e+01, 1.4000e+01, 3.8100e+02, 1.3000e+01, 5.6820e+03,\n",
       "       4.2000e+01, 1.9000e+02, 5.7000e+01, 5.6073e+04, 2.6000e+01,\n",
       "       3.8000e+01, 3.0000e+01, 9.7000e+01, 2.4000e+01, 1.9000e+01,\n",
       "       1.2000e+01, 5.0000e+01, 1.8000e+01, 2.9000e+01, 5.1000e+01,\n",
       "       3.3000e+01, 4.1000e+01, 5.5000e+01, 4.4000e+01, 6.6300e+02,\n",
       "       7.5000e+01, 5.4000e+01, 3.9000e+01, 2.1000e+01, 3.7000e+01,\n",
       "       2.5200e+02, 4.0000e+01, 4.7000e+01, 3.9000e+02, 8.7000e+01,\n",
       "       1.7700e+02, 2.3000e+01, 8.4000e+01, 2.8000e+01, 3.1000e+01,\n",
       "       1.3100e+02, 2.5100e+02, 8.6000e+01, 1.0550e+03, 1.7100e+02,\n",
       "       6.5000e+01, 1.4400e+02, 5.8000e+01, 1.1100e+02, 7.1000e+01,\n",
       "       7.4000e+01, 1.2700e+02, 3.6000e+01, 3.2000e+01, 2.3400e+02,\n",
       "       6.5400e+02, 2.2200e+02, 7.1100e+02, 3.9520e+03, 4.3000e+01,\n",
       "       4.6000e+01, 2.7300e+02, 1.6800e+02, 3.4900e+02, 2.3900e+02,\n",
       "       1.1800e+02, 1.1200e+02, 6.4000e+01, 2.7000e+01, 2.2800e+02,\n",
       "       2.5000e+01, 5.6000e+01, 1.8600e+02, 9.3000e+01,        nan])"
      ]
     },
     "execution_count": 30,
     "metadata": {},
     "output_type": "execute_result"
    }
   ],
   "source": [
    "df['LikeCount'].unique()"
   ]
  },
  {
   "cell_type": "code",
   "execution_count": 31,
   "id": "dd511abb",
   "metadata": {
    "colab": {
     "base_uri": "https://localhost:8080/"
    },
    "id": "dd511abb",
    "outputId": "048b1044-2800-4494-96b7-08a028d63f29"
   },
   "outputs": [
    {
     "data": {
      "text/plain": [
       "0.0      1464\n",
       "1.0       537\n",
       "2.0       259\n",
       "3.0       132\n",
       "4.0        80\n",
       "         ... \n",
       "31.0        1\n",
       "131.0       1\n",
       "251.0       1\n",
       "86.0        1\n",
       "93.0        1\n",
       "Name: LikeCount, Length: 99, dtype: int64"
      ]
     },
     "execution_count": 31,
     "metadata": {},
     "output_type": "execute_result"
    }
   ],
   "source": [
    "df['LikeCount'].value_counts()"
   ]
  },
  {
   "cell_type": "code",
   "execution_count": 32,
   "id": "10bc8465",
   "metadata": {
    "colab": {
     "base_uri": "https://localhost:8080/",
     "height": 550
    },
    "id": "10bc8465",
    "outputId": "a3c72f15-692e-4a35-9fff-f6f477b1ff18"
   },
   "outputs": [
    {
     "data": {
      "image/png": "[encoded data removed]",
      "text/plain": [
       "<Figure size 1500x600 with 1 Axes>"
      ]
     },
     "metadata": {},
     "output_type": "display_data"
    }
   ],
   "source": [
    "plt.figure(figsize=(15,6))\n",
    "sns.countplot(data=df, x='LikeCount', order=df[\"LikeCount\"].value_counts().index[:10])\n",
    "plt.xticks(rotation=90)\n",
    "plt.show()"
   ]
  },
  {
   "cell_type": "code",
   "execution_count": 33,
   "id": "30859be1",
   "metadata": {
    "colab": {
     "base_uri": "https://localhost:8080/"
    },
    "id": "30859be1",
    "outputId": "adbf2f55-4b61-4342-ce05-e5bc8a34cd38"
   },
   "outputs": [
    {
     "data": {
      "text/plain": [
       "array([0.000e+00, 1.000e+00, 2.000e+00, 1.500e+01, 6.000e+00, 8.000e+00,\n",
       "       3.000e+00, 1.400e+01, 4.500e+01, 1.947e+03, 9.000e+00, 4.000e+00,\n",
       "       5.000e+00, 2.300e+01, 1.100e+02,       nan])"
      ]
     },
     "execution_count": 33,
     "metadata": {},
     "output_type": "execute_result"
    }
   ],
   "source": [
    "df['QuoteCount'].unique()"
   ]
  },
  {
   "cell_type": "code",
   "execution_count": 34,
   "id": "8ec58902",
   "metadata": {
    "colab": {
     "base_uri": "https://localhost:8080/"
    },
    "id": "8ec58902",
    "outputId": "493df159-4825-4c96-8260-5236bb264a67"
   },
   "outputs": [
    {
     "data": {
      "text/plain": [
       "0.0       2707\n",
       "1.0         87\n",
       "2.0         17\n",
       "3.0          8\n",
       "4.0          7\n",
       "5.0          6\n",
       "6.0          4\n",
       "8.0          4\n",
       "9.0          2\n",
       "15.0         1\n",
       "14.0         1\n",
       "45.0         1\n",
       "1947.0       1\n",
       "23.0         1\n",
       "110.0        1\n",
       "Name: QuoteCount, dtype: int64"
      ]
     },
     "execution_count": 34,
     "metadata": {},
     "output_type": "execute_result"
    }
   ],
   "source": [
    "df['QuoteCount'].value_counts()"
   ]
  },
  {
   "cell_type": "code",
   "execution_count": 35,
   "id": "c612b05a",
   "metadata": {
    "colab": {
     "base_uri": "https://localhost:8080/",
     "height": 550
    },
    "id": "c612b05a",
    "outputId": "157c567e-b342-4e39-abba-e10a4883019d"
   },
   "outputs": [
    {
     "data": {
      "image/png": "[encoded data removed]",
      "text/plain": [
       "<Figure size 1500x600 with 1 Axes>"
      ]
     },
     "metadata": {},
     "output_type": "display_data"
    }
   ],
   "source": [
    "plt.figure(figsize=(15,6))\n",
    "sns.countplot(data=df, x='QuoteCount', order=df[\"QuoteCount\"].value_counts().index[:3])\n",
    "plt.xticks(rotation=90)\n",
    "plt.show()"
   ]
  },
  {
   "cell_type": "code",
   "execution_count": 36,
   "id": "775bc4a6",
   "metadata": {
    "colab": {
     "base_uri": "https://localhost:8080/"
    },
    "id": "775bc4a6",
    "outputId": "c00e63b2-7996-48a4-899b-5949c9b4062f"
   },
   "outputs": [
    {
     "data": {
      "text/plain": [
       "array(['ja', 'en', 'de', 'tr', 'pl', 'fr', 'es', 'pt', 'lo', 'no', 'ca',\n",
       "       'zh', 'qme', 'th', 'ne', 'ko', 'und', 'nl', 'fa', 'it', 'da', 'fi',\n",
       "       'eu', 'hi', 'ar', 'sv', 'in', 'ru', 'qht', 'tl', 'hu', 'cs', 'uk',\n",
       "       'iw', 'et', 'cy', 'bg', 'ht', 'el', 'vi', 'sl', 'kn', 'ro', 'lt',\n",
       "       nan], dtype=object)"
      ]
     },
     "execution_count": 36,
     "metadata": {},
     "output_type": "execute_result"
    }
   ],
   "source": [
    "df['Language'].unique()"
   ]
  },
  {
   "cell_type": "code",
   "execution_count": 37,
   "id": "efe07cdc",
   "metadata": {
    "colab": {
     "base_uri": "https://localhost:8080/"
    },
    "id": "efe07cdc",
    "outputId": "d09ca4e0-6df2-4d85-b26c-7277e9d5a88d"
   },
   "outputs": [
    {
     "data": {
      "text/plain": [
       "en     1767\n",
       "ja      270\n",
       "es      205\n",
       "fr      172\n",
       "pt       69\n",
       "und      66\n",
       "de       56\n",
       "it       34\n",
       "tr       29\n",
       "qme      21\n",
       "ar       15\n",
       "in       14\n",
       "nl       13\n",
       "zh       10\n",
       "iw       10\n",
       "ca        9\n",
       "hi        9\n",
       "pl        9\n",
       "fa        7\n",
       "ru        6\n",
       "th        6\n",
       "fi        5\n",
       "ko        5\n",
       "da        5\n",
       "sv        4\n",
       "no        4\n",
       "qht       4\n",
       "hu        3\n",
       "vi        3\n",
       "ht        2\n",
       "tl        2\n",
       "cy        2\n",
       "sl        1\n",
       "kn        1\n",
       "ro        1\n",
       "el        1\n",
       "eu        1\n",
       "bg        1\n",
       "et        1\n",
       "uk        1\n",
       "cs        1\n",
       "ne        1\n",
       "lo        1\n",
       "lt        1\n",
       "Name: Language, dtype: int64"
      ]
     },
     "execution_count": 37,
     "metadata": {},
     "output_type": "execute_result"
    }
   ],
   "source": [
    "df['Language'].value_counts()"
   ]
  },
  {
   "cell_type": "code",
   "execution_count": 38,
   "id": "822e9e07",
   "metadata": {
    "colab": {
     "base_uri": "https://localhost:8080/",
     "height": 542
    },
    "id": "822e9e07",
    "outputId": "601a2493-50af-45dc-884d-cb284c8c87ad"
   },
   "outputs": [
    {
     "data": {
      "image/png": "[encoded data removed]",
      "text/plain": [
       "<Figure size 1500x600 with 1 Axes>"
      ]
     },
     "metadata": {},
     "output_type": "display_data"
    }
   ],
   "source": [
    "plt.figure(figsize=(15,6))\n",
    "sns.countplot(data=df, x='Language', order=df[\"Language\"].value_counts().index[:10])\n",
    "plt.show()"
   ]
  },
  {
   "cell_type": "code",
   "execution_count": 39,
   "id": "0a3cb8bd",
   "metadata": {
    "colab": {
     "base_uri": "https://localhost:8080/"
    },
    "id": "0a3cb8bd",
    "outputId": "7c3dc90b-469a-4c5d-a22f-2e7df290521c"
   },
   "outputs": [
    {
     "data": {
      "text/plain": [
       "array(['<a href=\"http://twitter.com/download/iphone\" rel=\"nofollow\">Twitter for iPhone</a>',\n",
       "       '<a href=\"http://twitter.com/#!/download/ipad\" rel=\"nofollow\">Twitter for iPad</a>',\n",
       "       '<a href=\"http://twitter.com/download/android\" rel=\"nofollow\">Twitter for Android</a>',\n",
       "       '<a href=\"https://about.twitter.com/products/tweetdeck\" rel=\"nofollow\">TweetDeck</a>',\n",
       "       '<a href=\"https://mobile.twitter.com\" rel=\"nofollow\">Twitter Web App</a>',\n",
       "       '<a href=\"https://nowtice.net/\" rel=\"nofollow\">nowtice_news</a>',\n",
       "       '<a href=\"https://smarterqueue.com\" rel=\"nofollow\">SmarterQueue</a>',\n",
       "       '<a href=\"https://github.com/M157q/py-feedr\" rel=\"nofollow\">py-feedr-M157q</a>',\n",
       "       '<a href=\"http://www.linkedin.com/\" rel=\"nofollow\">LinkedIn</a>',\n",
       "       '<a href=\"https://soccerstream.org/\" rel=\"nofollow\">testttewet</a>',\n",
       "       '<a href=\"http://publicize.wp.com/\" rel=\"nofollow\">Jetpack.com</a>',\n",
       "       '<a href=\"https://contentstudio.io\" rel=\"nofollow\">ContentStudio.io</a>',\n",
       "       '<a href=\"https://www.hootsuite.com\" rel=\"nofollow\">Hootsuite Inc.</a>',\n",
       "       '<a href=\"http://twinybots.com\" rel=\"nofollow\">TwinyBots</a>',\n",
       "       '<a href=\"https://social.zoho.com\" rel=\"nofollow\">Zoho Social</a>',\n",
       "       '<a href=\"http://b.hatena.ne.jp/\" rel=\"nofollow\">はてな / Hatena</a>',\n",
       "       '<a href=\"https://talkmarkets.com\" rel=\"nofollow\">TalkMarketsApp</a>',\n",
       "       '<a href=\"http://itunes.apple.com/us/app/twitter/id409789998?mt=12\" rel=\"nofollow\">Twitter for Mac</a>',\n",
       "       '<a href=\"https://gamer-geek-news.com\" rel=\"nofollow\">DataScienceInfo</a>',\n",
       "       '<a href=\"http://newsycbot.com/\" rel=\"nofollow\">newsycbot</a>',\n",
       "       '<a href=\"https://rohitchouhan.com\" rel=\"nofollow\">rohitchouhan.com</a>',\n",
       "       '<a href=\"https://www.fs-poster.com\" rel=\"nofollow\">FS Poster 3</a>',\n",
       "       '<a href=\"https://dlvrit.com/\" rel=\"nofollow\">dlvr.it</a>',\n",
       "       '<a href=\"https://app.planable.io\" rel=\"nofollow\">Planable</a>',\n",
       "       '<a href=\"https://www.pabbly.com/\" rel=\"nofollow\">Pabbly Connect</a>',\n",
       "       '<a href=\"https://www.tweetedtimes.com\" rel=\"nofollow\">The Tweeted Times</a>',\n",
       "       '<a href=\"https://geekteck.net/\" rel=\"nofollow\">Geek-tech</a>',\n",
       "       '<a href=\"https://www.trendradars.com/\" rel=\"nofollow\">TrendRadarsScience</a>',\n",
       "       '<a href=\"https://cosendconnect.com\" rel=\"nofollow\">CoSend Connect</a>',\n",
       "       '<a href=\"http://www.socialflow.com\" rel=\"nofollow\">SocialFlow</a>',\n",
       "       '<a href=\"https://sproutsocial.com\" rel=\"nofollow\">Sprout Social</a>',\n",
       "       '<a href=\"http://www.investing.com\" rel=\"nofollow\">ForexPros News & Analysis</a>',\n",
       "       '<a href=\"https://twitter.com/omni_7_item\" rel=\"nofollow\">trancefer</a>',\n",
       "       '<a href=\"https://www.tumblr.com/\" rel=\"nofollow\">Tumblr</a>',\n",
       "       '<a href=\"https://techinketion.com\" rel=\"nofollow\">Tech Injektion Bot</a>',\n",
       "       '<a href=\"http://www.einnews.com\" rel=\"nofollow\">EIN Presswire</a>',\n",
       "       '<a href=\"https://artilnews.com\" rel=\"nofollow\">Artil AI</a>',\n",
       "       '<a href=\"https://www.ndtv.com\" rel=\"nofollow\">NDTVfeed</a>',\n",
       "       '<a href=\"https://buffer.com\" rel=\"nofollow\">Buffer</a>',\n",
       "       '<a href=\"https://twitter.com/UnJeton\" rel=\"nofollow\">UnJeton</a>',\n",
       "       '<a href=\"https://chime.so\" rel=\"nofollow\">chime.so</a>',\n",
       "       '<a href=\"https://www.blog2social.com\" rel=\"nofollow\">Blog2Social APP</a>',\n",
       "       '<a href=\"https://help.twitter.com/en/using-twitter/how-to-tweet#source-labels\" rel=\"nofollow\">FeberFeed</a>',\n",
       "       '<a href=\"https://hypefury.com\" rel=\"nofollow\">Hypefury</a>',\n",
       "       '<a href=\"https://www.netguide.com/\" rel=\"nofollow\">Netguide.com</a>',\n",
       "       '<a href=\"https://ifttt.com\" rel=\"nofollow\">IFTTT</a>',\n",
       "       '<a href=\"http://www.powerapps.com\" rel=\"nofollow\">Microsoft Power Platform</a>',\n",
       "       '<a href=\"https://www.feedhive.com\" rel=\"nofollow\">FeedHive</a>',\n",
       "       '<a href=\"https://botbird.net\" rel=\"nofollow\">Botbird tweets</a>',\n",
       "       '<a href=\"https://workshop.pimpmy.social\" rel=\"nofollow\">PimpMySocial Workshop</a>',\n",
       "       '<a href=\"https://revive.social/\" rel=\"nofollow\">Revive Social App</a>',\n",
       "       '<a href=\"https://newssearch.com\" rel=\"nofollow\">Dev_app_testing_e_stoilkov</a>',\n",
       "       '<a href=\"https://repurpose.io\" rel=\"nofollow\">RepurposeIO</a>',\n",
       "       '<a href=\"https://tech-tweet-bot.herokuapp.com/\" rel=\"nofollow\">Tech News Tweet Bot 🤖</a>',\n",
       "       '<a href=\"https://substack.com/\" rel=\"nofollow\">Substack</a>',\n",
       "       '<a href=\"http://instagram.com\" rel=\"nofollow\">Instagram</a>',\n",
       "       '<a href=\"https://www.stck.pro\" rel=\"nofollow\">STCK.PR0</a>',\n",
       "       '<a href=\"http://www.everyonesocial.com\" rel=\"nofollow\">EveryoneSocial</a>',\n",
       "       '<a href=\"https://www.lawandtrends.com\" rel=\"nofollow\">LawAndTrends</a>',\n",
       "       '<a href=\"http://twittbot.net/\" rel=\"nofollow\">twittbot.net</a>',\n",
       "       '<a href=\"https://togetter.com\" rel=\"nofollow\">Togetter / min.t</a>',\n",
       "       '<a href=\"https://drawgpt.ai/\" rel=\"nofollow\">DrawGPT</a>',\n",
       "       '<a href=\"https://tweetoshi.com\" rel=\"nofollow\">Tweetoshi</a>',\n",
       "       '<a href=\"http://akibakokoubou.jp/mcm\" rel=\"nofollow\">Mind Change Marker</a>',\n",
       "       '<a href=\"http://www.businessinsider.com\" rel=\"nofollow\">Business Insider Login</a>',\n",
       "       '<a href=\"https://zapier.com/\" rel=\"nofollow\">Zapier.com</a>',\n",
       "       '<a href=\"https://saveflix.fr\" rel=\"nofollow\">Saveflix™</a>',\n",
       "       '<a href=\"https://www.make.com\" rel=\"nofollow\">Make (formerly Integromat)</a>',\n",
       "       '<a href=\"https://forbes.com\" rel=\"nofollow\">Botstream-Tech</a>',\n",
       "       '<a href=\"https://hatenablog.com\" rel=\"nofollow\">Hatena Blog / はてなブログ</a>',\n",
       "       '<a href=\"https://dashboard.godaddy.com\" rel=\"nofollow\">GoDaddy Social App</a>',\n",
       "       '<a href=\"http://notice.tistory.com/1357\" rel=\"nofollow\">Tistory2Twitter</a>',\n",
       "       '<a href=\"https://medium.com/@donutideas\" rel=\"nofollow\">donutsaloon</a>',\n",
       "       '<a href=\"https://twitter.com\" rel=\"nofollow\">FGU-TwitterBot</a>',\n",
       "       '<a href=\"https://twitter.com\" rel=\"nofollow\">JustTechUpdate</a>',\n",
       "       '<a href=\"https://ezefidelity.com/\" rel=\"nofollow\">Ezefidelity Auto Post</a>',\n",
       "       '<a href=\"https://bigearth-data.com/\" rel=\"nofollow\">BigEarthData EcoSearch</a>',\n",
       "       '<a href=\"https://tweethunter.io\" rel=\"nofollow\">Tweet Hunter Pro</a>',\n",
       "       '<a href=\"http://www.dinbeelabs.com\" rel=\"nofollow\">Twheater_live</a>',\n",
       "       '<a href=\"http://www.rightrelevance.com\" rel=\"nofollow\">Right Relevance</a>',\n",
       "       '<a href=\"https://www.socialchamp.io\" rel=\"nofollow\">SocialChamp IO </a>',\n",
       "       '<a href=\"http://tweepsmap.com\" rel=\"nofollow\">Tweepsmap</a>',\n",
       "       '<a href=\"https://typefully.com/\" rel=\"nofollow\">Typefully</a>',\n",
       "       '<a href=\"https://airtable.com\" rel=\"nofollow\">Airtable Automations</a>',\n",
       "       '<a href=\"https://socialbee.io/\" rel=\"nofollow\">SocialBee.io v2</a>',\n",
       "       '<a href=\"https://threadstart.io\" rel=\"nofollow\">ThreadStart.io</a>',\n",
       "       '<a href=\"https://www.donanimhaber.com\" rel=\"nofollow\">Donanım  Haber</a>',\n",
       "       '<a href=\"https://crossposter.masto.donte.com.br\" rel=\"nofollow\">Mastodon-Twitter Crossposter</a>',\n",
       "       '<a href=\"http://15minutenews.com/technology/\" rel=\"nofollow\">15 Minute News Technology</a>',\n",
       "       '<a href=\"https://moa.party\" rel=\"nofollow\">Moa Bridge</a>',\n",
       "       '<a href=\"http://www.aweber.com\" rel=\"nofollow\">AWeber Email Marketing</a>',\n",
       "       '<a href=\"https://help.twitter.com/en/using-twitter/how-to-tweet#source-labels\" rel=\"nofollow\">BoostAppIT</a>',\n",
       "       '<a href=\"http://lesson-school.com/\" rel=\"nofollow\">wordpress for twitter</a>',\n",
       "       '<a href=\"http://www.anatropinews.gr\" rel=\"nofollow\">anatropinews.gr</a>',\n",
       "       '<a href=\"https://crowdfireapp.com\" rel=\"nofollow\">Crowdfire App</a>',\n",
       "       '<a href=\"http://twitter.com\" rel=\"nofollow\">ny-tames</a>',\n",
       "       '<a href=\"http://www.scoop.it\" rel=\"nofollow\">Scoop.it</a>',\n",
       "       '<a href=\"https://newsworldpress.com/\" rel=\"nofollow\">NewsWorldpress</a>',\n",
       "       '<a href=\"https://fptraffic.com\" rel=\"nofollow\">FPTraffic</a>',\n",
       "       '<a href=\"https://www.echobox.com\" rel=\"nofollow\">Echobox</a>',\n",
       "       '<a href=\"http://www.chorip.am\" rel=\"nofollow\">Schtroumpsifier</a>',\n",
       "       '<a href=\"https://adobe.com/express\" rel=\"nofollow\">Adobe Express</a>',\n",
       "       '<a href=\"https://contempas.com\" rel=\"nofollow\">Contempas</a>',\n",
       "       '<a href=\"https://www.hrfilter.de\" rel=\"nofollow\">HRfilter Pusher</a>',\n",
       "       '<a href=\"https://publer.io\" rel=\"nofollow\">Publer.io</a>',\n",
       "       '<a href=\"https://carlwhandlin.com\" rel=\"nofollow\">carl_tech_bot</a>',\n",
       "       '<a href=\"http://techprohub.com\" rel=\"nofollow\">techpromedia.net</a>',\n",
       "       '<a href=\"http://newsycbot.com/\" rel=\"nofollow\">newsycbot250</a>',\n",
       "       '<a href=\"https://cyberfeed.io\" rel=\"nofollow\">cyberfeedio</a>',\n",
       "       '<a href=\"https://eclincher.com\" rel=\"nofollow\">eClincher</a>',\n",
       "       '<a href=\"http://www.hubspot.com/\" rel=\"nofollow\">HubSpot</a>',\n",
       "       '<a href=\"https://help.twitter.com/en/using-twitter/how-to-tweet#source-labels\" rel=\"nofollow\">Crypto Blackmirror</a>',\n",
       "       '<a href=\"http://www.tweetGoogleAlerts.com\" rel=\"nofollow\">SendAlertsToTwitter</a>',\n",
       "       '<a href=\"https://app.agorapulse.com\" rel=\"nofollow\">Agorapulse app</a>',\n",
       "       '<a href=\"https://videoreports.net\" rel=\"nofollow\">Notifyfollowers</a>',\n",
       "       '<a href=\"https://conte.ai\" rel=\"nofollow\">Conte.ai</a>',\n",
       "       '<a href=\"http://hnfp.c17r.com\" rel=\"nofollow\">HN Front Page</a>',\n",
       "       '<a href=\"http://www.twitlonger.com\" rel=\"nofollow\">Twitlonger</a>',\n",
       "       '<a href=\"http://github.com/d4nt/HNTweets\" rel=\"nofollow\">HNTweets Bot</a>',\n",
       "       '<a href=\"https://www.pinboard.in\" rel=\"nofollow\">pinboard_pop</a>',\n",
       "       '<a href=\"https://wikipedia-trends.com\" rel=\"nofollow\">Social Trends </a>',\n",
       "       '<a href=\"https://www.semrush.com/\" rel=\"nofollow\">Semrush Social Media Tool</a>',\n",
       "       '<a href=\"http://www.weblogssl.com\" rel=\"nofollow\">TweetPublishedPost</a>',\n",
       "       '<a href=\"https://www.singularidad.com/\" rel=\"nofollow\">singularidad.com</a>',\n",
       "       '<a href=\"https://www.reddit.com/\" rel=\"nofollow\">Reddit Official</a>',\n",
       "       '<a href=\"https://cheapbotsdonequick.com\" rel=\"nofollow\">Cheap Bots, Done Quick!</a>',\n",
       "       '<a href=\"https://engagementbuilder.com/\" rel=\"nofollow\">EngagementBuilder.com</a>',\n",
       "       '<a href=\"https://studio.twitter.com\" rel=\"nofollow\">Twitter Media Studio</a>',\n",
       "       nan], dtype=object)"
      ]
     },
     "execution_count": 39,
     "metadata": {},
     "output_type": "execute_result"
    }
   ],
   "source": [
    "df['Source'].unique()"
   ]
  },
  {
   "cell_type": "code",
   "execution_count": 40,
   "id": "0d6cc045",
   "metadata": {
    "colab": {
     "base_uri": "https://localhost:8080/"
    },
    "id": "0d6cc045",
    "outputId": "c5e90e80-0ed9-40e1-dfe5-40a0c58add97"
   },
   "outputs": [
    {
     "data": {
      "text/plain": [
       "<a href=\"https://mobile.twitter.com\" rel=\"nofollow\">Twitter Web App</a>                 929\n",
       "<a href=\"http://twitter.com/download/iphone\" rel=\"nofollow\">Twitter for iPhone</a>      758\n",
       "<a href=\"http://twitter.com/download/android\" rel=\"nofollow\">Twitter for Android</a>    614\n",
       "<a href=\"https://ifttt.com\" rel=\"nofollow\">IFTTT</a>                                     71\n",
       "<a href=\"http://twitter.com/#!/download/ipad\" rel=\"nofollow\">Twitter for iPad</a>        62\n",
       "                                                                                       ... \n",
       "<a href=\"http://akibakokoubou.jp/mcm\" rel=\"nofollow\">Mind Change Marker</a>               1\n",
       "<a href=\"https://tweetoshi.com\" rel=\"nofollow\">Tweetoshi</a>                              1\n",
       "<a href=\"https://drawgpt.ai/\" rel=\"nofollow\">DrawGPT</a>                                  1\n",
       "<a href=\"http://instagram.com\" rel=\"nofollow\">Instagram</a>                               1\n",
       "<a href=\"https://studio.twitter.com\" rel=\"nofollow\">Twitter Media Studio</a>              1\n",
       "Name: Source, Length: 128, dtype: int64"
      ]
     },
     "execution_count": 40,
     "metadata": {},
     "output_type": "execute_result"
    }
   ],
   "source": [
    "df['Source'].value_counts()"
   ]
  },
  {
   "cell_type": "code",
   "execution_count": 41,
   "id": "c2b9af34",
   "metadata": {
    "colab": {
     "base_uri": "https://localhost:8080/",
     "height": 1000
    },
    "id": "c2b9af34",
    "outputId": "a4d81458-7987-4a5d-a6ed-04541db180aa"
   },
   "outputs": [
    {
     "data": {
      "image/png": "[encoded data removed]",
      "text/plain": [
       "<Figure size 1500x600 with 1 Axes>"
      ]
     },
     "metadata": {},
     "output_type": "display_data"
    }
   ],
   "source": [
    "plt.figure(figsize=(15,6))\n",
    "sns.countplot(data=df, x='Source', order=df[\"Source\"].value_counts().index[:10])\n",
    "plt.xticks(rotation = 90)\n",
    "plt.show()"
   ]
  },
  {
   "cell_type": "code",
   "execution_count": 42,
   "id": "5995d90c",
   "metadata": {
    "colab": {
     "base_uri": "https://localhost:8080/"
    },
    "id": "5995d90c",
    "outputId": "8a53fd0e-42de-4798-b0da-5e76d1eb83a3"
   },
   "outputs": [
    {
     "data": {
      "text/plain": [
       "array([ 0.,  1.,  2.,  4., 11.,  5.,  3., 10., 15.,  8., 12.,  9.,  6.,\n",
       "        7., 13., 14., 16., 23., nan])"
      ]
     },
     "execution_count": 42,
     "metadata": {},
     "output_type": "execute_result"
    }
   ],
   "source": [
    "df['hastag_counts'].unique()"
   ]
  },
  {
   "cell_type": "code",
   "execution_count": 43,
   "id": "371d8a54",
   "metadata": {
    "colab": {
     "base_uri": "https://localhost:8080/"
    },
    "id": "371d8a54",
    "outputId": "9f7d235c-919a-40a9-c202-c681c5753219"
   },
   "outputs": [
    {
     "data": {
      "text/plain": [
       "0.0     2076\n",
       "1.0      317\n",
       "2.0      167\n",
       "3.0      115\n",
       "4.0       69\n",
       "5.0       36\n",
       "6.0       19\n",
       "7.0       14\n",
       "11.0       6\n",
       "10.0       6\n",
       "13.0       5\n",
       "8.0        5\n",
       "9.0        5\n",
       "12.0       2\n",
       "15.0       2\n",
       "16.0       2\n",
       "14.0       1\n",
       "23.0       1\n",
       "Name: hastag_counts, dtype: int64"
      ]
     },
     "execution_count": 43,
     "metadata": {},
     "output_type": "execute_result"
    }
   ],
   "source": [
    "df['hastag_counts'].value_counts()"
   ]
  },
  {
   "cell_type": "code",
   "execution_count": 44,
   "id": "068ce29d",
   "metadata": {
    "colab": {
     "base_uri": "https://localhost:8080/",
     "height": 559
    },
    "id": "068ce29d",
    "outputId": "a39d6c77-56e6-4f96-c129-2dc0d068fc9e"
   },
   "outputs": [
    {
     "data": {
      "image/png": "[encoded data removed]",
      "text/plain": [
       "<Figure size 1500x600 with 1 Axes>"
      ]
     },
     "metadata": {},
     "output_type": "display_data"
    }
   ],
   "source": [
    "plt.figure(figsize=(15,6))\n",
    "sns.countplot(data=df, x='hastag_counts', order=df[\"hastag_counts\"].value_counts().index[:10])\n",
    "plt.xticks(rotation = 90)\n",
    "plt.show()"
   ]
  },
  {
   "cell_type": "code",
   "execution_count": 45,
   "id": "1cc7e9b2",
   "metadata": {
    "id": "1cc7e9b2"
   },
   "outputs": [],
   "source": [
    "df['Datetime'] = pd.to_datetime(df['Datetime'])"
   ]
  },
  {
   "cell_type": "code",
   "execution_count": 46,
   "id": "008024f0",
   "metadata": {
    "id": "008024f0"
   },
   "outputs": [],
   "source": [
    "df['year'] = df['Datetime'].dt.year\n",
    "df['month'] = df['Datetime'].dt.month\n",
    "df['day'] = df['Datetime'].dt.day\n",
    "df['dayofweek'] = df['Datetime'].dt.dayofweek\n",
    "df['hour'] = df['Datetime'].dt.hour\n",
    "df['minute'] = df['Datetime'].dt.minute\n",
    "df['dayofyear'] = df['Datetime'].dt.dayofyear\n",
    "df['date_only'] = df['Datetime'].dt.date"
   ]
  },
  {
   "cell_type": "code",
   "execution_count": 47,
   "id": "27360ebd",
   "metadata": {
    "id": "27360ebd"
   },
   "outputs": [],
   "source": [
    "tweets_agg_df = df.groupby([\"date_only\"])[\"Text\"].count().reset_index()\n",
    "tweets_agg_df.columns = [\"date_only\", \"count\"]"
   ]
  },
  {
   "cell_type": "code",
   "execution_count": 48,
   "id": "56b96d5c",
   "metadata": {
    "id": "56b96d5c"
   },
   "outputs": [],
   "source": [
    "def plot_time_variation(df, x='date_only', y='count', hue=None, size=1, title=\"\", is_log=False):\n",
    "    sns.set(style=\"whitegrid\")\n",
    "    paper_rc = {'lines.linewidth': 3, 'lines.markersize': 20}\n",
    "    sns.set_context(\"paper\", rc = paper_rc)\n",
    "    f, ax = plt.subplots(1,1, figsize=(4*size,3*size))\n",
    "    g = sns.lineplot(x=x, y=y, hue=hue, data=df)\n",
    "    plt.xticks(rotation=90)\n",
    "    if hue:\n",
    "        plt.title(f'{y} grouped by {hue} | {title}')\n",
    "    else:\n",
    "        plt.title(f'{y} | {title}')\n",
    "    if(is_log):\n",
    "        ax.set(yscale=\"log\")\n",
    "    ax.grid(color='black', linestyle='dotted', linewidth=0.75)\n",
    "    plt.show()"
   ]
  },
  {
   "cell_type": "code",
   "execution_count": 49,
   "id": "2b9173a1",
   "metadata": {
    "colab": {
     "base_uri": "https://localhost:8080/",
     "height": 829
    },
    "id": "2b9173a1",
    "outputId": "d17df681-f504-4409-9538-aa964684c4d7"
   },
   "outputs": [
    {
     "data": {
      "image/png": "[encoded data removed]",
      "text/plain": [
       "<Figure size 1200x900 with 1 Axes>"
      ]
     },
     "metadata": {},
     "output_type": "display_data"
    }
   ],
   "source": [
    "plot_time_variation(tweets_agg_df, x='date_only', title=\"Number of tweets / day\",size=3)"
   ]
  },
  {
   "cell_type": "code",
   "execution_count": 50,
   "id": "83b4d8dc",
   "metadata": {
    "colab": {
     "base_uri": "https://localhost:8080/"
    },
    "id": "83b4d8dc",
    "outputId": "fbd90745-0e84-4c4d-bbc3-2a4a1fbd0c6b"
   },
   "outputs": [
    {
     "data": {
      "text/plain": [
       "array([6])"
      ]
     },
     "execution_count": 50,
     "metadata": {},
     "output_type": "execute_result"
    }
   ],
   "source": [
    "df['dayofweek'].unique()"
   ]
  },
  {
   "cell_type": "code",
   "execution_count": 51,
   "id": "bc3d3ef4",
   "metadata": {
    "colab": {
     "base_uri": "https://localhost:8080/"
    },
    "id": "bc3d3ef4",
    "outputId": "30d8d187-330d-4574-ca06-d57d56d2896b"
   },
   "outputs": [
    {
     "data": {
      "text/plain": [
       "6    2849\n",
       "Name: dayofweek, dtype: int64"
      ]
     },
     "execution_count": 51,
     "metadata": {},
     "output_type": "execute_result"
    }
   ],
   "source": [
    "df['dayofweek'].value_counts()"
   ]
  },
  {
   "cell_type": "code",
   "execution_count": 52,
   "id": "88a8a252",
   "metadata": {
    "colab": {
     "base_uri": "https://localhost:8080/",
     "height": 542
    },
    "id": "88a8a252",
    "outputId": "eba6cd97-2e71-4907-f457-9fd23565fa8b"
   },
   "outputs": [
    {
     "data": {
      "image/png": "[encoded data removed]",
      "text/plain": [
       "<Figure size 1500x600 with 1 Axes>"
      ]
     },
     "metadata": {},
     "output_type": "display_data"
    }
   ],
   "source": [
    "plt.figure(figsize=(15,6))\n",
    "sns.countplot(data=df, x='dayofweek')\n",
    "plt.show()"
   ]
  },
  {
   "cell_type": "code",
   "execution_count": 53,
   "id": "436c0cef",
   "metadata": {
    "colab": {
     "base_uri": "https://localhost:8080/"
    },
    "id": "436c0cef",
    "outputId": "8df1c473-cf36-4598-e768-4a6645b2ef96"
   },
   "outputs": [
    {
     "data": {
      "text/plain": [
       "array([22])"
      ]
     },
     "execution_count": 53,
     "metadata": {},
     "output_type": "execute_result"
    }
   ],
   "source": [
    "df['dayofyear'].unique()"
   ]
  },
  {
   "cell_type": "code",
   "execution_count": 54,
   "id": "05dd9ef2",
   "metadata": {
    "colab": {
     "base_uri": "https://localhost:8080/"
    },
    "id": "05dd9ef2",
    "outputId": "b037a9f1-c477-4499-cad3-e3dda4bc8b53"
   },
   "outputs": [
    {
     "data": {
      "text/plain": [
       "22    2849\n",
       "Name: dayofyear, dtype: int64"
      ]
     },
     "execution_count": 54,
     "metadata": {},
     "output_type": "execute_result"
    }
   ],
   "source": [
    "df['dayofyear'].value_counts()"
   ]
  },
  {
   "cell_type": "code",
   "execution_count": 55,
   "id": "3de6021b",
   "metadata": {
    "colab": {
     "base_uri": "https://localhost:8080/",
     "height": 542
    },
    "id": "3de6021b",
    "outputId": "b5893cc6-1a42-4f19-dfe0-6e2a86b47b02"
   },
   "outputs": [
    {
     "data": {
      "image/png": "[encoded data removed]",
      "text/plain": [
       "<Figure size 1500x600 with 1 Axes>"
      ]
     },
     "metadata": {},
     "output_type": "display_data"
    }
   ],
   "source": [
    "plt.figure(figsize=(15,6))\n",
    "sns.countplot(data=df, x='dayofyear')\n",
    "plt.show()\n"
   ]
  },
  {
   "cell_type": "code",
   "execution_count": 56,
   "id": "70b7ffac",
   "metadata": {
    "colab": {
     "base_uri": "https://localhost:8080/"
    },
    "id": "70b7ffac",
    "outputId": "e3738193-d038-40ba-ed27-850b37fb037e"
   },
   "outputs": [
    {
     "data": {
      "text/plain": [
       "array([datetime.date(2023, 1, 22)], dtype=object)"
      ]
     },
     "execution_count": 56,
     "metadata": {},
     "output_type": "execute_result"
    }
   ],
   "source": [
    "df['date_only'].unique()"
   ]
  },
  {
   "cell_type": "code",
   "execution_count": 57,
   "id": "d72c53b1",
   "metadata": {
    "colab": {
     "base_uri": "https://localhost:8080/"
    },
    "id": "d72c53b1",
    "outputId": "a9d896e2-b499-4aa0-999e-8f6bb768607e"
   },
   "outputs": [
    {
     "data": {
      "text/plain": [
       "2023-01-22    2849\n",
       "Name: date_only, dtype: int64"
      ]
     },
     "execution_count": 57,
     "metadata": {},
     "output_type": "execute_result"
    }
   ],
   "source": [
    "df['date_only'].value_counts()"
   ]
  },
  {
   "cell_type": "code",
   "execution_count": 58,
   "id": "3aac745b",
   "metadata": {
    "colab": {
     "base_uri": "https://localhost:8080/",
     "height": 542
    },
    "id": "3aac745b",
    "outputId": "9f6054c2-2d20-4b0a-e40a-b560900d2e03"
   },
   "outputs": [
    {
     "data": {
      "image/png": "[encoded data removed]",
      "text/plain": [
       "<Figure size 1500x600 with 1 Axes>"
      ]
     },
     "metadata": {},
     "output_type": "display_data"
    }
   ],
   "source": [
    "plt.figure(figsize=(15,6))\n",
    "sns.countplot(data=df, x='date_only')\n",
    "plt.show()"
   ]
  },
  {
   "cell_type": "code",
   "execution_count": 59,
   "id": "a765fa6d",
   "metadata": {
    "colab": {
     "base_uri": "https://localhost:8080/"
    },
    "id": "a765fa6d",
    "outputId": "678c17e4-694d-42de-b94c-c5a225b4f875"
   },
   "outputs": [
    {
     "data": {
      "text/plain": [
       "array([13, 14, 15, 16])"
      ]
     },
     "execution_count": 59,
     "metadata": {},
     "output_type": "execute_result"
    }
   ],
   "source": [
    "df['hour'].unique()"
   ]
  },
  {
   "cell_type": "code",
   "execution_count": 60,
   "id": "3a34411c",
   "metadata": {
    "colab": {
     "base_uri": "https://localhost:8080/"
    },
    "id": "3a34411c",
    "outputId": "395a616d-cbce-4f15-c54a-4655ad977fe6"
   },
   "outputs": [
    {
     "data": {
      "text/plain": [
       "14    1168\n",
       "15    1100\n",
       "16     337\n",
       "13     244\n",
       "Name: hour, dtype: int64"
      ]
     },
     "execution_count": 60,
     "metadata": {},
     "output_type": "execute_result"
    }
   ],
   "source": [
    "df['hour'].value_counts()"
   ]
  },
  {
   "cell_type": "code",
   "execution_count": 61,
   "id": "b01d2831",
   "metadata": {
    "colab": {
     "base_uri": "https://localhost:8080/",
     "height": 542
    },
    "id": "b01d2831",
    "outputId": "a118ee22-1cb3-4d65-add5-d7f190ceb857"
   },
   "outputs": [
    {
     "data": {
      "image/png": "[encoded data removed]",
      "text/plain": [
       "<Figure size 1500x600 with 1 Axes>"
      ]
     },
     "metadata": {},
     "output_type": "display_data"
    }
   ],
   "source": [
    "plt.figure(figsize=(15,6))\n",
    "sns.countplot(data=df, x='hour')\n",
    "plt.show()"
   ]
  },
  {
   "cell_type": "code",
   "execution_count": 62,
   "id": "e8251313",
   "metadata": {
    "colab": {
     "base_uri": "https://localhost:8080/"
    },
    "id": "e8251313",
    "outputId": "192bb7e7-3a5e-4305-cb22-12e5205b7159"
   },
   "outputs": [
    {
     "data": {
      "text/plain": [
       "array([44, 45, 46, 47, 48, 49, 50, 51, 52, 53, 54, 55, 56, 57, 58, 59,  0,\n",
       "        1,  2,  3,  4,  5,  6,  7,  8,  9, 10, 11, 12, 13, 14, 15, 16, 17,\n",
       "       18, 19, 20, 21, 22, 23, 24, 25, 26, 27, 28, 29, 30, 31, 32, 33, 34,\n",
       "       35, 36, 37, 38, 39, 40, 41, 42, 43])"
      ]
     },
     "execution_count": 62,
     "metadata": {},
     "output_type": "execute_result"
    }
   ],
   "source": [
    "df['minute'].unique()"
   ]
  },
  {
   "cell_type": "code",
   "execution_count": 63,
   "id": "ca739711",
   "metadata": {
    "colab": {
     "base_uri": "https://localhost:8080/"
    },
    "id": "ca739711",
    "outputId": "9d4d0735-945b-41d0-a0aa-f72f86c99cf0"
   },
   "outputs": [
    {
     "data": {
      "text/plain": [
       "0     109\n",
       "48     75\n",
       "15     71\n",
       "50     69\n",
       "1      65\n",
       "5      62\n",
       "58     61\n",
       "12     61\n",
       "45     60\n",
       "52     59\n",
       "11     57\n",
       "54     57\n",
       "10     56\n",
       "14     55\n",
       "56     54\n",
       "3      53\n",
       "7      52\n",
       "30     51\n",
       "2      51\n",
       "49     51\n",
       "51     51\n",
       "6      51\n",
       "53     50\n",
       "16     50\n",
       "59     50\n",
       "34     49\n",
       "29     49\n",
       "46     47\n",
       "9      46\n",
       "55     46\n",
       "42     45\n",
       "57     45\n",
       "20     44\n",
       "8      44\n",
       "17     44\n",
       "13     44\n",
       "22     43\n",
       "41     43\n",
       "40     43\n",
       "28     43\n",
       "4      43\n",
       "35     43\n",
       "47     41\n",
       "18     40\n",
       "21     39\n",
       "38     38\n",
       "23     37\n",
       "24     37\n",
       "44     35\n",
       "25     35\n",
       "43     35\n",
       "32     34\n",
       "39     34\n",
       "33     31\n",
       "27     31\n",
       "31     30\n",
       "36     28\n",
       "26     28\n",
       "37     27\n",
       "19     27\n",
       "Name: minute, dtype: int64"
      ]
     },
     "execution_count": 63,
     "metadata": {},
     "output_type": "execute_result"
    }
   ],
   "source": [
    "df['minute'].value_counts()"
   ]
  },
  {
   "cell_type": "code",
   "execution_count": 64,
   "id": "f6b6eb81",
   "metadata": {
    "colab": {
     "base_uri": "https://localhost:8080/",
     "height": 542
    },
    "id": "f6b6eb81",
    "outputId": "2ec10d76-e249-4448-9669-e8356a321ddc",
    "scrolled": true
   },
   "outputs": [
    {
     "data": {
      "image/png": "[encoded data removed]",
      "text/plain": [
       "<Figure size 1500x600 with 1 Axes>"
      ]
     },
     "metadata": {},
     "output_type": "display_data"
    }
   ],
   "source": [
    "plt.figure(figsize=(15,6))\n",
    "sns.countplot(data=df, x='minute')\n",
    "plt.show()"
   ]
  },
  {
   "cell_type": "markdown",
   "id": "c933c9bf",
   "metadata": {
    "id": "c933c9bf"
   },
   "source": [
    "### Analysing the tweets"
   ]
  },
  {
   "cell_type": "code",
   "execution_count": 65,
   "id": "8eb6ee52",
   "metadata": {
    "id": "8eb6ee52"
   },
   "outputs": [],
   "source": [
    "result = SentimentIntensityAnalyzer()\n",
    "def find_sentiment(post):\n",
    "    try:\n",
    "        if result.polarity_scores(post)[\"compound\"] > 0:\n",
    "            return \"Positive\"\n",
    "        elif result.polarity_scores(post)[\"compound\"] < 0:\n",
    "            return \"Negative\"\n",
    "        else:\n",
    "            return \"Neutral\"\n",
    "    except:\n",
    "        return \"Neutral\""
   ]
  },
  {
   "cell_type": "code",
   "execution_count": 66,
   "id": "cdb89464",
   "metadata": {
    "id": "cdb89464"
   },
   "outputs": [],
   "source": [
    "def plot_sentiment(df, feature, title):\n",
    "    counts = df[feature].value_counts()\n",
    "    percent = counts/sum(counts)\n",
    "\n",
    "    fig, (ax1, ax2) = plt.subplots(ncols=2, figsize=(12, 5))\n",
    "\n",
    "    colors = [\"green\", \"red\", \"blue\"]\n",
    "    counts.plot(kind='bar', ax=ax1, color=colors)\n",
    "    percent.plot(kind='bar', ax=ax2, color=colors)\n",
    "    ax1.set_ylabel(f'Counts : {title} sentiments', size=12)\n",
    "    ax2.set_ylabel(f'Percentage : {title} sentiments', size=12)\n",
    "    plt.suptitle(f\"Sentiment analysis: {title}\")\n",
    "    plt.tight_layout()\n",
    "    plt.show()"
   ]
  },
  {
   "cell_type": "code",
   "execution_count": 67,
   "id": "095b4e7e",
   "metadata": {
    "colab": {
     "base_uri": "https://localhost:8080/",
     "height": 512
    },
    "id": "095b4e7e",
    "outputId": "851d8170-7cfe-49e6-902c-f747d5c3940d"
   },
   "outputs": [
    {
     "data": {
      "image/png": "[encoded data removed]",
      "text/plain": [
       "<Figure size 1200x500 with 2 Axes>"
      ]
     },
     "metadata": {},
     "output_type": "display_data"
    }
   ],
   "source": [
    "df['text_sentiment'] = df['Text'].apply(lambda x: find_sentiment(x))\n",
    "plot_sentiment(df, 'text_sentiment', 'Text')"
   ]
  },
  {
   "cell_type": "code",
   "execution_count": 68,
   "id": "2634cb90",
   "metadata": {
    "id": "2634cb90"
   },
   "outputs": [],
   "source": [
    "tweets_agg_df = df.groupby([\"date_only\", \"text_sentiment\"])[\"Text\"].count().reset_index()\n",
    "tweets_agg_df.columns = [\"date_only\", \"text_sentiment\", \"count\"]"
   ]
  },
  {
   "cell_type": "code",
   "execution_count": null,
   "id": "76963cb0",
   "metadata": {
    "id": "76963cb0",
    "scrolled": true
   },
   "outputs": [],
   "source": [
    "plot_time_variation(tweets_agg_df, x='date_only', hue=\"text_sentiment\", title=\"Number of tweets / day (grouped by sentiment)\",size=3)"
   ]
  },
  {
   "cell_type": "code",
   "execution_count": 70,
   "id": "d2e04f17",
   "metadata": {
    "colab": {
     "base_uri": "https://localhost:8080/",
     "height": 956
    },
    "id": "d2e04f17",
    "outputId": "197e49ec-08ba-494d-b3f2-7979bb55d2df"
   },
   "outputs": [
    {
     "data": {
      "text/html": [
       "\n",
       "\n",
       "  <div id=\"df-62659410-b9f6-4c63-8861-caa2ab4c901e\">\n",
       "    <div class=\"colab-df-container\">\n",
       "      <div>\n",
       "<style scoped>\n",
       "    .dataframe tbody tr th:only-of-type {\n",
       "        vertical-align: middle;\n",
       "    }\n",
       "\n",
       "    .dataframe tbody tr th {\n",
       "        vertical-align: top;\n",
       "    }\n",
       "\n",
       "    .dataframe thead th {\n",
       "        text-align: right;\n",
       "    }\n",
       "</style>\n",
       "<table border=\"1\" class=\"dataframe\">\n",
       "  <thead>\n",
       "    <tr style=\"text-align: right;\">\n",
       "      <th></th>\n",
       "      <th>Datetime</th>\n",
       "      <th>Tweet Id</th>\n",
       "      <th>Text</th>\n",
       "      <th>Username</th>\n",
       "      <th>Permalink</th>\n",
       "      <th>User</th>\n",
       "      <th>Outlinks</th>\n",
       "      <th>CountLinks</th>\n",
       "      <th>ReplyCount</th>\n",
       "      <th>RetweetCount</th>\n",
       "      <th>...</th>\n",
       "      <th>hastag_counts</th>\n",
       "      <th>year</th>\n",
       "      <th>month</th>\n",
       "      <th>day</th>\n",
       "      <th>dayofweek</th>\n",
       "      <th>hour</th>\n",
       "      <th>minute</th>\n",
       "      <th>dayofyear</th>\n",
       "      <th>date_only</th>\n",
       "      <th>text_sentiment</th>\n",
       "    </tr>\n",
       "  </thead>\n",
       "  <tbody>\n",
       "    <tr>\n",
       "      <th>0</th>\n",
       "      <td>2023-01-22 13:44:34+00:00</td>\n",
       "      <td>1617156270871699456</td>\n",
       "      <td>ChatGPTで遊ぶの忘れてた！！\\n書類作るコード書いてみてほしいのと、\\nどこまで思考整...</td>\n",
       "      <td>mochico0123</td>\n",
       "      <td>https://twitter.com/mochico0123/status/1617156...</td>\n",
       "      <td>https://twitter.com/mochico0123</td>\n",
       "      <td>NaN</td>\n",
       "      <td>NaN</td>\n",
       "      <td>1.0</td>\n",
       "      <td>0.0</td>\n",
       "      <td>...</td>\n",
       "      <td>0.0</td>\n",
       "      <td>2023</td>\n",
       "      <td>1</td>\n",
       "      <td>22</td>\n",
       "      <td>6</td>\n",
       "      <td>13</td>\n",
       "      <td>44</td>\n",
       "      <td>22</td>\n",
       "      <td>2023-01-22</td>\n",
       "      <td>Neutral</td>\n",
       "    </tr>\n",
       "    <tr>\n",
       "      <th>1</th>\n",
       "      <td>2023-01-22 13:44:39+00:00</td>\n",
       "      <td>1617156291046133761</td>\n",
       "      <td>@AlexandrovnaIng Prohibition of ChatGPT has be...</td>\n",
       "      <td>Caput_LupinumSG</td>\n",
       "      <td>https://twitter.com/Caput_LupinumSG/status/161...</td>\n",
       "      <td>https://twitter.com/Caput_LupinumSG</td>\n",
       "      <td>NaN</td>\n",
       "      <td>NaN</td>\n",
       "      <td>1.0</td>\n",
       "      <td>0.0</td>\n",
       "      <td>...</td>\n",
       "      <td>0.0</td>\n",
       "      <td>2023</td>\n",
       "      <td>1</td>\n",
       "      <td>22</td>\n",
       "      <td>6</td>\n",
       "      <td>13</td>\n",
       "      <td>44</td>\n",
       "      <td>22</td>\n",
       "      <td>2023-01-22</td>\n",
       "      <td>Positive</td>\n",
       "    </tr>\n",
       "    <tr>\n",
       "      <th>2</th>\n",
       "      <td>2023-01-22 13:44:44+00:00</td>\n",
       "      <td>1617156308926349312</td>\n",
       "      <td>Schaut Euch an, was @fobizz @DianaKnodel alles...</td>\n",
       "      <td>ciffi</td>\n",
       "      <td>https://twitter.com/ciffi/status/1617156308926...</td>\n",
       "      <td>https://twitter.com/ciffi</td>\n",
       "      <td>['https://us02web.zoom.us/webinar/register/801...</td>\n",
       "      <td>['https://t.co/DsoeVJrPBp', 'https://t.co/HflT...</td>\n",
       "      <td>0.0</td>\n",
       "      <td>0.0</td>\n",
       "      <td>...</td>\n",
       "      <td>1.0</td>\n",
       "      <td>2023</td>\n",
       "      <td>1</td>\n",
       "      <td>22</td>\n",
       "      <td>6</td>\n",
       "      <td>13</td>\n",
       "      <td>44</td>\n",
       "      <td>22</td>\n",
       "      <td>2023-01-22</td>\n",
       "      <td>Negative</td>\n",
       "    </tr>\n",
       "    <tr>\n",
       "      <th>3</th>\n",
       "      <td>2023-01-22 13:44:49+00:00</td>\n",
       "      <td>1617156332297256961</td>\n",
       "      <td>Bow down to chatGPT 🫡..... https://t.co/ENTSzi...</td>\n",
       "      <td>Vishwasrisiri</td>\n",
       "      <td>https://twitter.com/Vishwasrisiri/status/16171...</td>\n",
       "      <td>https://twitter.com/Vishwasrisiri</td>\n",
       "      <td>['https://twitter.com/agadmator/status/1617155...</td>\n",
       "      <td>['https://t.co/ENTSzi2AQ9']</td>\n",
       "      <td>0.0</td>\n",
       "      <td>0.0</td>\n",
       "      <td>...</td>\n",
       "      <td>0.0</td>\n",
       "      <td>2023</td>\n",
       "      <td>1</td>\n",
       "      <td>22</td>\n",
       "      <td>6</td>\n",
       "      <td>13</td>\n",
       "      <td>44</td>\n",
       "      <td>22</td>\n",
       "      <td>2023-01-22</td>\n",
       "      <td>Neutral</td>\n",
       "    </tr>\n",
       "    <tr>\n",
       "      <th>4</th>\n",
       "      <td>2023-01-22 13:44:52+00:00</td>\n",
       "      <td>1617156345064570880</td>\n",
       "      <td>Profilinde vatan, Türkiye falan yazan bireyler...</td>\n",
       "      <td>0xGenetikciniz</td>\n",
       "      <td>https://twitter.com/0xGenetikciniz/status/1617...</td>\n",
       "      <td>https://twitter.com/0xGenetikciniz</td>\n",
       "      <td>NaN</td>\n",
       "      <td>NaN</td>\n",
       "      <td>0.0</td>\n",
       "      <td>0.0</td>\n",
       "      <td>...</td>\n",
       "      <td>0.0</td>\n",
       "      <td>2023</td>\n",
       "      <td>1</td>\n",
       "      <td>22</td>\n",
       "      <td>6</td>\n",
       "      <td>13</td>\n",
       "      <td>44</td>\n",
       "      <td>22</td>\n",
       "      <td>2023-01-22</td>\n",
       "      <td>Neutral</td>\n",
       "    </tr>\n",
       "    <tr>\n",
       "      <th>...</th>\n",
       "      <td>...</td>\n",
       "      <td>...</td>\n",
       "      <td>...</td>\n",
       "      <td>...</td>\n",
       "      <td>...</td>\n",
       "      <td>...</td>\n",
       "      <td>...</td>\n",
       "      <td>...</td>\n",
       "      <td>...</td>\n",
       "      <td>...</td>\n",
       "      <td>...</td>\n",
       "      <td>...</td>\n",
       "      <td>...</td>\n",
       "      <td>...</td>\n",
       "      <td>...</td>\n",
       "      <td>...</td>\n",
       "      <td>...</td>\n",
       "      <td>...</td>\n",
       "      <td>...</td>\n",
       "      <td>...</td>\n",
       "      <td>...</td>\n",
       "    </tr>\n",
       "    <tr>\n",
       "      <th>2844</th>\n",
       "      <td>2023-01-22 16:17:01+00:00</td>\n",
       "      <td>1617194634765008899</td>\n",
       "      <td>It's fun to watch ChatGPT get simple history q...</td>\n",
       "      <td>pardon_mi</td>\n",
       "      <td>https://twitter.com/pardon_mi/status/161719463...</td>\n",
       "      <td>https://twitter.com/pardon_mi</td>\n",
       "      <td>NaN</td>\n",
       "      <td>NaN</td>\n",
       "      <td>3.0</td>\n",
       "      <td>13.0</td>\n",
       "      <td>...</td>\n",
       "      <td>0.0</td>\n",
       "      <td>2023</td>\n",
       "      <td>1</td>\n",
       "      <td>22</td>\n",
       "      <td>6</td>\n",
       "      <td>16</td>\n",
       "      <td>17</td>\n",
       "      <td>22</td>\n",
       "      <td>2023-01-22</td>\n",
       "      <td>Negative</td>\n",
       "    </tr>\n",
       "    <tr>\n",
       "      <th>2845</th>\n",
       "      <td>2023-01-22 16:17:07+00:00</td>\n",
       "      <td>1617194660304125954</td>\n",
       "      <td>@bennibaehr Je nachdem wie häufig ich davon ab...</td>\n",
       "      <td>xSakros</td>\n",
       "      <td>https://twitter.com/xSakros/status/16171946603...</td>\n",
       "      <td>https://twitter.com/xSakros</td>\n",
       "      <td>NaN</td>\n",
       "      <td>NaN</td>\n",
       "      <td>0.0</td>\n",
       "      <td>0.0</td>\n",
       "      <td>...</td>\n",
       "      <td>0.0</td>\n",
       "      <td>2023</td>\n",
       "      <td>1</td>\n",
       "      <td>22</td>\n",
       "      <td>6</td>\n",
       "      <td>16</td>\n",
       "      <td>17</td>\n",
       "      <td>22</td>\n",
       "      <td>2023-01-22</td>\n",
       "      <td>Negative</td>\n",
       "    </tr>\n",
       "    <tr>\n",
       "      <th>2846</th>\n",
       "      <td>2023-01-22 16:17:07+00:00</td>\n",
       "      <td>1617194658836393985</td>\n",
       "      <td>ChatGPTの有料プランを検討しようとアクセスしたら，ChatGPT is at capa...</td>\n",
       "      <td>igakunomichi</td>\n",
       "      <td>https://twitter.com/igakunomichi/status/161719...</td>\n",
       "      <td>https://twitter.com/igakunomichi</td>\n",
       "      <td>NaN</td>\n",
       "      <td>NaN</td>\n",
       "      <td>0.0</td>\n",
       "      <td>0.0</td>\n",
       "      <td>...</td>\n",
       "      <td>0.0</td>\n",
       "      <td>2023</td>\n",
       "      <td>1</td>\n",
       "      <td>22</td>\n",
       "      <td>6</td>\n",
       "      <td>16</td>\n",
       "      <td>17</td>\n",
       "      <td>22</td>\n",
       "      <td>2023-01-22</td>\n",
       "      <td>Neutral</td>\n",
       "    </tr>\n",
       "    <tr>\n",
       "      <th>2847</th>\n",
       "      <td>2023-01-22 16:17:15+00:00</td>\n",
       "      <td>1617194694542528513</td>\n",
       "      <td>@y2m4k7 CHATGPTっていうツール　文章系ならなんでもプログラミングもHTMLもス...</td>\n",
       "      <td>sakuraba_yuri</td>\n",
       "      <td>https://twitter.com/sakuraba_yuri/status/16171...</td>\n",
       "      <td>https://twitter.com/sakuraba_yuri</td>\n",
       "      <td>NaN</td>\n",
       "      <td>NaN</td>\n",
       "      <td>1.0</td>\n",
       "      <td>0.0</td>\n",
       "      <td>...</td>\n",
       "      <td>0.0</td>\n",
       "      <td>2023</td>\n",
       "      <td>1</td>\n",
       "      <td>22</td>\n",
       "      <td>6</td>\n",
       "      <td>16</td>\n",
       "      <td>17</td>\n",
       "      <td>22</td>\n",
       "      <td>2023-01-22</td>\n",
       "      <td>Neutral</td>\n",
       "    </tr>\n",
       "    <tr>\n",
       "      <th>2848</th>\n",
       "      <td>2023-01-22 16:17:21+00:00</td>\n",
       "      <td>1617194717816492037</td>\n",
       "      <td>OpenAI está trabalhando em um ritmo mais lento...</td>\n",
       "      <td>NaN</td>\n",
       "      <td>NaN</td>\n",
       "      <td>NaN</td>\n",
       "      <td>NaN</td>\n",
       "      <td>NaN</td>\n",
       "      <td>NaN</td>\n",
       "      <td>NaN</td>\n",
       "      <td>...</td>\n",
       "      <td>NaN</td>\n",
       "      <td>2023</td>\n",
       "      <td>1</td>\n",
       "      <td>22</td>\n",
       "      <td>6</td>\n",
       "      <td>16</td>\n",
       "      <td>17</td>\n",
       "      <td>22</td>\n",
       "      <td>2023-01-22</td>\n",
       "      <td>Neutral</td>\n",
       "    </tr>\n",
       "  </tbody>\n",
       "</table>\n",
       "<p>2849 rows × 29 columns</p>\n",
       "</div>\n",
       "      <button class=\"colab-df-convert\" onclick=\"convertToInteractive('df-62659410-b9f6-4c63-8861-caa2ab4c901e')\"\n",
       "              title=\"Convert this dataframe to an interactive table.\"\n",
       "              style=\"display:none;\">\n",
       "\n",
       "  <svg xmlns=\"http://www.w3.org/2000/svg\" height=\"24px\"viewBox=\"0 0 24 24\"\n",
       "       width=\"24px\">\n",
       "    <path d=\"M0 0h24v24H0V0z\" fill=\"none\"/>\n",
       "    <path d=\"M18.56 5.44l.94 2.06.94-2.06 2.06-.94-2.06-.94-.94-2.06-.94 2.06-2.06.94zm-11 1L8.5 8.5l.94-2.06 2.06-.94-2.06-.94L8.5 2.5l-.94 2.06-2.06.94zm10 10l.94 2.06.94-2.06 2.06-.94-2.06-.94-.94-2.06-.94 2.06-2.06.94z\"/><path d=\"M17.41 7.96l-1.37-1.37c-.4-.4-.92-.59-1.43-.59-.52 0-1.04.2-1.43.59L10.3 9.45l-7.72 7.72c-.78.78-.78 2.05 0 2.83L4 21.41c.39.39.9.59 1.41.59.51 0 1.02-.2 1.41-.59l7.78-7.78 2.81-2.81c.8-.78.8-2.07 0-2.86zM5.41 20L4 18.59l7.72-7.72 1.47 1.35L5.41 20z\"/>\n",
       "  </svg>\n",
       "      </button>\n",
       "\n",
       "\n",
       "\n",
       "    <div id=\"df-3ebdba51-e240-470c-b6e7-ff09cce71302\">\n",
       "      <button class=\"colab-df-quickchart\" onclick=\"quickchart('df-3ebdba51-e240-470c-b6e7-ff09cce71302')\"\n",
       "              title=\"Suggest charts.\"\n",
       "              style=\"display:none;\">\n",
       "\n",
       "<svg xmlns=\"http://www.w3.org/2000/svg\" height=\"24px\"viewBox=\"0 0 24 24\"\n",
       "     width=\"24px\">\n",
       "    <g>\n",
       "        <path d=\"M19 3H5c-1.1 0-2 .9-2 2v14c0 1.1.9 2 2 2h14c1.1 0 2-.9 2-2V5c0-1.1-.9-2-2-2zM9 17H7v-7h2v7zm4 0h-2V7h2v10zm4 0h-2v-4h2v4z\"/>\n",
       "    </g>\n",
       "</svg>\n",
       "      </button>\n",
       "    </div>\n",
       "\n",
       "<style>\n",
       "  .colab-df-quickchart {\n",
       "    background-color: #E8F0FE;\n",
       "    border: none;\n",
       "    border-radius: 50%;\n",
       "    cursor: pointer;\n",
       "    display: none;\n",
       "    fill: #1967D2;\n",
       "    height: 32px;\n",
       "    padding: 0 0 0 0;\n",
       "    width: 32px;\n",
       "  }\n",
       "\n",
       "  .colab-df-quickchart:hover {\n",
       "    background-color: #E2EBFA;\n",
       "    box-shadow: 0px 1px 2px rgba(60, 64, 67, 0.3), 0px 1px 3px 1px rgba(60, 64, 67, 0.15);\n",
       "    fill: #174EA6;\n",
       "  }\n",
       "\n",
       "  [theme=dark] .colab-df-quickchart {\n",
       "    background-color: #3B4455;\n",
       "    fill: #D2E3FC;\n",
       "  }\n",
       "\n",
       "  [theme=dark] .colab-df-quickchart:hover {\n",
       "    background-color: #434B5C;\n",
       "    box-shadow: 0px 1px 3px 1px rgba(0, 0, 0, 0.15);\n",
       "    filter: drop-shadow(0px 1px 2px rgba(0, 0, 0, 0.3));\n",
       "    fill: #FFFFFF;\n",
       "  }\n",
       "</style>\n",
       "\n",
       "    <script>\n",
       "      async function quickchart(key) {\n",
       "        const containerElement = document.querySelector('#' + key);\n",
       "        const charts = await google.colab.kernel.invokeFunction(\n",
       "            'suggestCharts', [key], {});\n",
       "      }\n",
       "    </script>\n",
       "\n",
       "      <script>\n",
       "\n",
       "function displayQuickchartButton(domScope) {\n",
       "  let quickchartButtonEl =\n",
       "    domScope.querySelector('#df-3ebdba51-e240-470c-b6e7-ff09cce71302 button.colab-df-quickchart');\n",
       "  quickchartButtonEl.style.display =\n",
       "    google.colab.kernel.accessAllowed ? 'block' : 'none';\n",
       "}\n",
       "\n",
       "        displayQuickchartButton(document);\n",
       "      </script>\n",
       "      <style>\n",
       "    .colab-df-container {\n",
       "      display:flex;\n",
       "      flex-wrap:wrap;\n",
       "      gap: 12px;\n",
       "    }\n",
       "\n",
       "    .colab-df-convert {\n",
       "      background-color: #E8F0FE;\n",
       "      border: none;\n",
       "      border-radius: 50%;\n",
       "      cursor: pointer;\n",
       "      display: none;\n",
       "      fill: #1967D2;\n",
       "      height: 32px;\n",
       "      padding: 0 0 0 0;\n",
       "      width: 32px;\n",
       "    }\n",
       "\n",
       "    .colab-df-convert:hover {\n",
       "      background-color: #E2EBFA;\n",
       "      box-shadow: 0px 1px 2px rgba(60, 64, 67, 0.3), 0px 1px 3px 1px rgba(60, 64, 67, 0.15);\n",
       "      fill: #174EA6;\n",
       "    }\n",
       "\n",
       "    [theme=dark] .colab-df-convert {\n",
       "      background-color: #3B4455;\n",
       "      fill: #D2E3FC;\n",
       "    }\n",
       "\n",
       "    [theme=dark] .colab-df-convert:hover {\n",
       "      background-color: #434B5C;\n",
       "      box-shadow: 0px 1px 3px 1px rgba(0, 0, 0, 0.15);\n",
       "      filter: drop-shadow(0px 1px 2px rgba(0, 0, 0, 0.3));\n",
       "      fill: #FFFFFF;\n",
       "    }\n",
       "  </style>\n",
       "\n",
       "      <script>\n",
       "        const buttonEl =\n",
       "          document.querySelector('#df-62659410-b9f6-4c63-8861-caa2ab4c901e button.colab-df-convert');\n",
       "        buttonEl.style.display =\n",
       "          google.colab.kernel.accessAllowed ? 'block' : 'none';\n",
       "\n",
       "        async function convertToInteractive(key) {\n",
       "          const element = document.querySelector('#df-62659410-b9f6-4c63-8861-caa2ab4c901e');\n",
       "          const dataTable =\n",
       "            await google.colab.kernel.invokeFunction('convertToInteractive',\n",
       "                                                     [key], {});\n",
       "          if (!dataTable) return;\n",
       "\n",
       "          const docLinkHtml = 'Like what you see? Visit the ' +\n",
       "            '<a target=\"_blank\" href=https://colab.research.google.com/notebooks/data_table.ipynb>data table notebook</a>'\n",
       "            + ' to learn more about interactive tables.';\n",
       "          element.innerHTML = '';\n",
       "          dataTable['output_type'] = 'display_data';\n",
       "          await google.colab.output.renderOutput(dataTable, element);\n",
       "          const docLink = document.createElement('div');\n",
       "          docLink.innerHTML = docLinkHtml;\n",
       "          element.appendChild(docLink);\n",
       "        }\n",
       "      </script>\n",
       "    </div>\n",
       "  </div>\n"
      ],
      "text/plain": [
       "                      Datetime             Tweet Id  \\\n",
       "0    2023-01-22 13:44:34+00:00  1617156270871699456   \n",
       "1    2023-01-22 13:44:39+00:00  1617156291046133761   \n",
       "2    2023-01-22 13:44:44+00:00  1617156308926349312   \n",
       "3    2023-01-22 13:44:49+00:00  1617156332297256961   \n",
       "4    2023-01-22 13:44:52+00:00  1617156345064570880   \n",
       "...                        ...                  ...   \n",
       "2844 2023-01-22 16:17:01+00:00  1617194634765008899   \n",
       "2845 2023-01-22 16:17:07+00:00  1617194660304125954   \n",
       "2846 2023-01-22 16:17:07+00:00  1617194658836393985   \n",
       "2847 2023-01-22 16:17:15+00:00  1617194694542528513   \n",
       "2848 2023-01-22 16:17:21+00:00  1617194717816492037   \n",
       "\n",
       "                                                   Text         Username  \\\n",
       "0     ChatGPTで遊ぶの忘れてた！！\\n書類作るコード書いてみてほしいのと、\\nどこまで思考整...      mochico0123   \n",
       "1     @AlexandrovnaIng Prohibition of ChatGPT has be...  Caput_LupinumSG   \n",
       "2     Schaut Euch an, was @fobizz @DianaKnodel alles...            ciffi   \n",
       "3     Bow down to chatGPT 🫡..... https://t.co/ENTSzi...    Vishwasrisiri   \n",
       "4     Profilinde vatan, Türkiye falan yazan bireyler...   0xGenetikciniz   \n",
       "...                                                 ...              ...   \n",
       "2844  It's fun to watch ChatGPT get simple history q...        pardon_mi   \n",
       "2845  @bennibaehr Je nachdem wie häufig ich davon ab...          xSakros   \n",
       "2846  ChatGPTの有料プランを検討しようとアクセスしたら，ChatGPT is at capa...     igakunomichi   \n",
       "2847  @y2m4k7 CHATGPTっていうツール　文章系ならなんでもプログラミングもHTMLもス...    sakuraba_yuri   \n",
       "2848  OpenAI está trabalhando em um ritmo mais lento...              NaN   \n",
       "\n",
       "                                              Permalink  \\\n",
       "0     https://twitter.com/mochico0123/status/1617156...   \n",
       "1     https://twitter.com/Caput_LupinumSG/status/161...   \n",
       "2     https://twitter.com/ciffi/status/1617156308926...   \n",
       "3     https://twitter.com/Vishwasrisiri/status/16171...   \n",
       "4     https://twitter.com/0xGenetikciniz/status/1617...   \n",
       "...                                                 ...   \n",
       "2844  https://twitter.com/pardon_mi/status/161719463...   \n",
       "2845  https://twitter.com/xSakros/status/16171946603...   \n",
       "2846  https://twitter.com/igakunomichi/status/161719...   \n",
       "2847  https://twitter.com/sakuraba_yuri/status/16171...   \n",
       "2848                                                NaN   \n",
       "\n",
       "                                     User  \\\n",
       "0         https://twitter.com/mochico0123   \n",
       "1     https://twitter.com/Caput_LupinumSG   \n",
       "2               https://twitter.com/ciffi   \n",
       "3       https://twitter.com/Vishwasrisiri   \n",
       "4      https://twitter.com/0xGenetikciniz   \n",
       "...                                   ...   \n",
       "2844        https://twitter.com/pardon_mi   \n",
       "2845          https://twitter.com/xSakros   \n",
       "2846     https://twitter.com/igakunomichi   \n",
       "2847    https://twitter.com/sakuraba_yuri   \n",
       "2848                                  NaN   \n",
       "\n",
       "                                               Outlinks  \\\n",
       "0                                                   NaN   \n",
       "1                                                   NaN   \n",
       "2     ['https://us02web.zoom.us/webinar/register/801...   \n",
       "3     ['https://twitter.com/agadmator/status/1617155...   \n",
       "4                                                   NaN   \n",
       "...                                                 ...   \n",
       "2844                                                NaN   \n",
       "2845                                                NaN   \n",
       "2846                                                NaN   \n",
       "2847                                                NaN   \n",
       "2848                                                NaN   \n",
       "\n",
       "                                             CountLinks  ReplyCount  \\\n",
       "0                                                   NaN         1.0   \n",
       "1                                                   NaN         1.0   \n",
       "2     ['https://t.co/DsoeVJrPBp', 'https://t.co/HflT...         0.0   \n",
       "3                           ['https://t.co/ENTSzi2AQ9']         0.0   \n",
       "4                                                   NaN         0.0   \n",
       "...                                                 ...         ...   \n",
       "2844                                                NaN         3.0   \n",
       "2845                                                NaN         0.0   \n",
       "2846                                                NaN         0.0   \n",
       "2847                                                NaN         1.0   \n",
       "2848                                                NaN         NaN   \n",
       "\n",
       "      RetweetCount  ...  hastag_counts  year  month day dayofweek hour minute  \\\n",
       "0              0.0  ...            0.0  2023      1  22         6   13     44   \n",
       "1              0.0  ...            0.0  2023      1  22         6   13     44   \n",
       "2              0.0  ...            1.0  2023      1  22         6   13     44   \n",
       "3              0.0  ...            0.0  2023      1  22         6   13     44   \n",
       "4              0.0  ...            0.0  2023      1  22         6   13     44   \n",
       "...            ...  ...            ...   ...    ...  ..       ...  ...    ...   \n",
       "2844          13.0  ...            0.0  2023      1  22         6   16     17   \n",
       "2845           0.0  ...            0.0  2023      1  22         6   16     17   \n",
       "2846           0.0  ...            0.0  2023      1  22         6   16     17   \n",
       "2847           0.0  ...            0.0  2023      1  22         6   16     17   \n",
       "2848           NaN  ...            NaN  2023      1  22         6   16     17   \n",
       "\n",
       "     dayofyear   date_only  text_sentiment  \n",
       "0           22  2023-01-22         Neutral  \n",
       "1           22  2023-01-22        Positive  \n",
       "2           22  2023-01-22        Negative  \n",
       "3           22  2023-01-22         Neutral  \n",
       "4           22  2023-01-22         Neutral  \n",
       "...        ...         ...             ...  \n",
       "2844        22  2023-01-22        Negative  \n",
       "2845        22  2023-01-22        Negative  \n",
       "2846        22  2023-01-22         Neutral  \n",
       "2847        22  2023-01-22         Neutral  \n",
       "2848        22  2023-01-22         Neutral  \n",
       "\n",
       "[2849 rows x 29 columns]"
      ]
     },
     "execution_count": 70,
     "metadata": {},
     "output_type": "execute_result"
    }
   ],
   "source": [
    "df"
   ]
  },
  {
   "cell_type": "code",
   "execution_count": 71,
   "id": "a6a32780",
   "metadata": {
    "colab": {
     "base_uri": "https://localhost:8080/",
     "height": 300
    },
    "id": "a6a32780",
    "outputId": "38e53d52-41e7-4dd4-b2b5-bfe0833ab966"
   },
   "outputs": [
    {
     "data": {
      "text/html": [
       "\n",
       "\n",
       "  <div id=\"df-2b443d6e-ab04-49d4-bcf7-2facb1bc7928\">\n",
       "    <div class=\"colab-df-container\">\n",
       "      <div>\n",
       "<style scoped>\n",
       "    .dataframe tbody tr th:only-of-type {\n",
       "        vertical-align: middle;\n",
       "    }\n",
       "\n",
       "    .dataframe tbody tr th {\n",
       "        vertical-align: top;\n",
       "    }\n",
       "\n",
       "    .dataframe thead th {\n",
       "        text-align: right;\n",
       "    }\n",
       "</style>\n",
       "<table border=\"1\" class=\"dataframe\">\n",
       "  <thead>\n",
       "    <tr style=\"text-align: right;\">\n",
       "      <th></th>\n",
       "      <th>Tweet Id</th>\n",
       "      <th>ReplyCount</th>\n",
       "      <th>RetweetCount</th>\n",
       "      <th>LikeCount</th>\n",
       "      <th>QuoteCount</th>\n",
       "      <th>ConversationId</th>\n",
       "      <th>hastag_counts</th>\n",
       "      <th>year</th>\n",
       "      <th>month</th>\n",
       "      <th>day</th>\n",
       "      <th>dayofweek</th>\n",
       "      <th>hour</th>\n",
       "      <th>minute</th>\n",
       "      <th>dayofyear</th>\n",
       "    </tr>\n",
       "  </thead>\n",
       "  <tbody>\n",
       "    <tr>\n",
       "      <th>count</th>\n",
       "      <td>2.849000e+03</td>\n",
       "      <td>2848.000000</td>\n",
       "      <td>2848.000000</td>\n",
       "      <td>2848.000000</td>\n",
       "      <td>2848.000000</td>\n",
       "      <td>2.848000e+03</td>\n",
       "      <td>2848.000000</td>\n",
       "      <td>2849.0</td>\n",
       "      <td>2849.0</td>\n",
       "      <td>2849.0</td>\n",
       "      <td>2849.0</td>\n",
       "      <td>2849.000000</td>\n",
       "      <td>2849.000000</td>\n",
       "      <td>2849.0</td>\n",
       "    </tr>\n",
       "    <tr>\n",
       "      <th>mean</th>\n",
       "      <td>1.617176e+18</td>\n",
       "      <td>2.600772</td>\n",
       "      <td>3.955056</td>\n",
       "      <td>33.018258</td>\n",
       "      <td>0.853581</td>\n",
       "      <td>1.616440e+18</td>\n",
       "      <td>0.724368</td>\n",
       "      <td>2023.0</td>\n",
       "      <td>1.0</td>\n",
       "      <td>22.0</td>\n",
       "      <td>6.0</td>\n",
       "      <td>14.537031</td>\n",
       "      <td>28.809758</td>\n",
       "      <td>22.0</td>\n",
       "    </tr>\n",
       "    <tr>\n",
       "      <th>std</th>\n",
       "      <td>1.100449e+13</td>\n",
       "      <td>64.439850</td>\n",
       "      <td>130.116343</td>\n",
       "      <td>1073.430748</td>\n",
       "      <td>36.557426</td>\n",
       "      <td>1.913481e+16</td>\n",
       "      <td>1.755180</td>\n",
       "      <td>0.0</td>\n",
       "      <td>0.0</td>\n",
       "      <td>0.0</td>\n",
       "      <td>0.0</td>\n",
       "      <td>0.810384</td>\n",
       "      <td>18.599309</td>\n",
       "      <td>0.0</td>\n",
       "    </tr>\n",
       "    <tr>\n",
       "      <th>min</th>\n",
       "      <td>1.617156e+18</td>\n",
       "      <td>0.000000</td>\n",
       "      <td>0.000000</td>\n",
       "      <td>0.000000</td>\n",
       "      <td>0.000000</td>\n",
       "      <td>7.115537e+17</td>\n",
       "      <td>0.000000</td>\n",
       "      <td>2023.0</td>\n",
       "      <td>1.0</td>\n",
       "      <td>22.0</td>\n",
       "      <td>6.0</td>\n",
       "      <td>13.000000</td>\n",
       "      <td>0.000000</td>\n",
       "      <td>22.0</td>\n",
       "    </tr>\n",
       "    <tr>\n",
       "      <th>25%</th>\n",
       "      <td>1.617166e+18</td>\n",
       "      <td>0.000000</td>\n",
       "      <td>0.000000</td>\n",
       "      <td>0.000000</td>\n",
       "      <td>0.000000</td>\n",
       "      <td>1.617159e+18</td>\n",
       "      <td>0.000000</td>\n",
       "      <td>2023.0</td>\n",
       "      <td>1.0</td>\n",
       "      <td>22.0</td>\n",
       "      <td>6.0</td>\n",
       "      <td>14.000000</td>\n",
       "      <td>12.000000</td>\n",
       "      <td>22.0</td>\n",
       "    </tr>\n",
       "    <tr>\n",
       "      <th>50%</th>\n",
       "      <td>1.617175e+18</td>\n",
       "      <td>0.000000</td>\n",
       "      <td>0.000000</td>\n",
       "      <td>0.000000</td>\n",
       "      <td>0.000000</td>\n",
       "      <td>1.617170e+18</td>\n",
       "      <td>0.000000</td>\n",
       "      <td>2023.0</td>\n",
       "      <td>1.0</td>\n",
       "      <td>22.0</td>\n",
       "      <td>6.0</td>\n",
       "      <td>15.000000</td>\n",
       "      <td>29.000000</td>\n",
       "      <td>22.0</td>\n",
       "    </tr>\n",
       "    <tr>\n",
       "      <th>75%</th>\n",
       "      <td>1.617185e+18</td>\n",
       "      <td>1.000000</td>\n",
       "      <td>0.000000</td>\n",
       "      <td>2.000000</td>\n",
       "      <td>0.000000</td>\n",
       "      <td>1.617182e+18</td>\n",
       "      <td>1.000000</td>\n",
       "      <td>2023.0</td>\n",
       "      <td>1.0</td>\n",
       "      <td>22.0</td>\n",
       "      <td>6.0</td>\n",
       "      <td>15.000000</td>\n",
       "      <td>46.000000</td>\n",
       "      <td>22.0</td>\n",
       "    </tr>\n",
       "    <tr>\n",
       "      <th>max</th>\n",
       "      <td>1.617195e+18</td>\n",
       "      <td>3098.000000</td>\n",
       "      <td>6815.000000</td>\n",
       "      <td>56073.000000</td>\n",
       "      <td>1947.000000</td>\n",
       "      <td>1.617195e+18</td>\n",
       "      <td>23.000000</td>\n",
       "      <td>2023.0</td>\n",
       "      <td>1.0</td>\n",
       "      <td>22.0</td>\n",
       "      <td>6.0</td>\n",
       "      <td>16.000000</td>\n",
       "      <td>59.000000</td>\n",
       "      <td>22.0</td>\n",
       "    </tr>\n",
       "  </tbody>\n",
       "</table>\n",
       "</div>\n",
       "      <button class=\"colab-df-convert\" onclick=\"convertToInteractive('df-2b443d6e-ab04-49d4-bcf7-2facb1bc7928')\"\n",
       "              title=\"Convert this dataframe to an interactive table.\"\n",
       "              style=\"display:none;\">\n",
       "\n",
       "  <svg xmlns=\"http://www.w3.org/2000/svg\" height=\"24px\"viewBox=\"0 0 24 24\"\n",
       "       width=\"24px\">\n",
       "    <path d=\"M0 0h24v24H0V0z\" fill=\"none\"/>\n",
       "    <path d=\"M18.56 5.44l.94 2.06.94-2.06 2.06-.94-2.06-.94-.94-2.06-.94 2.06-2.06.94zm-11 1L8.5 8.5l.94-2.06 2.06-.94-2.06-.94L8.5 2.5l-.94 2.06-2.06.94zm10 10l.94 2.06.94-2.06 2.06-.94-2.06-.94-.94-2.06-.94 2.06-2.06.94z\"/><path d=\"M17.41 7.96l-1.37-1.37c-.4-.4-.92-.59-1.43-.59-.52 0-1.04.2-1.43.59L10.3 9.45l-7.72 7.72c-.78.78-.78 2.05 0 2.83L4 21.41c.39.39.9.59 1.41.59.51 0 1.02-.2 1.41-.59l7.78-7.78 2.81-2.81c.8-.78.8-2.07 0-2.86zM5.41 20L4 18.59l7.72-7.72 1.47 1.35L5.41 20z\"/>\n",
       "  </svg>\n",
       "      </button>\n",
       "\n",
       "\n",
       "\n",
       "    <div id=\"df-bda90b13-54fe-46ac-9b25-3e6ba8b376ab\">\n",
       "      <button class=\"colab-df-quickchart\" onclick=\"quickchart('df-bda90b13-54fe-46ac-9b25-3e6ba8b376ab')\"\n",
       "              title=\"Suggest charts.\"\n",
       "              style=\"display:none;\">\n",
       "\n",
       "<svg xmlns=\"http://www.w3.org/2000/svg\" height=\"24px\"viewBox=\"0 0 24 24\"\n",
       "     width=\"24px\">\n",
       "    <g>\n",
       "        <path d=\"M19 3H5c-1.1 0-2 .9-2 2v14c0 1.1.9 2 2 2h14c1.1 0 2-.9 2-2V5c0-1.1-.9-2-2-2zM9 17H7v-7h2v7zm4 0h-2V7h2v10zm4 0h-2v-4h2v4z\"/>\n",
       "    </g>\n",
       "</svg>\n",
       "      </button>\n",
       "    </div>\n",
       "\n",
       "<style>\n",
       "  .colab-df-quickchart {\n",
       "    background-color: #E8F0FE;\n",
       "    border: none;\n",
       "    border-radius: 50%;\n",
       "    cursor: pointer;\n",
       "    display: none;\n",
       "    fill: #1967D2;\n",
       "    height: 32px;\n",
       "    padding: 0 0 0 0;\n",
       "    width: 32px;\n",
       "  }\n",
       "\n",
       "  .colab-df-quickchart:hover {\n",
       "    background-color: #E2EBFA;\n",
       "    box-shadow: 0px 1px 2px rgba(60, 64, 67, 0.3), 0px 1px 3px 1px rgba(60, 64, 67, 0.15);\n",
       "    fill: #174EA6;\n",
       "  }\n",
       "\n",
       "  [theme=dark] .colab-df-quickchart {\n",
       "    background-color: #3B4455;\n",
       "    fill: #D2E3FC;\n",
       "  }\n",
       "\n",
       "  [theme=dark] .colab-df-quickchart:hover {\n",
       "    background-color: #434B5C;\n",
       "    box-shadow: 0px 1px 3px 1px rgba(0, 0, 0, 0.15);\n",
       "    filter: drop-shadow(0px 1px 2px rgba(0, 0, 0, 0.3));\n",
       "    fill: #FFFFFF;\n",
       "  }\n",
       "</style>\n",
       "\n",
       "    <script>\n",
       "      async function quickchart(key) {\n",
       "        const containerElement = document.querySelector('#' + key);\n",
       "        const charts = await google.colab.kernel.invokeFunction(\n",
       "            'suggestCharts', [key], {});\n",
       "      }\n",
       "    </script>\n",
       "\n",
       "      <script>\n",
       "\n",
       "function displayQuickchartButton(domScope) {\n",
       "  let quickchartButtonEl =\n",
       "    domScope.querySelector('#df-bda90b13-54fe-46ac-9b25-3e6ba8b376ab button.colab-df-quickchart');\n",
       "  quickchartButtonEl.style.display =\n",
       "    google.colab.kernel.accessAllowed ? 'block' : 'none';\n",
       "}\n",
       "\n",
       "        displayQuickchartButton(document);\n",
       "      </script>\n",
       "      <style>\n",
       "    .colab-df-container {\n",
       "      display:flex;\n",
       "      flex-wrap:wrap;\n",
       "      gap: 12px;\n",
       "    }\n",
       "\n",
       "    .colab-df-convert {\n",
       "      background-color: #E8F0FE;\n",
       "      border: none;\n",
       "      border-radius: 50%;\n",
       "      cursor: pointer;\n",
       "      display: none;\n",
       "      fill: #1967D2;\n",
       "      height: 32px;\n",
       "      padding: 0 0 0 0;\n",
       "      width: 32px;\n",
       "    }\n",
       "\n",
       "    .colab-df-convert:hover {\n",
       "      background-color: #E2EBFA;\n",
       "      box-shadow: 0px 1px 2px rgba(60, 64, 67, 0.3), 0px 1px 3px 1px rgba(60, 64, 67, 0.15);\n",
       "      fill: #174EA6;\n",
       "    }\n",
       "\n",
       "    [theme=dark] .colab-df-convert {\n",
       "      background-color: #3B4455;\n",
       "      fill: #D2E3FC;\n",
       "    }\n",
       "\n",
       "    [theme=dark] .colab-df-convert:hover {\n",
       "      background-color: #434B5C;\n",
       "      box-shadow: 0px 1px 3px 1px rgba(0, 0, 0, 0.15);\n",
       "      filter: drop-shadow(0px 1px 2px rgba(0, 0, 0, 0.3));\n",
       "      fill: #FFFFFF;\n",
       "    }\n",
       "  </style>\n",
       "\n",
       "      <script>\n",
       "        const buttonEl =\n",
       "          document.querySelector('#df-2b443d6e-ab04-49d4-bcf7-2facb1bc7928 button.colab-df-convert');\n",
       "        buttonEl.style.display =\n",
       "          google.colab.kernel.accessAllowed ? 'block' : 'none';\n",
       "\n",
       "        async function convertToInteractive(key) {\n",
       "          const element = document.querySelector('#df-2b443d6e-ab04-49d4-bcf7-2facb1bc7928');\n",
       "          const dataTable =\n",
       "            await google.colab.kernel.invokeFunction('convertToInteractive',\n",
       "                                                     [key], {});\n",
       "          if (!dataTable) return;\n",
       "\n",
       "          const docLinkHtml = 'Like what you see? Visit the ' +\n",
       "            '<a target=\"_blank\" href=https://colab.research.google.com/notebooks/data_table.ipynb>data table notebook</a>'\n",
       "            + ' to learn more about interactive tables.';\n",
       "          element.innerHTML = '';\n",
       "          dataTable['output_type'] = 'display_data';\n",
       "          await google.colab.output.renderOutput(dataTable, element);\n",
       "          const docLink = document.createElement('div');\n",
       "          docLink.innerHTML = docLinkHtml;\n",
       "          element.appendChild(docLink);\n",
       "        }\n",
       "      </script>\n",
       "    </div>\n",
       "  </div>\n"
      ],
      "text/plain": [
       "           Tweet Id   ReplyCount  RetweetCount     LikeCount   QuoteCount  \\\n",
       "count  2.849000e+03  2848.000000   2848.000000   2848.000000  2848.000000   \n",
       "mean   1.617176e+18     2.600772      3.955056     33.018258     0.853581   \n",
       "std    1.100449e+13    64.439850    130.116343   1073.430748    36.557426   \n",
       "min    1.617156e+18     0.000000      0.000000      0.000000     0.000000   \n",
       "25%    1.617166e+18     0.000000      0.000000      0.000000     0.000000   \n",
       "50%    1.617175e+18     0.000000      0.000000      0.000000     0.000000   \n",
       "75%    1.617185e+18     1.000000      0.000000      2.000000     0.000000   \n",
       "max    1.617195e+18  3098.000000   6815.000000  56073.000000  1947.000000   \n",
       "\n",
       "       ConversationId  hastag_counts    year   month     day  dayofweek  \\\n",
       "count    2.848000e+03    2848.000000  2849.0  2849.0  2849.0     2849.0   \n",
       "mean     1.616440e+18       0.724368  2023.0     1.0    22.0        6.0   \n",
       "std      1.913481e+16       1.755180     0.0     0.0     0.0        0.0   \n",
       "min      7.115537e+17       0.000000  2023.0     1.0    22.0        6.0   \n",
       "25%      1.617159e+18       0.000000  2023.0     1.0    22.0        6.0   \n",
       "50%      1.617170e+18       0.000000  2023.0     1.0    22.0        6.0   \n",
       "75%      1.617182e+18       1.000000  2023.0     1.0    22.0        6.0   \n",
       "max      1.617195e+18      23.000000  2023.0     1.0    22.0        6.0   \n",
       "\n",
       "              hour       minute  dayofyear  \n",
       "count  2849.000000  2849.000000     2849.0  \n",
       "mean     14.537031    28.809758       22.0  \n",
       "std       0.810384    18.599309        0.0  \n",
       "min      13.000000     0.000000       22.0  \n",
       "25%      14.000000    12.000000       22.0  \n",
       "50%      15.000000    29.000000       22.0  \n",
       "75%      15.000000    46.000000       22.0  \n",
       "max      16.000000    59.000000       22.0  "
      ]
     },
     "execution_count": 71,
     "metadata": {},
     "output_type": "execute_result"
    }
   ],
   "source": [
    "df.describe()"
   ]
  },
  {
   "cell_type": "code",
   "execution_count": 72,
   "id": "4757d14f",
   "metadata": {
    "id": "4757d14f"
   },
   "outputs": [],
   "source": [
    "import pandas as pd\n",
    "from sklearn.preprocessing import MinMaxScaler\n",
    "from tensorflow.keras.preprocessing.text import Tokenizer\n",
    "from tensorflow.keras.preprocessing.sequence import pad_sequences\n",
    "from sklearn.preprocessing import LabelEncoder\n",
    "\n",
    "# Normalize numerical features using MinMaxScaler\n",
    "scaler = MinMaxScaler()\n",
    "df[['ReplyCount', 'RetweetCount', 'LikeCount', 'QuoteCount', 'hastag_counts']] = scaler.fit_transform(df[['ReplyCount', 'RetweetCount', 'LikeCount', 'QuoteCount', 'hastag_counts']])\n",
    "\n",
    "# Tokenize the text using Tokenizer\n",
    "tokenizer = Tokenizer(num_words=10000)  \n",
    "tokenizer.fit_on_texts(df['Text'])  \n",
    "sequences = tokenizer.texts_to_sequences(df['Text'])\n",
    "\n",
    "# Pad sequences to ensure equal length\n",
    "max_length = 50  # Adjust this based on the desired sequence length\n",
    "padded_sequences = pad_sequences(sequences, maxlen=max_length)\n",
    "\n",
    "label_encoder = LabelEncoder()\n",
    "df['Sentiment'] = label_encoder.fit_transform(df['text_sentiment'])\n"
   ]
  },
  {
   "cell_type": "code",
   "execution_count": 73,
   "id": "e5532827",
   "metadata": {
    "colab": {
     "base_uri": "https://localhost:8080/",
     "height": 956
    },
    "id": "e5532827",
    "outputId": "9eb25189-ab04-406c-9dc1-93237f940e37",
    "scrolled": true
   },
   "outputs": [
    {
     "data": {
      "text/html": [
       "\n",
       "\n",
       "  <div id=\"df-39bd70db-7418-4923-96da-c1f3adb1ea56\">\n",
       "    <div class=\"colab-df-container\">\n",
       "      <div>\n",
       "<style scoped>\n",
       "    .dataframe tbody tr th:only-of-type {\n",
       "        vertical-align: middle;\n",
       "    }\n",
       "\n",
       "    .dataframe tbody tr th {\n",
       "        vertical-align: top;\n",
       "    }\n",
       "\n",
       "    .dataframe thead th {\n",
       "        text-align: right;\n",
       "    }\n",
       "</style>\n",
       "<table border=\"1\" class=\"dataframe\">\n",
       "  <thead>\n",
       "    <tr style=\"text-align: right;\">\n",
       "      <th></th>\n",
       "      <th>Datetime</th>\n",
       "      <th>Tweet Id</th>\n",
       "      <th>Text</th>\n",
       "      <th>Username</th>\n",
       "      <th>Permalink</th>\n",
       "      <th>User</th>\n",
       "      <th>Outlinks</th>\n",
       "      <th>CountLinks</th>\n",
       "      <th>ReplyCount</th>\n",
       "      <th>RetweetCount</th>\n",
       "      <th>...</th>\n",
       "      <th>year</th>\n",
       "      <th>month</th>\n",
       "      <th>day</th>\n",
       "      <th>dayofweek</th>\n",
       "      <th>hour</th>\n",
       "      <th>minute</th>\n",
       "      <th>dayofyear</th>\n",
       "      <th>date_only</th>\n",
       "      <th>text_sentiment</th>\n",
       "      <th>Sentiment</th>\n",
       "    </tr>\n",
       "  </thead>\n",
       "  <tbody>\n",
       "    <tr>\n",
       "      <th>0</th>\n",
       "      <td>2023-01-22 13:44:34+00:00</td>\n",
       "      <td>1617156270871699456</td>\n",
       "      <td>ChatGPTで遊ぶの忘れてた！！\\n書類作るコード書いてみてほしいのと、\\nどこまで思考整...</td>\n",
       "      <td>mochico0123</td>\n",
       "      <td>https://twitter.com/mochico0123/status/1617156...</td>\n",
       "      <td>https://twitter.com/mochico0123</td>\n",
       "      <td>NaN</td>\n",
       "      <td>NaN</td>\n",
       "      <td>0.000323</td>\n",
       "      <td>0.000000</td>\n",
       "      <td>...</td>\n",
       "      <td>2023</td>\n",
       "      <td>1</td>\n",
       "      <td>22</td>\n",
       "      <td>6</td>\n",
       "      <td>13</td>\n",
       "      <td>44</td>\n",
       "      <td>22</td>\n",
       "      <td>2023-01-22</td>\n",
       "      <td>Neutral</td>\n",
       "      <td>1</td>\n",
       "    </tr>\n",
       "    <tr>\n",
       "      <th>1</th>\n",
       "      <td>2023-01-22 13:44:39+00:00</td>\n",
       "      <td>1617156291046133761</td>\n",
       "      <td>@AlexandrovnaIng Prohibition of ChatGPT has be...</td>\n",
       "      <td>Caput_LupinumSG</td>\n",
       "      <td>https://twitter.com/Caput_LupinumSG/status/161...</td>\n",
       "      <td>https://twitter.com/Caput_LupinumSG</td>\n",
       "      <td>NaN</td>\n",
       "      <td>NaN</td>\n",
       "      <td>0.000323</td>\n",
       "      <td>0.000000</td>\n",
       "      <td>...</td>\n",
       "      <td>2023</td>\n",
       "      <td>1</td>\n",
       "      <td>22</td>\n",
       "      <td>6</td>\n",
       "      <td>13</td>\n",
       "      <td>44</td>\n",
       "      <td>22</td>\n",
       "      <td>2023-01-22</td>\n",
       "      <td>Positive</td>\n",
       "      <td>2</td>\n",
       "    </tr>\n",
       "    <tr>\n",
       "      <th>2</th>\n",
       "      <td>2023-01-22 13:44:44+00:00</td>\n",
       "      <td>1617156308926349312</td>\n",
       "      <td>Schaut Euch an, was @fobizz @DianaKnodel alles...</td>\n",
       "      <td>ciffi</td>\n",
       "      <td>https://twitter.com/ciffi/status/1617156308926...</td>\n",
       "      <td>https://twitter.com/ciffi</td>\n",
       "      <td>['https://us02web.zoom.us/webinar/register/801...</td>\n",
       "      <td>['https://t.co/DsoeVJrPBp', 'https://t.co/HflT...</td>\n",
       "      <td>0.000000</td>\n",
       "      <td>0.000000</td>\n",
       "      <td>...</td>\n",
       "      <td>2023</td>\n",
       "      <td>1</td>\n",
       "      <td>22</td>\n",
       "      <td>6</td>\n",
       "      <td>13</td>\n",
       "      <td>44</td>\n",
       "      <td>22</td>\n",
       "      <td>2023-01-22</td>\n",
       "      <td>Negative</td>\n",
       "      <td>0</td>\n",
       "    </tr>\n",
       "    <tr>\n",
       "      <th>3</th>\n",
       "      <td>2023-01-22 13:44:49+00:00</td>\n",
       "      <td>1617156332297256961</td>\n",
       "      <td>Bow down to chatGPT 🫡..... https://t.co/ENTSzi...</td>\n",
       "      <td>Vishwasrisiri</td>\n",
       "      <td>https://twitter.com/Vishwasrisiri/status/16171...</td>\n",
       "      <td>https://twitter.com/Vishwasrisiri</td>\n",
       "      <td>['https://twitter.com/agadmator/status/1617155...</td>\n",
       "      <td>['https://t.co/ENTSzi2AQ9']</td>\n",
       "      <td>0.000000</td>\n",
       "      <td>0.000000</td>\n",
       "      <td>...</td>\n",
       "      <td>2023</td>\n",
       "      <td>1</td>\n",
       "      <td>22</td>\n",
       "      <td>6</td>\n",
       "      <td>13</td>\n",
       "      <td>44</td>\n",
       "      <td>22</td>\n",
       "      <td>2023-01-22</td>\n",
       "      <td>Neutral</td>\n",
       "      <td>1</td>\n",
       "    </tr>\n",
       "    <tr>\n",
       "      <th>4</th>\n",
       "      <td>2023-01-22 13:44:52+00:00</td>\n",
       "      <td>1617156345064570880</td>\n",
       "      <td>Profilinde vatan, Türkiye falan yazan bireyler...</td>\n",
       "      <td>0xGenetikciniz</td>\n",
       "      <td>https://twitter.com/0xGenetikciniz/status/1617...</td>\n",
       "      <td>https://twitter.com/0xGenetikciniz</td>\n",
       "      <td>NaN</td>\n",
       "      <td>NaN</td>\n",
       "      <td>0.000000</td>\n",
       "      <td>0.000000</td>\n",
       "      <td>...</td>\n",
       "      <td>2023</td>\n",
       "      <td>1</td>\n",
       "      <td>22</td>\n",
       "      <td>6</td>\n",
       "      <td>13</td>\n",
       "      <td>44</td>\n",
       "      <td>22</td>\n",
       "      <td>2023-01-22</td>\n",
       "      <td>Neutral</td>\n",
       "      <td>1</td>\n",
       "    </tr>\n",
       "    <tr>\n",
       "      <th>...</th>\n",
       "      <td>...</td>\n",
       "      <td>...</td>\n",
       "      <td>...</td>\n",
       "      <td>...</td>\n",
       "      <td>...</td>\n",
       "      <td>...</td>\n",
       "      <td>...</td>\n",
       "      <td>...</td>\n",
       "      <td>...</td>\n",
       "      <td>...</td>\n",
       "      <td>...</td>\n",
       "      <td>...</td>\n",
       "      <td>...</td>\n",
       "      <td>...</td>\n",
       "      <td>...</td>\n",
       "      <td>...</td>\n",
       "      <td>...</td>\n",
       "      <td>...</td>\n",
       "      <td>...</td>\n",
       "      <td>...</td>\n",
       "      <td>...</td>\n",
       "    </tr>\n",
       "    <tr>\n",
       "      <th>2844</th>\n",
       "      <td>2023-01-22 16:17:01+00:00</td>\n",
       "      <td>1617194634765008899</td>\n",
       "      <td>It's fun to watch ChatGPT get simple history q...</td>\n",
       "      <td>pardon_mi</td>\n",
       "      <td>https://twitter.com/pardon_mi/status/161719463...</td>\n",
       "      <td>https://twitter.com/pardon_mi</td>\n",
       "      <td>NaN</td>\n",
       "      <td>NaN</td>\n",
       "      <td>0.000968</td>\n",
       "      <td>0.001908</td>\n",
       "      <td>...</td>\n",
       "      <td>2023</td>\n",
       "      <td>1</td>\n",
       "      <td>22</td>\n",
       "      <td>6</td>\n",
       "      <td>16</td>\n",
       "      <td>17</td>\n",
       "      <td>22</td>\n",
       "      <td>2023-01-22</td>\n",
       "      <td>Negative</td>\n",
       "      <td>0</td>\n",
       "    </tr>\n",
       "    <tr>\n",
       "      <th>2845</th>\n",
       "      <td>2023-01-22 16:17:07+00:00</td>\n",
       "      <td>1617194660304125954</td>\n",
       "      <td>@bennibaehr Je nachdem wie häufig ich davon ab...</td>\n",
       "      <td>xSakros</td>\n",
       "      <td>https://twitter.com/xSakros/status/16171946603...</td>\n",
       "      <td>https://twitter.com/xSakros</td>\n",
       "      <td>NaN</td>\n",
       "      <td>NaN</td>\n",
       "      <td>0.000000</td>\n",
       "      <td>0.000000</td>\n",
       "      <td>...</td>\n",
       "      <td>2023</td>\n",
       "      <td>1</td>\n",
       "      <td>22</td>\n",
       "      <td>6</td>\n",
       "      <td>16</td>\n",
       "      <td>17</td>\n",
       "      <td>22</td>\n",
       "      <td>2023-01-22</td>\n",
       "      <td>Negative</td>\n",
       "      <td>0</td>\n",
       "    </tr>\n",
       "    <tr>\n",
       "      <th>2846</th>\n",
       "      <td>2023-01-22 16:17:07+00:00</td>\n",
       "      <td>1617194658836393985</td>\n",
       "      <td>ChatGPTの有料プランを検討しようとアクセスしたら，ChatGPT is at capa...</td>\n",
       "      <td>igakunomichi</td>\n",
       "      <td>https://twitter.com/igakunomichi/status/161719...</td>\n",
       "      <td>https://twitter.com/igakunomichi</td>\n",
       "      <td>NaN</td>\n",
       "      <td>NaN</td>\n",
       "      <td>0.000000</td>\n",
       "      <td>0.000000</td>\n",
       "      <td>...</td>\n",
       "      <td>2023</td>\n",
       "      <td>1</td>\n",
       "      <td>22</td>\n",
       "      <td>6</td>\n",
       "      <td>16</td>\n",
       "      <td>17</td>\n",
       "      <td>22</td>\n",
       "      <td>2023-01-22</td>\n",
       "      <td>Neutral</td>\n",
       "      <td>1</td>\n",
       "    </tr>\n",
       "    <tr>\n",
       "      <th>2847</th>\n",
       "      <td>2023-01-22 16:17:15+00:00</td>\n",
       "      <td>1617194694542528513</td>\n",
       "      <td>@y2m4k7 CHATGPTっていうツール　文章系ならなんでもプログラミングもHTMLもス...</td>\n",
       "      <td>sakuraba_yuri</td>\n",
       "      <td>https://twitter.com/sakuraba_yuri/status/16171...</td>\n",
       "      <td>https://twitter.com/sakuraba_yuri</td>\n",
       "      <td>NaN</td>\n",
       "      <td>NaN</td>\n",
       "      <td>0.000323</td>\n",
       "      <td>0.000000</td>\n",
       "      <td>...</td>\n",
       "      <td>2023</td>\n",
       "      <td>1</td>\n",
       "      <td>22</td>\n",
       "      <td>6</td>\n",
       "      <td>16</td>\n",
       "      <td>17</td>\n",
       "      <td>22</td>\n",
       "      <td>2023-01-22</td>\n",
       "      <td>Neutral</td>\n",
       "      <td>1</td>\n",
       "    </tr>\n",
       "    <tr>\n",
       "      <th>2848</th>\n",
       "      <td>2023-01-22 16:17:21+00:00</td>\n",
       "      <td>1617194717816492037</td>\n",
       "      <td>OpenAI está trabalhando em um ritmo mais lento...</td>\n",
       "      <td>NaN</td>\n",
       "      <td>NaN</td>\n",
       "      <td>NaN</td>\n",
       "      <td>NaN</td>\n",
       "      <td>NaN</td>\n",
       "      <td>NaN</td>\n",
       "      <td>NaN</td>\n",
       "      <td>...</td>\n",
       "      <td>2023</td>\n",
       "      <td>1</td>\n",
       "      <td>22</td>\n",
       "      <td>6</td>\n",
       "      <td>16</td>\n",
       "      <td>17</td>\n",
       "      <td>22</td>\n",
       "      <td>2023-01-22</td>\n",
       "      <td>Neutral</td>\n",
       "      <td>1</td>\n",
       "    </tr>\n",
       "  </tbody>\n",
       "</table>\n",
       "<p>2849 rows × 30 columns</p>\n",
       "</div>\n",
       "      <button class=\"colab-df-convert\" onclick=\"convertToInteractive('df-39bd70db-7418-4923-96da-c1f3adb1ea56')\"\n",
       "              title=\"Convert this dataframe to an interactive table.\"\n",
       "              style=\"display:none;\">\n",
       "\n",
       "  <svg xmlns=\"http://www.w3.org/2000/svg\" height=\"24px\"viewBox=\"0 0 24 24\"\n",
       "       width=\"24px\">\n",
       "    <path d=\"M0 0h24v24H0V0z\" fill=\"none\"/>\n",
       "    <path d=\"M18.56 5.44l.94 2.06.94-2.06 2.06-.94-2.06-.94-.94-2.06-.94 2.06-2.06.94zm-11 1L8.5 8.5l.94-2.06 2.06-.94-2.06-.94L8.5 2.5l-.94 2.06-2.06.94zm10 10l.94 2.06.94-2.06 2.06-.94-2.06-.94-.94-2.06-.94 2.06-2.06.94z\"/><path d=\"M17.41 7.96l-1.37-1.37c-.4-.4-.92-.59-1.43-.59-.52 0-1.04.2-1.43.59L10.3 9.45l-7.72 7.72c-.78.78-.78 2.05 0 2.83L4 21.41c.39.39.9.59 1.41.59.51 0 1.02-.2 1.41-.59l7.78-7.78 2.81-2.81c.8-.78.8-2.07 0-2.86zM5.41 20L4 18.59l7.72-7.72 1.47 1.35L5.41 20z\"/>\n",
       "  </svg>\n",
       "      </button>\n",
       "\n",
       "\n",
       "\n",
       "    <div id=\"df-63ea60df-eef2-4662-9632-a9f83dc852e1\">\n",
       "      <button class=\"colab-df-quickchart\" onclick=\"quickchart('df-63ea60df-eef2-4662-9632-a9f83dc852e1')\"\n",
       "              title=\"Suggest charts.\"\n",
       "              style=\"display:none;\">\n",
       "\n",
       "<svg xmlns=\"http://www.w3.org/2000/svg\" height=\"24px\"viewBox=\"0 0 24 24\"\n",
       "     width=\"24px\">\n",
       "    <g>\n",
       "        <path d=\"M19 3H5c-1.1 0-2 .9-2 2v14c0 1.1.9 2 2 2h14c1.1 0 2-.9 2-2V5c0-1.1-.9-2-2-2zM9 17H7v-7h2v7zm4 0h-2V7h2v10zm4 0h-2v-4h2v4z\"/>\n",
       "    </g>\n",
       "</svg>\n",
       "      </button>\n",
       "    </div>\n",
       "\n",
       "<style>\n",
       "  .colab-df-quickchart {\n",
       "    background-color: #E8F0FE;\n",
       "    border: none;\n",
       "    border-radius: 50%;\n",
       "    cursor: pointer;\n",
       "    display: none;\n",
       "    fill: #1967D2;\n",
       "    height: 32px;\n",
       "    padding: 0 0 0 0;\n",
       "    width: 32px;\n",
       "  }\n",
       "\n",
       "  .colab-df-quickchart:hover {\n",
       "    background-color: #E2EBFA;\n",
       "    box-shadow: 0px 1px 2px rgba(60, 64, 67, 0.3), 0px 1px 3px 1px rgba(60, 64, 67, 0.15);\n",
       "    fill: #174EA6;\n",
       "  }\n",
       "\n",
       "  [theme=dark] .colab-df-quickchart {\n",
       "    background-color: #3B4455;\n",
       "    fill: #D2E3FC;\n",
       "  }\n",
       "\n",
       "  [theme=dark] .colab-df-quickchart:hover {\n",
       "    background-color: #434B5C;\n",
       "    box-shadow: 0px 1px 3px 1px rgba(0, 0, 0, 0.15);\n",
       "    filter: drop-shadow(0px 1px 2px rgba(0, 0, 0, 0.3));\n",
       "    fill: #FFFFFF;\n",
       "  }\n",
       "</style>\n",
       "\n",
       "    <script>\n",
       "      async function quickchart(key) {\n",
       "        const containerElement = document.querySelector('#' + key);\n",
       "        const charts = await google.colab.kernel.invokeFunction(\n",
       "            'suggestCharts', [key], {});\n",
       "      }\n",
       "    </script>\n",
       "\n",
       "      <script>\n",
       "\n",
       "function displayQuickchartButton(domScope) {\n",
       "  let quickchartButtonEl =\n",
       "    domScope.querySelector('#df-63ea60df-eef2-4662-9632-a9f83dc852e1 button.colab-df-quickchart');\n",
       "  quickchartButtonEl.style.display =\n",
       "    google.colab.kernel.accessAllowed ? 'block' : 'none';\n",
       "}\n",
       "\n",
       "        displayQuickchartButton(document);\n",
       "      </script>\n",
       "      <style>\n",
       "    .colab-df-container {\n",
       "      display:flex;\n",
       "      flex-wrap:wrap;\n",
       "      gap: 12px;\n",
       "    }\n",
       "\n",
       "    .colab-df-convert {\n",
       "      background-color: #E8F0FE;\n",
       "      border: none;\n",
       "      border-radius: 50%;\n",
       "      cursor: pointer;\n",
       "      display: none;\n",
       "      fill: #1967D2;\n",
       "      height: 32px;\n",
       "      padding: 0 0 0 0;\n",
       "      width: 32px;\n",
       "    }\n",
       "\n",
       "    .colab-df-convert:hover {\n",
       "      background-color: #E2EBFA;\n",
       "      box-shadow: 0px 1px 2px rgba(60, 64, 67, 0.3), 0px 1px 3px 1px rgba(60, 64, 67, 0.15);\n",
       "      fill: #174EA6;\n",
       "    }\n",
       "\n",
       "    [theme=dark] .colab-df-convert {\n",
       "      background-color: #3B4455;\n",
       "      fill: #D2E3FC;\n",
       "    }\n",
       "\n",
       "    [theme=dark] .colab-df-convert:hover {\n",
       "      background-color: #434B5C;\n",
       "      box-shadow: 0px 1px 3px 1px rgba(0, 0, 0, 0.15);\n",
       "      filter: drop-shadow(0px 1px 2px rgba(0, 0, 0, 0.3));\n",
       "      fill: #FFFFFF;\n",
       "    }\n",
       "  </style>\n",
       "\n",
       "      <script>\n",
       "        const buttonEl =\n",
       "          document.querySelector('#df-39bd70db-7418-4923-96da-c1f3adb1ea56 button.colab-df-convert');\n",
       "        buttonEl.style.display =\n",
       "          google.colab.kernel.accessAllowed ? 'block' : 'none';\n",
       "\n",
       "        async function convertToInteractive(key) {\n",
       "          const element = document.querySelector('#df-39bd70db-7418-4923-96da-c1f3adb1ea56');\n",
       "          const dataTable =\n",
       "            await google.colab.kernel.invokeFunction('convertToInteractive',\n",
       "                                                     [key], {});\n",
       "          if (!dataTable) return;\n",
       "\n",
       "          const docLinkHtml = 'Like what you see? Visit the ' +\n",
       "            '<a target=\"_blank\" href=https://colab.research.google.com/notebooks/data_table.ipynb>data table notebook</a>'\n",
       "            + ' to learn more about interactive tables.';\n",
       "          element.innerHTML = '';\n",
       "          dataTable['output_type'] = 'display_data';\n",
       "          await google.colab.output.renderOutput(dataTable, element);\n",
       "          const docLink = document.createElement('div');\n",
       "          docLink.innerHTML = docLinkHtml;\n",
       "          element.appendChild(docLink);\n",
       "        }\n",
       "      </script>\n",
       "    </div>\n",
       "  </div>\n"
      ],
      "text/plain": [
       "                      Datetime             Tweet Id  \\\n",
       "0    2023-01-22 13:44:34+00:00  1617156270871699456   \n",
       "1    2023-01-22 13:44:39+00:00  1617156291046133761   \n",
       "2    2023-01-22 13:44:44+00:00  1617156308926349312   \n",
       "3    2023-01-22 13:44:49+00:00  1617156332297256961   \n",
       "4    2023-01-22 13:44:52+00:00  1617156345064570880   \n",
       "...                        ...                  ...   \n",
       "2844 2023-01-22 16:17:01+00:00  1617194634765008899   \n",
       "2845 2023-01-22 16:17:07+00:00  1617194660304125954   \n",
       "2846 2023-01-22 16:17:07+00:00  1617194658836393985   \n",
       "2847 2023-01-22 16:17:15+00:00  1617194694542528513   \n",
       "2848 2023-01-22 16:17:21+00:00  1617194717816492037   \n",
       "\n",
       "                                                   Text         Username  \\\n",
       "0     ChatGPTで遊ぶの忘れてた！！\\n書類作るコード書いてみてほしいのと、\\nどこまで思考整...      mochico0123   \n",
       "1     @AlexandrovnaIng Prohibition of ChatGPT has be...  Caput_LupinumSG   \n",
       "2     Schaut Euch an, was @fobizz @DianaKnodel alles...            ciffi   \n",
       "3     Bow down to chatGPT 🫡..... https://t.co/ENTSzi...    Vishwasrisiri   \n",
       "4     Profilinde vatan, Türkiye falan yazan bireyler...   0xGenetikciniz   \n",
       "...                                                 ...              ...   \n",
       "2844  It's fun to watch ChatGPT get simple history q...        pardon_mi   \n",
       "2845  @bennibaehr Je nachdem wie häufig ich davon ab...          xSakros   \n",
       "2846  ChatGPTの有料プランを検討しようとアクセスしたら，ChatGPT is at capa...     igakunomichi   \n",
       "2847  @y2m4k7 CHATGPTっていうツール　文章系ならなんでもプログラミングもHTMLもス...    sakuraba_yuri   \n",
       "2848  OpenAI está trabalhando em um ritmo mais lento...              NaN   \n",
       "\n",
       "                                              Permalink  \\\n",
       "0     https://twitter.com/mochico0123/status/1617156...   \n",
       "1     https://twitter.com/Caput_LupinumSG/status/161...   \n",
       "2     https://twitter.com/ciffi/status/1617156308926...   \n",
       "3     https://twitter.com/Vishwasrisiri/status/16171...   \n",
       "4     https://twitter.com/0xGenetikciniz/status/1617...   \n",
       "...                                                 ...   \n",
       "2844  https://twitter.com/pardon_mi/status/161719463...   \n",
       "2845  https://twitter.com/xSakros/status/16171946603...   \n",
       "2846  https://twitter.com/igakunomichi/status/161719...   \n",
       "2847  https://twitter.com/sakuraba_yuri/status/16171...   \n",
       "2848                                                NaN   \n",
       "\n",
       "                                     User  \\\n",
       "0         https://twitter.com/mochico0123   \n",
       "1     https://twitter.com/Caput_LupinumSG   \n",
       "2               https://twitter.com/ciffi   \n",
       "3       https://twitter.com/Vishwasrisiri   \n",
       "4      https://twitter.com/0xGenetikciniz   \n",
       "...                                   ...   \n",
       "2844        https://twitter.com/pardon_mi   \n",
       "2845          https://twitter.com/xSakros   \n",
       "2846     https://twitter.com/igakunomichi   \n",
       "2847    https://twitter.com/sakuraba_yuri   \n",
       "2848                                  NaN   \n",
       "\n",
       "                                               Outlinks  \\\n",
       "0                                                   NaN   \n",
       "1                                                   NaN   \n",
       "2     ['https://us02web.zoom.us/webinar/register/801...   \n",
       "3     ['https://twitter.com/agadmator/status/1617155...   \n",
       "4                                                   NaN   \n",
       "...                                                 ...   \n",
       "2844                                                NaN   \n",
       "2845                                                NaN   \n",
       "2846                                                NaN   \n",
       "2847                                                NaN   \n",
       "2848                                                NaN   \n",
       "\n",
       "                                             CountLinks  ReplyCount  \\\n",
       "0                                                   NaN    0.000323   \n",
       "1                                                   NaN    0.000323   \n",
       "2     ['https://t.co/DsoeVJrPBp', 'https://t.co/HflT...    0.000000   \n",
       "3                           ['https://t.co/ENTSzi2AQ9']    0.000000   \n",
       "4                                                   NaN    0.000000   \n",
       "...                                                 ...         ...   \n",
       "2844                                                NaN    0.000968   \n",
       "2845                                                NaN    0.000000   \n",
       "2846                                                NaN    0.000000   \n",
       "2847                                                NaN    0.000323   \n",
       "2848                                                NaN         NaN   \n",
       "\n",
       "      RetweetCount  ...  year  month  day dayofweek hour minute dayofyear  \\\n",
       "0         0.000000  ...  2023      1   22         6   13     44        22   \n",
       "1         0.000000  ...  2023      1   22         6   13     44        22   \n",
       "2         0.000000  ...  2023      1   22         6   13     44        22   \n",
       "3         0.000000  ...  2023      1   22         6   13     44        22   \n",
       "4         0.000000  ...  2023      1   22         6   13     44        22   \n",
       "...            ...  ...   ...    ...  ...       ...  ...    ...       ...   \n",
       "2844      0.001908  ...  2023      1   22         6   16     17        22   \n",
       "2845      0.000000  ...  2023      1   22         6   16     17        22   \n",
       "2846      0.000000  ...  2023      1   22         6   16     17        22   \n",
       "2847      0.000000  ...  2023      1   22         6   16     17        22   \n",
       "2848           NaN  ...  2023      1   22         6   16     17        22   \n",
       "\n",
       "       date_only text_sentiment  Sentiment  \n",
       "0     2023-01-22        Neutral          1  \n",
       "1     2023-01-22       Positive          2  \n",
       "2     2023-01-22       Negative          0  \n",
       "3     2023-01-22        Neutral          1  \n",
       "4     2023-01-22        Neutral          1  \n",
       "...          ...            ...        ...  \n",
       "2844  2023-01-22       Negative          0  \n",
       "2845  2023-01-22       Negative          0  \n",
       "2846  2023-01-22        Neutral          1  \n",
       "2847  2023-01-22        Neutral          1  \n",
       "2848  2023-01-22        Neutral          1  \n",
       "\n",
       "[2849 rows x 30 columns]"
      ]
     },
     "execution_count": 73,
     "metadata": {},
     "output_type": "execute_result"
    }
   ],
   "source": [
    "df"
   ]
  },
  {
   "cell_type": "markdown",
   "id": "4f126ded",
   "metadata": {},
   "source": [
    "### LSTM "
   ]
  },
  {
   "cell_type": "code",
   "execution_count": null,
   "id": "32ef3ce5",
   "metadata": {
    "id": "5acf5d85"
   },
   "outputs": [],
   "source": [
    "from sklearn.model_selection import train_test_split\n",
    "\n",
    "X = padded_sequences\n",
    "y = df['Sentiment']  # Assuming 'Sentiment' is the column with sentiment labels (e.g., 0 for negative, 1 for positive)\n",
    "\n",
    "# Split the data into training, validation, and test sets\n",
    "X_train, X_temp, y_train, y_temp = train_test_split(X, y, test_size=0.2, random_state=42)\n",
    "X_val, X_test, y_val, y_test = train_test_split(X_temp, y_temp, test_size=0.5, random_state=42)\n"
   ]
  },
  {
   "cell_type": "code",
   "execution_count": 75,
   "id": "c9601cea",
   "metadata": {
    "id": "c9601cea"
   },
   "outputs": [],
   "source": [
    "import tensorflow as tf\n",
    "from tensorflow.keras.models import Sequential\n",
    "from tensorflow.keras.layers import Embedding, LSTM, Dense\n",
    "\n",
    "vocab_size = 10000  # Adjust this based on the number of unique words in your dataset\n",
    "embedding_dim = 100\n",
    "max_length = 50  # Adjust this based on the desired sequence length\n",
    "\n",
    "model = Sequential()\n",
    "model.add(Embedding(input_dim=vocab_size, output_dim=embedding_dim, input_length=max_length))\n",
    "model.add(LSTM(units=128))\n",
    "model.add(Dense(units=1, activation='sigmoid'))\n"
   ]
  },
  {
   "cell_type": "code",
   "execution_count": 76,
   "id": "6c177d99",
   "metadata": {
    "id": "6c177d99"
   },
   "outputs": [],
   "source": [
    "import os\n",
    "os.environ[\"CUDA_VISIBLE_DEVICES\"] = \"\"  # Set to the index of your GPU device, or use \"\" for CPU\n"
   ]
  },
  {
   "cell_type": "code",
   "execution_count": 77,
   "id": "d6173f70",
   "metadata": {
    "id": "d6173f70"
   },
   "outputs": [],
   "source": [
    "import tensorflow as tf\n",
    "tf.keras.backend.clear_session()"
   ]
  },
  {
   "cell_type": "code",
   "execution_count": 78,
   "id": "2e314d7b",
   "metadata": {
    "colab": {
     "base_uri": "https://localhost:8080/"
    },
    "id": "2e314d7b",
    "outputId": "85c524b1-0f9c-43a3-dbea-db2888f5da44",
    "scrolled": true
   },
   "outputs": [
    {
     "name": "stdout",
     "output_type": "stream",
     "text": [
      "Epoch 1/10\n",
      "36/36 [==============================] - 10s 167ms/step - loss: -1.0374 - accuracy: 0.5191 - val_loss: -2.7868 - val_accuracy: 0.5404\n",
      "Epoch 2/10\n",
      "36/36 [==============================] - 7s 183ms/step - loss: -2.6347 - accuracy: 0.5309 - val_loss: -3.8914 - val_accuracy: 0.5404\n",
      "Epoch 3/10\n",
      "36/36 [==============================] - 5s 143ms/step - loss: -3.3896 - accuracy: 0.5309 - val_loss: -4.7787 - val_accuracy: 0.5404\n",
      "Epoch 4/10\n",
      "36/36 [==============================] - 6s 158ms/step - loss: -4.0770 - accuracy: 0.5309 - val_loss: -5.5858 - val_accuracy: 0.5404\n",
      "Epoch 5/10\n",
      "36/36 [==============================] - 6s 168ms/step - loss: -4.7280 - accuracy: 0.5309 - val_loss: -6.4308 - val_accuracy: 0.5404\n",
      "Epoch 6/10\n",
      "36/36 [==============================] - 5s 148ms/step - loss: -5.3758 - accuracy: 0.5309 - val_loss: -7.2342 - val_accuracy: 0.5404\n",
      "Epoch 7/10\n",
      "36/36 [==============================] - 6s 180ms/step - loss: -6.0030 - accuracy: 0.5309 - val_loss: -8.0510 - val_accuracy: 0.5404\n",
      "Epoch 8/10\n",
      "36/36 [==============================] - 5s 148ms/step - loss: -6.6387 - accuracy: 0.5309 - val_loss: -8.8462 - val_accuracy: 0.5404\n",
      "Epoch 9/10\n",
      "36/36 [==============================] - 7s 193ms/step - loss: -7.2609 - accuracy: 0.5309 - val_loss: -9.6300 - val_accuracy: 0.5404\n",
      "Epoch 10/10\n",
      "36/36 [==============================] - 5s 143ms/step - loss: -7.8778 - accuracy: 0.5309 - val_loss: -10.4331 - val_accuracy: 0.5404\n"
     ]
    }
   ],
   "source": [
    "model.compile(optimizer='adam', loss='binary_crossentropy', metrics=['accuracy'])\n",
    "\n",
    "# Train the model\n",
    "history = model.fit(X_train, y_train, epochs=10, batch_size=64, validation_data=(X_val, y_val))\n",
    "\n",
    "# You can adjust the number of epochs, batch size, etc.\n",
    "# Now let's move on to Step 5 to evaluate the model\n"
   ]
  },
  {
   "cell_type": "code",
   "execution_count": 79,
   "id": "3d05e924",
   "metadata": {
    "colab": {
     "base_uri": "https://localhost:8080/"
    },
    "id": "3d05e924",
    "outputId": "c05a388b-8be7-446b-df3b-d5abf45f5878",
    "scrolled": true
   },
   "outputs": [
    {
     "name": "stdout",
     "output_type": "stream",
     "text": [
      "9/9 [==============================] - 0s 28ms/step - loss: -6.4063 - accuracy: 0.5193\n",
      "Test loss: -6.406304836273193, Test accuracy: 0.519298255443573\n"
     ]
    }
   ],
   "source": [
    "loss, accuracy = model.evaluate(X_test, y_test)\n",
    "print(f\"Test loss: {loss}, Test accuracy: {accuracy}\")\n"
   ]
  },
  {
   "cell_type": "markdown",
   "id": "23135128",
   "metadata": {},
   "source": [
    "### BiLSTM"
   ]
  },
  {
   "cell_type": "code",
   "execution_count": 80,
   "id": "b2d9fa8b",
   "metadata": {
    "colab": {
     "base_uri": "https://localhost:8080/"
    },
    "id": "b2d9fa8b",
    "outputId": "772f50d9-4bb5-476f-c7dd-de643f0739f5"
   },
   "outputs": [
    {
     "name": "stdout",
     "output_type": "stream",
     "text": [
      "Epoch 1/10\n",
      "36/36 [==============================] - 31s 638ms/step - loss: -1.6799 - accuracy: 0.5318 - val_loss: -4.3227 - val_accuracy: 0.5404\n",
      "Epoch 2/10\n",
      "36/36 [==============================] - 17s 463ms/step - loss: -4.2480 - accuracy: 0.5309 - val_loss: -6.4098 - val_accuracy: 0.5404\n",
      "Epoch 3/10\n",
      "36/36 [==============================] - 12s 350ms/step - loss: -5.7237 - accuracy: 0.5309 - val_loss: -8.1321 - val_accuracy: 0.5404\n",
      "Epoch 4/10\n",
      "36/36 [==============================] - 11s 298ms/step - loss: -7.0647 - accuracy: 0.5309 - val_loss: -9.8490 - val_accuracy: 0.5404\n",
      "Epoch 5/10\n",
      "36/36 [==============================] - 10s 286ms/step - loss: -8.3978 - accuracy: 0.5309 - val_loss: -11.5228 - val_accuracy: 0.5404\n",
      "Epoch 6/10\n",
      "36/36 [==============================] - 9s 248ms/step - loss: -9.7036 - accuracy: 0.5309 - val_loss: -13.1643 - val_accuracy: 0.5404\n",
      "Epoch 7/10\n",
      "36/36 [==============================] - 10s 287ms/step - loss: -10.9680 - accuracy: 0.5309 - val_loss: -14.6948 - val_accuracy: 0.5404\n",
      "Epoch 8/10\n",
      "36/36 [==============================] - 10s 288ms/step - loss: -12.1945 - accuracy: 0.5309 - val_loss: -16.2785 - val_accuracy: 0.5404\n",
      "Epoch 9/10\n",
      "36/36 [==============================] - 11s 317ms/step - loss: -13.4590 - accuracy: 0.5309 - val_loss: -17.8814 - val_accuracy: 0.5404\n",
      "Epoch 10/10\n",
      "36/36 [==============================] - 9s 255ms/step - loss: -14.7098 - accuracy: 0.5309 - val_loss: -19.5004 - val_accuracy: 0.5404\n",
      "9/9 [==============================] - 1s 97ms/step - loss: -11.9739 - accuracy: 0.5193\n",
      "Test loss: -11.973897933959961, Test accuracy: 0.519298255443573\n"
     ]
    }
   ],
   "source": [
    "import tensorflow as tf\n",
    "from tensorflow.keras.models import Sequential\n",
    "from tensorflow.keras.layers import Embedding, Bidirectional, LSTM, Dense\n",
    "\n",
    "# Assuming you have already preprocessed your data and created X_train, y_train, X_val, y_val, X_test, y_test\n",
    "\n",
    "# Build the BiLSTM model\n",
    "model = Sequential()\n",
    "model.add(Embedding(input_dim=vocab_size, output_dim=embedding_dim, input_length=max_length))\n",
    "model.add(Bidirectional(LSTM(units=128)))\n",
    "model.add(Dense(units=1, activation='sigmoid'))\n",
    "\n",
    "# Compile the model\n",
    "model.compile(optimizer='adam', loss='binary_crossentropy', metrics=['accuracy'])\n",
    "\n",
    "# Train the model\n",
    "history = model.fit(X_train, y_train, epochs=10, batch_size=64, validation_data=(X_val, y_val))\n",
    "\n",
    "# Evaluate the model on the test set\n",
    "loss, accuracy = model.evaluate(X_test, y_test)\n",
    "print(f\"Test loss: {loss}, Test accuracy: {accuracy}\")\n"
   ]
  }
 ],
 "metadata": {
  "colab": {
   "provenance": []
  },
  "kernelspec": {
   "display_name": "Python 3 (ipykernel)",
   "language": "python",
   "name": "python3"
  },
  "language_info": {
   "codemirror_mode": {
    "name": "ipython",
    "version": 3
   },
   "file_extension": ".py",
   "mimetype": "text/x-python",
   "name": "python",
   "nbconvert_exporter": "python",
   "pygments_lexer": "ipython3",
   "version": "3.9.12"
  }
 },
 "nbformat": 4,
 "nbformat_minor": 5
}
