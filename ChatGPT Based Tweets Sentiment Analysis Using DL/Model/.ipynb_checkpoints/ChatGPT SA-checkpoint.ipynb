{
 "cells": [
  {
   "cell_type": "markdown",
   "id": "d75871a1",
   "metadata": {},
   "source": [
    "### Importing Libraries "
   ]
  },
  {
   "cell_type": "code",
   "execution_count": 11,
   "id": "e8a0efba",
   "metadata": {},
   "outputs": [
    {
     "name": "stdout",
     "output_type": "stream",
     "text": [
      "Requirement already satisfied: matplotlib in c:\\users\\acer\\anaconda3\\lib\\site-packages (3.7.2)\n",
      "Requirement already satisfied: packaging>=20.0 in c:\\users\\acer\\anaconda3\\lib\\site-packages (from matplotlib) (21.3)\n",
      "Requirement already satisfied: cycler>=0.10 in c:\\users\\acer\\anaconda3\\lib\\site-packages (from matplotlib) (0.11.0)\n",
      "Requirement already satisfied: contourpy>=1.0.1 in c:\\users\\acer\\anaconda3\\lib\\site-packages (from matplotlib) (1.1.0)\n",
      "Requirement already satisfied: pyparsing<3.1,>=2.3.1 in c:\\users\\acer\\anaconda3\\lib\\site-packages (from matplotlib) (3.0.4)\n",
      "Requirement already satisfied: kiwisolver>=1.0.1 in c:\\users\\acer\\anaconda3\\lib\\site-packages (from matplotlib) (1.3.2)\n",
      "Requirement already satisfied: python-dateutil>=2.7 in c:\\users\\acer\\anaconda3\\lib\\site-packages (from matplotlib) (2.8.2)\n",
      "Requirement already satisfied: fonttools>=4.22.0 in c:\\users\\acer\\anaconda3\\lib\\site-packages (from matplotlib) (4.25.0)\n",
      "Requirement already satisfied: pillow>=6.2.0 in c:\\users\\acer\\anaconda3\\lib\\site-packages (from matplotlib) (9.0.1)\n",
      "Requirement already satisfied: importlib-resources>=3.2.0 in c:\\users\\acer\\anaconda3\\lib\\site-packages (from matplotlib) (6.0.0)\n",
      "Requirement already satisfied: numpy>=1.20 in c:\\users\\acer\\anaconda3\\lib\\site-packages (from matplotlib) (1.22.4)\n",
      "Requirement already satisfied: zipp>=3.1.0 in c:\\users\\acer\\anaconda3\\lib\\site-packages (from importlib-resources>=3.2.0->matplotlib) (3.7.0)\n",
      "Requirement already satisfied: six>=1.5 in c:\\users\\acer\\anaconda3\\lib\\site-packages (from python-dateutil>=2.7->matplotlib) (1.16.0)\n"
     ]
    },
    {
     "name": "stderr",
     "output_type": "stream",
     "text": [
      "WARNING: Ignoring invalid distribution -atplotlib (c:\\users\\acer\\anaconda3\\lib\\site-packages)\n",
      "WARNING: Ignoring invalid distribution -atplotlib (c:\\users\\acer\\anaconda3\\lib\\site-packages)\n",
      "WARNING: Ignoring invalid distribution -atplotlib (c:\\users\\acer\\anaconda3\\lib\\site-packages)\n",
      "WARNING: Ignoring invalid distribution -atplotlib (c:\\users\\acer\\anaconda3\\lib\\site-packages)\n",
      "WARNING: Ignoring invalid distribution -atplotlib (c:\\users\\acer\\anaconda3\\lib\\site-packages)\n",
      "WARNING: Ignoring invalid distribution -atplotlib (c:\\users\\acer\\anaconda3\\lib\\site-packages)\n"
     ]
    }
   ],
   "source": [
    "!pip install matplotlib"
   ]
  },
  {
   "cell_type": "code",
   "execution_count": 12,
   "id": "5eb8fef5",
   "metadata": {},
   "outputs": [
    {
     "ename": "AttributeError",
     "evalue": "module 'matplotlib._api' has no attribute 'define_aliases'",
     "output_type": "error",
     "traceback": [
      "\u001b[1;31m---------------------------------------------------------------------------\u001b[0m",
      "\u001b[1;31mAttributeError\u001b[0m                            Traceback (most recent call last)",
      "Input \u001b[1;32mIn [12]\u001b[0m, in \u001b[0;36m<cell line: 4>\u001b[1;34m()\u001b[0m\n\u001b[0;32m      2\u001b[0m \u001b[38;5;28;01mimport\u001b[39;00m \u001b[38;5;21;01mpandas\u001b[39;00m \u001b[38;5;28;01mas\u001b[39;00m \u001b[38;5;21;01mpd\u001b[39;00m \n\u001b[0;32m      3\u001b[0m \u001b[38;5;28;01mimport\u001b[39;00m \u001b[38;5;21;01mos\u001b[39;00m\n\u001b[1;32m----> 4\u001b[0m \u001b[38;5;28;01mimport\u001b[39;00m \u001b[38;5;21;01mmatplotlib\u001b[39;00m\u001b[38;5;21;01m.\u001b[39;00m\u001b[38;5;21;01mpyplot\u001b[39;00m \u001b[38;5;28;01mas\u001b[39;00m \u001b[38;5;21;01mplt\u001b[39;00m\n\u001b[0;32m      5\u001b[0m \u001b[38;5;28;01mimport\u001b[39;00m \u001b[38;5;21;01mseaborn\u001b[39;00m \u001b[38;5;28;01mas\u001b[39;00m \u001b[38;5;21;01msns\u001b[39;00m\n\u001b[0;32m      7\u001b[0m \u001b[38;5;28;01mfrom\u001b[39;00m \u001b[38;5;21;01mwordcloud\u001b[39;00m \u001b[38;5;28;01mimport\u001b[39;00m WordCloud, STOPWORDS\n",
      "File \u001b[1;32m~\\anaconda3\\lib\\site-packages\\matplotlib\\pyplot.py:52\u001b[0m, in \u001b[0;36m<module>\u001b[1;34m\u001b[0m\n\u001b[0;32m     50\u001b[0m \u001b[38;5;28;01mfrom\u001b[39;00m \u001b[38;5;21;01mcycler\u001b[39;00m \u001b[38;5;28;01mimport\u001b[39;00m cycler\n\u001b[0;32m     51\u001b[0m \u001b[38;5;28;01mimport\u001b[39;00m \u001b[38;5;21;01mmatplotlib\u001b[39;00m\n\u001b[1;32m---> 52\u001b[0m \u001b[38;5;28;01mimport\u001b[39;00m \u001b[38;5;21;01mmatplotlib\u001b[39;00m\u001b[38;5;21;01m.\u001b[39;00m\u001b[38;5;21;01mcolorbar\u001b[39;00m\n\u001b[0;32m     53\u001b[0m \u001b[38;5;28;01mimport\u001b[39;00m \u001b[38;5;21;01mmatplotlib\u001b[39;00m\u001b[38;5;21;01m.\u001b[39;00m\u001b[38;5;21;01mimage\u001b[39;00m\n\u001b[0;32m     54\u001b[0m \u001b[38;5;28;01mfrom\u001b[39;00m \u001b[38;5;21;01mmatplotlib\u001b[39;00m \u001b[38;5;28;01mimport\u001b[39;00m _api\n",
      "File \u001b[1;32m~\\anaconda3\\lib\\site-packages\\matplotlib\\colorbar.py:19\u001b[0m, in \u001b[0;36m<module>\u001b[1;34m\u001b[0m\n\u001b[0;32m     16\u001b[0m \u001b[38;5;28;01mimport\u001b[39;00m \u001b[38;5;21;01mnumpy\u001b[39;00m \u001b[38;5;28;01mas\u001b[39;00m \u001b[38;5;21;01mnp\u001b[39;00m\n\u001b[0;32m     18\u001b[0m \u001b[38;5;28;01mimport\u001b[39;00m \u001b[38;5;21;01mmatplotlib\u001b[39;00m \u001b[38;5;28;01mas\u001b[39;00m \u001b[38;5;21;01mmpl\u001b[39;00m\n\u001b[1;32m---> 19\u001b[0m \u001b[38;5;28;01mfrom\u001b[39;00m \u001b[38;5;21;01mmatplotlib\u001b[39;00m \u001b[38;5;28;01mimport\u001b[39;00m _api, cbook, collections, cm, colors, contour, ticker\n\u001b[0;32m     20\u001b[0m \u001b[38;5;28;01mimport\u001b[39;00m \u001b[38;5;21;01mmatplotlib\u001b[39;00m\u001b[38;5;21;01m.\u001b[39;00m\u001b[38;5;21;01martist\u001b[39;00m \u001b[38;5;28;01mas\u001b[39;00m \u001b[38;5;21;01mmartist\u001b[39;00m\n\u001b[0;32m     21\u001b[0m \u001b[38;5;28;01mimport\u001b[39;00m \u001b[38;5;21;01mmatplotlib\u001b[39;00m\u001b[38;5;21;01m.\u001b[39;00m\u001b[38;5;21;01mpatches\u001b[39;00m \u001b[38;5;28;01mas\u001b[39;00m \u001b[38;5;21;01mmpatches\u001b[39;00m\n",
      "File \u001b[1;32m~\\anaconda3\\lib\\site-packages\\matplotlib\\collections.py:19\u001b[0m, in \u001b[0;36m<module>\u001b[1;34m\u001b[0m\n\u001b[0;32m     16\u001b[0m \u001b[38;5;28;01mimport\u001b[39;00m \u001b[38;5;21;01mnumpy\u001b[39;00m \u001b[38;5;28;01mas\u001b[39;00m \u001b[38;5;21;01mnp\u001b[39;00m\n\u001b[0;32m     18\u001b[0m \u001b[38;5;28;01mimport\u001b[39;00m \u001b[38;5;21;01mmatplotlib\u001b[39;00m \u001b[38;5;28;01mas\u001b[39;00m \u001b[38;5;21;01mmpl\u001b[39;00m\n\u001b[1;32m---> 19\u001b[0m \u001b[38;5;28;01mfrom\u001b[39;00m \u001b[38;5;21;01m.\u001b[39;00m \u001b[38;5;28;01mimport\u001b[39;00m (_api, _path, artist, cbook, cm, colors \u001b[38;5;28;01mas\u001b[39;00m mcolors, _docstring,\n\u001b[0;32m     20\u001b[0m                hatch \u001b[38;5;28;01mas\u001b[39;00m mhatch, lines \u001b[38;5;28;01mas\u001b[39;00m mlines, path \u001b[38;5;28;01mas\u001b[39;00m mpath, transforms)\n\u001b[0;32m     21\u001b[0m \u001b[38;5;28;01mfrom\u001b[39;00m \u001b[38;5;21;01m.\u001b[39;00m\u001b[38;5;21;01m_enums\u001b[39;00m \u001b[38;5;28;01mimport\u001b[39;00m JoinStyle, CapStyle\n\u001b[0;32m     24\u001b[0m \u001b[38;5;66;03m# \"color\" is excluded; it is a compound setter, and its docstring differs\u001b[39;00m\n\u001b[0;32m     25\u001b[0m \u001b[38;5;66;03m# in LineCollection.\u001b[39;00m\n",
      "File \u001b[1;32m~\\anaconda3\\lib\\site-packages\\matplotlib\\lines.py:205\u001b[0m, in \u001b[0;36m<module>\u001b[1;34m\u001b[0m\n\u001b[0;32m    200\u001b[0m     \u001b[38;5;28;01melse\u001b[39;00m:\n\u001b[0;32m    201\u001b[0m         \u001b[38;5;28;01mraise\u001b[39;00m \u001b[38;5;167;01mValueError\u001b[39;00m(\u001b[38;5;124mf\u001b[39m\u001b[38;5;124m\"\u001b[39m\u001b[38;5;124mmarkevery=\u001b[39m\u001b[38;5;132;01m{\u001b[39;00mmarkevery\u001b[38;5;132;01m!r}\u001b[39;00m\u001b[38;5;124m is not a recognized value\u001b[39m\u001b[38;5;124m\"\u001b[39m)\n\u001b[0;32m    204\u001b[0m \u001b[38;5;129m@_docstring\u001b[39m\u001b[38;5;241m.\u001b[39minterpd\n\u001b[1;32m--> 205\u001b[0m \u001b[38;5;129m@_api\u001b[39m\u001b[38;5;241;43m.\u001b[39;49m\u001b[43mdefine_aliases\u001b[49m({\n\u001b[0;32m    206\u001b[0m     \u001b[38;5;124m\"\u001b[39m\u001b[38;5;124mantialiased\u001b[39m\u001b[38;5;124m\"\u001b[39m: [\u001b[38;5;124m\"\u001b[39m\u001b[38;5;124maa\u001b[39m\u001b[38;5;124m\"\u001b[39m],\n\u001b[0;32m    207\u001b[0m     \u001b[38;5;124m\"\u001b[39m\u001b[38;5;124mcolor\u001b[39m\u001b[38;5;124m\"\u001b[39m: [\u001b[38;5;124m\"\u001b[39m\u001b[38;5;124mc\u001b[39m\u001b[38;5;124m\"\u001b[39m],\n\u001b[0;32m    208\u001b[0m     \u001b[38;5;124m\"\u001b[39m\u001b[38;5;124mdrawstyle\u001b[39m\u001b[38;5;124m\"\u001b[39m: [\u001b[38;5;124m\"\u001b[39m\u001b[38;5;124mds\u001b[39m\u001b[38;5;124m\"\u001b[39m],\n\u001b[0;32m    209\u001b[0m     \u001b[38;5;124m\"\u001b[39m\u001b[38;5;124mlinestyle\u001b[39m\u001b[38;5;124m\"\u001b[39m: [\u001b[38;5;124m\"\u001b[39m\u001b[38;5;124mls\u001b[39m\u001b[38;5;124m\"\u001b[39m],\n\u001b[0;32m    210\u001b[0m     \u001b[38;5;124m\"\u001b[39m\u001b[38;5;124mlinewidth\u001b[39m\u001b[38;5;124m\"\u001b[39m: [\u001b[38;5;124m\"\u001b[39m\u001b[38;5;124mlw\u001b[39m\u001b[38;5;124m\"\u001b[39m],\n\u001b[0;32m    211\u001b[0m     \u001b[38;5;124m\"\u001b[39m\u001b[38;5;124mmarkeredgecolor\u001b[39m\u001b[38;5;124m\"\u001b[39m: [\u001b[38;5;124m\"\u001b[39m\u001b[38;5;124mmec\u001b[39m\u001b[38;5;124m\"\u001b[39m],\n\u001b[0;32m    212\u001b[0m     \u001b[38;5;124m\"\u001b[39m\u001b[38;5;124mmarkeredgewidth\u001b[39m\u001b[38;5;124m\"\u001b[39m: [\u001b[38;5;124m\"\u001b[39m\u001b[38;5;124mmew\u001b[39m\u001b[38;5;124m\"\u001b[39m],\n\u001b[0;32m    213\u001b[0m     \u001b[38;5;124m\"\u001b[39m\u001b[38;5;124mmarkerfacecolor\u001b[39m\u001b[38;5;124m\"\u001b[39m: [\u001b[38;5;124m\"\u001b[39m\u001b[38;5;124mmfc\u001b[39m\u001b[38;5;124m\"\u001b[39m],\n\u001b[0;32m    214\u001b[0m     \u001b[38;5;124m\"\u001b[39m\u001b[38;5;124mmarkerfacecoloralt\u001b[39m\u001b[38;5;124m\"\u001b[39m: [\u001b[38;5;124m\"\u001b[39m\u001b[38;5;124mmfcalt\u001b[39m\u001b[38;5;124m\"\u001b[39m],\n\u001b[0;32m    215\u001b[0m     \u001b[38;5;124m\"\u001b[39m\u001b[38;5;124mmarkersize\u001b[39m\u001b[38;5;124m\"\u001b[39m: [\u001b[38;5;124m\"\u001b[39m\u001b[38;5;124mms\u001b[39m\u001b[38;5;124m\"\u001b[39m],\n\u001b[0;32m    216\u001b[0m })\n\u001b[0;32m    217\u001b[0m \u001b[38;5;28;01mclass\u001b[39;00m \u001b[38;5;21;01mLine2D\u001b[39;00m(Artist):\n\u001b[0;32m    218\u001b[0m     \u001b[38;5;124;03m\"\"\"\u001b[39;00m\n\u001b[0;32m    219\u001b[0m \u001b[38;5;124;03m    A line - the line can have both a solid linestyle connecting all\u001b[39;00m\n\u001b[0;32m    220\u001b[0m \u001b[38;5;124;03m    the vertices, and a marker at each vertex.  Additionally, the\u001b[39;00m\n\u001b[0;32m    221\u001b[0m \u001b[38;5;124;03m    drawing of the solid line is influenced by the drawstyle, e.g., one\u001b[39;00m\n\u001b[0;32m    222\u001b[0m \u001b[38;5;124;03m    can create \"stepped\" lines in various styles.\u001b[39;00m\n\u001b[0;32m    223\u001b[0m \u001b[38;5;124;03m    \"\"\"\u001b[39;00m\n\u001b[0;32m    225\u001b[0m     lineStyles \u001b[38;5;241m=\u001b[39m _lineStyles \u001b[38;5;241m=\u001b[39m {  \u001b[38;5;66;03m# hidden names deprecated\u001b[39;00m\n\u001b[0;32m    226\u001b[0m         \u001b[38;5;124m'\u001b[39m\u001b[38;5;124m-\u001b[39m\u001b[38;5;124m'\u001b[39m:    \u001b[38;5;124m'\u001b[39m\u001b[38;5;124m_draw_solid\u001b[39m\u001b[38;5;124m'\u001b[39m,\n\u001b[0;32m    227\u001b[0m         \u001b[38;5;124m'\u001b[39m\u001b[38;5;124m--\u001b[39m\u001b[38;5;124m'\u001b[39m:   \u001b[38;5;124m'\u001b[39m\u001b[38;5;124m_draw_dashed\u001b[39m\u001b[38;5;124m'\u001b[39m,\n\u001b[1;32m   (...)\u001b[0m\n\u001b[0;32m    232\u001b[0m         \u001b[38;5;124m'\u001b[39m\u001b[38;5;124m'\u001b[39m:     \u001b[38;5;124m'\u001b[39m\u001b[38;5;124m_draw_nothing\u001b[39m\u001b[38;5;124m'\u001b[39m,\n\u001b[0;32m    233\u001b[0m     }\n",
      "\u001b[1;31mAttributeError\u001b[0m: module 'matplotlib._api' has no attribute 'define_aliases'"
     ]
    }
   ],
   "source": [
    "import numpy as np\n",
    "import pandas as pd \n",
    "import os\n",
    "import matplotlib.pyplot as plt\n",
    "import seaborn as sns\n",
    "\n",
    "from wordcloud import WordCloud, STOPWORDS\n",
    "from sklearn.decomposition import LatentDirichletAllocation\n",
    "from collections import Counter\n",
    "from nltk.sentiment import SentimentIntensityAnalyzer\n",
    "from textblob import TextBlob\n",
    "import nltk"
   ]
  },
  {
   "cell_type": "code",
   "execution_count": 1,
   "id": "fe8db7b5",
   "metadata": {},
   "outputs": [],
   "source": [
    "from tensorflow.keras.models import Sequential\n",
    "from tensorflow.keras.layers import LSTM, Embedding, Dense\n",
    "from tensorflow.keras.preprocessing.sequence import pad_sequences\n",
    "from tensorflow.keras.preprocessing.text import Tokenizer"
   ]
  },
  {
   "cell_type": "code",
   "execution_count": 2,
   "id": "1045420c",
   "metadata": {},
   "outputs": [
    {
     "ename": "NameError",
     "evalue": "name 'nltk' is not defined",
     "output_type": "error",
     "traceback": [
      "\u001b[1;31m---------------------------------------------------------------------------\u001b[0m",
      "\u001b[1;31mNameError\u001b[0m                                 Traceback (most recent call last)",
      "Input \u001b[1;32mIn [2]\u001b[0m, in \u001b[0;36m<cell line: 1>\u001b[1;34m()\u001b[0m\n\u001b[1;32m----> 1\u001b[0m \u001b[43mnltk\u001b[49m\u001b[38;5;241m.\u001b[39mdownload(\u001b[38;5;124m'\u001b[39m\u001b[38;5;124mvader_lexicon\u001b[39m\u001b[38;5;124m'\u001b[39m)\n",
      "\u001b[1;31mNameError\u001b[0m: name 'nltk' is not defined"
     ]
    }
   ],
   "source": [
    "nltk.download('vader_lexicon')"
   ]
  },
  {
   "cell_type": "markdown",
   "id": "d6ede93f",
   "metadata": {},
   "source": [
    "### Reading the CSV file"
   ]
  },
  {
   "cell_type": "code",
   "execution_count": 3,
   "id": "3d38ea78",
   "metadata": {},
   "outputs": [],
   "source": [
    "df = pd.read_csv(r'C:\\Users\\ACER\\Contribution 23\\chatgpt1.csv')"
   ]
  },
  {
   "cell_type": "code",
   "execution_count": 4,
   "id": "c224f51d",
   "metadata": {},
   "outputs": [
    {
     "data": {
      "text/html": [
       "<div>\n",
       "<style scoped>\n",
       "    .dataframe tbody tr th:only-of-type {\n",
       "        vertical-align: middle;\n",
       "    }\n",
       "\n",
       "    .dataframe tbody tr th {\n",
       "        vertical-align: top;\n",
       "    }\n",
       "\n",
       "    .dataframe thead th {\n",
       "        text-align: right;\n",
       "    }\n",
       "</style>\n",
       "<table border=\"1\" class=\"dataframe\">\n",
       "  <thead>\n",
       "    <tr style=\"text-align: right;\">\n",
       "      <th></th>\n",
       "      <th>Datetime</th>\n",
       "      <th>Tweet Id</th>\n",
       "      <th>Text</th>\n",
       "      <th>Username</th>\n",
       "      <th>Permalink</th>\n",
       "      <th>User</th>\n",
       "      <th>Outlinks</th>\n",
       "      <th>CountLinks</th>\n",
       "      <th>ReplyCount</th>\n",
       "      <th>RetweetCount</th>\n",
       "      <th>LikeCount</th>\n",
       "      <th>QuoteCount</th>\n",
       "      <th>ConversationId</th>\n",
       "      <th>Language</th>\n",
       "      <th>Source</th>\n",
       "      <th>Media</th>\n",
       "      <th>QuotedTweet</th>\n",
       "      <th>MentionedUsers</th>\n",
       "      <th>hashtag</th>\n",
       "      <th>hastag_counts</th>\n",
       "    </tr>\n",
       "  </thead>\n",
       "  <tbody>\n",
       "    <tr>\n",
       "      <th>0</th>\n",
       "      <td>2023-01-22 13:44:34+00:00</td>\n",
       "      <td>1617156270871699456</td>\n",
       "      <td>ChatGPTで遊ぶの忘れてた！！\\n書類作るコード書いてみてほしいのと、\\nどこまで思考整...</td>\n",
       "      <td>mochico0123</td>\n",
       "      <td>https://twitter.com/mochico0123/status/1617156...</td>\n",
       "      <td>https://twitter.com/mochico0123</td>\n",
       "      <td>NaN</td>\n",
       "      <td>NaN</td>\n",
       "      <td>1</td>\n",
       "      <td>0</td>\n",
       "      <td>5</td>\n",
       "      <td>0</td>\n",
       "      <td>1617156270871699456</td>\n",
       "      <td>ja</td>\n",
       "      <td>&lt;a href=\"http://twitter.com/download/iphone\" r...</td>\n",
       "      <td>NaN</td>\n",
       "      <td>NaN</td>\n",
       "      <td>NaN</td>\n",
       "      <td>[]</td>\n",
       "      <td>0</td>\n",
       "    </tr>\n",
       "    <tr>\n",
       "      <th>1</th>\n",
       "      <td>2023-01-22 13:44:39+00:00</td>\n",
       "      <td>1617156291046133761</td>\n",
       "      <td>@AlexandrovnaIng Prohibition of ChatGPT has be...</td>\n",
       "      <td>Caput_LupinumSG</td>\n",
       "      <td>https://twitter.com/Caput_LupinumSG/status/161...</td>\n",
       "      <td>https://twitter.com/Caput_LupinumSG</td>\n",
       "      <td>NaN</td>\n",
       "      <td>NaN</td>\n",
       "      <td>1</td>\n",
       "      <td>0</td>\n",
       "      <td>5</td>\n",
       "      <td>0</td>\n",
       "      <td>1617148639993806848</td>\n",
       "      <td>en</td>\n",
       "      <td>&lt;a href=\"http://twitter.com/download/iphone\" r...</td>\n",
       "      <td>NaN</td>\n",
       "      <td>NaN</td>\n",
       "      <td>[User(username='AlexandrovnaIng', id=282705900...</td>\n",
       "      <td>[]</td>\n",
       "      <td>0</td>\n",
       "    </tr>\n",
       "    <tr>\n",
       "      <th>2</th>\n",
       "      <td>2023-01-22 13:44:44+00:00</td>\n",
       "      <td>1617156308926349312</td>\n",
       "      <td>Schaut Euch an, was @fobizz @DianaKnodel alles...</td>\n",
       "      <td>ciffi</td>\n",
       "      <td>https://twitter.com/ciffi/status/1617156308926...</td>\n",
       "      <td>https://twitter.com/ciffi</td>\n",
       "      <td>['https://us02web.zoom.us/webinar/register/801...</td>\n",
       "      <td>['https://t.co/DsoeVJrPBp', 'https://t.co/HflT...</td>\n",
       "      <td>0</td>\n",
       "      <td>0</td>\n",
       "      <td>4</td>\n",
       "      <td>0</td>\n",
       "      <td>1617156308926349312</td>\n",
       "      <td>de</td>\n",
       "      <td>&lt;a href=\"http://twitter.com/#!/download/ipad\" ...</td>\n",
       "      <td>[Photo(previewUrl='https://pbs.twimg.com/media...</td>\n",
       "      <td>https://twitter.com/DianaKnodel/status/1617153...</td>\n",
       "      <td>[User(username='fobizz', id=884708145792253952...</td>\n",
       "      <td>['#ChatGPT']</td>\n",
       "      <td>1</td>\n",
       "    </tr>\n",
       "    <tr>\n",
       "      <th>3</th>\n",
       "      <td>2023-01-22 13:44:49+00:00</td>\n",
       "      <td>1617156332297256961</td>\n",
       "      <td>Bow down to chatGPT 🫡..... https://t.co/ENTSzi...</td>\n",
       "      <td>Vishwasrisiri</td>\n",
       "      <td>https://twitter.com/Vishwasrisiri/status/16171...</td>\n",
       "      <td>https://twitter.com/Vishwasrisiri</td>\n",
       "      <td>['https://twitter.com/agadmator/status/1617155...</td>\n",
       "      <td>['https://t.co/ENTSzi2AQ9']</td>\n",
       "      <td>0</td>\n",
       "      <td>0</td>\n",
       "      <td>2</td>\n",
       "      <td>0</td>\n",
       "      <td>1617156332297256961</td>\n",
       "      <td>en</td>\n",
       "      <td>&lt;a href=\"http://twitter.com/download/android\" ...</td>\n",
       "      <td>NaN</td>\n",
       "      <td>https://twitter.com/agadmator/status/161715501...</td>\n",
       "      <td>NaN</td>\n",
       "      <td>[]</td>\n",
       "      <td>0</td>\n",
       "    </tr>\n",
       "    <tr>\n",
       "      <th>4</th>\n",
       "      <td>2023-01-22 13:44:52+00:00</td>\n",
       "      <td>1617156345064570880</td>\n",
       "      <td>Profilinde vatan, Türkiye falan yazan bireyler...</td>\n",
       "      <td>0xGenetikciniz</td>\n",
       "      <td>https://twitter.com/0xGenetikciniz/status/1617...</td>\n",
       "      <td>https://twitter.com/0xGenetikciniz</td>\n",
       "      <td>NaN</td>\n",
       "      <td>NaN</td>\n",
       "      <td>0</td>\n",
       "      <td>0</td>\n",
       "      <td>4</td>\n",
       "      <td>0</td>\n",
       "      <td>1617156345064570880</td>\n",
       "      <td>tr</td>\n",
       "      <td>&lt;a href=\"http://twitter.com/download/iphone\" r...</td>\n",
       "      <td>NaN</td>\n",
       "      <td>NaN</td>\n",
       "      <td>NaN</td>\n",
       "      <td>[]</td>\n",
       "      <td>0</td>\n",
       "    </tr>\n",
       "  </tbody>\n",
       "</table>\n",
       "</div>"
      ],
      "text/plain": [
       "                    Datetime             Tweet Id  \\\n",
       "0  2023-01-22 13:44:34+00:00  1617156270871699456   \n",
       "1  2023-01-22 13:44:39+00:00  1617156291046133761   \n",
       "2  2023-01-22 13:44:44+00:00  1617156308926349312   \n",
       "3  2023-01-22 13:44:49+00:00  1617156332297256961   \n",
       "4  2023-01-22 13:44:52+00:00  1617156345064570880   \n",
       "\n",
       "                                                Text         Username  \\\n",
       "0  ChatGPTで遊ぶの忘れてた！！\\n書類作るコード書いてみてほしいのと、\\nどこまで思考整...      mochico0123   \n",
       "1  @AlexandrovnaIng Prohibition of ChatGPT has be...  Caput_LupinumSG   \n",
       "2  Schaut Euch an, was @fobizz @DianaKnodel alles...            ciffi   \n",
       "3  Bow down to chatGPT 🫡..... https://t.co/ENTSzi...    Vishwasrisiri   \n",
       "4  Profilinde vatan, Türkiye falan yazan bireyler...   0xGenetikciniz   \n",
       "\n",
       "                                           Permalink  \\\n",
       "0  https://twitter.com/mochico0123/status/1617156...   \n",
       "1  https://twitter.com/Caput_LupinumSG/status/161...   \n",
       "2  https://twitter.com/ciffi/status/1617156308926...   \n",
       "3  https://twitter.com/Vishwasrisiri/status/16171...   \n",
       "4  https://twitter.com/0xGenetikciniz/status/1617...   \n",
       "\n",
       "                                  User  \\\n",
       "0      https://twitter.com/mochico0123   \n",
       "1  https://twitter.com/Caput_LupinumSG   \n",
       "2            https://twitter.com/ciffi   \n",
       "3    https://twitter.com/Vishwasrisiri   \n",
       "4   https://twitter.com/0xGenetikciniz   \n",
       "\n",
       "                                            Outlinks  \\\n",
       "0                                                NaN   \n",
       "1                                                NaN   \n",
       "2  ['https://us02web.zoom.us/webinar/register/801...   \n",
       "3  ['https://twitter.com/agadmator/status/1617155...   \n",
       "4                                                NaN   \n",
       "\n",
       "                                          CountLinks  ReplyCount  \\\n",
       "0                                                NaN           1   \n",
       "1                                                NaN           1   \n",
       "2  ['https://t.co/DsoeVJrPBp', 'https://t.co/HflT...           0   \n",
       "3                        ['https://t.co/ENTSzi2AQ9']           0   \n",
       "4                                                NaN           0   \n",
       "\n",
       "   RetweetCount  LikeCount  QuoteCount       ConversationId Language  \\\n",
       "0             0          5           0  1617156270871699456       ja   \n",
       "1             0          5           0  1617148639993806848       en   \n",
       "2             0          4           0  1617156308926349312       de   \n",
       "3             0          2           0  1617156332297256961       en   \n",
       "4             0          4           0  1617156345064570880       tr   \n",
       "\n",
       "                                              Source  \\\n",
       "0  <a href=\"http://twitter.com/download/iphone\" r...   \n",
       "1  <a href=\"http://twitter.com/download/iphone\" r...   \n",
       "2  <a href=\"http://twitter.com/#!/download/ipad\" ...   \n",
       "3  <a href=\"http://twitter.com/download/android\" ...   \n",
       "4  <a href=\"http://twitter.com/download/iphone\" r...   \n",
       "\n",
       "                                               Media  \\\n",
       "0                                                NaN   \n",
       "1                                                NaN   \n",
       "2  [Photo(previewUrl='https://pbs.twimg.com/media...   \n",
       "3                                                NaN   \n",
       "4                                                NaN   \n",
       "\n",
       "                                         QuotedTweet  \\\n",
       "0                                                NaN   \n",
       "1                                                NaN   \n",
       "2  https://twitter.com/DianaKnodel/status/1617153...   \n",
       "3  https://twitter.com/agadmator/status/161715501...   \n",
       "4                                                NaN   \n",
       "\n",
       "                                      MentionedUsers       hashtag  \\\n",
       "0                                                NaN            []   \n",
       "1  [User(username='AlexandrovnaIng', id=282705900...            []   \n",
       "2  [User(username='fobizz', id=884708145792253952...  ['#ChatGPT']   \n",
       "3                                                NaN            []   \n",
       "4                                                NaN            []   \n",
       "\n",
       "   hastag_counts  \n",
       "0              0  \n",
       "1              0  \n",
       "2              1  \n",
       "3              0  \n",
       "4              0  "
      ]
     },
     "execution_count": 4,
     "metadata": {},
     "output_type": "execute_result"
    }
   ],
   "source": [
    "df.head()"
   ]
  },
  {
   "cell_type": "code",
   "execution_count": 5,
   "id": "f61d398f",
   "metadata": {},
   "outputs": [
    {
     "data": {
      "text/html": [
       "<div>\n",
       "<style scoped>\n",
       "    .dataframe tbody tr th:only-of-type {\n",
       "        vertical-align: middle;\n",
       "    }\n",
       "\n",
       "    .dataframe tbody tr th {\n",
       "        vertical-align: top;\n",
       "    }\n",
       "\n",
       "    .dataframe thead th {\n",
       "        text-align: right;\n",
       "    }\n",
       "</style>\n",
       "<table border=\"1\" class=\"dataframe\">\n",
       "  <thead>\n",
       "    <tr style=\"text-align: right;\">\n",
       "      <th></th>\n",
       "      <th>Datetime</th>\n",
       "      <th>Tweet Id</th>\n",
       "      <th>Text</th>\n",
       "      <th>Username</th>\n",
       "      <th>Permalink</th>\n",
       "      <th>User</th>\n",
       "      <th>Outlinks</th>\n",
       "      <th>CountLinks</th>\n",
       "      <th>ReplyCount</th>\n",
       "      <th>RetweetCount</th>\n",
       "      <th>LikeCount</th>\n",
       "      <th>QuoteCount</th>\n",
       "      <th>ConversationId</th>\n",
       "      <th>Language</th>\n",
       "      <th>Source</th>\n",
       "      <th>Media</th>\n",
       "      <th>QuotedTweet</th>\n",
       "      <th>MentionedUsers</th>\n",
       "      <th>hashtag</th>\n",
       "      <th>hastag_counts</th>\n",
       "    </tr>\n",
       "  </thead>\n",
       "  <tbody>\n",
       "    <tr>\n",
       "      <th>49996</th>\n",
       "      <td>2023-01-24 06:57:56+00:00</td>\n",
       "      <td>1617778712082096128</td>\n",
       "      <td>#ChatGPT ist ein #Chatbot, der durch künstlich...</td>\n",
       "      <td>HorstKrieger</td>\n",
       "      <td>https://twitter.com/HorstKrieger/status/161777...</td>\n",
       "      <td>https://twitter.com/HorstKrieger</td>\n",
       "      <td>['https://lnkd.in/dzHbz5-z', 'https://lnkd.in/...</td>\n",
       "      <td>['https://t.co/qxUJZinuNO', 'https://t.co/lFZD...</td>\n",
       "      <td>0</td>\n",
       "      <td>0</td>\n",
       "      <td>0</td>\n",
       "      <td>0</td>\n",
       "      <td>1617778712082096128</td>\n",
       "      <td>de</td>\n",
       "      <td>&lt;a href=\"http://www.linkedin.com/\" rel=\"nofoll...</td>\n",
       "      <td>NaN</td>\n",
       "      <td>NaN</td>\n",
       "      <td>NaN</td>\n",
       "      <td>['#ChatGPT', '#Chatbot,', '#KI', '#AI', '#Dial...</td>\n",
       "      <td>6</td>\n",
       "    </tr>\n",
       "    <tr>\n",
       "      <th>49997</th>\n",
       "      <td>2023-01-24 06:57:59+00:00</td>\n",
       "      <td>1617778726393249792</td>\n",
       "      <td>@r8r Ich hab mal die AI dazu befragt (ChatGPT)...</td>\n",
       "      <td>werpu</td>\n",
       "      <td>https://twitter.com/werpu/status/1617778726393...</td>\n",
       "      <td>https://twitter.com/werpu</td>\n",
       "      <td>NaN</td>\n",
       "      <td>NaN</td>\n",
       "      <td>0</td>\n",
       "      <td>0</td>\n",
       "      <td>0</td>\n",
       "      <td>0</td>\n",
       "      <td>1617774521586708480</td>\n",
       "      <td>de</td>\n",
       "      <td>&lt;a href=\"https://mobile.twitter.com\" rel=\"nofo...</td>\n",
       "      <td>[Photo(previewUrl='https://pbs.twimg.com/media...</td>\n",
       "      <td>NaN</td>\n",
       "      <td>[User(username='r8r', id=15451529, displayname...</td>\n",
       "      <td>[]</td>\n",
       "      <td>0</td>\n",
       "    </tr>\n",
       "    <tr>\n",
       "      <th>49998</th>\n",
       "      <td>2023-01-24 06:58:00+00:00</td>\n",
       "      <td>1617778728481992705</td>\n",
       "      <td>5 minuti di #chatGPT e ho capito che apprende ...</td>\n",
       "      <td>marcopiccinini</td>\n",
       "      <td>https://twitter.com/marcopiccinini/status/1617...</td>\n",
       "      <td>https://twitter.com/marcopiccinini</td>\n",
       "      <td>NaN</td>\n",
       "      <td>NaN</td>\n",
       "      <td>0</td>\n",
       "      <td>0</td>\n",
       "      <td>0</td>\n",
       "      <td>0</td>\n",
       "      <td>1617778728481992705</td>\n",
       "      <td>it</td>\n",
       "      <td>&lt;a href=\"http://twitter.com/download/iphone\" r...</td>\n",
       "      <td>[Photo(previewUrl='https://pbs.twimg.com/media...</td>\n",
       "      <td>NaN</td>\n",
       "      <td>NaN</td>\n",
       "      <td>['#chatGPT']</td>\n",
       "      <td>1</td>\n",
       "    </tr>\n",
       "    <tr>\n",
       "      <th>49999</th>\n",
       "      <td>2023-01-24 06:58:01+00:00</td>\n",
       "      <td>1617778731678044162</td>\n",
       "      <td>Portland Shop Uses ChatGPT To Tell Family Stor...</td>\n",
       "      <td>EuniceNyandat</td>\n",
       "      <td>https://twitter.com/EuniceNyandat/status/16177...</td>\n",
       "      <td>https://twitter.com/EuniceNyandat</td>\n",
       "      <td>['https://drumup.io/s/DkswB6']</td>\n",
       "      <td>['https://t.co/rzGvr6yTOc']</td>\n",
       "      <td>0</td>\n",
       "      <td>0</td>\n",
       "      <td>0</td>\n",
       "      <td>0</td>\n",
       "      <td>1617778731678044162</td>\n",
       "      <td>en</td>\n",
       "      <td>&lt;a href=\"https://drumup.io\" rel=\"nofollow\"&gt;dru...</td>\n",
       "      <td>NaN</td>\n",
       "      <td>NaN</td>\n",
       "      <td>NaN</td>\n",
       "      <td>[]</td>\n",
       "      <td>0</td>\n",
       "    </tr>\n",
       "    <tr>\n",
       "      <th>50000</th>\n",
       "      <td>2023-01-24 06:58:01+00:00</td>\n",
       "      <td>1617778733355790342</td>\n",
       "      <td>Ahora sueño con el día en que Amazon integre u...</td>\n",
       "      <td>AmericoSD_69</td>\n",
       "      <td>https://twitter.com/AmericoSD_69/status/161777...</td>\n",
       "      <td>https://twitter.com/AmericoSD_69</td>\n",
       "      <td>NaN</td>\n",
       "      <td>NaN</td>\n",
       "      <td>0</td>\n",
       "      <td>0</td>\n",
       "      <td>0</td>\n",
       "      <td>0</td>\n",
       "      <td>1617778733355790342</td>\n",
       "      <td>es</td>\n",
       "      <td>&lt;a href=\"http://twitter.com/download/android\" ...</td>\n",
       "      <td>NaN</td>\n",
       "      <td>NaN</td>\n",
       "      <td>NaN</td>\n",
       "      <td>[]</td>\n",
       "      <td>0</td>\n",
       "    </tr>\n",
       "  </tbody>\n",
       "</table>\n",
       "</div>"
      ],
      "text/plain": [
       "                        Datetime             Tweet Id  \\\n",
       "49996  2023-01-24 06:57:56+00:00  1617778712082096128   \n",
       "49997  2023-01-24 06:57:59+00:00  1617778726393249792   \n",
       "49998  2023-01-24 06:58:00+00:00  1617778728481992705   \n",
       "49999  2023-01-24 06:58:01+00:00  1617778731678044162   \n",
       "50000  2023-01-24 06:58:01+00:00  1617778733355790342   \n",
       "\n",
       "                                                    Text        Username  \\\n",
       "49996  #ChatGPT ist ein #Chatbot, der durch künstlich...    HorstKrieger   \n",
       "49997  @r8r Ich hab mal die AI dazu befragt (ChatGPT)...           werpu   \n",
       "49998  5 minuti di #chatGPT e ho capito che apprende ...  marcopiccinini   \n",
       "49999  Portland Shop Uses ChatGPT To Tell Family Stor...   EuniceNyandat   \n",
       "50000  Ahora sueño con el día en que Amazon integre u...    AmericoSD_69   \n",
       "\n",
       "                                               Permalink  \\\n",
       "49996  https://twitter.com/HorstKrieger/status/161777...   \n",
       "49997  https://twitter.com/werpu/status/1617778726393...   \n",
       "49998  https://twitter.com/marcopiccinini/status/1617...   \n",
       "49999  https://twitter.com/EuniceNyandat/status/16177...   \n",
       "50000  https://twitter.com/AmericoSD_69/status/161777...   \n",
       "\n",
       "                                     User  \\\n",
       "49996    https://twitter.com/HorstKrieger   \n",
       "49997           https://twitter.com/werpu   \n",
       "49998  https://twitter.com/marcopiccinini   \n",
       "49999   https://twitter.com/EuniceNyandat   \n",
       "50000    https://twitter.com/AmericoSD_69   \n",
       "\n",
       "                                                Outlinks  \\\n",
       "49996  ['https://lnkd.in/dzHbz5-z', 'https://lnkd.in/...   \n",
       "49997                                                NaN   \n",
       "49998                                                NaN   \n",
       "49999                     ['https://drumup.io/s/DkswB6']   \n",
       "50000                                                NaN   \n",
       "\n",
       "                                              CountLinks  ReplyCount  \\\n",
       "49996  ['https://t.co/qxUJZinuNO', 'https://t.co/lFZD...           0   \n",
       "49997                                                NaN           0   \n",
       "49998                                                NaN           0   \n",
       "49999                        ['https://t.co/rzGvr6yTOc']           0   \n",
       "50000                                                NaN           0   \n",
       "\n",
       "       RetweetCount  LikeCount  QuoteCount       ConversationId Language  \\\n",
       "49996             0          0           0  1617778712082096128       de   \n",
       "49997             0          0           0  1617774521586708480       de   \n",
       "49998             0          0           0  1617778728481992705       it   \n",
       "49999             0          0           0  1617778731678044162       en   \n",
       "50000             0          0           0  1617778733355790342       es   \n",
       "\n",
       "                                                  Source  \\\n",
       "49996  <a href=\"http://www.linkedin.com/\" rel=\"nofoll...   \n",
       "49997  <a href=\"https://mobile.twitter.com\" rel=\"nofo...   \n",
       "49998  <a href=\"http://twitter.com/download/iphone\" r...   \n",
       "49999  <a href=\"https://drumup.io\" rel=\"nofollow\">dru...   \n",
       "50000  <a href=\"http://twitter.com/download/android\" ...   \n",
       "\n",
       "                                                   Media QuotedTweet  \\\n",
       "49996                                                NaN         NaN   \n",
       "49997  [Photo(previewUrl='https://pbs.twimg.com/media...         NaN   \n",
       "49998  [Photo(previewUrl='https://pbs.twimg.com/media...         NaN   \n",
       "49999                                                NaN         NaN   \n",
       "50000                                                NaN         NaN   \n",
       "\n",
       "                                          MentionedUsers  \\\n",
       "49996                                                NaN   \n",
       "49997  [User(username='r8r', id=15451529, displayname...   \n",
       "49998                                                NaN   \n",
       "49999                                                NaN   \n",
       "50000                                                NaN   \n",
       "\n",
       "                                                 hashtag  hastag_counts  \n",
       "49996  ['#ChatGPT', '#Chatbot,', '#KI', '#AI', '#Dial...              6  \n",
       "49997                                                 []              0  \n",
       "49998                                       ['#chatGPT']              1  \n",
       "49999                                                 []              0  \n",
       "50000                                                 []              0  "
      ]
     },
     "execution_count": 5,
     "metadata": {},
     "output_type": "execute_result"
    }
   ],
   "source": [
    "df.tail()"
   ]
  },
  {
   "cell_type": "code",
   "execution_count": 6,
   "id": "9b943a08",
   "metadata": {},
   "outputs": [
    {
     "data": {
      "text/plain": [
       "Index(['Datetime', 'Tweet Id', 'Text', 'Username', 'Permalink', 'User',\n",
       "       'Outlinks', 'CountLinks', 'ReplyCount', 'RetweetCount', 'LikeCount',\n",
       "       'QuoteCount', 'ConversationId', 'Language', 'Source', 'Media',\n",
       "       'QuotedTweet', 'MentionedUsers', 'hashtag', 'hastag_counts'],\n",
       "      dtype='object')"
      ]
     },
     "execution_count": 6,
     "metadata": {},
     "output_type": "execute_result"
    }
   ],
   "source": [
    "df.columns"
   ]
  },
  {
   "cell_type": "code",
   "execution_count": 7,
   "id": "0faf7e93",
   "metadata": {},
   "outputs": [
    {
     "data": {
      "text/plain": [
       "(50001, 20)"
      ]
     },
     "execution_count": 7,
     "metadata": {},
     "output_type": "execute_result"
    }
   ],
   "source": [
    "df.shape"
   ]
  },
  {
   "cell_type": "code",
   "execution_count": 8,
   "id": "9e99aaa5",
   "metadata": {},
   "outputs": [
    {
     "data": {
      "text/plain": [
       "0"
      ]
     },
     "execution_count": 8,
     "metadata": {},
     "output_type": "execute_result"
    }
   ],
   "source": [
    "df.duplicated().sum()"
   ]
  },
  {
   "cell_type": "code",
   "execution_count": 9,
   "id": "bcb06992",
   "metadata": {},
   "outputs": [
    {
     "data": {
      "text/plain": [
       "Datetime              0\n",
       "Tweet Id              0\n",
       "Text                  0\n",
       "Username              0\n",
       "Permalink             0\n",
       "User                  0\n",
       "Outlinks          30059\n",
       "CountLinks        30059\n",
       "ReplyCount            0\n",
       "RetweetCount          0\n",
       "LikeCount             0\n",
       "QuoteCount            0\n",
       "ConversationId        0\n",
       "Language              0\n",
       "Source                0\n",
       "Media             40499\n",
       "QuotedTweet       46438\n",
       "MentionedUsers    32832\n",
       "hashtag               0\n",
       "hastag_counts         0\n",
       "dtype: int64"
      ]
     },
     "execution_count": 9,
     "metadata": {},
     "output_type": "execute_result"
    }
   ],
   "source": [
    "df.isnull().sum()"
   ]
  },
  {
   "cell_type": "code",
   "execution_count": 10,
   "id": "7ae28123",
   "metadata": {},
   "outputs": [
    {
     "name": "stdout",
     "output_type": "stream",
     "text": [
      "<class 'pandas.core.frame.DataFrame'>\n",
      "RangeIndex: 50001 entries, 0 to 50000\n",
      "Data columns (total 20 columns):\n",
      " #   Column          Non-Null Count  Dtype \n",
      "---  ------          --------------  ----- \n",
      " 0   Datetime        50001 non-null  object\n",
      " 1   Tweet Id        50001 non-null  int64 \n",
      " 2   Text            50001 non-null  object\n",
      " 3   Username        50001 non-null  object\n",
      " 4   Permalink       50001 non-null  object\n",
      " 5   User            50001 non-null  object\n",
      " 6   Outlinks        19942 non-null  object\n",
      " 7   CountLinks      19942 non-null  object\n",
      " 8   ReplyCount      50001 non-null  int64 \n",
      " 9   RetweetCount    50001 non-null  int64 \n",
      " 10  LikeCount       50001 non-null  int64 \n",
      " 11  QuoteCount      50001 non-null  int64 \n",
      " 12  ConversationId  50001 non-null  int64 \n",
      " 13  Language        50001 non-null  object\n",
      " 14  Source          50001 non-null  object\n",
      " 15  Media           9502 non-null   object\n",
      " 16  QuotedTweet     3563 non-null   object\n",
      " 17  MentionedUsers  17169 non-null  object\n",
      " 18  hashtag         50001 non-null  object\n",
      " 19  hastag_counts   50001 non-null  int64 \n",
      "dtypes: int64(7), object(13)\n",
      "memory usage: 7.6+ MB\n"
     ]
    }
   ],
   "source": [
    "df.info()"
   ]
  },
  {
   "cell_type": "code",
   "execution_count": 11,
   "id": "8580b471",
   "metadata": {},
   "outputs": [
    {
     "data": {
      "text/html": [
       "<div>\n",
       "<style scoped>\n",
       "    .dataframe tbody tr th:only-of-type {\n",
       "        vertical-align: middle;\n",
       "    }\n",
       "\n",
       "    .dataframe tbody tr th {\n",
       "        vertical-align: top;\n",
       "    }\n",
       "\n",
       "    .dataframe thead th {\n",
       "        text-align: right;\n",
       "    }\n",
       "</style>\n",
       "<table border=\"1\" class=\"dataframe\">\n",
       "  <thead>\n",
       "    <tr style=\"text-align: right;\">\n",
       "      <th></th>\n",
       "      <th>Tweet Id</th>\n",
       "      <th>ReplyCount</th>\n",
       "      <th>RetweetCount</th>\n",
       "      <th>LikeCount</th>\n",
       "      <th>QuoteCount</th>\n",
       "      <th>ConversationId</th>\n",
       "      <th>hastag_counts</th>\n",
       "    </tr>\n",
       "  </thead>\n",
       "  <tbody>\n",
       "    <tr>\n",
       "      <th>count</th>\n",
       "      <td>5.000100e+04</td>\n",
       "      <td>50001.000000</td>\n",
       "      <td>50001.000000</td>\n",
       "      <td>50001.000000</td>\n",
       "      <td>50001.000000</td>\n",
       "      <td>5.000100e+04</td>\n",
       "      <td>50001.000000</td>\n",
       "    </tr>\n",
       "    <tr>\n",
       "      <th>mean</th>\n",
       "      <td>1.617493e+18</td>\n",
       "      <td>0.929141</td>\n",
       "      <td>1.498510</td>\n",
       "      <td>9.696326</td>\n",
       "      <td>0.219536</td>\n",
       "      <td>1.617205e+18</td>\n",
       "      <td>0.783304</td>\n",
       "    </tr>\n",
       "    <tr>\n",
       "      <th>std</th>\n",
       "      <td>1.725682e+14</td>\n",
       "      <td>23.251710</td>\n",
       "      <td>46.030058</td>\n",
       "      <td>313.524215</td>\n",
       "      <td>10.356329</td>\n",
       "      <td>1.005075e+16</td>\n",
       "      <td>1.975040</td>\n",
       "    </tr>\n",
       "    <tr>\n",
       "      <th>min</th>\n",
       "      <td>1.617156e+18</td>\n",
       "      <td>0.000000</td>\n",
       "      <td>0.000000</td>\n",
       "      <td>0.000000</td>\n",
       "      <td>0.000000</td>\n",
       "      <td>6.493609e+17</td>\n",
       "      <td>0.000000</td>\n",
       "    </tr>\n",
       "    <tr>\n",
       "      <th>25%</th>\n",
       "      <td>1.617354e+18</td>\n",
       "      <td>0.000000</td>\n",
       "      <td>0.000000</td>\n",
       "      <td>0.000000</td>\n",
       "      <td>0.000000</td>\n",
       "      <td>1.617302e+18</td>\n",
       "      <td>0.000000</td>\n",
       "    </tr>\n",
       "    <tr>\n",
       "      <th>50%</th>\n",
       "      <td>1.617525e+18</td>\n",
       "      <td>0.000000</td>\n",
       "      <td>0.000000</td>\n",
       "      <td>0.000000</td>\n",
       "      <td>0.000000</td>\n",
       "      <td>1.617504e+18</td>\n",
       "      <td>0.000000</td>\n",
       "    </tr>\n",
       "    <tr>\n",
       "      <th>75%</th>\n",
       "      <td>1.617625e+18</td>\n",
       "      <td>1.000000</td>\n",
       "      <td>0.000000</td>\n",
       "      <td>2.000000</td>\n",
       "      <td>0.000000</td>\n",
       "      <td>1.617607e+18</td>\n",
       "      <td>1.000000</td>\n",
       "    </tr>\n",
       "    <tr>\n",
       "      <th>max</th>\n",
       "      <td>1.617779e+18</td>\n",
       "      <td>3098.000000</td>\n",
       "      <td>6815.000000</td>\n",
       "      <td>56073.000000</td>\n",
       "      <td>1947.000000</td>\n",
       "      <td>1.617779e+18</td>\n",
       "      <td>28.000000</td>\n",
       "    </tr>\n",
       "  </tbody>\n",
       "</table>\n",
       "</div>"
      ],
      "text/plain": [
       "           Tweet Id    ReplyCount  RetweetCount     LikeCount    QuoteCount  \\\n",
       "count  5.000100e+04  50001.000000  50001.000000  50001.000000  50001.000000   \n",
       "mean   1.617493e+18      0.929141      1.498510      9.696326      0.219536   \n",
       "std    1.725682e+14     23.251710     46.030058    313.524215     10.356329   \n",
       "min    1.617156e+18      0.000000      0.000000      0.000000      0.000000   \n",
       "25%    1.617354e+18      0.000000      0.000000      0.000000      0.000000   \n",
       "50%    1.617525e+18      0.000000      0.000000      0.000000      0.000000   \n",
       "75%    1.617625e+18      1.000000      0.000000      2.000000      0.000000   \n",
       "max    1.617779e+18   3098.000000   6815.000000  56073.000000   1947.000000   \n",
       "\n",
       "       ConversationId  hastag_counts  \n",
       "count    5.000100e+04   50001.000000  \n",
       "mean     1.617205e+18       0.783304  \n",
       "std      1.005075e+16       1.975040  \n",
       "min      6.493609e+17       0.000000  \n",
       "25%      1.617302e+18       0.000000  \n",
       "50%      1.617504e+18       0.000000  \n",
       "75%      1.617607e+18       1.000000  \n",
       "max      1.617779e+18      28.000000  "
      ]
     },
     "execution_count": 11,
     "metadata": {},
     "output_type": "execute_result"
    }
   ],
   "source": [
    "df.describe()"
   ]
  },
  {
   "cell_type": "code",
   "execution_count": 12,
   "id": "6d8bfb4b",
   "metadata": {
    "scrolled": true
   },
   "outputs": [
    {
     "data": {
      "text/plain": [
       "Datetime          41559\n",
       "Tweet Id          50001\n",
       "Text              49555\n",
       "Username          38433\n",
       "Permalink         50001\n",
       "User              38433\n",
       "Outlinks          13769\n",
       "CountLinks        19485\n",
       "ReplyCount          108\n",
       "RetweetCount        138\n",
       "LikeCount           366\n",
       "QuoteCount           51\n",
       "ConversationId    41430\n",
       "Language             61\n",
       "Source              843\n",
       "Media              9401\n",
       "QuotedTweet        2040\n",
       "MentionedUsers    10704\n",
       "hashtag            7312\n",
       "hastag_counts        27\n",
       "dtype: int64"
      ]
     },
     "execution_count": 12,
     "metadata": {},
     "output_type": "execute_result"
    }
   ],
   "source": [
    "df.nunique()"
   ]
  },
  {
   "cell_type": "markdown",
   "id": "c568e174",
   "metadata": {},
   "source": [
    "#### Checking the most frequent value"
   ]
  },
  {
   "cell_type": "code",
   "execution_count": 13,
   "id": "9ae54ef9",
   "metadata": {},
   "outputs": [],
   "source": [
    "def max_frequent_values(data):\n",
    "    total = data.count()\n",
    "    total_count = pd.DataFrame(total)\n",
    "    total_count.columns = ['Total']\n",
    "    items = []\n",
    "    vals = []\n",
    "    for col in data.columns:\n",
    "        try:\n",
    "            itm = data[col].value_counts().index[0]\n",
    "            val = data[col].value_counts().values[0]\n",
    "            items.append(itm)\n",
    "            vals.append(val)\n",
    "        except Exception as ex:\n",
    "            print(ex)\n",
    "            items.append(0)\n",
    "            vals.append(0)\n",
    "            continue\n",
    "    total_count['Most frequent item'] = items\n",
    "    total_count['Frequency'] = vals\n",
    "    total_count['Percent from total'] = np.round(vals / total * 100, 3)\n",
    "    return(np.transpose(total_count))"
   ]
  },
  {
   "cell_type": "code",
   "execution_count": 15,
   "id": "d1ea8711",
   "metadata": {},
   "outputs": [
    {
     "data": {
      "text/html": [
       "<div>\n",
       "<style scoped>\n",
       "    .dataframe tbody tr th:only-of-type {\n",
       "        vertical-align: middle;\n",
       "    }\n",
       "\n",
       "    .dataframe tbody tr th {\n",
       "        vertical-align: top;\n",
       "    }\n",
       "\n",
       "    .dataframe thead th {\n",
       "        text-align: right;\n",
       "    }\n",
       "</style>\n",
       "<table border=\"1\" class=\"dataframe\">\n",
       "  <thead>\n",
       "    <tr style=\"text-align: right;\">\n",
       "      <th></th>\n",
       "      <th>Datetime</th>\n",
       "      <th>Tweet Id</th>\n",
       "      <th>Text</th>\n",
       "      <th>Username</th>\n",
       "      <th>Permalink</th>\n",
       "      <th>User</th>\n",
       "      <th>Outlinks</th>\n",
       "      <th>CountLinks</th>\n",
       "      <th>ReplyCount</th>\n",
       "      <th>RetweetCount</th>\n",
       "      <th>LikeCount</th>\n",
       "      <th>QuoteCount</th>\n",
       "      <th>ConversationId</th>\n",
       "      <th>Language</th>\n",
       "      <th>Source</th>\n",
       "      <th>Media</th>\n",
       "      <th>QuotedTweet</th>\n",
       "      <th>MentionedUsers</th>\n",
       "      <th>hashtag</th>\n",
       "      <th>hastag_counts</th>\n",
       "    </tr>\n",
       "  </thead>\n",
       "  <tbody>\n",
       "    <tr>\n",
       "      <th>Total</th>\n",
       "      <td>50001</td>\n",
       "      <td>50001</td>\n",
       "      <td>50001</td>\n",
       "      <td>50001</td>\n",
       "      <td>50001</td>\n",
       "      <td>50001</td>\n",
       "      <td>19942</td>\n",
       "      <td>19942</td>\n",
       "      <td>50001</td>\n",
       "      <td>50001</td>\n",
       "      <td>50001</td>\n",
       "      <td>50001</td>\n",
       "      <td>50001</td>\n",
       "      <td>50001</td>\n",
       "      <td>50001</td>\n",
       "      <td>9502</td>\n",
       "      <td>3563</td>\n",
       "      <td>17169</td>\n",
       "      <td>50001</td>\n",
       "      <td>50001</td>\n",
       "    </tr>\n",
       "    <tr>\n",
       "      <th>Most frequent item</th>\n",
       "      <td>2023-01-23 17:11:13+00:00</td>\n",
       "      <td>1617156270871699456</td>\n",
       "      <td>@chatgpt_issac AI</td>\n",
       "      <td>translation_ja</td>\n",
       "      <td>https://twitter.com/mochico0123/status/1617156...</td>\n",
       "      <td>https://twitter.com/translation_ja</td>\n",
       "      <td>['https://www.ft.com/content/7229ba86-142a-49f...</td>\n",
       "      <td>['https://t.co/xegxY3jDom']</td>\n",
       "      <td>0</td>\n",
       "      <td>0</td>\n",
       "      <td>0</td>\n",
       "      <td>0</td>\n",
       "      <td>1617162355112124421</td>\n",
       "      <td>en</td>\n",
       "      <td>&lt;a href=\"https://mobile.twitter.com\" rel=\"nofo...</td>\n",
       "      <td>[Photo(previewUrl='https://pbs.twimg.com/media...</td>\n",
       "      <td>https://twitter.com/GRDecter/status/1617162355...</td>\n",
       "      <td>[User(username='GRDecter', id=1281457267582177...</td>\n",
       "      <td>[]</td>\n",
       "      <td>0</td>\n",
       "    </tr>\n",
       "    <tr>\n",
       "      <th>Frequency</th>\n",
       "      <td>8</td>\n",
       "      <td>1</td>\n",
       "      <td>164</td>\n",
       "      <td>60</td>\n",
       "      <td>1</td>\n",
       "      <td>60</td>\n",
       "      <td>149</td>\n",
       "      <td>19</td>\n",
       "      <td>36736</td>\n",
       "      <td>42416</td>\n",
       "      <td>27141</td>\n",
       "      <td>47665</td>\n",
       "      <td>264</td>\n",
       "      <td>32076</td>\n",
       "      <td>17814</td>\n",
       "      <td>20</td>\n",
       "      <td>209</td>\n",
       "      <td>332</td>\n",
       "      <td>36414</td>\n",
       "      <td>36414</td>\n",
       "    </tr>\n",
       "    <tr>\n",
       "      <th>Percent from total</th>\n",
       "      <td>0.016</td>\n",
       "      <td>0.002</td>\n",
       "      <td>0.328</td>\n",
       "      <td>0.12</td>\n",
       "      <td>0.002</td>\n",
       "      <td>0.12</td>\n",
       "      <td>0.747</td>\n",
       "      <td>0.095</td>\n",
       "      <td>73.471</td>\n",
       "      <td>84.83</td>\n",
       "      <td>54.281</td>\n",
       "      <td>95.328</td>\n",
       "      <td>0.528</td>\n",
       "      <td>64.151</td>\n",
       "      <td>35.627</td>\n",
       "      <td>0.21</td>\n",
       "      <td>5.866</td>\n",
       "      <td>1.934</td>\n",
       "      <td>72.827</td>\n",
       "      <td>72.827</td>\n",
       "    </tr>\n",
       "  </tbody>\n",
       "</table>\n",
       "</div>"
      ],
      "text/plain": [
       "                                     Datetime             Tweet Id  \\\n",
       "Total                                   50001                50001   \n",
       "Most frequent item  2023-01-23 17:11:13+00:00  1617156270871699456   \n",
       "Frequency                                   8                    1   \n",
       "Percent from total                      0.016                0.002   \n",
       "\n",
       "                                 Text        Username  \\\n",
       "Total                           50001           50001   \n",
       "Most frequent item  @chatgpt_issac AI  translation_ja   \n",
       "Frequency                         164              60   \n",
       "Percent from total              0.328            0.12   \n",
       "\n",
       "                                                            Permalink  \\\n",
       "Total                                                           50001   \n",
       "Most frequent item  https://twitter.com/mochico0123/status/1617156...   \n",
       "Frequency                                                           1   \n",
       "Percent from total                                              0.002   \n",
       "\n",
       "                                                  User  \\\n",
       "Total                                            50001   \n",
       "Most frequent item  https://twitter.com/translation_ja   \n",
       "Frequency                                           60   \n",
       "Percent from total                                0.12   \n",
       "\n",
       "                                                             Outlinks  \\\n",
       "Total                                                           19942   \n",
       "Most frequent item  ['https://www.ft.com/content/7229ba86-142a-49f...   \n",
       "Frequency                                                         149   \n",
       "Percent from total                                              0.747   \n",
       "\n",
       "                                     CountLinks ReplyCount RetweetCount  \\\n",
       "Total                                     19942      50001        50001   \n",
       "Most frequent item  ['https://t.co/xegxY3jDom']          0            0   \n",
       "Frequency                                    19      36736        42416   \n",
       "Percent from total                        0.095     73.471        84.83   \n",
       "\n",
       "                   LikeCount QuoteCount       ConversationId Language  \\\n",
       "Total                  50001      50001                50001    50001   \n",
       "Most frequent item         0          0  1617162355112124421       en   \n",
       "Frequency              27141      47665                  264    32076   \n",
       "Percent from total    54.281     95.328                0.528   64.151   \n",
       "\n",
       "                                                               Source  \\\n",
       "Total                                                           50001   \n",
       "Most frequent item  <a href=\"https://mobile.twitter.com\" rel=\"nofo...   \n",
       "Frequency                                                       17814   \n",
       "Percent from total                                             35.627   \n",
       "\n",
       "                                                                Media  \\\n",
       "Total                                                            9502   \n",
       "Most frequent item  [Photo(previewUrl='https://pbs.twimg.com/media...   \n",
       "Frequency                                                          20   \n",
       "Percent from total                                               0.21   \n",
       "\n",
       "                                                          QuotedTweet  \\\n",
       "Total                                                            3563   \n",
       "Most frequent item  https://twitter.com/GRDecter/status/1617162355...   \n",
       "Frequency                                                         209   \n",
       "Percent from total                                              5.866   \n",
       "\n",
       "                                                       MentionedUsers hashtag  \\\n",
       "Total                                                           17169   50001   \n",
       "Most frequent item  [User(username='GRDecter', id=1281457267582177...      []   \n",
       "Frequency                                                         332   36414   \n",
       "Percent from total                                              1.934  72.827   \n",
       "\n",
       "                   hastag_counts  \n",
       "Total                      50001  \n",
       "Most frequent item             0  \n",
       "Frequency                  36414  \n",
       "Percent from total        72.827  "
      ]
     },
     "execution_count": 15,
     "metadata": {},
     "output_type": "execute_result"
    }
   ],
   "source": [
    "max_frequent_values(df)"
   ]
  },
  {
   "cell_type": "code",
   "execution_count": 17,
   "id": "61581e2c",
   "metadata": {},
   "outputs": [
    {
     "data": {
      "text/plain": [
       "array(['mochico0123', 'Caput_LupinumSG', 'ciffi', ..., 'marcopiccinini',\n",
       "       'EuniceNyandat', 'AmericoSD_69'], dtype=object)"
      ]
     },
     "execution_count": 17,
     "metadata": {},
     "output_type": "execute_result"
    }
   ],
   "source": [
    "df['Username'].unique()"
   ]
  },
  {
   "cell_type": "code",
   "execution_count": 18,
   "id": "9402501a",
   "metadata": {},
   "outputs": [
    {
     "data": {
      "text/plain": [
       "translation_ja    60\n",
       "SaveToNotion      47\n",
       "trandanhmmo       44\n",
       "richardkimphd     43\n",
       "VeilleCyber3      38\n",
       "                  ..\n",
       "masayume_32        1\n",
       "WRoughSketch       1\n",
       "ayazfarooqui       1\n",
       "Technology_GD      1\n",
       "AmericoSD_69       1\n",
       "Name: Username, Length: 38433, dtype: int64"
      ]
     },
     "execution_count": 18,
     "metadata": {},
     "output_type": "execute_result"
    }
   ],
   "source": [
    "df['Username'].value_counts()"
   ]
  },
  {
   "cell_type": "code",
   "execution_count": 19,
   "id": "e8548f61",
   "metadata": {},
   "outputs": [
    {
     "data": {
      "image/png": "[encoded data removed]",
      "text/plain": [
       "<Figure size 1080x432 with 1 Axes>"
      ]
     },
     "metadata": {
      "needs_background": "light"
     },
     "output_type": "display_data"
    }
   ],
   "source": [
    "plt.figure(figsize=(15,6))\n",
    "sns.countplot(data=df, x='Username', order=df[\"Username\"].value_counts().index[:20])\n",
    "plt.xticks(rotation=90)\n",
    "plt.show()"
   ]
  },
  {
   "cell_type": "code",
   "execution_count": 20,
   "id": "449802bc",
   "metadata": {},
   "outputs": [
    {
     "data": {
      "text/plain": [
       "array(['https://twitter.com/mochico0123',\n",
       "       'https://twitter.com/Caput_LupinumSG', 'https://twitter.com/ciffi',\n",
       "       ..., 'https://twitter.com/marcopiccinini',\n",
       "       'https://twitter.com/EuniceNyandat',\n",
       "       'https://twitter.com/AmericoSD_69'], dtype=object)"
      ]
     },
     "execution_count": 20,
     "metadata": {},
     "output_type": "execute_result"
    }
   ],
   "source": [
    "df['User'].unique()"
   ]
  },
  {
   "cell_type": "code",
   "execution_count": 21,
   "id": "0c692e0c",
   "metadata": {},
   "outputs": [
    {
     "data": {
      "text/plain": [
       "https://twitter.com/translation_ja    60\n",
       "https://twitter.com/SaveToNotion      47\n",
       "https://twitter.com/trandanhmmo       44\n",
       "https://twitter.com/richardkimphd     43\n",
       "https://twitter.com/VeilleCyber3      38\n",
       "                                      ..\n",
       "https://twitter.com/masayume_32        1\n",
       "https://twitter.com/WRoughSketch       1\n",
       "https://twitter.com/ayazfarooqui       1\n",
       "https://twitter.com/Technology_GD      1\n",
       "https://twitter.com/AmericoSD_69       1\n",
       "Name: User, Length: 38433, dtype: int64"
      ]
     },
     "execution_count": 21,
     "metadata": {},
     "output_type": "execute_result"
    }
   ],
   "source": [
    "df['User'].value_counts()"
   ]
  },
  {
   "cell_type": "code",
   "execution_count": 22,
   "id": "5ef7cb68",
   "metadata": {},
   "outputs": [
    {
     "data": {
      "image/png": "[encoded data removed]",
      "text/plain": [
       "<Figure size 1080x432 with 1 Axes>"
      ]
     },
     "metadata": {
      "needs_background": "light"
     },
     "output_type": "display_data"
    }
   ],
   "source": [
    "plt.figure(figsize=(15,6))\n",
    "sns.countplot(data=df, x='User', order=df[\"User\"].value_counts().index[:20])\n",
    "plt.xticks(rotation=90)\n",
    "plt.show()"
   ]
  },
  {
   "cell_type": "code",
   "execution_count": 23,
   "id": "4e65f5c1",
   "metadata": {},
   "outputs": [
    {
     "data": {
      "text/plain": [
       "array([   1,    0,   23,    4,   37,    2,    3,  209,  149,  126,   17,\n",
       "         22,    5,   54,   34,   21,   13, 3098,   69, 1421,   10,    8,\n",
       "          6,    9,    7,   43,   15,   11,   12,  111,   29,  164,  286,\n",
       "         28,   20,  496,   14,   31,   40,   47,  374,   33,  338,   26,\n",
       "        100,   39,   18,   59,  154,   16,   55,  114,  476,   44,   24,\n",
       "        119,   99,   42,   36,   27,   68,   92,  159,   19,   88,   35,\n",
       "        446,   52,   45,  147,  106,  166,   32,   89,  165,   50,  130,\n",
       "         51,   95, 1455, 3044,   96,  490,  194,   48,   74,  248,   72,\n",
       "         80,   57,   25,   93,   38, 1110,  161,  183,   41,  135,   79,\n",
       "        103,   71,   49,   30,   63,  176,   67,  777,  331], dtype=int64)"
      ]
     },
     "execution_count": 23,
     "metadata": {},
     "output_type": "execute_result"
    }
   ],
   "source": [
    "df['ReplyCount'].unique()"
   ]
  },
  {
   "cell_type": "code",
   "execution_count": 24,
   "id": "c208919c",
   "metadata": {},
   "outputs": [
    {
     "data": {
      "text/plain": [
       "0      36736\n",
       "1       9430\n",
       "2       1801\n",
       "3        653\n",
       "4        333\n",
       "       ...  \n",
       "45         1\n",
       "147        1\n",
       "106        1\n",
       "166        1\n",
       "331        1\n",
       "Name: ReplyCount, Length: 108, dtype: int64"
      ]
     },
     "execution_count": 24,
     "metadata": {},
     "output_type": "execute_result"
    }
   ],
   "source": [
    "df['ReplyCount'].value_counts()"
   ]
  },
  {
   "cell_type": "code",
   "execution_count": 25,
   "id": "a611722c",
   "metadata": {},
   "outputs": [
    {
     "data": {
      "image/png": "[encoded data removed]",
      "text/plain": [
       "<Figure size 1080x432 with 1 Axes>"
      ]
     },
     "metadata": {
      "needs_background": "light"
     },
     "output_type": "display_data"
    }
   ],
   "source": [
    "plt.figure(figsize=(15,6))\n",
    "sns.countplot(data=df, x='ReplyCount', order=df[\"ReplyCount\"].value_counts().index[:5])\n",
    "plt.xticks(rotation=90)\n",
    "plt.show()"
   ]
  },
  {
   "cell_type": "code",
   "execution_count": 36,
   "id": "50adfd4c",
   "metadata": {},
   "outputs": [
    {
     "data": {
      "text/plain": [
       "array([   0,    1,    5,    6,  542,   40,   49,   18,    3,    2,   16,\n",
       "          4,  112,   39,   36, 1094,   12, 6815,   10,   20,    7,   58,\n",
       "         23,   11,   15,   45,   37,    8,   31,   19,  160,   27,    9,\n",
       "         38,   34,   14,  125,   17,   74,  461,   68,   26,   13, 2627,\n",
       "         47,   53,   88,   21,   25,  221,  334,   50,   30,   22,  252,\n",
       "         33,  713,  597,   76,   43,   28,  227, 1732,   66,   98,  136,\n",
       "         92,  114,  730,   64,   24,  202, 1874,   67,   29,  186,  118,\n",
       "         97,   52,  108, 2463,   59,   32,   93,   35,   56,  564, 3987,\n",
       "        170,   55,  257, 1307,   95,   62,   44,   57,   89,   54,   83,\n",
       "        222,  337,  236,  376,  121, 1533,  458,   78,   61,   51, 2203,\n",
       "         70,  428,   42,  140,   46, 1534,  164,  162,  213,  139,  289,\n",
       "       1113,   48,  418,  206,  107,  148,   99,  516,   41,  452,  630,\n",
       "        176,   79,   69,  679, 2082,  248], dtype=int64)"
      ]
     },
     "execution_count": 36,
     "metadata": {},
     "output_type": "execute_result"
    }
   ],
   "source": [
    "df['RetweetCount'].unique()"
   ]
  },
  {
   "cell_type": "code",
   "execution_count": 37,
   "id": "8587b3f6",
   "metadata": {},
   "outputs": [
    {
     "data": {
      "text/plain": [
       "0      42416\n",
       "1       3925\n",
       "2       1204\n",
       "3        620\n",
       "4        365\n",
       "       ...  \n",
       "221        1\n",
       "222        1\n",
       "337        1\n",
       "236        1\n",
       "248        1\n",
       "Name: RetweetCount, Length: 138, dtype: int64"
      ]
     },
     "execution_count": 37,
     "metadata": {},
     "output_type": "execute_result"
    }
   ],
   "source": [
    "df['RetweetCount'].value_counts()"
   ]
  },
  {
   "cell_type": "code",
   "execution_count": 38,
   "id": "6f4ef124",
   "metadata": {},
   "outputs": [
    {
     "data": {
      "image/png": "[encoded data removed]",
      "text/plain": [
       "<Figure size 1080x432 with 1 Axes>"
      ]
     },
     "metadata": {
      "needs_background": "light"
     },
     "output_type": "display_data"
    }
   ],
   "source": [
    "plt.figure(figsize=(15,6))\n",
    "sns.countplot(data=df, x='RetweetCount', order=df[\"RetweetCount\"].value_counts().index[:5])\n",
    "plt.xticks(rotation=90)\n",
    "plt.show()"
   ]
  },
  {
   "cell_type": "code",
   "execution_count": 39,
   "id": "9948c592",
   "metadata": {},
   "outputs": [
    {
     "data": {
      "text/plain": [
       "array([    5,     4,     2,     1,     0,     3,    66,    20,  9125,\n",
       "           7,   348,   607,    11,     9,   404,     8,     6,    68,\n",
       "         329,    10,    17,    15,  1905,   211,    16,    22,    14,\n",
       "         381,    13,  5682,    42,   190,    57, 56073,    26,    38,\n",
       "          30,    97,    24,    19,    12,    50,    18,    29,    51,\n",
       "          33,    41,    55,    44,   663,    75,    54,    39,    21,\n",
       "          37,   252,    40,    47,   390,    87,   177,    23,    84,\n",
       "          28,    31,   131,   251,    86,  1055,   171,    65,   144,\n",
       "          58,   111,    71,    74,   127,    36,    32,   234,   654,\n",
       "         222,   711,  3952,    43,    46,   273,   168,   349,   239,\n",
       "         118,   112,    64,    27,   228,    25,    56,   186,    93,\n",
       "       12557,   733,    98,    61,    35,   100,   147,   322,    49,\n",
       "         383,   189,    67,    45,    34,   135,   132,   113,    76,\n",
       "         759,   165,   164,    48,    72,   220,   107,  1608,  2250,\n",
       "         302,    73,   149,   289,    82,   429,   108,   834,   106,\n",
       "         114,    62,   176,   123,   858,    90,   128,   185,    91,\n",
       "        4413,  9677,   368,    59,   415,   104,   334,   103,    92,\n",
       "          94,   297,   121,    88,   208,   236,   153,    70,  1466,\n",
       "          69,    60,   102,  9946,    53,   262,    85,  1182,   279,\n",
       "         187,   162,    78,    77,   443,   284,   116,   673,   589,\n",
       "         701,   110,   274,    89,   254,   355,   109,   122,    52,\n",
       "        1732,  6979,   292,   140,   326,   226,   130,   247,   859,\n",
       "         372, 16856,   835,   115,   138,    81,   708,   642,   160,\n",
       "         338,   174,   503,   396,    63,   656,   481,   169,   126,\n",
       "         154,   117,   196,  1239,   419,   311, 10153,   191,   137,\n",
       "         161,   276,   492,   242,   202,   347,    83,   214,  2297,\n",
       "       17150,   158,   505,   324,  1238,  1517,  5513,   151,   200,\n",
       "         178,   789,   767,   125,    96,   167,   163,   248,   134,\n",
       "         188,   263,   235,    79,   458,    99,   430,   343,   150,\n",
       "         166,   210,  1213,  1707,   277,   124,   215,   245,   152,\n",
       "         218,  2353,   143,  3529,   170,   339,   244,   342,   954,\n",
       "          80,   509,   206,   270,   173, 11520,   373,   394,   253,\n",
       "         139,   209,   728,  1189,   386,   133,  1082,   497,   360,\n",
       "         267,   105,  5911,   364,  1077,   384,   194,   213,  1935,\n",
       "         643,   316,   421,   225,   385,   588,   233,   148,   318,\n",
       "         354,   195,  1850,   616,   303,  3732,  2712,  1199,   641,\n",
       "        4643,   451,   203,   644,  2770,   320,  2223,   181,  3915,\n",
       "         327,   129,   145,   249,   436,   480,   119,   455,   101,\n",
       "         752,   180,   309,  1118,   428,   238,   490,   281,   156,\n",
       "        4492,   280,   219,    95,   374,   136,   282,   216, 12158,\n",
       "         217,  2184,   506,   142,   398,   424], dtype=int64)"
      ]
     },
     "execution_count": 39,
     "metadata": {},
     "output_type": "execute_result"
    }
   ],
   "source": [
    "df['LikeCount'].unique()"
   ]
  },
  {
   "cell_type": "code",
   "execution_count": 40,
   "id": "dd511abb",
   "metadata": {},
   "outputs": [
    {
     "data": {
      "text/plain": [
       "0      27141\n",
       "1       9490\n",
       "2       3873\n",
       "3       2086\n",
       "4       1241\n",
       "       ...  \n",
       "242        1\n",
       "202        1\n",
       "347        1\n",
       "404        1\n",
       "424        1\n",
       "Name: LikeCount, Length: 366, dtype: int64"
      ]
     },
     "execution_count": 40,
     "metadata": {},
     "output_type": "execute_result"
    }
   ],
   "source": [
    "df['LikeCount'].value_counts()"
   ]
  },
  {
   "cell_type": "code",
   "execution_count": 41,
   "id": "10bc8465",
   "metadata": {},
   "outputs": [
    {
     "data": {
      "image/png": "[encoded data removed]",
      "text/plain": [
       "<Figure size 1080x432 with 1 Axes>"
      ]
     },
     "metadata": {
      "needs_background": "light"
     },
     "output_type": "display_data"
    }
   ],
   "source": [
    "plt.figure(figsize=(15,6))\n",
    "sns.countplot(data=df, x='LikeCount', order=df[\"LikeCount\"].value_counts().index[:10])\n",
    "plt.xticks(rotation=90)\n",
    "plt.show()"
   ]
  },
  {
   "cell_type": "code",
   "execution_count": 42,
   "id": "30859be1",
   "metadata": {},
   "outputs": [
    {
     "data": {
      "text/plain": [
       "array([   0,    1,    2,   15,    6,    8,    3,   14,   45, 1947,    9,\n",
       "          4,    5,   23,  110,  726,   11,   27,    7,   87,   10,  126,\n",
       "         16,   22,  205,  298,   13,   80,   38,   81,   29,   24,   12,\n",
       "        495,  216,   25,   37,   57,   48,   19,  413,   18,  374,   20,\n",
       "         60,   46,   21,   42,   17,   55,  456], dtype=int64)"
      ]
     },
     "execution_count": 42,
     "metadata": {},
     "output_type": "execute_result"
    }
   ],
   "source": [
    "df['QuoteCount'].unique()"
   ]
  },
  {
   "cell_type": "code",
   "execution_count": 43,
   "id": "8ec58902",
   "metadata": {},
   "outputs": [
    {
     "data": {
      "text/plain": [
       "0       47665\n",
       "1        1575\n",
       "2         337\n",
       "3         147\n",
       "4          70\n",
       "5          34\n",
       "7          28\n",
       "6          23\n",
       "9          16\n",
       "8          13\n",
       "10         13\n",
       "11         10\n",
       "12          8\n",
       "27          6\n",
       "14          5\n",
       "25          4\n",
       "15          4\n",
       "24          3\n",
       "16          3\n",
       "37          2\n",
       "19          2\n",
       "60          2\n",
       "29          2\n",
       "38          2\n",
       "57          1\n",
       "48          1\n",
       "21          1\n",
       "413         1\n",
       "46          1\n",
       "374         1\n",
       "20          1\n",
       "55          1\n",
       "17          1\n",
       "42          1\n",
       "18          1\n",
       "298         1\n",
       "216         1\n",
       "495         1\n",
       "81          1\n",
       "80          1\n",
       "13          1\n",
       "205         1\n",
       "22          1\n",
       "126         1\n",
       "87          1\n",
       "726         1\n",
       "110         1\n",
       "23          1\n",
       "1947        1\n",
       "45          1\n",
       "456         1\n",
       "Name: QuoteCount, dtype: int64"
      ]
     },
     "execution_count": 43,
     "metadata": {},
     "output_type": "execute_result"
    }
   ],
   "source": [
    "df['QuoteCount'].value_counts()"
   ]
  },
  {
   "cell_type": "code",
   "execution_count": 44,
   "id": "c612b05a",
   "metadata": {},
   "outputs": [
    {
     "data": {
      "image/png": "[encoded data removed]",
      "text/plain": [
       "<Figure size 1080x432 with 1 Axes>"
      ]
     },
     "metadata": {
      "needs_background": "light"
     },
     "output_type": "display_data"
    }
   ],
   "source": [
    "plt.figure(figsize=(15,6))\n",
    "sns.countplot(data=df, x='QuoteCount', order=df[\"QuoteCount\"].value_counts().index[:3])\n",
    "plt.xticks(rotation=90)\n",
    "plt.show()"
   ]
  },
  {
   "cell_type": "code",
   "execution_count": 45,
   "id": "775bc4a6",
   "metadata": {},
   "outputs": [
    {
     "data": {
      "text/plain": [
       "array(['ja', 'en', 'de', 'tr', 'pl', 'fr', 'es', 'pt', 'lo', 'no', 'ca',\n",
       "       'zh', 'qme', 'th', 'ne', 'ko', 'und', 'nl', 'fa', 'it', 'da', 'fi',\n",
       "       'eu', 'hi', 'ar', 'sv', 'in', 'ru', 'qht', 'tl', 'hu', 'cs', 'uk',\n",
       "       'iw', 'et', 'cy', 'bg', 'ht', 'el', 'vi', 'sl', 'kn', 'ro', 'lt',\n",
       "       'ur', 'zxx', 'ml', 'mr', 'lv', 'gu', 'qam', 'is', 'ta', 'te', 'pa',\n",
       "       'sd', 'am', 'sr', 'hy', 'or', 'bn'], dtype=object)"
      ]
     },
     "execution_count": 45,
     "metadata": {},
     "output_type": "execute_result"
    }
   ],
   "source": [
    "df['Language'].unique()"
   ]
  },
  {
   "cell_type": "code",
   "execution_count": 46,
   "id": "efe07cdc",
   "metadata": {},
   "outputs": [
    {
     "data": {
      "text/plain": [
       "en    32076\n",
       "ja     5046\n",
       "es     3315\n",
       "fr     2492\n",
       "de     1207\n",
       "      ...  \n",
       "sd        1\n",
       "am        1\n",
       "hy        1\n",
       "or        1\n",
       "bn        1\n",
       "Name: Language, Length: 61, dtype: int64"
      ]
     },
     "execution_count": 46,
     "metadata": {},
     "output_type": "execute_result"
    }
   ],
   "source": [
    "df['Language'].value_counts()"
   ]
  },
  {
   "cell_type": "code",
   "execution_count": 47,
   "id": "822e9e07",
   "metadata": {},
   "outputs": [
    {
     "data": {
      "image/png": "[encoded data removed]",
      "text/plain": [
       "<Figure size 1080x432 with 1 Axes>"
      ]
     },
     "metadata": {
      "needs_background": "light"
     },
     "output_type": "display_data"
    }
   ],
   "source": [
    "plt.figure(figsize=(15,6))\n",
    "sns.countplot(data=df, x='Language', order=df[\"Language\"].value_counts().index[:10])\n",
    "plt.show()"
   ]
  },
  {
   "cell_type": "code",
   "execution_count": 48,
   "id": "0a3cb8bd",
   "metadata": {},
   "outputs": [
    {
     "data": {
      "text/plain": [
       "array(['<a href=\"http://twitter.com/download/iphone\" rel=\"nofollow\">Twitter for iPhone</a>',\n",
       "       '<a href=\"http://twitter.com/#!/download/ipad\" rel=\"nofollow\">Twitter for iPad</a>',\n",
       "       '<a href=\"http://twitter.com/download/android\" rel=\"nofollow\">Twitter for Android</a>',\n",
       "       '<a href=\"https://about.twitter.com/products/tweetdeck\" rel=\"nofollow\">TweetDeck</a>',\n",
       "       '<a href=\"https://mobile.twitter.com\" rel=\"nofollow\">Twitter Web App</a>',\n",
       "       '<a href=\"https://nowtice.net/\" rel=\"nofollow\">nowtice_news</a>',\n",
       "       '<a href=\"https://smarterqueue.com\" rel=\"nofollow\">SmarterQueue</a>',\n",
       "       '<a href=\"https://github.com/M157q/py-feedr\" rel=\"nofollow\">py-feedr-M157q</a>',\n",
       "       '<a href=\"http://www.linkedin.com/\" rel=\"nofollow\">LinkedIn</a>',\n",
       "       '<a href=\"https://soccerstream.org/\" rel=\"nofollow\">testttewet</a>',\n",
       "       '<a href=\"http://publicize.wp.com/\" rel=\"nofollow\">Jetpack.com</a>',\n",
       "       '<a href=\"https://contentstudio.io\" rel=\"nofollow\">ContentStudio.io</a>',\n",
       "       '<a href=\"https://www.hootsuite.com\" rel=\"nofollow\">Hootsuite Inc.</a>',\n",
       "       '<a href=\"http://twinybots.com\" rel=\"nofollow\">TwinyBots</a>',\n",
       "       '<a href=\"https://social.zoho.com\" rel=\"nofollow\">Zoho Social</a>',\n",
       "       '<a href=\"http://b.hatena.ne.jp/\" rel=\"nofollow\">はてな / Hatena</a>',\n",
       "       '<a href=\"https://talkmarkets.com\" rel=\"nofollow\">TalkMarketsApp</a>',\n",
       "       '<a href=\"http://itunes.apple.com/us/app/twitter/id409789998?mt=12\" rel=\"nofollow\">Twitter for Mac</a>',\n",
       "       '<a href=\"https://gamer-geek-news.com\" rel=\"nofollow\">DataScienceInfo</a>',\n",
       "       '<a href=\"http://newsycbot.com/\" rel=\"nofollow\">newsycbot</a>',\n",
       "       '<a href=\"https://rohitchouhan.com\" rel=\"nofollow\">rohitchouhan.com</a>',\n",
       "       '<a href=\"https://www.fs-poster.com\" rel=\"nofollow\">FS Poster 3</a>',\n",
       "       '<a href=\"https://dlvrit.com/\" rel=\"nofollow\">dlvr.it</a>',\n",
       "       '<a href=\"https://app.planable.io\" rel=\"nofollow\">Planable</a>',\n",
       "       '<a href=\"https://www.pabbly.com/\" rel=\"nofollow\">Pabbly Connect</a>',\n",
       "       '<a href=\"https://www.tweetedtimes.com\" rel=\"nofollow\">The Tweeted Times</a>',\n",
       "       '<a href=\"https://geekteck.net/\" rel=\"nofollow\">Geek-tech</a>',\n",
       "       '<a href=\"https://www.trendradars.com/\" rel=\"nofollow\">TrendRadarsScience</a>',\n",
       "       '<a href=\"https://cosendconnect.com\" rel=\"nofollow\">CoSend Connect</a>',\n",
       "       '<a href=\"http://www.socialflow.com\" rel=\"nofollow\">SocialFlow</a>',\n",
       "       '<a href=\"https://sproutsocial.com\" rel=\"nofollow\">Sprout Social</a>',\n",
       "       '<a href=\"http://www.investing.com\" rel=\"nofollow\">ForexPros News & Analysis</a>',\n",
       "       '<a href=\"https://twitter.com/omni_7_item\" rel=\"nofollow\">trancefer</a>',\n",
       "       '<a href=\"https://www.tumblr.com/\" rel=\"nofollow\">Tumblr</a>',\n",
       "       '<a href=\"https://techinketion.com\" rel=\"nofollow\">Tech Injektion Bot</a>',\n",
       "       '<a href=\"http://www.einnews.com\" rel=\"nofollow\">EIN Presswire</a>',\n",
       "       '<a href=\"https://artilnews.com\" rel=\"nofollow\">Artil AI</a>',\n",
       "       '<a href=\"https://www.ndtv.com\" rel=\"nofollow\">NDTVfeed</a>',\n",
       "       '<a href=\"https://buffer.com\" rel=\"nofollow\">Buffer</a>',\n",
       "       '<a href=\"https://twitter.com/UnJeton\" rel=\"nofollow\">UnJeton</a>',\n",
       "       '<a href=\"https://chime.so\" rel=\"nofollow\">chime.so</a>',\n",
       "       '<a href=\"https://www.blog2social.com\" rel=\"nofollow\">Blog2Social APP</a>',\n",
       "       '<a href=\"https://help.twitter.com/en/using-twitter/how-to-tweet#source-labels\" rel=\"nofollow\">FeberFeed</a>',\n",
       "       '<a href=\"https://hypefury.com\" rel=\"nofollow\">Hypefury</a>',\n",
       "       '<a href=\"https://www.netguide.com/\" rel=\"nofollow\">Netguide.com</a>',\n",
       "       '<a href=\"https://ifttt.com\" rel=\"nofollow\">IFTTT</a>',\n",
       "       '<a href=\"http://www.powerapps.com\" rel=\"nofollow\">Microsoft Power Platform</a>',\n",
       "       '<a href=\"https://www.feedhive.com\" rel=\"nofollow\">FeedHive</a>',\n",
       "       '<a href=\"https://botbird.net\" rel=\"nofollow\">Botbird tweets</a>',\n",
       "       '<a href=\"https://workshop.pimpmy.social\" rel=\"nofollow\">PimpMySocial Workshop</a>',\n",
       "       '<a href=\"https://revive.social/\" rel=\"nofollow\">Revive Social App</a>',\n",
       "       '<a href=\"https://newssearch.com\" rel=\"nofollow\">Dev_app_testing_e_stoilkov</a>',\n",
       "       '<a href=\"https://repurpose.io\" rel=\"nofollow\">RepurposeIO</a>',\n",
       "       '<a href=\"https://tech-tweet-bot.herokuapp.com/\" rel=\"nofollow\">Tech News Tweet Bot 🤖</a>',\n",
       "       '<a href=\"https://substack.com/\" rel=\"nofollow\">Substack</a>',\n",
       "       '<a href=\"http://instagram.com\" rel=\"nofollow\">Instagram</a>',\n",
       "       '<a href=\"https://www.stck.pro\" rel=\"nofollow\">STCK.PR0</a>',\n",
       "       '<a href=\"http://www.everyonesocial.com\" rel=\"nofollow\">EveryoneSocial</a>',\n",
       "       '<a href=\"https://www.lawandtrends.com\" rel=\"nofollow\">LawAndTrends</a>',\n",
       "       '<a href=\"http://twittbot.net/\" rel=\"nofollow\">twittbot.net</a>',\n",
       "       '<a href=\"https://togetter.com\" rel=\"nofollow\">Togetter / min.t</a>',\n",
       "       '<a href=\"https://drawgpt.ai/\" rel=\"nofollow\">DrawGPT</a>',\n",
       "       '<a href=\"https://tweetoshi.com\" rel=\"nofollow\">Tweetoshi</a>',\n",
       "       '<a href=\"http://akibakokoubou.jp/mcm\" rel=\"nofollow\">Mind Change Marker</a>',\n",
       "       '<a href=\"http://www.businessinsider.com\" rel=\"nofollow\">Business Insider Login</a>',\n",
       "       '<a href=\"https://zapier.com/\" rel=\"nofollow\">Zapier.com</a>',\n",
       "       '<a href=\"https://saveflix.fr\" rel=\"nofollow\">Saveflix™</a>',\n",
       "       '<a href=\"https://www.make.com\" rel=\"nofollow\">Make (formerly Integromat)</a>',\n",
       "       '<a href=\"https://forbes.com\" rel=\"nofollow\">Botstream-Tech</a>',\n",
       "       '<a href=\"https://hatenablog.com\" rel=\"nofollow\">Hatena Blog / はてなブログ</a>',\n",
       "       '<a href=\"https://dashboard.godaddy.com\" rel=\"nofollow\">GoDaddy Social App</a>',\n",
       "       '<a href=\"http://notice.tistory.com/1357\" rel=\"nofollow\">Tistory2Twitter</a>',\n",
       "       '<a href=\"https://medium.com/@donutideas\" rel=\"nofollow\">donutsaloon</a>',\n",
       "       '<a href=\"https://twitter.com\" rel=\"nofollow\">FGU-TwitterBot</a>',\n",
       "       '<a href=\"https://twitter.com\" rel=\"nofollow\">JustTechUpdate</a>',\n",
       "       '<a href=\"https://ezefidelity.com/\" rel=\"nofollow\">Ezefidelity Auto Post</a>',\n",
       "       '<a href=\"https://bigearth-data.com/\" rel=\"nofollow\">BigEarthData EcoSearch</a>',\n",
       "       '<a href=\"https://tweethunter.io\" rel=\"nofollow\">Tweet Hunter Pro</a>',\n",
       "       '<a href=\"http://www.dinbeelabs.com\" rel=\"nofollow\">Twheater_live</a>',\n",
       "       '<a href=\"http://www.rightrelevance.com\" rel=\"nofollow\">Right Relevance</a>',\n",
       "       '<a href=\"https://www.socialchamp.io\" rel=\"nofollow\">SocialChamp IO </a>',\n",
       "       '<a href=\"http://tweepsmap.com\" rel=\"nofollow\">Tweepsmap</a>',\n",
       "       '<a href=\"https://typefully.com/\" rel=\"nofollow\">Typefully</a>',\n",
       "       '<a href=\"https://airtable.com\" rel=\"nofollow\">Airtable Automations</a>',\n",
       "       '<a href=\"https://socialbee.io/\" rel=\"nofollow\">SocialBee.io v2</a>',\n",
       "       '<a href=\"https://threadstart.io\" rel=\"nofollow\">ThreadStart.io</a>',\n",
       "       '<a href=\"https://www.donanimhaber.com\" rel=\"nofollow\">Donanım  Haber</a>',\n",
       "       '<a href=\"https://crossposter.masto.donte.com.br\" rel=\"nofollow\">Mastodon-Twitter Crossposter</a>',\n",
       "       '<a href=\"http://15minutenews.com/technology/\" rel=\"nofollow\">15 Minute News Technology</a>',\n",
       "       '<a href=\"https://moa.party\" rel=\"nofollow\">Moa Bridge</a>',\n",
       "       '<a href=\"http://www.aweber.com\" rel=\"nofollow\">AWeber Email Marketing</a>',\n",
       "       '<a href=\"https://help.twitter.com/en/using-twitter/how-to-tweet#source-labels\" rel=\"nofollow\">BoostAppIT</a>',\n",
       "       '<a href=\"http://lesson-school.com/\" rel=\"nofollow\">wordpress for twitter</a>',\n",
       "       '<a href=\"http://www.anatropinews.gr\" rel=\"nofollow\">anatropinews.gr</a>',\n",
       "       '<a href=\"https://crowdfireapp.com\" rel=\"nofollow\">Crowdfire App</a>',\n",
       "       '<a href=\"http://twitter.com\" rel=\"nofollow\">ny-tames</a>',\n",
       "       '<a href=\"http://www.scoop.it\" rel=\"nofollow\">Scoop.it</a>',\n",
       "       '<a href=\"https://newsworldpress.com/\" rel=\"nofollow\">NewsWorldpress</a>',\n",
       "       '<a href=\"https://fptraffic.com\" rel=\"nofollow\">FPTraffic</a>',\n",
       "       '<a href=\"https://www.echobox.com\" rel=\"nofollow\">Echobox</a>',\n",
       "       '<a href=\"http://www.chorip.am\" rel=\"nofollow\">Schtroumpsifier</a>',\n",
       "       '<a href=\"https://adobe.com/express\" rel=\"nofollow\">Adobe Express</a>',\n",
       "       '<a href=\"https://contempas.com\" rel=\"nofollow\">Contempas</a>',\n",
       "       '<a href=\"https://www.hrfilter.de\" rel=\"nofollow\">HRfilter Pusher</a>',\n",
       "       '<a href=\"https://publer.io\" rel=\"nofollow\">Publer.io</a>',\n",
       "       '<a href=\"https://carlwhandlin.com\" rel=\"nofollow\">carl_tech_bot</a>',\n",
       "       '<a href=\"http://techprohub.com\" rel=\"nofollow\">techpromedia.net</a>',\n",
       "       '<a href=\"http://newsycbot.com/\" rel=\"nofollow\">newsycbot250</a>',\n",
       "       '<a href=\"https://cyberfeed.io\" rel=\"nofollow\">cyberfeedio</a>',\n",
       "       '<a href=\"https://eclincher.com\" rel=\"nofollow\">eClincher</a>',\n",
       "       '<a href=\"http://www.hubspot.com/\" rel=\"nofollow\">HubSpot</a>',\n",
       "       '<a href=\"https://help.twitter.com/en/using-twitter/how-to-tweet#source-labels\" rel=\"nofollow\">Crypto Blackmirror</a>',\n",
       "       '<a href=\"http://www.tweetGoogleAlerts.com\" rel=\"nofollow\">SendAlertsToTwitter</a>',\n",
       "       '<a href=\"https://app.agorapulse.com\" rel=\"nofollow\">Agorapulse app</a>',\n",
       "       '<a href=\"https://videoreports.net\" rel=\"nofollow\">Notifyfollowers</a>',\n",
       "       '<a href=\"https://conte.ai\" rel=\"nofollow\">Conte.ai</a>',\n",
       "       '<a href=\"http://hnfp.c17r.com\" rel=\"nofollow\">HN Front Page</a>',\n",
       "       '<a href=\"http://www.twitlonger.com\" rel=\"nofollow\">Twitlonger</a>',\n",
       "       '<a href=\"http://github.com/d4nt/HNTweets\" rel=\"nofollow\">HNTweets Bot</a>',\n",
       "       '<a href=\"https://www.pinboard.in\" rel=\"nofollow\">pinboard_pop</a>',\n",
       "       '<a href=\"https://wikipedia-trends.com\" rel=\"nofollow\">Social Trends </a>',\n",
       "       '<a href=\"https://www.semrush.com/\" rel=\"nofollow\">Semrush Social Media Tool</a>',\n",
       "       '<a href=\"http://www.weblogssl.com\" rel=\"nofollow\">TweetPublishedPost</a>',\n",
       "       '<a href=\"https://www.singularidad.com/\" rel=\"nofollow\">singularidad.com</a>',\n",
       "       '<a href=\"https://www.reddit.com/\" rel=\"nofollow\">Reddit Official</a>',\n",
       "       '<a href=\"https://cheapbotsdonequick.com\" rel=\"nofollow\">Cheap Bots, Done Quick!</a>',\n",
       "       '<a href=\"https://engagementbuilder.com/\" rel=\"nofollow\">EngagementBuilder.com</a>',\n",
       "       '<a href=\"https://studio.twitter.com\" rel=\"nofollow\">Twitter Media Studio</a>',\n",
       "       '<a href=\"https://smapsolutions.com/\" rel=\"nofollow\">SMAP Lite</a>',\n",
       "       '<a href=\"http://www.newsoneplace.com\" rel=\"nofollow\">Newsoneplace To Twitter</a>',\n",
       "       '<a href=\"http://www.area51.org\" rel=\"nofollow\">www.area51.org</a>',\n",
       "       '<a href=\"https://help.twitter.com/en/using-twitter/how-to-tweet#source-labels\" rel=\"nofollow\">BetterHN50</a>',\n",
       "       '<a href=\"https://paper.li\" rel=\"nofollow\">Paper.li</a>',\n",
       "       '<a href=\"https://app.clearviewsocial.com\" rel=\"nofollow\">Clearview Social, Inc.</a>',\n",
       "       '<a href=\"http://www.changeitlater.com\" rel=\"nofollow\">BrunoBootMacaes_1</a>',\n",
       "       '<a href=\"https://trueanthem.com/\" rel=\"nofollow\">True Anthem</a>',\n",
       "       '<a href=\"https://statusbrew.com\" rel=\"nofollow\">Statusbrew</a>',\n",
       "       '<a href=\"https://www.lately.ai/\" rel=\"nofollow\">LatelyAI</a>',\n",
       "       '<a href=\"https://help.twitter.com/en/using-twitter/how-to-tweet#source-labels\" rel=\"nofollow\">BetterHN20</a>',\n",
       "       '<a href=\"http://bitcoinagile.com\" rel=\"nofollow\">bitcoinagile</a>',\n",
       "       '<a href=\"https://twitter.com/pythonbot_\" rel=\"nofollow\">Postmatico</a>',\n",
       "       '<a href=\"https://lukmanul-ha.kim/\" rel=\"nofollow\">Reply Tweet JKT48</a>',\n",
       "       '<a href=\"https://github.com/ncarlier/feedpushr\" rel=\"nofollow\">Feedpushr</a>',\n",
       "       '<a href=\"https://help.twitter.com/en/using-twitter/how-to-tweet#source-labels\" rel=\"nofollow\">com.ai_summary.write</a>',\n",
       "       '<a href=\"http://www.instapaper.com/\" rel=\"nofollow\">Instapaper</a>',\n",
       "       '<a href=\"https://getbambu.com\" rel=\"nofollow\">Advocacy by Sprout Social</a>',\n",
       "       '<a href=\"https://nuelink.com/\" rel=\"nofollow\">Nuelink</a>',\n",
       "       '<a href=\"https://help.twitter.com/en/using-twitter/how-to-tweet#source-labels\" rel=\"nofollow\">MyTrader Publish</a>',\n",
       "       '<a href=\"http://bit.ly/bigrampoetry\" rel=\"nofollow\">Bigram Poetry</a>',\n",
       "       '<a href=\"http://google.com\" rel=\"nofollow\">Alttext-Tweeter</a>',\n",
       "       '<a href=\"https://www.libsyn.com/\" rel=\"nofollow\">Libsyn On-Publish</a>',\n",
       "       '<a href=\"https://abhinavrajesh.com\" rel=\"nofollow\">McDonald ice-cream machine</a>',\n",
       "       '<a href=\"https://www.constantcontact.com/\" rel=\"nofollow\">Constant Contact - Social Posts</a>',\n",
       "       '<a href=\"https://getchirrapp.com\" rel=\"nofollow\">chirr.app</a>',\n",
       "       '<a href=\"http://google.com\" rel=\"nofollow\">exmoredditnodejs</a>',\n",
       "       '<a href=\"http://www.blodico.com/\" rel=\"nofollow\">Blodico</a>',\n",
       "       '<a href=\"https://typeshare.co\" rel=\"nofollow\">Typeshare.co</a>',\n",
       "       '<a href=\"https://metricool.com\" rel=\"nofollow\">Metricool</a>',\n",
       "       '<a href=\"http://www.informazione.it\" rel=\"nofollow\">Tweet Informazione</a>',\n",
       "       '<a href=\"http://redditcryptobot.herokuapp.com/\" rel=\"nofollow\">reddit crypto currency</a>',\n",
       "       '<a href=\"https://feeder.co/\" rel=\"nofollow\">Feeder.co</a>',\n",
       "       '<a href=\"https://ddd-cg.fun/\" rel=\"nofollow\">dddcg apps</a>',\n",
       "       '<a href=\"https://www.queue.so\" rel=\"nofollow\">Queue for Notion</a>',\n",
       "       '<a href=\"https://www.date-reminders.com/\" rel=\"nofollow\">chatgpt-auto-tweet</a>',\n",
       "       '<a href=\"https://help.twitter.com/en/using-twitter/how-to-tweet#source-labels\" rel=\"nofollow\">Save to Notion</a>',\n",
       "       '<a href=\"http://viralcontenbee.com\" rel=\"nofollow\">Viral Content Buzz</a>',\n",
       "       '<a href=\"http://meetedgar.com\" rel=\"nofollow\">MeetEdgar</a>',\n",
       "       '<a href=\"https://www.later.com\" rel=\"nofollow\">LaterMedia</a>',\n",
       "       '<a href=\"https://missinglettr.com\" rel=\"nofollow\">Missinglettr</a>',\n",
       "       '<a href=\"https://www.laleggepertutti.it/\" rel=\"nofollow\">LLpT</a>',\n",
       "       '<a href=\"https://app.socialpilot.co/\" rel=\"nofollow\">SocialPilot.co</a>',\n",
       "       '<a href=\"http://www.businesscommunity.it\" rel=\"nofollow\">BusinessCommunity.it</a>',\n",
       "       '<a href=\"https://www.advisorstream.com\" rel=\"nofollow\">AdvisorStream v2</a>',\n",
       "       '<a href=\"https://www.3allemni.com\" rel=\"nofollow\">3allemniSocial</a>',\n",
       "       '<a href=\"https://programmin.net/\" rel=\"nofollow\">programmin news tweet</a>',\n",
       "       '<a href=\"https://paiger.co\" rel=\"nofollow\">Paiger</a>',\n",
       "       '<a href=\"https://saas.mashup-web.com\" rel=\"nofollow\">Mashup Web</a>',\n",
       "       '<a href=\"http://dynamicsignal.com/\" rel=\"nofollow\">Dynamic Signal</a>',\n",
       "       '<a href=\"https://cloudcampaign.io/\" rel=\"nofollow\">Cloud Campaign</a>',\n",
       "       '<a href=\"https://postly.ai\" rel=\"nofollow\">Postly Social</a>',\n",
       "       '<a href=\"http://tommasoiacobellis.altervista.org\" rel=\"nofollow\">tmscbl56d</a>',\n",
       "       '<a href=\"http://tommybrain.altervista.org\" rel=\"nofollow\">tbapptwt</a>',\n",
       "       '<a href=\"https://medium.com\" rel=\"nofollow\">Medium</a>',\n",
       "       '<a href=\"https://www.corvusengineering.com\" rel=\"nofollow\">CorvusTwitterApp</a>',\n",
       "       '<a href=\"https://thenftrebel.com/\" rel=\"nofollow\">TheNFTRebel</a>',\n",
       "       '<a href=\"https://twitter.com\" rel=\"nofollow\">TweetDeck Web App</a>',\n",
       "       '<a href=\"https://www.rssground.com\" rel=\"nofollow\">RSS Ground</a>',\n",
       "       '<a href=\"https://dashboard.heropost.io/\" rel=\"nofollow\">Heropost</a>',\n",
       "       '<a href=\"https://usaherald.com/\" rel=\"nofollow\">USAHerald Twitter Auto Post</a>',\n",
       "       '<a href=\"http://swen.digital\" rel=\"nofollow\">Swen api</a>',\n",
       "       '<a href=\"https://news.ycombinator.com/\" rel=\"nofollow\">HackerNewsTop10</a>',\n",
       "       '<a href=\"https://app.sendible.com\" rel=\"nofollow\">Sendible</a>',\n",
       "       '<a href=\"https://twitter.com/booksci_info\" rel=\"nofollow\">BookSci_Info_App</a>',\n",
       "       '<a href=\"http://www.dontspreadmywealth.com\" rel=\"nofollow\">PostTwee</a>',\n",
       "       '<a href=\"https://blackmagic.so\" rel=\"nofollow\">BlackMagic.so</a>',\n",
       "       '<a href=\"https://www.relaso.com/\" rel=\"nofollow\">Prof. Shanku</a>',\n",
       "       '<a href=\"https://www.gpu.gr/\" rel=\"nofollow\">Gpugr</a>',\n",
       "       '<a href=\"https://pipes.sur-le-web.fr/\" rel=\"nofollow\">n8nBot</a>',\n",
       "       '<a href=\"https://iguru.gr\" rel=\"nofollow\">iGuRu.gr</a>',\n",
       "       '<a href=\"https://www.debrieft.com\" rel=\"nofollow\">Debrieft</a>',\n",
       "       '<a href=\"http://www.socialnewsdesk.com\" rel=\"nofollow\">SocialNewsDesk</a>',\n",
       "       '<a href=\"https://simplified.com\" rel=\"nofollow\">Simplified One App</a>',\n",
       "       '<a href=\"https://github.com/korzepadawid/hacker-news-bot\" rel=\"nofollow\">hacker-news-bot</a>',\n",
       "       '<a href=\"https://www.loomly.com/\" rel=\"nofollow\">Loomly</a>',\n",
       "       '<a href=\"http://www.cocolog-nifty.com/\" rel=\"nofollow\">ココログ</a>',\n",
       "       '<a href=\"https://grepnetics.com\" rel=\"nofollow\">Grepnetics</a>',\n",
       "       '<a href=\"https://www.twitter.com\" rel=\"nofollow\">chartartScanner</a>',\n",
       "       '<a href=\"http://4o4.fr\" rel=\"nofollow\">Ma veille</a>',\n",
       "       '<a href=\"https://rp.gr\" rel=\"nofollow\">RP Auto Publish </a>',\n",
       "       '<a href=\"http://localhost.com\" rel=\"nofollow\">mycolstuff</a>',\n",
       "       '<a href=\"https://twitter.com/kazminutes2020\" rel=\"nofollow\">kazminutes</a>',\n",
       "       '<a href=\"https://www.reddit.com/r/MachineLearning/\" rel=\"nofollow\">From /r/MachineLearning</a>',\n",
       "       '<a href=\"https://javascriptfeed.com\" rel=\"nofollow\">javascript-feed</a>',\n",
       "       '<a href=\"https://www.insomnia.gr\" rel=\"nofollow\">Insomnia.gr</a>',\n",
       "       '<a href=\"https://www.oliberal.com/\" rel=\"nofollow\">bot_twitter_oliberal</a>',\n",
       "       '<a href=\"https://automato.so\" rel=\"nofollow\">automato - automation made easy</a>',\n",
       "       '<a href=\"https://www.reddit.com/r/MachineLearning/\" rel=\"nofollow\">reddit-ml-bot</a>',\n",
       "       '<a href=\"https://fantafoot.ch\" rel=\"nofollow\">twittingbobebot</a>',\n",
       "       '<a href=\"http://gigazine.net\" rel=\"nofollow\">GIGAZINE</a>',\n",
       "       '<a href=\"http://rivva.de/\" rel=\"nofollow\">Rivva</a>',\n",
       "       '<a href=\"https://www.sektorelfirmalar.com/\" rel=\"nofollow\">Twitter App for Sektorel</a>',\n",
       "       '<a href=\"https://www.zaqs.org/tech\" rel=\"nofollow\">ZAQS Tech</a>',\n",
       "       '<a href=\"https://twitter.com/home\" rel=\"nofollow\">sklfjlk</a>',\n",
       "       '<a href=\"https://zabasu.awe.jp/\" rel=\"nofollow\">diginews</a>',\n",
       "       '<a href=\"http://www.crn.com.au\" rel=\"nofollow\">CRN Autoposter</a>',\n",
       "       '<a href=\"http://changelater.net\" rel=\"nofollow\">azurefunction</a>',\n",
       "       '<a href=\"http://en.gigazine.net\" rel=\"nofollow\">GIGAZINE ENGLISH PUBLISH</a>',\n",
       "       '<a href=\"https://busivice.com/\" rel=\"nofollow\">voveg2</a>',\n",
       "       '<a href=\"https://social-dog.net/\" rel=\"nofollow\">SocialDog for Twitter</a>',\n",
       "       '<a href=\"http://lelombrik.net\" rel=\"nofollow\">lelombrik</a>',\n",
       "       '<a href=\"http://twitter.com/\" rel=\"nofollow\">tweetNewsRss</a>',\n",
       "       '<a href=\"https://postcron.com\" rel=\"nofollow\">Postcron App</a>',\n",
       "       '<a href=\"https://www.digitalmoneybox.co.uk\" rel=\"nofollow\">DigitalMoneyBox feed</a>',\n",
       "       '<a href=\"https://www.socialgest.net\" rel=\"nofollow\">SocialGest</a>',\n",
       "       '<a href=\"https://www.hasdid.com\" rel=\"nofollow\">GApps-Newsletter</a>',\n",
       "       '<a href=\"https://newspicks.com\" rel=\"nofollow\">NewsPicks</a>',\n",
       "       '<a href=\"https://www.clickysound.com\" rel=\"nofollow\">Clicky Sound</a>',\n",
       "       '<a href=\"https://draxu.net/\" rel=\"nofollow\">Oscillationa</a>',\n",
       "       '<a href=\"https://fcderby.com\" rel=\"nofollow\">LepCewe</a>',\n",
       "       '<a href=\"https://wyrczr.com\" rel=\"nofollow\">WYR-CZR-App</a>',\n",
       "       '<a href=\"http://internet.watch.impress.co.jp/\" rel=\"nofollow\">INTERNET Watch</a>',\n",
       "       '<a href=\"https://plow.io/anchor/Artificial_intelligence\" rel=\"nofollow\">Artificial Intelligence PLOW</a>',\n",
       "       '<a href=\"https://lazysmm.com/\" rel=\"nofollow\">LazySMM</a>',\n",
       "       '<a href=\"http://www.squarespace.com\" rel=\"nofollow\">Squarespace</a>',\n",
       "       '<a href=\"http://www.salesforce.com\" rel=\"nofollow\">Salesforce - Social Studio</a>',\n",
       "       '<a href=\"http://www.freie-welt.eu\" rel=\"nofollow\">Freie-Welt</a>',\n",
       "       '<a href=\"http://www.ajaymatharu.com/\" rel=\"nofollow\">Tweet Old Post</a>',\n",
       "       '<a href=\"http://www.novajo.it/blog\" rel=\"nofollow\">novajo sito</a>',\n",
       "       '<a href=\"https://www.informazione.it\" rel=\"nofollow\">Informazione Post</a>',\n",
       "       '<a href=\"http://andreiluca.com\" rel=\"nofollow\">Envato Signature</a>',\n",
       "       '<a href=\"https://novapress.com/\" rel=\"nofollow\">NovaPress</a>',\n",
       "       '<a href=\"http://www.fcinternews.it/\" rel=\"nofollow\">FC Inter News APP</a>',\n",
       "       '<a href=\"https://help.twitter.com/en/using-twitter/how-to-tweet#source-labels\" rel=\"nofollow\">Tech_News_Crawler</a>',\n",
       "       '<a href=\"http://www.itmedia.co.jp\" rel=\"nofollow\">ITmediaNewsShare </a>',\n",
       "       '<a href=\"https://tittlepress.com/\" rel=\"nofollow\">TestApp_93393839</a>',\n",
       "       '<a href=\"https://www.securecybersolution.com\" rel=\"nofollow\">Cyber Tweet</a>',\n",
       "       '<a href=\"https://help.twitter.com/en/using-twitter/how-to-tweet#source-labels\" rel=\"nofollow\">AI In Plain English</a>',\n",
       "       '<a href=\"http://livingstrongtv.com\" rel=\"nofollow\">WhosoeverWill1 </a>',\n",
       "       '<a href=\"https://twitter.com/\" rel=\"nofollow\">today_dekigoto</a>',\n",
       "       '<a href=\"https://tradingbtc.com/\" rel=\"nofollow\">tradingbtc1</a>',\n",
       "       '<a href=\"https://tweepi.com/\" rel=\"nofollow\">Tweepi</a>',\n",
       "       '<a href=\"https://twitter.com/itnewsjp\" rel=\"nofollow\">IT News JP</a>',\n",
       "       '<a href=\"https://dailytech.blog\" rel=\"nofollow\">DailyTech</a>',\n",
       "       '<a href=\"http://podplayer.net\" rel=\"nofollow\">Podcast - Radio Addict</a>',\n",
       "       '<a href=\"https://periscope.tv\" rel=\"nofollow\">Periscope</a>',\n",
       "       '<a href=\"https://www.technologyreview.jp/\" rel=\"nofollow\">MITテクノロジーレビュー</a>',\n",
       "       '<a href=\"https://nekast.com/\" rel=\"nofollow\">amazon2twitter</a>',\n",
       "       '<a href=\"https://daytimedev.com\" rel=\"nofollow\">aiodev-stagging</a>',\n",
       "       '<a href=\"https://github.motakasoft.com/awesome/\" rel=\"nofollow\">Github Awesome Search</a>',\n",
       "       '<a href=\"https://timeline-theta.vercel.app/\" rel=\"nofollow\">@azyr/timeline</a>',\n",
       "       '<a href=\"https://keywordmap.jp/snsresearch/top\" rel=\"nofollow\">Keywordmap SNS</a>',\n",
       "       '<a href=\"https://twitter.com/teddy_river17\" rel=\"nofollow\">ted_share_analysis</a>',\n",
       "       '<a href=\"https://tweetzen.io\" rel=\"nofollow\">TweetZen.io</a>',\n",
       "       '<a href=\"https://okamototomoyuki.github.io/TwitterManager/\" rel=\"nofollow\">TwitterにWebから投稿</a>',\n",
       "       '<a href=\"https://twitter.com/mkt4id\" rel=\"nofollow\">Market for Ideas</a>',\n",
       "       '<a href=\"http://tweetedtimes.com\" rel=\"nofollow\">TtwTimes Top News</a>',\n",
       "       '<a href=\"http://japan.cnet.com/\" rel=\"nofollow\">CNET Japan</a>',\n",
       "       '<a href=\"http://www.falcon.io\" rel=\"nofollow\">Brandwatch</a>',\n",
       "       '<a href=\"https://help.twitter.com/en/using-twitter/how-to-tweet#source-labels\" rel=\"nofollow\">Geeky.News</a>',\n",
       "       '<a href=\"https://www.fs-poster.com/\" rel=\"nofollow\">FS Poster by FS Code</a>',\n",
       "       '<a href=\"https://script.google.com/macros/s/AKfycbyYhtzYM70HAuLjJuosRXPRcAQuqKd8on_uukvdH7U68qJV1-49/exec\" rel=\"nofollow\">RSS-Agent</a>',\n",
       "       '<a href=\"http://bknc.kr\" rel=\"nofollow\">shem0304</a>',\n",
       "       '<a href=\"https://www.youtube.com/c/BitoneGreat/\" rel=\"nofollow\">rsi1</a>',\n",
       "       '<a href=\"http://polyglotengineer.com\" rel=\"nofollow\">polyglotengine</a>',\n",
       "       '<a href=\"http://forbesjapan.com/\" rel=\"nofollow\">ForbesJapanModdy</a>',\n",
       "       '<a href=\"http://twitter.softama.com/\" rel=\"nofollow\">ツイタマ</a>',\n",
       "       '<a href=\"http://covelline.com/\" rel=\"nofollow\">feather free for iOS </a>',\n",
       "       '<a href=\"http://polyglotengineer.com\" rel=\"nofollow\">PolyglotMedium</a>',\n",
       "       '<a href=\"http://twitter.com/topic_tw\" rel=\"nofollow\">news topics</a>',\n",
       "       '<a href=\"https://twitter.com/teacherlcs\" rel=\"nofollow\">teachersinquire</a>',\n",
       "       '<a href=\"https://tannermd.com/\" rel=\"nofollow\">TannerMDLLC</a>',\n",
       "       '<a href=\"https://code365.web.app\" rel=\"nofollow\">365codigo</a>',\n",
       "       '<a href=\"https://labs.cybozu.co.jp/blog/akky/\" rel=\"nofollow\">秋元@サイボウズラボ</a>',\n",
       "       '<a href=\"https://lifeboat.com\" rel=\"nofollow\">lifeboat.com</a>',\n",
       "       '<a href=\"https://www.therunwaycentreline.com\" rel=\"nofollow\">Bird of the Day (AUS)</a>',\n",
       "       '<a href=\"http://www.itmedia.co.jp/\" rel=\"nofollow\">ITmediaなう</a>',\n",
       "       '<a href=\"http://plow.io/anchor/Education\" rel=\"nofollow\">Education PLOW</a>',\n",
       "       '<a href=\"https://pipedream.com\" rel=\"nofollow\">Pipedream, Inc</a>',\n",
       "       '<a href=\"http://plow.io/anchor/JavaScript\" rel=\"nofollow\">JavaScript PLOW</a>',\n",
       "       '<a href=\"https://twitter.com/Trialanderror_v\" rel=\"nofollow\">kuro٩(╹⌓╹ )۶\\' </a>',\n",
       "       '<a href=\"https://zabasu.awe.jp/\" rel=\"nofollow\">news-bot1</a>',\n",
       "       '<a href=\"https://twitter.com/SadTrumpBot_SAD\" rel=\"nofollow\">StubbyLittleFingers</a>',\n",
       "       '<a href=\"http://www.feedblitz.com/f/f.fbz?help/default#twitter\" rel=\"nofollow\">FeedBlitz</a>',\n",
       "       '<a href=\"https://drumup.io\" rel=\"nofollow\">drumup.io</a>',\n",
       "       '<a href=\"https://storyverse.xyz\" rel=\"nofollow\">Storyverse Media Service</a>',\n",
       "       '<a href=\"https://yekta-it.de/?app/crypto\" rel=\"nofollow\">Crypto in Media</a>',\n",
       "       '<a href=\"http://twitter.com/VIXC_News\" rel=\"nofollow\">VIXC_News Auto Tweet</a>',\n",
       "       '<a href=\"http://www.axisum.com\" rel=\"nofollow\">Tiana1</a>',\n",
       "       '<a href=\"http://reddit.com/r/DotA2/\" rel=\"nofollow\">sushibot</a>',\n",
       "       '<a href=\"http://wppluginsj.sourceforge.jp/simple-tweet/\" rel=\"nofollow\">simple tweet my application</a>',\n",
       "       '<a href=\"http://www.tek.id\" rel=\"nofollow\">tekdotid</a>',\n",
       "       '<a href=\"https://simonenrag.i234.me\" rel=\"nofollow\">AutoTweet1976</a>',\n",
       "       '<a href=\"https://n8n.io\" rel=\"nofollow\">adigital</a>',\n",
       "       '<a href=\"http://24sante.fr\" rel=\"nofollow\">24sante</a>',\n",
       "       '<a href=\"https://nectar.social\" rel=\"nofollow\">BHIVE Nectar</a>',\n",
       "       '<a href=\"https://www.canva.com\" rel=\"nofollow\">Canva</a>',\n",
       "       '<a href=\"http://www.qnary.com\" rel=\"nofollow\">Qnary.io</a>',\n",
       "       '<a href=\"http://www.elpolitico.com\" rel=\"nofollow\">El Politico Automation</a>',\n",
       "       '<a href=\"https://www.toscana.net\" rel=\"nofollow\">MSWOR</a>',\n",
       "       '<a href=\"https://www.leggonewsletter.it\" rel=\"nofollow\">NewsletterBIS</a>',\n",
       "       '<a href=\"https://gunosy.com\" rel=\"nofollow\">Gunosy</a>',\n",
       "       '<a href=\"https://yukari.shibafu528.info\" rel=\"nofollow\">Yukari for Android</a>',\n",
       "       '<a href=\"https://www.europesays.com\" rel=\"nofollow\">europe_says</a>',\n",
       "       '<a href=\"http://127.0.0.1/\" rel=\"nofollow\">netsecu-feeds</a>',\n",
       "       '<a href=\"https://newstopics.jp/\" rel=\"nofollow\">ニュートピ！</a>',\n",
       "       '<a href=\"https://n8n.io\" rel=\"nofollow\">GrapeSwap</a>',\n",
       "       '<a href=\"https://github.com/j4mesli\" rel=\"nofollow\">Top climate News</a>',\n",
       "       '<a href=\"http://k-tai.impress.co.jp/\" rel=\"nofollow\">ケータイ Watch</a>',\n",
       "       '<a href=\"http://dzonline.net\" rel=\"nofollow\">dzonline application</a>',\n",
       "       '<a href=\"http://news.ycombinator.com\" rel=\"nofollow\">ICYMIHN</a>',\n",
       "       '<a href=\"https://getdrafts.com\" rel=\"nofollow\">Drafts </a>',\n",
       "       '<a href=\"https://twitter.com/zenn_news\" rel=\"nofollow\">zenn_news</a>',\n",
       "       '<a href=\"http://radio3.io/\" rel=\"nofollow\">radio3.io</a>',\n",
       "       '<a href=\"http://amaicode.jp/\" rel=\"nofollow\">hatebu_eandb</a>',\n",
       "       '<a href=\"http://www.socialbakers.com/\" rel=\"nofollow\">Emplifi</a>',\n",
       "       '<a href=\"https://twittimer.com\" rel=\"nofollow\">Twittimer</a>',\n",
       "       '<a href=\"https://segurosnews.com/\" rel=\"nofollow\">SegurosNews</a>',\n",
       "       '<a href=\"https://www.multify.org\" rel=\"nofollow\">Multify Media</a>',\n",
       "       '<a href=\"https://devira.com.br/\" rel=\"nofollow\">tradeappretwitter</a>',\n",
       "       '<a href=\"https://timesnewsnow.com/\" rel=\"nofollow\">tnn fspostr twit</a>',\n",
       "       '<a href=\"https://www.fs-poster.com/\" rel=\"nofollow\">FS POSTER - Twitter App</a>',\n",
       "       '<a href=\"https://t.me/md_news_channel\" rel=\"nofollow\">MD News Watcher</a>',\n",
       "       '<a href=\"https://www.fs-poster.com/\" rel=\"nofollow\">FS_Poster_App</a>',\n",
       "       '<a href=\"http://www.dailyhunt.in/\" rel=\"nofollow\">Dailyhunt </a>',\n",
       "       '<a href=\"http://besocy.com\" rel=\"nofollow\">Besocy_Oficial</a>',\n",
       "       '<a href=\"http://www.comona.co.jp/\" rel=\"nofollow\">raspi_it_news_bot</a>',\n",
       "       '<a href=\"https://www.cryptocraft.com/\" rel=\"nofollow\">Fair Economy News</a>',\n",
       "       '<a href=\"https://www.google.com/\" rel=\"nofollow\">this app name is now taken</a>',\n",
       "       '<a href=\"https://509exchange.com/\" rel=\"nofollow\">Publishare</a>',\n",
       "       '<a href=\"http://twitcasting.tv/\" rel=\"nofollow\">TwitCasting</a>',\n",
       "       '<a href=\"https://www.titrespresse.com\" rel=\"nofollow\">Titrespresse.com to Twitter</a>',\n",
       "       '<a href=\"https://help.twitter.com/en/using-twitter/how-to-tweet#source-labels\" rel=\"nofollow\">watsonActu</a>',\n",
       "       '<a href=\"http://www.paradurumu.com\" rel=\"nofollow\">Paradurumu rss</a>',\n",
       "       '<a href=\"http://itnan.ru\" rel=\"nofollow\">ITnan</a>',\n",
       "       '<a href=\"https://www.socialoomph.com\" rel=\"nofollow\">SocialOomph</a>',\n",
       "       '<a href=\"http://www.donia-alyoum.com\" rel=\"nofollow\">newsdonia</a>',\n",
       "       '<a href=\"https://twitter.com/LagopusDev\" rel=\"nofollow\">Lagopus Free</a>',\n",
       "       '<a href=\"http://9thlevel.ie\" rel=\"nofollow\">9th level Ireland</a>',\n",
       "       '<a href=\"https://hopscotch.social/\" rel=\"nofollow\">Hopscotch Social</a>',\n",
       "       '<a href=\"https://hocalwire.com\" rel=\"nofollow\">Hocalwire Social Share</a>',\n",
       "       '<a href=\"https://app.com/home\" rel=\"nofollow\">YoshNews</a>',\n",
       "       '<a href=\"https://droptown.io/\" rel=\"nofollow\">droptown</a>',\n",
       "       '<a href=\"https://nftz.lol\" rel=\"nofollow\">NewsLabApp</a>',\n",
       "       '<a href=\"https://www.spreaker.com\" rel=\"nofollow\">Spreaker</a>',\n",
       "       '<a href=\"http://www.informazione.it\" rel=\"nofollow\">Informazione</a>',\n",
       "       '<a href=\"http://www.2nn.jp/\" rel=\"nofollow\">2NN 2ちゃんねるニュース速報+ナビ</a>',\n",
       "       '<a href=\"http://sinproject.net/tweecha\" rel=\"nofollow\">Tweecha Lite</a>',\n",
       "       '<a href=\"https://streamlabs.com\" rel=\"nofollow\">Streamlabs Twitter</a>',\n",
       "       '<a href=\"https://swat.io/\" rel=\"nofollow\">Swat.io</a>',\n",
       "       '<a href=\"http://www.meneame.net\" rel=\"nofollow\">Menéame  posts</a>',\n",
       "       '<a href=\"https://irismarketiq.com\" rel=\"nofollow\">ImiqNewsApp</a>',\n",
       "       '<a href=\"https://vcu.com\" rel=\"nofollow\">MS assignment </a>',\n",
       "       '<a href=\"http://neliosoftware.com/content\" rel=\"nofollow\">Nelio Content</a>',\n",
       "       '<a href=\"http://postbeyond.com\" rel=\"nofollow\">PostBeyond</a>',\n",
       "       '<a href=\"https://twitter.com\" rel=\"nofollow\">Twitter for Advertisers</a>',\n",
       "       '<a href=\"https://github.com/ncaq/ncaq-overlay/tree/master/net-misc/mikutter\" rel=\"nofollow\">mikutter for Gentoo by ncaq</a>',\n",
       "       '<a href=\"http://grabyo.com\" rel=\"nofollow\">Grabyo</a>',\n",
       "       '<a href=\"http://www.republicworld.com\" rel=\"nofollow\">Republicworld</a>',\n",
       "       '<a href=\"https://help.twitter.com/en/using-twitter/how-to-tweet#source-labels\" rel=\"nofollow\">Forbes Botstream Europe</a>',\n",
       "       '<a href=\"https://www.sprinklr.com/\" rel=\"nofollow\">Powered by Sprinklr</a>',\n",
       "       '<a href=\"https://bots.thedextazlab.com\" rel=\"nofollow\">@thedextazlab</a>',\n",
       "       '<a href=\"https://www.facebook.com/CyberSecDN/\" rel=\"nofollow\">CyberSecDN v.3</a>',\n",
       "       '<a href=\"https://app.sociabble.com\" rel=\"nofollow\">SociabbleApp</a>',\n",
       "       '<a href=\"https://www.smartnews.com/\" rel=\"nofollow\">SmartNews | スマートニュース</a>',\n",
       "       '<a href=\"https://coschedule.com\" rel=\"nofollow\">CoSchedule</a>',\n",
       "       '<a href=\"https://app.posteria.fr\" rel=\"nofollow\">Posteria</a>',\n",
       "       '<a href=\"https://pragmaticcode.com/linky/\" rel=\"nofollow\">Linky for iOS</a>',\n",
       "       '<a href=\"http://smarp.com\" rel=\"nofollow\">Smarp.</a>',\n",
       "       '<a href=\"https://www.ocoya.net\" rel=\"nofollow\">Posted via www.ocoya.com</a>',\n",
       "       '<a href=\"https://www.wakamesoba98.net/sobacha/\" rel=\"nofollow\">SobaCha</a>',\n",
       "       '<a href=\"http://moovs.be\" rel=\"nofollow\">moovs</a>',\n",
       "       '<a href=\"https://www.sharee.me\" rel=\"nofollow\">Sharee Advocacy</a>',\n",
       "       '<a href=\"https://retail.economictimes.indiatimes.com/\" rel=\"nofollow\">ETRetail.com</a>',\n",
       "       '<a href=\"https://promorepublic.com\" rel=\"nofollow\">PromoRepublic</a>',\n",
       "       '<a href=\"https://ryoshusho.shiroshika.com\" rel=\"nofollow\">ryoshusho_tweet</a>',\n",
       "       '<a href=\"https://24tv.ua/\" rel=\"nofollow\">new24tvua</a>',\n",
       "       '<a href=\"https://peing.net\" rel=\"nofollow\">Peing</a>',\n",
       "       '<a href=\"http://twitter.com/blogscon\" rel=\"nofollow\">Blogscon</a>',\n",
       "       '<a href=\"https://iphones.ru\" rel=\"nofollow\">iPhones.ru</a>',\n",
       "       '<a href=\"https://twitter.com/ProductHuntTD\" rel=\"nofollow\">ProductHuntToday</a>',\n",
       "       '<a href=\"http://www.rigola.fr\" rel=\"nofollow\">Ephrael752</a>',\n",
       "       '<a href=\"http://e.meneame.net\" rel=\"nofollow\">eMenéame posts</a>',\n",
       "       '<a href=\"https://www.ilkerc.com/\" rel=\"nofollow\">Kriptom</a>',\n",
       "       '<a href=\"http://www.golem.de\" rel=\"nofollow\">Golem.de</a>',\n",
       "       '<a href=\"http://www.over-blog-kiwi.com\" rel=\"nofollow\">OverBlog Kiwi</a>',\n",
       "       '<a href=\"http://www.blick.ch/news/schweiz/newsroom-panoramas-142426\" rel=\"nofollow\">BLICK TweetBot</a>',\n",
       "       '<a href=\"http://www.mailchimp.com\" rel=\"nofollow\">Mailchimp</a>',\n",
       "       '<a href=\"http://www.nicovideo.jp/\" rel=\"nofollow\">ニコニコ動画 (ニコニコ)</a>',\n",
       "       '<a href=\"https://tweetmate.ybsystem.com\" rel=\"nofollow\">TweetMate for Android</a>',\n",
       "       '<a href=\"https://1001rss.com/\" rel=\"nofollow\">1001RSS autopublisher V3</a>',\n",
       "       '<a href=\"https://help.twitter.com/en/using-twitter/how-to-tweet#source-labels\" rel=\"nofollow\">StackAppES</a>',\n",
       "       '<a href=\"https://ioncube24.com\" rel=\"nofollow\">ic24 Tweet Automation</a>',\n",
       "       '<a href=\"https://www.nonli.com\" rel=\"nofollow\">Nonli</a>',\n",
       "       '<a href=\"http://127.0.0.1\" rel=\"nofollow\">WikiScene Infos</a>',\n",
       "       '<a href=\"http://www.generation-nt.com/\" rel=\"nofollow\">Génération-NT</a>',\n",
       "       '<a href=\"https://www.facebook.com/CyberSecDN/\" rel=\"nofollow\">CyberSecDN v.1</a>',\n",
       "       '<a href=\"https://gyazo.com/\" rel=\"nofollow\">Gyazo.com</a>',\n",
       "       '<a href=\"https://zlappo.com\" rel=\"nofollow\">Zlappo.com</a>',\n",
       "       '<a href=\"https://urnewz.net\" rel=\"nofollow\">urnewz.net prod</a>',\n",
       "       '<a href=\"https://365newsx.com\" rel=\"nofollow\">365newsx</a>',\n",
       "       '<a href=\"https://help.twitter.com/en/using-twitter/how-to-tweet#source-labels\" rel=\"nofollow\">DailyhuntHindi</a>',\n",
       "       '<a href=\"https://upvote-bell.com/\" rel=\"nofollow\">UpvoteBell</a>',\n",
       "       '<a href=\"https://automatorplugin.com/\" rel=\"nofollow\">Uncanny Automator for WordPress</a>',\n",
       "       '<a href=\"https://www.techontheedge.com\" rel=\"nofollow\">post_articles_techontheedge</a>',\n",
       "       '<a href=\"http://www.rtl.fr\" rel=\"nofollow\">GROUPE RTL</a>',\n",
       "       '<a href=\"http://gaggleamp.com/twit/\" rel=\"nofollow\">GaggleAMP</a>',\n",
       "       '<a href=\"http://Neurons.AI\" rel=\"nofollow\">Neurons.AI</a>',\n",
       "       '<a href=\"http://micro.blog/\" rel=\"nofollow\">Micro.blog</a>',\n",
       "       '<a href=\"http://www.kzgo.com:5000\" rel=\"nofollow\">Q.E.D CryptoNews</a>',\n",
       "       '<a href=\"https://blog.peterhuynh.xyz/\" rel=\"nofollow\">blog_peterhuynh</a>',\n",
       "       '<a href=\"https://www.gloo.it\" rel=\"nofollow\">Gloo to twitter</a>',\n",
       "       '<a href=\"https://app.postmypost.ru/\" rel=\"nofollow\">Postmypost</a>',\n",
       "       '<a href=\"https://www.newsy.co\" rel=\"nofollow\">newsy.co</a>',\n",
       "       '<a href=\"https://radu.ovh\" rel=\"nofollow\">Crypto News!</a>',\n",
       "       '<a href=\"https://dailycrypto.us.com\" rel=\"nofollow\">DailyCrypto</a>',\n",
       "       '<a href=\"https://www.oktopost.com\" rel=\"nofollow\">Oktopost</a>',\n",
       "       '<a href=\"https://fai.informazione.it\" rel=\"nofollow\">TrendingRetriever</a>',\n",
       "       '<a href=\"http://www.toi.in\" rel=\"nofollow\">cmssocialservice</a>',\n",
       "       '<a href=\"http://www.robotinfo.fr\" rel=\"nofollow\">RobotInfo.fr News</a>',\n",
       "       '<a href=\"https://webnow.company\" rel=\"nofollow\">webnowcompany</a>',\n",
       "       '<a href=\"https://www.mon.coincoin.fr.eu.org/shaarli/\" rel=\"nofollow\">DaffyShaarliTwit</a>',\n",
       "       '<a href=\"https://swello.com/fr/\" rel=\"nofollow\">Swello</a>',\n",
       "       '<a href=\"https://teclados.top\" rel=\"nofollow\">Teclados Tracker 🤖</a>',\n",
       "       '<a href=\"https://www.mmpnieuws.nl/\" rel=\"nofollow\">Twitterposter MMPNieuws</a>',\n",
       "       '<a href=\"https://www.vrt.be/vrtnws/nl/\" rel=\"nofollow\">VRT NWS Autotweet</a>',\n",
       "       '<a href=\"https://www.spamchronicles.com/\" rel=\"nofollow\">Nowmy Tweets</a>',\n",
       "       '<a href=\"http://psicologiaymente.net\" rel=\"nofollow\">Psicología y Mente</a>',\n",
       "       '<a href=\"https://alrit.co.uk\" rel=\"nofollow\">Gushy For Twitter</a>',\n",
       "       '<a href=\"https://tickertick.com\" rel=\"nofollow\">Ticker Tick</a>',\n",
       "       '<a href=\"http://www.heise.de\" rel=\"nofollow\">heise Tweetfeeds</a>',\n",
       "       '<a href=\"https://www.ghstools.fr/\" rel=\"nofollow\">App Web3.0</a>',\n",
       "       '<a href=\"http://online-bargain.org/BestProducts4You\" rel=\"nofollow\">BestProducts4you</a>',\n",
       "       '<a href=\"https://www.glittall.com\" rel=\"nofollow\">Glittall</a>',\n",
       "       '<a href=\"https://resoomer.com/\" rel=\"nofollow\">Resoomer</a>',\n",
       "       '<a href=\"https://globaltrends.digital\" rel=\"nofollow\">GlobalTrends_Poster</a>',\n",
       "       '<a href=\"https://www.sociallymap.com\" rel=\"nofollow\">Sociallymap</a>',\n",
       "       '<a href=\"https://relationdesk.com\" rel=\"nofollow\">RelationDesk Customer Service</a>',\n",
       "       '<a href=\"https://follow.it\" rel=\"nofollow\">follow.it</a>',\n",
       "       '<a href=\"https://www.dainikgomantak.com/\" rel=\"nofollow\">Dainik Gomantak</a>',\n",
       "       '<a href=\"https://sundries.com.ua/\" rel=\"nofollow\">sundries.com.ua</a>',\n",
       "       '<a href=\"https://bitcoinbagri.in\" rel=\"nofollow\">Auto bloging</a>',\n",
       "       '<a href=\"https://gizchina.it\" rel=\"nofollow\">GizChina Articles</a>',\n",
       "       '<a href=\"https://www.podpage.com\" rel=\"nofollow\">Podpage </a>',\n",
       "       '<a href=\"https://publish.circleboom.com/\" rel=\"nofollow\">Circleboom Publish</a>',\n",
       "       '<a href=\"http://www.afropages.fr\" rel=\"nofollow\">Afropages</a>',\n",
       "       '<a href=\"https://noticiasmoviles.com\" rel=\"nofollow\">NMApps</a>',\n",
       "       '<a href=\"https://www.siliconrepublic.com\" rel=\"nofollow\">Silicon Republic News</a>',\n",
       "       '<a href=\"https://www.bizcommunity.com\" rel=\"nofollow\">Bizcommunity.com</a>',\n",
       "       '<a href=\"https://techosmo.com\" rel=\"nofollow\">techosmo</a>',\n",
       "       '<a href=\"https://www.facebook.com/socialmlabs/\" rel=\"nofollow\">mLabs - Gestão de Redes Sociais</a>',\n",
       "       '<a href=\"https://jimy.app\" rel=\"nofollow\">JimyTuits</a>',\n",
       "       '<a href=\"https://twitter.com/home\" rel=\"nofollow\">CryptoGiants_</a>',\n",
       "       '<a href=\"https://www.presenta.cc\" rel=\"nofollow\">PRESENTA.CC</a>',\n",
       "       '<a href=\"https://radio-t.com\" rel=\"nofollow\">rss2tweet-radiot</a>',\n",
       "       '<a href=\"http://www.naytev.com\" rel=\"nofollow\">Naytev</a>',\n",
       "       '<a href=\"https://www.amazingcontent.io\" rel=\"nofollow\">AmazingContent</a>',\n",
       "       '<a href=\"https://twitter.com/Blogs_Android\" rel=\"nofollow\">Blogs Android Tweet Bot</a>',\n",
       "       '<a href=\"https://coding398.dev/\" rel=\"nofollow\">Replit G\\'day</a>',\n",
       "       '<a href=\"https://connpass.com\" rel=\"nofollow\">connpass</a>',\n",
       "       '<a href=\"http://blog.livedoor.com/\" rel=\"nofollow\">livedoor Blog</a>',\n",
       "       '<a href=\"https://dormoshe.io\" rel=\"nofollow\">MLTrends</a>',\n",
       "       '<a href=\"https://www.fs-poster.com\" rel=\"nofollow\">GT Auto-Poster</a>',\n",
       "       '<a href=\"https://www.wakamesoba98.net/sobacha/\" rel=\"nofollow\">MateCha</a>',\n",
       "       '<a href=\"https://help.twitter.com/en/using-twitter/how-to-tweet#source-labels\" rel=\"nofollow\">GetOnTrade</a>',\n",
       "       '<a href=\"https://example.com/\" rel=\"nofollow\">かみくだく</a>',\n",
       "       '<a href=\"http://ask.fm/\" rel=\"nofollow\">Ask.fm</a>',\n",
       "       '<a href=\"https://homey.app\" rel=\"nofollow\">Twitter for Homey</a>',\n",
       "       '<a href=\"https://vistasocial.com\" rel=\"nofollow\">Vista Social</a>',\n",
       "       '<a href=\"http://www.twitpane.com\" rel=\"nofollow\">TwitPane for KindleFire</a>',\n",
       "       '<a href=\"https://www.sprinklr.com\" rel=\"nofollow\">Sprinklr</a>',\n",
       "       '<a href=\"https://tryhazel.com\" rel=\"nofollow\">tryhazel.com</a>',\n",
       "       '<a href=\"http://it.altervista.org/\" rel=\"nofollow\">AlterVista Connect</a>',\n",
       "       '<a href=\"https://prod1.sprinklr.com\" rel=\"nofollow\">Sprinklr Publishing</a>',\n",
       "       '<a href=\"http://www.typepad.com/\" rel=\"nofollow\">Typepad</a>',\n",
       "       '<a href=\"https://propakistani.pk/\" rel=\"nofollow\">ProPakistani</a>',\n",
       "       '<a href=\"http://www.zdnet.com\" rel=\"nofollow\">zdnet API</a>',\n",
       "       '<a href=\"http://www.voxmedia.com\" rel=\"nofollow\">Chorus publishing platform</a>',\n",
       "       '<a href=\"http://urls.fr/\" rel=\"nofollow\">URLs_fr</a>',\n",
       "       '<a href=\"https://www.derektmckinney.com\" rel=\"nofollow\">Derek T McKinney</a>',\n",
       "       '<a href=\"https://www.twitter.com/\" rel=\"nofollow\">Twitter Media Studio - LiveCut</a>',\n",
       "       '<a href=\"https://cherumbu.com/\" rel=\"nofollow\">Cherumbu News</a>',\n",
       "       '<a href=\"http://elchapuzasinformatico.com/\" rel=\"nofollow\">WP Chapuzas</a>',\n",
       "       '<a href=\"https://www.cryptoandtechnews.com/\" rel=\"nofollow\">CryptoAndTechNews</a>',\n",
       "       '<a href=\"https://www.cryptoandtechnews.com\" rel=\"nofollow\">Crypto and Tech News</a>',\n",
       "       '<a href=\"http://naullynicolas.ch/\" rel=\"nofollow\">NN Blog WP Twitter</a>',\n",
       "       '<a href=\"https://help.twitter.com/en/using-twitter/how-to-tweet#source-labels\" rel=\"nofollow\">wpTechnorapper</a>',\n",
       "       '<a href=\"https://www.security.nl\" rel=\"nofollow\">Security.NL RSS </a>',\n",
       "       '<a href=\"http://targetings.com/\" rel=\"nofollow\">TargetingS</a>',\n",
       "       '<a href=\"https://help.twitter.com/en/using-twitter/how-to-tweet#source-labels\" rel=\"nofollow\">JOAT Blog</a>',\n",
       "       '<a href=\"http://etus.com.br\" rel=\"nofollow\">Etus Brasil</a>',\n",
       "       '<a href=\"https://www.leadconnectorhq.com/\" rel=\"nofollow\">LeadConnector</a>',\n",
       "       '<a href=\"https://channel969.com\" rel=\"nofollow\">Channel969</a>',\n",
       "       '<a href=\"https://www.ayrshare.com\" rel=\"nofollow\">Ayrshare</a>',\n",
       "       '<a href=\"http://www.getresponse.com/\" rel=\"nofollow\">GetResponse</a>',\n",
       "       '<a href=\"https://tnvmadhav.me\" rel=\"nofollow\">Content Publisher X</a>',\n",
       "       '<a href=\"https://twitter.com/freeSocietyFR\" rel=\"nofollow\">BootsBlogNews</a>',\n",
       "       '<a href=\"https://help.twitter.com/en/using-twitter/how-to-tweet#source-labels\" rel=\"nofollow\">UnusuallyActive</a>',\n",
       "       '<a href=\"https://therahnuma.com\" rel=\"nofollow\">TheRahnumaDaily</a>',\n",
       "       '<a href=\"http://openoutcrier.com\" rel=\"nofollow\">Open Outcrier</a>',\n",
       "       '<a href=\"https://twitter.com\" rel=\"nofollow\">Macronewswire</a>',\n",
       "       '<a href=\"https://www.radaar.io/\" rel=\"nofollow\">RADAAR</a>',\n",
       "       '<a href=\"https://www.tinmoiz.com/\" rel=\"nofollow\">TinMoiZ</a>',\n",
       "       '<a href=\"https://stocktwits.com\" rel=\"nofollow\">StockTwits Web</a>',\n",
       "       '<a href=\"https://iexcloud.io/\" rel=\"nofollow\">News Bot Algo</a>',\n",
       "       '<a href=\"https://admin-2.nu.nl\" rel=\"nofollow\">NU.nl Twitter Bot</a>',\n",
       "       '<a href=\"https://synchrony.io\" rel=\"nofollow\">twitsynchrony</a>',\n",
       "       '<a href=\"https://twitter.com/tech_Theory__\" rel=\"nofollow\">TLDR_ARH</a>',\n",
       "       '<a href=\"https://www.onlywire.com\" rel=\"nofollow\">OnlyWire App</a>',\n",
       "       '<a href=\"https://www.coinbilgi.net/\" rel=\"nofollow\">CoinBilgiTR</a>',\n",
       "       '<a href=\"https://www.campaign3.com\" rel=\"nofollow\">Campaign Share</a>',\n",
       "       '<a href=\"http://15minutenews.com/business/\" rel=\"nofollow\">15 Minute News Business</a>',\n",
       "       '<a href=\"http://www.deasy.gr\" rel=\"nofollow\">deasy.gr app</a>',\n",
       "       '<a href=\"https://techmaniacs.gr\" rel=\"nofollow\">Techmaniacs Auto Post</a>',\n",
       "       '<a href=\"https://tok715.fc2.net/\" rel=\"nofollow\">TOK715C2</a>',\n",
       "       '<a href=\"http://www.hospitalitynet.org\" rel=\"nofollow\">Hospitality Net (Post)</a>',\n",
       "       '<a href=\"https://twitter.com/TaK65837520\" rel=\"nofollow\">TwitterToasterBot</a>',\n",
       "       '<a href=\"https://twitter.com/keizainewsbot\" rel=\"nofollow\">KeizaiNewsBot</a>',\n",
       "       '<a href=\"https://lxworkds.myqnapcloud.com\" rel=\"nofollow\">Twitter Simple News</a>',\n",
       "       '<a href=\"https://seekingalpha.com/market-news\" rel=\"nofollow\">SANewsTwitter</a>',\n",
       "       '<a href=\"https://www.blackbird.video\" rel=\"nofollow\">Blackbird Video Platform/Amplify</a>',\n",
       "       '<a href=\"https://my.arturin.com\" rel=\"nofollow\">Artur\\'In</a>',\n",
       "       '<a href=\"http://triberr.com\" rel=\"nofollow\">Triberr</a>',\n",
       "       '<a href=\"http://www.wpsolver.com\" rel=\"nofollow\">WP Solver</a>',\n",
       "       '<a href=\"https://newsfilter.io\" rel=\"nofollow\">Newsfilter.io</a>',\n",
       "       '<a href=\"https://www.transparenttradersblackbox.com/\" rel=\"nofollow\">StockCast News</a>',\n",
       "       '<a href=\"https://shichiworks.com/app/stoat_tweet\" rel=\"nofollow\">Stoat for Tweet (Android)</a>',\n",
       "       '<a href=\"https://twitter.com/home\" rel=\"nofollow\">MegaNewsUpdates</a>',\n",
       "       '<a href=\"http://tugatech.com.pt\" rel=\"nofollow\">TugaTech</a>',\n",
       "       '<a href=\"http://postplanner.com\" rel=\"nofollow\">Post Planner Inc.</a>',\n",
       "       '<a href=\"https://iavian.com\" rel=\"nofollow\">drudge_rssfeed</a>',\n",
       "       '<a href=\"http://www.forexpros.com/twitter_desc.php\" rel=\"nofollow\">FP News Publisher - COM</a>',\n",
       "       '<a href=\"https://euwatch.live\" rel=\"nofollow\">EUwatch</a>',\n",
       "       '<a href=\"https://google.com\" rel=\"nofollow\">bdtw</a>',\n",
       "       '<a href=\"http://www.google.com\" rel=\"nofollow\">hogeeee</a>',\n",
       "       '<a href=\"https://help.twitter.com/en/using-twitter/how-to-tweet#source-labels\" rel=\"nofollow\">http://mrbencampbell.com</a>',\n",
       "       '<a href=\"https://climatewatch.altervista.org/flash/index.php\" rel=\"nofollow\">FlashNewsFeed</a>',\n",
       "       '<a href=\"http://127.0.0.1/\" rel=\"nofollow\">NYT Anon</a>',\n",
       "       '<a href=\"https://help.twitter.com/en/using-twitter/how-to-tweet#source-labels\" rel=\"nofollow\">CFMKCumanayagua</a>',\n",
       "       '<a href=\"http://pardot.com\" rel=\"nofollow\">Pardot</a>',\n",
       "       '<a href=\"https://twitter.com\" rel=\"nofollow\">CelestreAI</a>',\n",
       "       '<a href=\"https://help.twitter.com/en/using-twitter/how-to-tweet#source-labels\" rel=\"nofollow\">Bizportal backoffice</a>',\n",
       "       '<a href=\"http://nomado.ryuhagiwara.com/\" rel=\"nofollow\">世界モバイル評論家協会</a>',\n",
       "       '<a href=\"https://twitter.com/matsuu\" rel=\"nofollow\">ifttt2twitter</a>',\n",
       "       '<a href=\"http://www.negocios.pt\" rel=\"nofollow\">Jornal de Negócios Post</a>',\n",
       "       '<a href=\"https://www.fs-poster.com/\" rel=\"nofollow\">FS-Poster-App</a>',\n",
       "       '<a href=\"https://help.twitter.com/en/using-twitter/how-to-tweet#source-labels\" rel=\"nofollow\">Boostlane App 2</a>',\n",
       "       '<a href=\"https://www.plurk.com\" rel=\"nofollow\">Plurk</a>',\n",
       "       '<a href=\"https://jorgeurreta.com\" rel=\"nofollow\">UrretaJorge</a>',\n",
       "       '<a href=\"https://www.reforma.com\" rel=\"nofollow\">GR_Feed</a>',\n",
       "       '<a href=\"https://rssmasher.tech\" rel=\"nofollow\">RSS Masher - Dev</a>',\n",
       "       '<a href=\"http://cedarnews.net\" rel=\"nofollow\">cedarnews</a>',\n",
       "       '<a href=\"http://betteridgeslaw.com\" rel=\"nofollow\">Betteridge\\'s Law</a>',\n",
       "       '<a href=\"https://developer.twitter.com/en/portal/projects/1518171945996587008/apps/24075036/auth-settings\" rel=\"nofollow\">AinvestNews</a>',\n",
       "       '<a href=\"https://www.ainvest.com\" rel=\"nofollow\">stonk_miner</a>',\n",
       "       '<a href=\"https://www.tendencias.tech\" rel=\"nofollow\">TendenciasTech</a>',\n",
       "       '<a href=\"http://www.neowin.net/\" rel=\"nofollow\">Neowin Followers</a>',\n",
       "       '<a href=\"https://www.andreadraghetti.it\" rel=\"nofollow\">Blog Andrea Draghetti OS</a>',\n",
       "       '<a href=\"http://www.kaseyjohns.com/studiopost/\" rel=\"nofollow\">StudioPost</a>',\n",
       "       '<a href=\"http://ueba.com.br\" rel=\"nofollow\">Ueba - Os Melhores Links</a>',\n",
       "       '<a href=\"https://www.ghidigital.com/\" rel=\"nofollow\">GHI DIGITAL Marketing Solutions</a>',\n",
       "       '<a href=\"https://shop.thelapdrop.com\" rel=\"nofollow\">The Lapdrop</a>',\n",
       "       '<a href=\"https://www.jewishpress.com\" rel=\"nofollow\">JewishPress feed</a>',\n",
       "       '<a href=\"https://www.postpickr.com\" rel=\"nofollow\">PostPickr</a>',\n",
       "       '<a href=\"http://we24.gr\" rel=\"nofollow\">we24publish</a>',\n",
       "       '<a href=\"https://sciencex.com/\" rel=\"nofollow\">Science X Status Updates</a>',\n",
       "       '<a href=\"http://www.simpleevent.kinghost.net/\" rel=\"nofollow\">bot_metaverso</a>',\n",
       "       '<a href=\"https://theborderobserver.wordpress.com/\" rel=\"nofollow\">BorderScanner</a>',\n",
       "       '<a href=\"https://spiegel.de\" rel=\"nofollow\">Spiegel_Schlagzeilen</a>',\n",
       "       '<a href=\"http://www.forbes.com\" rel=\"nofollow\">Forbes Botstream</a>',\n",
       "       '<a href=\"http://socialbu.com\" rel=\"nofollow\">socialbu.com</a>',\n",
       "       '<a href=\"https://www.fogolf.com\" rel=\"nofollow\">fo.golf</a>',\n",
       "       '<a href=\"http://www.finextra.com/\" rel=\"nofollow\">Finx News Tweets</a>',\n",
       "       '<a href=\"https://www.pur.social\" rel=\"nofollow\">Pur Social</a>',\n",
       "       '<a href=\"https://twitter.com/\" rel=\"nofollow\">okamoto\\'s research</a>',\n",
       "       '<a href=\"https://republiquedujapap.com\" rel=\"nofollow\">republiquedujapap.com</a>',\n",
       "       '<a href=\"https://twitter.com/DevInformado\" rel=\"nofollow\">Dev Informado</a>',\n",
       "       '<a href=\"http://www.nikkei.com/\" rel=\"nofollow\">日本経済新聞 電子版</a>',\n",
       "       '<a href=\"https://ritekit.com\" rel=\"nofollow\">RiteKit App</a>',\n",
       "       '<a href=\"https://b.hatena.ne.jp/norikoni831/bookmark\" rel=\"nofollow\">uhiiman_bot</a>',\n",
       "       '<a href=\"https://help.twitter.com/en/using-twitter/how-to-tweet#source-labels\" rel=\"nofollow\">azurepiratetwitter</a>',\n",
       "       '<a href=\"http://www.sueddeutsche.de/wirtschaft\" rel=\"nofollow\">SZ.de Twitterbot - Wirtschaft</a>',\n",
       "       '<a href=\"https://valorinveste.globo.com\" rel=\"nofollow\">tw-valor-investe</a>',\n",
       "       '<a href=\"http://www.mediapost.com/\" rel=\"nofollow\">MediaPost</a>',\n",
       "       '<a href=\"https://dev.twitter.com/\" rel=\"nofollow\">nikkei_top</a>',\n",
       "       '<a href=\"http://search.cpan.org/dist/Net-Twitter/\" rel=\"nofollow\">PerlTweeter</a>',\n",
       "       '<a href=\"http://www.magotech.it\" rel=\"nofollow\">gigi_magotech</a>',\n",
       "       '<a href=\"http://www.oneupapp.io\" rel=\"nofollow\">OneUp App</a>',\n",
       "       '<a href=\"http://www.downes.ca\" rel=\"nofollow\">OLDaily</a>',\n",
       "       '<a href=\"https://github.com/robertodoering/harpy\" rel=\"nofollow\">harpy for Twitter</a>',\n",
       "       '<a href=\"http://twitter.com\" rel=\"nofollow\">Twitter for  iPhone</a>',\n",
       "       '<a href=\"https://takeup.pk\" rel=\"nofollow\">Takeup Pakistan</a>',\n",
       "       '<a href=\"http://kulturegeek.fr\" rel=\"nofollow\">KultureGeek | Djibs</a>',\n",
       "       '<a href=\"http://kulturegeek.fr\" rel=\"nofollow\">KultureGeek.fr</a>',\n",
       "       '<a href=\"https://nicknackdevelopment.com\" rel=\"nofollow\">Albatross for Twitter</a>',\n",
       "       '<a href=\"https://seattlebrief.com\" rel=\"nofollow\">seattlebrief</a>',\n",
       "       '<a href=\"https://nairametrics.com\" rel=\"nofollow\">Nairametrics</a>',\n",
       "       '<a href=\"https://help.twitter.com/en/using-twitter/how-to-tweet#source-labels\" rel=\"nofollow\">Flash Twitter Auto Publish</a>',\n",
       "       '<a href=\"http://www.forexpros.de/twitter_desc.php\" rel=\"nofollow\">FP News Publisher - DE</a>',\n",
       "       '<a href=\"http://web.de/magazine/\" rel=\"nofollow\">WEB.DE Magazine</a>',\n",
       "       '<a href=\"https://bitcoinbagri.in/\" rel=\"nofollow\">scial 1</a>',\n",
       "       '<a href=\"https://finance.matevoux.ovh\" rel=\"nofollow\">Matevoux finance</a>',\n",
       "       '<a href=\"https://anypoll.app/\" rel=\"nofollow\">AnyPoll Links</a>',\n",
       "       '<a href=\"http://slashdot.org\" rel=\"nofollow\">slashdotbot</a>',\n",
       "       '<a href=\"https://twblue.es\" rel=\"nofollow\">TW Blue</a>',\n",
       "       '<a href=\"http://www.thepostonline.nl/\" rel=\"nofollow\">ThePostOnline.nl</a>',\n",
       "       '<a href=\"http://www.elgrupoinformatico.com\" rel=\"nofollow\">El Grupo Informático</a>',\n",
       "       '<a href=\"http://www.overclockers.ru\" rel=\"nofollow\">Overclockers.ru News</a>',\n",
       "       '<a href=\"https://www.tharadhol.com\" rel=\"nofollow\">https://www.tharadhol.com</a>',\n",
       "       '<a href=\"https://biztoc.com/\" rel=\"nofollow\">BizToc.com News</a>',\n",
       "       '<a href=\"https://help.twitter.com/en/using-twitter/how-to-tweet#source-labels\" rel=\"nofollow\">Best of SNO Automation</a>',\n",
       "       '<a href=\"http://www.moneycab.com/mcc\" rel=\"nofollow\">PH Tweet</a>',\n",
       "       '<a href=\"https://georgestrakhov.com\" rel=\"nofollow\">shkspreannews_t2</a>',\n",
       "       '<a href=\"http://bursitia.com\" rel=\"nofollow\">Bursitia</a>',\n",
       "       '<a href=\"https://help.twitter.com/en/using-twitter/how-to-tweet#source-labels\" rel=\"nofollow\">Marketbit.pro</a>',\n",
       "       '<a href=\"https://vipecloud.com\" rel=\"nofollow\">VipeCloud</a>',\n",
       "       '<a href=\"https://hardwaresfera.com/\" rel=\"nofollow\"> NextScript</a>',\n",
       "       '<a href=\"https://twitter.com/hermoand\" rel=\"nofollow\">Kenyans On Reddit</a>',\n",
       "       '<a href=\"https://www.computerbase.de/\" rel=\"nofollow\">BaseCMS</a>',\n",
       "       '<a href=\"http://winfuture.de/\" rel=\"nofollow\">WinFuture.de CMS</a>',\n",
       "       '<a href=\"https://www.google.com\" rel=\"nofollow\">PySpiderBot</a>',\n",
       "       '<a href=\"http://www.twittergadget.com\" rel=\"nofollow\">tGadget</a>',\n",
       "       '<a href=\"https://www.expertcallingnetwork.com\" rel=\"nofollow\">ECNFeedStream</a>',\n",
       "       '<a href=\"https://twitter.com/abbas_techworld\" rel=\"nofollow\">intellisenseAIBot</a>',\n",
       "       '<a href=\"http://folha.com\" rel=\"nofollow\">Folha Mercado welcome-app 1.0</a>',\n",
       "       '<a href=\"http://folha.com\" rel=\"nofollow\">Folha Tec welcome-app 1.0</a>',\n",
       "       '<a href=\"https://fook.news\" rel=\"nofollow\">Fook.News</a>',\n",
       "       '<a href=\"http://stopmalvertising.com\" rel=\"nofollow\">StopMalvertisingRSS</a>',\n",
       "       '<a href=\"http://kby.za.net\" rel=\"nofollow\">KBYzanetWPtoTwitter</a>',\n",
       "       '<a href=\"https://twitter.com\" rel=\"nofollow\">homeGC</a>',\n",
       "       '<a href=\"http://folha.com\" rel=\"nofollow\">Folha com welcome-app 1.0</a>',\n",
       "       '<a href=\"https://help.twitter.com/en/using-twitter/how-to-tweet#source-labels\" rel=\"nofollow\">UeberSchriften</a>',\n",
       "       '<a href=\"https://dailybusiness.us.com\" rel=\"nofollow\">DailyBusiness</a>',\n",
       "       '<a href=\"https://help.twitter.com/en/using-twitter/how-to-tweet#source-labels\" rel=\"nofollow\">VOI.ID</a>',\n",
       "       '<a href=\"http://www.valor.com.br\" rel=\"nofollow\">Valor Online</a>',\n",
       "       '<a href=\"http://www.ress.at\" rel=\"nofollow\">Ress C&M News</a>',\n",
       "       '<a href=\"https://itpointplus.com/\" rel=\"nofollow\">WPweb_SocialAutoPosterham7</a>',\n",
       "       '<a href=\"https://tweesecake.app\" rel=\"nofollow\">TweeseCake</a>',\n",
       "       '<a href=\"http://www.blue-cloak.com\" rel=\"nofollow\">iTweet4BC</a>',\n",
       "       '<a href=\"https://thenewspro.co/\" rel=\"nofollow\">NEWS DAILY</a>',\n",
       "       '<a href=\"http://www.contentcaptain.de\" rel=\"nofollow\">Content Captain</a>',\n",
       "       '<a href=\"https://www.matatabi.com\" rel=\"nofollow\">THDheadline</a>',\n",
       "       '<a href=\"https://saveflix.fr\" rel=\"nofollow\">VOLEUR_DE_VIDEOS</a>',\n",
       "       '<a href=\"https://autocloud.com\" rel=\"nofollow\">autocloud</a>',\n",
       "       '<a href=\"https://www2.filewo.net/\" rel=\"nofollow\">Twit_Side</a>',\n",
       "       '<a href=\"https://founderslist.com\" rel=\"nofollow\">FoundersList-Post</a>',\n",
       "       '<a href=\"https://www.vestorly.com/\" rel=\"nofollow\">Vestorly</a>',\n",
       "       '<a href=\"http://ts.elevateomdev.com/itsupplychain/\" rel=\"nofollow\">Supply Chain IT</a>',\n",
       "       '<a href=\"https://www.itsupplychain.com\" rel=\"nofollow\">IT Supply Chain</a>',\n",
       "       '<a href=\"https://www.learnpythonwithrune.org\" rel=\"nofollow\">TweetAMessage</a>',\n",
       "       '<a href=\"https://help.twitter.com/en/using-twitter/how-to-tweet#source-labels\" rel=\"nofollow\">Commodity Stories</a>',\n",
       "       '<a href=\"http://canalte.ch/\" rel=\"nofollow\">canalte.ch</a>',\n",
       "       '<a href=\"https://dash.metroworldnews.com/\" rel=\"nofollow\">MetroWorldNewsPeru_Twitter</a>',\n",
       "       '<a href=\"https://bitly.com/\" rel=\"nofollow\">Bitly</a>',\n",
       "       '<a href=\"https://bbabystyle.com\" rel=\"nofollow\">bbabystyle</a>',\n",
       "       '<a href=\"http://www.muycomputer.com\" rel=\"nofollow\">MC-posttw</a>',\n",
       "       '<a href=\"https://hikerstore.co.uk\" rel=\"nofollow\">isearch247</a>',\n",
       "       '<a href=\"https://livedune.ru\" rel=\"nofollow\">LiveDune</a>',\n",
       "       '<a href=\"https://help.twitter.com/en/using-twitter/how-to-tweet#source-labels\" rel=\"nofollow\">global_feed</a>',\n",
       "       '<a href=\"https://smartest-tech.com/\" rel=\"nofollow\">smart tech share</a>',\n",
       "       '<a href=\"https://help.twitter.com/en/using-twitter/how-to-tweet#source-labels\" rel=\"nofollow\">lospollos-test</a>',\n",
       "       '<a href=\"https://www.sharpspring.com\" rel=\"nofollow\">Sharpspring</a>',\n",
       "       '<a href=\"http://whiterosemanagement.uk\" rel=\"nofollow\">White Rose News</a>',\n",
       "       '<a href=\"http://www.faz.net\" rel=\"nofollow\">FAZ.NET</a>',\n",
       "       '<a href=\"https://jeffsnews.com/\" rel=\"nofollow\">moligaj2</a>',\n",
       "       '<a href=\"https://help.twitter.com/en/using-twitter/how-to-tweet#source-labels\" rel=\"nofollow\">Tech is cool</a>',\n",
       "       '<a href=\"https://bbnworldnews.com/\" rel=\"nofollow\">Autosharebbn</a>',\n",
       "       '<a href=\"https://ricvaz.com\" rel=\"nofollow\">Automatic Publication Bot</a>',\n",
       "       '<a href=\"https://desolate-dusk-12138.herokuapp.com/\" rel=\"nofollow\">BNotizieBeastBot</a>',\n",
       "       '<a href=\"https://portal.afaq-arabia.com\" rel=\"nofollow\">web.a-link.link</a>',\n",
       "       '<a href=\"https://virwire.com\" rel=\"nofollow\">aiBreaking</a>',\n",
       "       '<a href=\"https://help.twitter.com/en/using-twitter/how-to-tweet#source-labels\" rel=\"nofollow\">nuwus</a>',\n",
       "       '<a href=\"http://theregister.co.uk/\" rel=\"nofollow\">Vulture Central</a>',\n",
       "       '<a href=\"https://www.indicadoreconomico.com\" rel=\"nofollow\">indicadorpost</a>',\n",
       "       '<a href=\"http://www.conversocial.com\" rel=\"nofollow\">Verint Messaging</a>',\n",
       "       '<a href=\"http://buzzagain.com\" rel=\"nofollow\">Buzzagain</a>',\n",
       "       '<a href=\"https://help.twitter.com/en/using-twitter/how-to-tweet#source-labels\" rel=\"nofollow\">newslink7</a>',\n",
       "       '<a href=\"http://www.gnutiez.de\" rel=\"nofollow\">Gnutiez</a>',\n",
       "       '<a href=\"http://www.fussball-addict.com/de/news/bundesliga\" rel=\"nofollow\">Eintracht Addict</a>',\n",
       "       '<a href=\"https://www.theyeshivaworld.com/\" rel=\"nofollow\">Yeshiva World News</a>',\n",
       "       '<a href=\"https://www.showmetech.com.br/\" rel=\"nofollow\">Showmetech.com.br</a>',\n",
       "       '<a href=\"http://www.itnews.com.au\" rel=\"nofollow\">iTnews Autoposter</a>',\n",
       "       '<a href=\"http://www.sueddeutsche.de/\" rel=\"nofollow\">SZ.de Twitterbot - Main</a>',\n",
       "       '<a href=\"http://www.sueddeutsche.de/\" rel=\"nofollow\">SZ.de Twitterbot - Topthemen</a>',\n",
       "       '<a href=\"https://newsfeeds.media/\" rel=\"nofollow\">Next Newsfeeds.media</a>',\n",
       "       '<a href=\"https://dormoshe.io\" rel=\"nofollow\">dormoshe.io</a>',\n",
       "       '<a href=\"https://www.wdvikools.com/\" rel=\"nofollow\">Donna Hamilton</a>',\n",
       "       '<a href=\"https://techfakt.com\" rel=\"nofollow\">TechFakt</a>',\n",
       "       '<a href=\"https://www.jdsupra.com\" rel=\"nofollow\">jdsupra</a>',\n",
       "       '<a href=\"https://www.planoly.com\" rel=\"nofollow\">PLANOLY</a>',\n",
       "       '<a href=\"https://www.trvst.world\" rel=\"nofollow\">TRVSTMAIN3</a>',\n",
       "       '<a href=\"https://bloguers.net\" rel=\"nofollow\">Bloguers.net ShareMarket</a>',\n",
       "       '<a href=\"http://techmeme.com/about\" rel=\"nofollow\">Techmeme Editors</a>',\n",
       "       '<a href=\"http://www.snapstream.com\" rel=\"nofollow\">SnapStream TV Search</a>',\n",
       "       '<a href=\"https://kiopi.com\" rel=\"nofollow\">Kiopi</a>',\n",
       "       '<a href=\"http://www.georgeglessner.com\" rel=\"nofollow\">programmerhumor</a>',\n",
       "       '<a href=\"https://reagle.org/joseph/2009/01/thunderdell.html\" rel=\"nofollow\">busy-sponge2</a>',\n",
       "       '<a href=\"https://github.com/mikkotampio/ylekov\" rel=\"nofollow\">ylekovbot</a>',\n",
       "       '<a href=\"https://www.web-dimensions.net\" rel=\"nofollow\">VIC Pro</a>',\n",
       "       '<a href=\"http://nos.nl\" rel=\"nofollow\">NOS</a>',\n",
       "       '<a href=\"https://help.twitter.com/en/using-twitter/how-to-tweet#source-labels\" rel=\"nofollow\">nOwOs</a>',\n",
       "       '<a href=\"http://www.bioethics.com/\" rel=\"nofollow\">Bioethics.com</a>',\n",
       "       '<a href=\"http://nos.nl/teletekst\" rel=\"nofollow\">Teletekst Twitter Uitkoppeling</a>',\n",
       "       '<a href=\"http://gunow.co.ve\" rel=\"nofollow\">Gunow LA</a>',\n",
       "       '<a href=\"http://www.devotechservices.com\" rel=\"nofollow\">DTSapp</a>',\n",
       "       '<a href=\"http://www.artsjournal.com\" rel=\"nofollow\">ArtsJournal feed</a>',\n",
       "       '<a href=\"http://www.watson.ch\" rel=\"nofollow\">Breaking_watson</a>',\n",
       "       '<a href=\"https://newcardigan.org\" rel=\"nofollow\">Aus GLAM Blog new post tweeter</a>',\n",
       "       '<a href=\"http://desarrolla.montevideo.com.uy/\" rel=\"nofollow\">MVD CMS</a>',\n",
       "       '<a href=\"https://lightfx.jp/\" rel=\"nofollow\">LIGHT FX</a>',\n",
       "       '<a href=\"https://localhost.com\" rel=\"nofollow\">Post PNGs</a>',\n",
       "       '<a href=\"https://bloguers.net\" rel=\"nofollow\">Bloguers.net</a>',\n",
       "       '<a href=\"http://www.radionz.co.nz/\" rel=\"nofollow\">Radio New Zealand News</a>',\n",
       "       '<a href=\"https://smmplanner.com\" rel=\"nofollow\">SMMplanner</a>',\n",
       "       '<a href=\"http://www.nikkei.com/\" rel=\"nofollow\">日経アジアBiz</a>',\n",
       "       '<a href=\"https://www.rubyonrails.ba\" rel=\"nofollow\">rorba_share</a>',\n",
       "       '<a href=\"http://beinghealthyforlife.com\" rel=\"nofollow\">MBB Tweet Machine Pro2</a>',\n",
       "       '<a href=\"https://worldwidetweets.com/\" rel=\"nofollow\">worldwide tweets1</a>',\n",
       "       '<a href=\"http://twitdelay.net/\" rel=\"nofollow\">Twit Delay</a>',\n",
       "       '<a href=\"http://rozeslia.com/cafeteria/55cfd53b-87e9-4072-b422-45a8545290cc/libraries\" rel=\"nofollow\">ROZESLIA DATABASE</a>',\n",
       "       '<a href=\"https://app.podcastpage.io\" rel=\"nofollow\">Podcastpage.io</a>',\n",
       "       '<a href=\"http://www.kaohoon.com\" rel=\"nofollow\">kaohoon Breaking</a>',\n",
       "       '<a href=\"http://balancednewssummary.com/\" rel=\"nofollow\">Balanced News Summary</a>',\n",
       "       '<a href=\"https://www.goodnews.co.com\" rel=\"nofollow\">theglobe.co.com</a>',\n",
       "       '<a href=\"https://www.facebook.com/CyberSecDN/\" rel=\"nofollow\">CyberSecDN v.5</a>',\n",
       "       '<a href=\"https://www.stephenslighthouse.com\" rel=\"nofollow\">StephensLighthouse</a>',\n",
       "       '<a href=\"https://toyokeizai.net\" rel=\"nofollow\">toyokeizai_tweetbot</a>',\n",
       "       '<a href=\"https://fa.news\" rel=\"nofollow\">FinAssetsTwitter</a>',\n",
       "       '<a href=\"https://imminent.translated.com/\" rel=\"nofollow\">Imminent Weltweite Nachrichten</a>',\n",
       "       '<a href=\"https://www.translated.com\" rel=\"nofollow\">Imminent News</a>',\n",
       "       '<a href=\"https://sunoresearch.com.br/noticias/\" rel=\"nofollow\">Suno Notícias</a>',\n",
       "       '<a href=\"http://wordpress.org/extend/plugins/twitter-tools/\" rel=\"nofollow\">SWFI Tools</a>',\n",
       "       '<a href=\"http://arstechnica.com\" rel=\"nofollow\">Ars tweetbot</a>',\n",
       "       '<a href=\"http://www.simpleevent.kinghost.net/\" rel=\"nofollow\">bot_developes</a>',\n",
       "       '<a href=\"https://kitaaa.net/\" rel=\"nofollow\">kitaaaaa</a>',\n",
       "       '<a href=\"https://help.twitter.com/en/using-twitter/how-to-tweet#source-labels\" rel=\"nofollow\">arxiv ai&ml bot</a>',\n",
       "       '<a href=\"https://twitter.com\" rel=\"nofollow\">AppThatRocks</a>',\n",
       "       '<a href=\"https://www.gamevicio.com/\" rel=\"nofollow\">SocialGvApp</a>',\n",
       "       '<a href=\"https://syndlab.com\" rel=\"nofollow\">SL 2.0</a>',\n",
       "       '<a href=\"https://www.newswall.org\" rel=\"nofollow\">newswall_org</a>',\n",
       "       '<a href=\"http://whazupnaija.com\" rel=\"nofollow\">WhazupNaija</a>',\n",
       "       '<a href=\"http://publisher.opsmatters.com/\" rel=\"nofollow\">opsmatters-curator</a>',\n",
       "       '<a href=\"https://help.twitter.com/en/using-twitter/how-to-tweet#source-labels\" rel=\"nofollow\">Gigabytes_cl</a>',\n",
       "       '<a href=\"https://yidinfo.net\" rel=\"nofollow\">YidInfo</a>',\n",
       "       '<a href=\"https://www.viralsweep.com/\" rel=\"nofollow\">ViralSweep App</a>',\n",
       "       '<a href=\"https://gigopost.com/\" rel=\"nofollow\">Gigopost</a>',\n",
       "       '<a href=\"https://pune.media\" rel=\"nofollow\">All New Pune Media</a>',\n",
       "       '<a href=\"https://www.facebook.com/CyberSecDN/\" rel=\"nofollow\">CyberSecDN v.4</a>',\n",
       "       '<a href=\"https://datasciencevault.com/\" rel=\"nofollow\">LongevityOne</a>',\n",
       "       '<a href=\"https://prominentcrypto.com/\" rel=\"nofollow\">Pro_Social</a>',\n",
       "       '<a href=\"http://plow.io/anchor/Tech_industry\" rel=\"nofollow\">Tech Industry PLOW</a>',\n",
       "       '<a href=\"https://www.thevocket.com\" rel=\"nofollow\">THE VOCKET</a>',\n",
       "       '<a href=\"https://n8n.io/\" rel=\"nofollow\">technews4869</a>',\n",
       "       '<a href=\"https://twitter.com/springsteen1949\" rel=\"nofollow\">springsteen_bot</a>',\n",
       "       '<a href=\"https://www.plow.io/marketPlow/Marketing\" rel=\"nofollow\">Market Plow</a>',\n",
       "       '<a href=\"http://s51517765.hatenadiary.jp\" rel=\"nofollow\">Denshi_kousaku</a>',\n",
       "       '<a href=\"https://mond.how\" rel=\"nofollow\">Mond.how</a>',\n",
       "       '<a href=\"https://kyome.io/tweetshot/index.html\" rel=\"nofollow\">TweetShot </a>',\n",
       "       '<a href=\"http://kai-you.net/words\" rel=\"nofollow\">kaiyoukeyphrase</a>',\n",
       "       '<a href=\"https://www.grapevine6.com\" rel=\"nofollow\">Seismic LiveSocial</a>',\n",
       "       '<a href=\"http://journal.mycom.co.jp\" rel=\"nofollow\">マイコミジャーナル エンタープライズ</a>',\n",
       "       '<a href=\"https://scottautry.com\" rel=\"nofollow\">maj_riti</a>',\n",
       "       '<a href=\"http://leadstories.com\" rel=\"nofollow\">Lead Stories Feed Publisher</a>',\n",
       "       '<a href=\"https://twitter.com/PlanetaAzulNews\" rel=\"nofollow\">Planeta Azul News</a>',\n",
       "       '<a href=\"http://gainapp.com\" rel=\"nofollow\">Gain Platform</a>',\n",
       "       '<a href=\"https://gin-jin-dou.stores.jp/#!/items/53e733a18a56103ef8000881\" rel=\"nofollow\">k-institute-bot</a>',\n",
       "       '<a href=\"https://www.last.fm/ja/user/BaM2\" rel=\"nofollow\">ネットの片隅</a>',\n",
       "       '<a href=\"http://tekno.kompas.com\" rel=\"nofollow\">KOMPAS.com  .</a>',\n",
       "       '<a href=\"https://plow.io/anchor/data_science\" rel=\"nofollow\">Data Science PLOW</a>',\n",
       "       '<a href=\"https://randynolden.com/\" rel=\"nofollow\">RandyN</a>',\n",
       "       '<a href=\"https://twitter.com/hatena_bookmark\" rel=\"nofollow\">HatenaBookmark Feeder</a>',\n",
       "       '<a href=\"https://kidi.ng\" rel=\"nofollow\">ﾠ</a>',\n",
       "       '<a href=\"http://www.nikkei.com/tech/\" rel=\"nofollow\">日経電子版 テクノロジー</a>',\n",
       "       '<a href=\"https://news.hada.io\" rel=\"nofollow\">NewsHada</a>',\n",
       "       '<a href=\"http://kmsv.net\" rel=\"nofollow\">つぶやきマシーン</a>',\n",
       "       '<a href=\"http://www.evyware.com/\" rel=\"nofollow\">Evy</a>',\n",
       "       '<a href=\"http://www.holding.com\" rel=\"nofollow\">SelfDrivingFeedfromAlerts</a>',\n",
       "       '<a href=\"https://www.okb-shelf.work/\" rel=\"nofollow\">engineer_bot</a>',\n",
       "       '<a href=\"https://beikokukabu-etf-matome.com/\" rel=\"nofollow\">beikokukabu_etf</a>',\n",
       "       '<a href=\"http://www.tweetGoogleAlerts.com\" rel=\"nofollow\">TweetGoogleAlerts</a>',\n",
       "       '<a href=\"https://www.visitory.com\" rel=\"nofollow\">Visitory 2</a>',\n",
       "       '<a href=\"https://www.investingpassive.com\" rel=\"nofollow\">InvestingPassive</a>',\n",
       "       '<a href=\"https://www.zaqs.org/business/\" rel=\"nofollow\">ZAQS Business</a>',\n",
       "       '<a href=\"https://data.nestif.com/\" rel=\"nofollow\">AI_news_nd</a>',\n",
       "       '<a href=\"https://twitter.com/ABS104a\" rel=\"nofollow\">Biyon≡(\\u3000ε:) Pro</a>',\n",
       "       '<a href=\"https://www.tradingview.com\" rel=\"nofollow\">TradingView</a>',\n",
       "       '<a href=\"http://theworld09.com\" rel=\"nofollow\">from TheWorld</a>',\n",
       "       '<a href=\"https://techplanet.today\" rel=\"nofollow\">TechPlanet Tweet</a>',\n",
       "       '<a href=\"https://www.techno-edge.net/\" rel=\"nofollow\">TechnoEdge Tweetbot</a>',\n",
       "       '<a href=\"http://twit6.smritiweb.com\" rel=\"nofollow\">Twit6</a>',\n",
       "       '<a href=\"https://blogskenya.com\" rel=\"nofollow\">Blogs Kenya</a>',\n",
       "       '<a href=\"http://eurekanode.appspot.com/\" rel=\"nofollow\">総合ニュース自動編集部</a>',\n",
       "       '<a href=\"http://www.oficinadanet.com.br\" rel=\"nofollow\">Oficina da Net Posts</a>',\n",
       "       '<a href=\"http://www.yourmailinglistprovider.com\" rel=\"nofollow\">YourMailingListProvider</a>',\n",
       "       '<a href=\"https://bootjp.me/about-me-ja/?from=twbot\" rel=\"nofollow\">bootjp Apps for bot</a>',\n",
       "       '<a href=\"http://www.indiegamejams.com/\" rel=\"nofollow\">Indie Game Jams Announce Bot</a>',\n",
       "       '<a href=\"https://koz-sec.github.io/dxsec/\" rel=\"nofollow\">twi-sec</a>',\n",
       "       '<a href=\"https://vegalms.com\" rel=\"nofollow\">Vega LMS</a>',\n",
       "       '<a href=\"https://italtimes.it/\" rel=\"nofollow\">Libraist</a>',\n",
       "       '<a href=\"http://tvxs.gr\" rel=\"nofollow\">tvxs</a>',\n",
       "       '<a href=\"https://investor.id\" rel=\"nofollow\">Investor Daily</a>',\n",
       "       '<a href=\"https://www.townnews.com/\" rel=\"nofollow\">BLOX CMS</a>',\n",
       "       '<a href=\"https://help.twitter.com/en/using-twitter/how-to-tweet#source-labels\" rel=\"nofollow\">Indie Miners</a>',\n",
       "       '<a href=\"https://mybroadband.co.za/news\" rel=\"nofollow\">MyBroadband post to Twitter</a>',\n",
       "       '<a href=\"http://watrcoolr.us/\" rel=\"nofollow\">WatrCoolr</a>',\n",
       "       '<a href=\"http://forbesindia.com\" rel=\"nofollow\">Forbes India</a>',\n",
       "       '<a href=\"http://www.devdiscourse.com/\" rel=\"nofollow\">Devdiscourse News Desk</a>',\n",
       "       '<a href=\"http://www.theedgemarkets.com\" rel=\"nofollow\">ProdTheEdgeMarketsFeedAPI</a>',\n",
       "       '<a href=\"https://www.hookle.net\" rel=\"nofollow\">Hookle App</a>',\n",
       "       '<a href=\"https://help.twitter.com/en/using-twitter/how-to-tweet#source-labels\" rel=\"nofollow\">SocialFlow app</a>',\n",
       "       '<a href=\"https://twitter.com/noservershere\" rel=\"nofollow\">Publicamesta</a>',\n",
       "       '<a href=\"https://flight-path.io\" rel=\"nofollow\">Flight Path</a>',\n",
       "       '<a href=\"https://www.babnet.net\" rel=\"nofollow\">update /feed post</a>',\n",
       "       '<a href=\"https://help.twitter.com/en/using-twitter/how-to-tweet#source-labels\" rel=\"nofollow\">IndiaNewsStreamAppNew</a>',\n",
       "       '<a href=\"http://www.pahoo.org/\" rel=\"nofollow\">PahooTweet1.1e</a>',\n",
       "       '<a href=\"https://help.twitter.com/en/using-twitter/how-to-tweet#source-labels\" rel=\"nofollow\">Ai News Room</a>',\n",
       "       '<a href=\"http://wildmoka.com\" rel=\"nofollow\">Wildmoka</a>',\n",
       "       '<a href=\"https://partnerarea.outsystems.com/\" rel=\"nofollow\">Outsystems Social</a>',\n",
       "       '<a href=\"https://prdpx7.github.io\" rel=\"nofollow\">prdpXbot</a>',\n",
       "       '<a href=\"https://threadcreator.com\" rel=\"nofollow\">threadcreator.com</a>',\n",
       "       '<a href=\"https://github.com/YujiSoftware/TechSlideshare\" rel=\"nofollow\">TechSlideshare</a>',\n",
       "       '<a href=\"https://cryptosavedme.com/\" rel=\"nofollow\">CryptoSavedMe</a>',\n",
       "       '<a href=\"https://help.twitter.com/en/using-twitter/how-to-tweet#source-labels\" rel=\"nofollow\">antiworknews</a>',\n",
       "       '<a href=\"http://twmode.sf.net/\" rel=\"nofollow\">twmode</a>'],\n",
       "      dtype=object)"
      ]
     },
     "execution_count": 48,
     "metadata": {},
     "output_type": "execute_result"
    }
   ],
   "source": [
    "df['Source'].unique()"
   ]
  },
  {
   "cell_type": "code",
   "execution_count": 49,
   "id": "0d6cc045",
   "metadata": {},
   "outputs": [
    {
     "data": {
      "text/plain": [
       "<a href=\"https://mobile.twitter.com\" rel=\"nofollow\">Twitter Web App</a>                 17814\n",
       "<a href=\"http://twitter.com/download/iphone\" rel=\"nofollow\">Twitter for iPhone</a>      12281\n",
       "<a href=\"http://twitter.com/download/android\" rel=\"nofollow\">Twitter for Android</a>     8972\n",
       "<a href=\"https://ifttt.com\" rel=\"nofollow\">IFTTT</a>                                     1383\n",
       "<a href=\"https://dlvrit.com/\" rel=\"nofollow\">dlvr.it</a>                                  959\n",
       "                                                                                        ...  \n",
       "<a href=\"https://www.oliberal.com/\" rel=\"nofollow\">bot_twitter_oliberal</a>                 1\n",
       "<a href=\"http://www.google.com\" rel=\"nofollow\">hogeeee</a>                                  1\n",
       "<a href=\"https://google.com\" rel=\"nofollow\">bdtw</a>                                        1\n",
       "<a href=\"https://euwatch.live\" rel=\"nofollow\">EUwatch</a>                                   1\n",
       "<a href=\"http://twmode.sf.net/\" rel=\"nofollow\">twmode</a>                                   1\n",
       "Name: Source, Length: 843, dtype: int64"
      ]
     },
     "execution_count": 49,
     "metadata": {},
     "output_type": "execute_result"
    }
   ],
   "source": [
    "df['Source'].value_counts()"
   ]
  },
  {
   "cell_type": "code",
   "execution_count": 50,
   "id": "c2b9af34",
   "metadata": {},
   "outputs": [
    {
     "data": {
      "image/png": "[encoded data removed]",
      "text/plain": [
       "<Figure size 1080x432 with 1 Axes>"
      ]
     },
     "metadata": {
      "needs_background": "light"
     },
     "output_type": "display_data"
    }
   ],
   "source": [
    "plt.figure(figsize=(15,6))\n",
    "sns.countplot(data=df, x='Source', order=df[\"Source\"].value_counts().index[:10])\n",
    "plt.xticks(rotation = 90)\n",
    "plt.show()"
   ]
  },
  {
   "cell_type": "code",
   "execution_count": 51,
   "id": "5995d90c",
   "metadata": {},
   "outputs": [
    {
     "data": {
      "text/plain": [
       "array([ 0,  1,  2,  4, 11,  5,  3, 10, 15,  8, 12,  9,  6,  7, 13, 14, 16,\n",
       "       23, 20, 18, 21, 24, 22, 25, 17, 28, 19], dtype=int64)"
      ]
     },
     "execution_count": 51,
     "metadata": {},
     "output_type": "execute_result"
    }
   ],
   "source": [
    "df['hastag_counts'].unique()"
   ]
  },
  {
   "cell_type": "code",
   "execution_count": 52,
   "id": "371d8a54",
   "metadata": {},
   "outputs": [
    {
     "data": {
      "text/plain": [
       "0     36414\n",
       "1      5516\n",
       "2      2772\n",
       "3      1944\n",
       "4      1150\n",
       "5       651\n",
       "6       396\n",
       "7       295\n",
       "8       229\n",
       "9       124\n",
       "10       98\n",
       "13       76\n",
       "11       69\n",
       "12       51\n",
       "15       44\n",
       "16       43\n",
       "14       41\n",
       "18       25\n",
       "17       14\n",
       "23        9\n",
       "19        9\n",
       "25        8\n",
       "21        7\n",
       "20        7\n",
       "24        6\n",
       "22        2\n",
       "28        1\n",
       "Name: hastag_counts, dtype: int64"
      ]
     },
     "execution_count": 52,
     "metadata": {},
     "output_type": "execute_result"
    }
   ],
   "source": [
    "df['hastag_counts'].value_counts()"
   ]
  },
  {
   "cell_type": "code",
   "execution_count": 53,
   "id": "068ce29d",
   "metadata": {},
   "outputs": [
    {
     "data": {
      "image/png": "[encoded data removed]",
      "text/plain": [
       "<Figure size 1080x432 with 1 Axes>"
      ]
     },
     "metadata": {
      "needs_background": "light"
     },
     "output_type": "display_data"
    }
   ],
   "source": [
    "plt.figure(figsize=(15,6))\n",
    "sns.countplot(data=df, x='hastag_counts', order=df[\"hastag_counts\"].value_counts().index[:10])\n",
    "plt.xticks(rotation = 90)\n",
    "plt.show()"
   ]
  },
  {
   "cell_type": "code",
   "execution_count": 59,
   "id": "1cc7e9b2",
   "metadata": {},
   "outputs": [],
   "source": [
    "df['Datetime'] = pd.to_datetime(df['Datetime'])"
   ]
  },
  {
   "cell_type": "code",
   "execution_count": 60,
   "id": "008024f0",
   "metadata": {},
   "outputs": [],
   "source": [
    "df['year'] = df['Datetime'].dt.year\n",
    "df['month'] = df['Datetime'].dt.month\n",
    "df['day'] = df['Datetime'].dt.day\n",
    "df['dayofweek'] = df['Datetime'].dt.dayofweek\n",
    "df['hour'] = df['Datetime'].dt.hour\n",
    "df['minute'] = df['Datetime'].dt.minute\n",
    "df['dayofyear'] = df['Datetime'].dt.dayofyear\n",
    "df['date_only'] = df['Datetime'].dt.date"
   ]
  },
  {
   "cell_type": "code",
   "execution_count": 61,
   "id": "27360ebd",
   "metadata": {},
   "outputs": [],
   "source": [
    "tweets_agg_df = df.groupby([\"date_only\"])[\"Text\"].count().reset_index()\n",
    "tweets_agg_df.columns = [\"date_only\", \"count\"]"
   ]
  },
  {
   "cell_type": "code",
   "execution_count": 62,
   "id": "56b96d5c",
   "metadata": {},
   "outputs": [],
   "source": [
    "def plot_time_variation(df, x='date_only', y='count', hue=None, size=1, title=\"\", is_log=False):\n",
    "    sns.set(style=\"whitegrid\")                                                 \n",
    "    paper_rc = {'lines.linewidth': 3, 'lines.markersize': 20}                  \n",
    "    sns.set_context(\"paper\", rc = paper_rc)  \n",
    "    f, ax = plt.subplots(1,1, figsize=(4*size,3*size))\n",
    "    g = sns.lineplot(x=x, y=y, hue=hue, data=df)\n",
    "    plt.xticks(rotation=90)\n",
    "    if hue:\n",
    "        plt.title(f'{y} grouped by {hue} | {title}')\n",
    "    else:\n",
    "        plt.title(f'{y} | {title}')\n",
    "    if(is_log):\n",
    "        ax.set(yscale=\"log\")\n",
    "    ax.grid(color='black', linestyle='dotted', linewidth=0.75)\n",
    "    plt.show() "
   ]
  },
  {
   "cell_type": "code",
   "execution_count": 63,
   "id": "2b9173a1",
   "metadata": {},
   "outputs": [
    {
     "data": {
      "image/png": "[encoded data removed]",
      "text/plain": [
       "<Figure size 864x648 with 1 Axes>"
      ]
     },
     "metadata": {},
     "output_type": "display_data"
    }
   ],
   "source": [
    "plot_time_variation(tweets_agg_df, x='date_only', title=\"Number of tweets / day\",size=3)"
   ]
  },
  {
   "cell_type": "code",
   "execution_count": 64,
   "id": "83b4d8dc",
   "metadata": {},
   "outputs": [
    {
     "data": {
      "text/plain": [
       "array([6, 0, 1], dtype=int64)"
      ]
     },
     "execution_count": 64,
     "metadata": {},
     "output_type": "execute_result"
    }
   ],
   "source": [
    "df['dayofweek'].unique()"
   ]
  },
  {
   "cell_type": "code",
   "execution_count": 65,
   "id": "bc3d3ef4",
   "metadata": {},
   "outputs": [
    {
     "data": {
      "text/plain": [
       "0    31700\n",
       "6    10068\n",
       "1     8233\n",
       "Name: dayofweek, dtype: int64"
      ]
     },
     "execution_count": 65,
     "metadata": {},
     "output_type": "execute_result"
    },
    {
     "name": "stderr",
     "output_type": "stream",
     "text": [
      "ERROR: Could not install packages due to an OSError: [WinError 32] The process cannot access the file because it is being used by another process: 'c:\\\\users\\\\acer\\\\anaconda3\\\\lib\\\\site-packages\\\\matplotlib\\\\mpl-data\\\\fonts\\\\ttf\\\\DejaVuSans.ttf'\n",
      "Consider using the `--user` option or check the permissions.\n",
      "\n"
     ]
    },
    {
     "name": "stdout",
     "output_type": "stream",
     "text": [
      "Collecting matplotlib==3.4.3\n",
      "  Downloading matplotlib-3.4.3-cp39-cp39-win_amd64.whl (7.1 MB)\n",
      "Requirement already satisfied: pillow>=6.2.0 in c:\\users\\acer\\anaconda3\\lib\\site-packages (from matplotlib==3.4.3) (9.0.1)\n",
      "Requirement already satisfied: kiwisolver>=1.0.1 in c:\\users\\acer\\anaconda3\\lib\\site-packages (from matplotlib==3.4.3) (1.3.2)\n",
      "Requirement already satisfied: python-dateutil>=2.7 in c:\\users\\acer\\anaconda3\\lib\\site-packages (from matplotlib==3.4.3) (2.8.2)\n",
      "Requirement already satisfied: pyparsing>=2.2.1 in c:\\users\\acer\\anaconda3\\lib\\site-packages (from matplotlib==3.4.3) (3.0.4)\n",
      "Requirement already satisfied: cycler>=0.10 in c:\\users\\acer\\anaconda3\\lib\\site-packages (from matplotlib==3.4.3) (0.11.0)\n",
      "Requirement already satisfied: numpy>=1.16 in c:\\users\\acer\\anaconda3\\lib\\site-packages (from matplotlib==3.4.3) (1.22.4)\n",
      "Requirement already satisfied: six>=1.5 in c:\\users\\acer\\anaconda3\\lib\\site-packages (from python-dateutil>=2.7->matplotlib==3.4.3) (1.16.0)\n",
      "Installing collected packages: matplotlib\n",
      "  Attempting uninstall: matplotlib\n",
      "    Found existing installation: matplotlib 3.5.1\n",
      "    Uninstalling matplotlib-3.5.1:\n"
     ]
    }
   ],
   "source": [
    "df['dayofweek'].value_counts()"
   ]
  },
  {
   "cell_type": "code",
   "execution_count": 66,
   "id": "88a8a252",
   "metadata": {},
   "outputs": [
    {
     "data": {
      "image/png": "[encoded data removed]",
      "text/plain": [
       "<Figure size 1080x432 with 1 Axes>"
      ]
     },
     "metadata": {},
     "output_type": "display_data"
    }
   ],
   "source": [
    "plt.figure(figsize=(15,6))\n",
    "sns.countplot(data=df, x='dayofweek')\n",
    "plt.show()"
   ]
  },
  {
   "cell_type": "code",
   "execution_count": 67,
   "id": "436c0cef",
   "metadata": {},
   "outputs": [
    {
     "data": {
      "text/plain": [
       "array([22, 23, 24], dtype=int64)"
      ]
     },
     "execution_count": 67,
     "metadata": {},
     "output_type": "execute_result"
    }
   ],
   "source": [
    "df['dayofyear'].unique()"
   ]
  },
  {
   "cell_type": "code",
   "execution_count": 68,
   "id": "05dd9ef2",
   "metadata": {},
   "outputs": [
    {
     "data": {
      "text/plain": [
       "23    31700\n",
       "22    10068\n",
       "24     8233\n",
       "Name: dayofyear, dtype: int64"
      ]
     },
     "execution_count": 68,
     "metadata": {},
     "output_type": "execute_result"
    }
   ],
   "source": [
    "df['dayofyear'].value_counts()"
   ]
  },
  {
   "cell_type": "code",
   "execution_count": 69,
   "id": "3de6021b",
   "metadata": {},
   "outputs": [
    {
     "data": {
      "image/png": "[encoded data removed]",
      "text/plain": [
       "<Figure size 1080x432 with 1 Axes>"
      ]
     },
     "metadata": {},
     "output_type": "display_data"
    }
   ],
   "source": [
    "plt.figure(figsize=(15,6))\n",
    "sns.countplot(data=df, x='dayofyear')\n",
    "plt.show()\n"
   ]
  },
  {
   "cell_type": "code",
   "execution_count": 70,
   "id": "70b7ffac",
   "metadata": {},
   "outputs": [
    {
     "data": {
      "text/plain": [
       "array([datetime.date(2023, 1, 22), datetime.date(2023, 1, 23),\n",
       "       datetime.date(2023, 1, 24)], dtype=object)"
      ]
     },
     "execution_count": 70,
     "metadata": {},
     "output_type": "execute_result"
    }
   ],
   "source": [
    "df['date_only'].unique()"
   ]
  },
  {
   "cell_type": "code",
   "execution_count": 72,
   "id": "d72c53b1",
   "metadata": {},
   "outputs": [
    {
     "data": {
      "text/plain": [
       "2023-01-23    31700\n",
       "2023-01-22    10068\n",
       "2023-01-24     8233\n",
       "Name: date_only, dtype: int64"
      ]
     },
     "execution_count": 72,
     "metadata": {},
     "output_type": "execute_result"
    }
   ],
   "source": [
    "df['date_only'].value_counts()"
   ]
  },
  {
   "cell_type": "code",
   "execution_count": 73,
   "id": "3aac745b",
   "metadata": {},
   "outputs": [
    {
     "data": {
      "image/png": "[encoded data removed]",
      "text/plain": [
       "<Figure size 1080x432 with 1 Axes>"
      ]
     },
     "metadata": {},
     "output_type": "display_data"
    }
   ],
   "source": [
    "plt.figure(figsize=(15,6))\n",
    "sns.countplot(data=df, x='date_only')\n",
    "plt.show()"
   ]
  },
  {
   "cell_type": "code",
   "execution_count": 74,
   "id": "a765fa6d",
   "metadata": {},
   "outputs": [
    {
     "data": {
      "text/plain": [
       "array([13, 14, 15, 16, 17, 18, 19, 20, 21, 22, 23,  0,  1,  2,  3,  4,  5,\n",
       "        6,  7,  8,  9, 10, 11, 12], dtype=int64)"
      ]
     },
     "execution_count": 74,
     "metadata": {},
     "output_type": "execute_result"
    }
   ],
   "source": [
    "df['hour'].unique()"
   ]
  },
  {
   "cell_type": "code",
   "execution_count": 75,
   "id": "3a34411c",
   "metadata": {},
   "outputs": [
    {
     "data": {
      "text/plain": [
       "15    3297\n",
       "16    3237\n",
       "14    3178\n",
       "17    2927\n",
       "18    2756\n",
       "19    2604\n",
       "20    2370\n",
       "21    2330\n",
       "22    2158\n",
       "6     2140\n",
       "3     2134\n",
       "5     2105\n",
       "23    2078\n",
       "4     2077\n",
       "2     1994\n",
       "1     1978\n",
       "0     1914\n",
       "13    1765\n",
       "12    1319\n",
       "11    1277\n",
       "10    1161\n",
       "9     1113\n",
       "8     1103\n",
       "7      986\n",
       "Name: hour, dtype: int64"
      ]
     },
     "execution_count": 75,
     "metadata": {},
     "output_type": "execute_result"
    }
   ],
   "source": [
    "df['hour'].value_counts()"
   ]
  },
  {
   "cell_type": "code",
   "execution_count": 76,
   "id": "b01d2831",
   "metadata": {},
   "outputs": [
    {
     "data": {
      "image/png": "[encoded data removed]",
      "text/plain": [
       "<Figure size 1080x432 with 1 Axes>"
      ]
     },
     "metadata": {},
     "output_type": "display_data"
    }
   ],
   "source": [
    "plt.figure(figsize=(15,6))\n",
    "sns.countplot(data=df, x='hour')\n",
    "plt.show()"
   ]
  },
  {
   "cell_type": "code",
   "execution_count": 77,
   "id": "e8251313",
   "metadata": {},
   "outputs": [
    {
     "data": {
      "text/plain": [
       "array([44, 45, 46, 47, 48, 49, 50, 51, 52, 53, 54, 55, 56, 57, 58, 59,  0,\n",
       "        1,  2,  3,  4,  5,  6,  7,  8,  9, 10, 11, 12, 13, 14, 15, 16, 17,\n",
       "       18, 19, 20, 21, 22, 23, 24, 25, 26, 27, 28, 29, 30, 31, 32, 33, 34,\n",
       "       35, 36, 37, 38, 39, 40, 41, 42, 43], dtype=int64)"
      ]
     },
     "execution_count": 77,
     "metadata": {},
     "output_type": "execute_result"
    }
   ],
   "source": [
    "df['minute'].unique()"
   ]
  },
  {
   "cell_type": "code",
   "execution_count": 78,
   "id": "ca739711",
   "metadata": {},
   "outputs": [
    {
     "data": {
      "text/plain": [
       "0     1415\n",
       "30    1168\n",
       "45     945\n",
       "15     923\n",
       "16     907\n",
       "10     886\n",
       "1      873\n",
       "50     868\n",
       "2      863\n",
       "58     853\n",
       "48     853\n",
       "40     848\n",
       "55     847\n",
       "35     845\n",
       "20     844\n",
       "28     842\n",
       "29     841\n",
       "5      839\n",
       "3      838\n",
       "25     834\n",
       "52     833\n",
       "18     832\n",
       "32     830\n",
       "56     830\n",
       "17     826\n",
       "4      822\n",
       "21     821\n",
       "6      816\n",
       "57     815\n",
       "34     813\n",
       "41     811\n",
       "51     811\n",
       "54     810\n",
       "36     807\n",
       "24     806\n",
       "23     804\n",
       "59     802\n",
       "42     801\n",
       "11     800\n",
       "9      800\n",
       "31     799\n",
       "46     799\n",
       "27     798\n",
       "49     797\n",
       "14     797\n",
       "47     795\n",
       "37     794\n",
       "43     783\n",
       "33     780\n",
       "38     780\n",
       "53     778\n",
       "19     774\n",
       "44     772\n",
       "13     770\n",
       "7      769\n",
       "39     766\n",
       "26     765\n",
       "22     759\n",
       "12     755\n",
       "8      749\n",
       "Name: minute, dtype: int64"
      ]
     },
     "execution_count": 78,
     "metadata": {},
     "output_type": "execute_result"
    }
   ],
   "source": [
    "df['minute'].value_counts()"
   ]
  },
  {
   "cell_type": "code",
   "execution_count": 79,
   "id": "f6b6eb81",
   "metadata": {
    "scrolled": true
   },
   "outputs": [
    {
     "data": {
      "image/png": "[encoded data removed]",
      "text/plain": [
       "<Figure size 1080x432 with 1 Axes>"
      ]
     },
     "metadata": {},
     "output_type": "display_data"
    }
   ],
   "source": [
    "plt.figure(figsize=(15,6))\n",
    "sns.countplot(data=df, x='minute')\n",
    "plt.show()"
   ]
  },
  {
   "cell_type": "markdown",
   "id": "c933c9bf",
   "metadata": {},
   "source": [
    "### Analysing the tweets "
   ]
  },
  {
   "cell_type": "code",
   "execution_count": 88,
   "id": "8eb6ee52",
   "metadata": {},
   "outputs": [],
   "source": [
    "result = SentimentIntensityAnalyzer()\n",
    "def find_sentiment(post):\n",
    "    try:\n",
    "        if result.polarity_scores(post)[\"compound\"] > 0:\n",
    "            return \"Positive\"\n",
    "        elif result.polarity_scores(post)[\"compound\"] < 0:\n",
    "            return \"Negative\"\n",
    "        else:\n",
    "            return \"Neutral\"  \n",
    "    except:\n",
    "        return \"Neutral\""
   ]
  },
  {
   "cell_type": "code",
   "execution_count": 89,
   "id": "cdb89464",
   "metadata": {},
   "outputs": [],
   "source": [
    "def plot_sentiment(df, feature, title):\n",
    "    counts = df[feature].value_counts()\n",
    "    percent = counts/sum(counts)\n",
    "\n",
    "    fig, (ax1, ax2) = plt.subplots(ncols=2, figsize=(12, 5))\n",
    "    \n",
    "    colors = [\"green\", \"red\", \"blue\"]\n",
    "    counts.plot(kind='bar', ax=ax1, color=colors)\n",
    "    percent.plot(kind='bar', ax=ax2, color=colors)\n",
    "    ax1.set_ylabel(f'Counts : {title} sentiments', size=12)\n",
    "    ax2.set_ylabel(f'Percentage : {title} sentiments', size=12)\n",
    "    plt.suptitle(f\"Sentiment analysis: {title}\")\n",
    "    plt.tight_layout()\n",
    "    plt.show()"
   ]
  },
  {
   "cell_type": "code",
   "execution_count": 90,
   "id": "095b4e7e",
   "metadata": {},
   "outputs": [
    {
     "data": {
      "image/png": "[encoded data removed]",
      "text/plain": [
       "<Figure size 864x360 with 2 Axes>"
      ]
     },
     "metadata": {},
     "output_type": "display_data"
    }
   ],
   "source": [
    "df['text_sentiment'] = df['Text'].apply(lambda x: find_sentiment(x))\n",
    "plot_sentiment(df, 'text_sentiment', 'Text')"
   ]
  },
  {
   "cell_type": "code",
   "execution_count": 91,
   "id": "2634cb90",
   "metadata": {},
   "outputs": [],
   "source": [
    "tweets_agg_df = df.groupby([\"date_only\", \"text_sentiment\"])[\"Text\"].count().reset_index()\n",
    "tweets_agg_df.columns = [\"date_only\", \"text_sentiment\", \"count\"]"
   ]
  },
  {
   "cell_type": "code",
   "execution_count": 92,
   "id": "76963cb0",
   "metadata": {
    "scrolled": true
   },
   "outputs": [
    {
     "data": {
      "image/png": "[encoded data removed]",
      "text/plain": [
       "<Figure size 864x648 with 1 Axes>"
      ]
     },
     "metadata": {},
     "output_type": "display_data"
    }
   ],
   "source": [
    "plot_time_variation(tweets_agg_df, x='date_only', hue=\"text_sentiment\", title=\"Number of tweets / day (grouped by sentiment)\",size=3)"
   ]
  },
  {
   "cell_type": "code",
   "execution_count": null,
   "id": "d2e04f17",
   "metadata": {},
   "outputs": [],
   "source": []
  }
 ],
 "metadata": {
  "kernelspec": {
   "display_name": "Python 3 (ipykernel)",
   "language": "python",
   "name": "python3"
  },
  "language_info": {
   "codemirror_mode": {
    "name": "ipython",
    "version": 3
   },
   "file_extension": ".py",
   "mimetype": "text/x-python",
   "name": "python",
   "nbconvert_exporter": "python",
   "pygments_lexer": "ipython3",
   "version": "3.9.12"
  }
 },
 "nbformat": 4,
 "nbformat_minor": 5
}
