{
 "cells": [
  {
   "cell_type": "markdown",
   "id": "7a84d271-553b-4ad7-8866-ce6085814706",
   "metadata": {},
   "source": [
    "## Importing Libraries"
   ]
  },
  {
   "cell_type": "code",
   "execution_count": 6,
   "id": "92a80fee-1987-4e38-afd4-263c6c4702df",
   "metadata": {},
   "outputs": [],
   "source": [
    "import cv2\n",
    "import cvzone\n",
    "import numpy as np"
   ]
  },
  {
   "cell_type": "markdown",
   "id": "841d6746-ebd5-43c9-8624-cbf45754177b",
   "metadata": {},
   "source": [
    "#### Creating OpenCV window for object detection "
   ]
  },
  {
   "cell_type": "code",
   "execution_count": 2,
   "id": "d6bed951-ed01-4a51-9fe7-c12210c38a86",
   "metadata": {},
   "outputs": [],
   "source": [
    "import cv2\n",
    "import numpy as np\n",
    "\n",
    "cap = cv2.VideoCapture(\"D:\\\\o-source\\\\GSSoC'24\\\\UAV Car Detection\\\\Dataset\\\\traffic.mp4\")\n",
    "\n",
    "cap.set(cv2.CAP_PROP_FRAME_WIDTH, 640)\n",
    "cap.set(cv2.CAP_PROP_FRAME_HEIGHT, 480)\n",
    "\n",
    "algo = cv2.createBackgroundSubtractorMOG2()\n",
    "\n",
    "min_width_rect = 20\n",
    "min_height_rect = 20\n",
    "\n",
    "while True:\n",
    "    success, frame = cap.read()\n",
    "    if not success:\n",
    "        print(\"Video analysis successful\")\n",
    "        break\n",
    "    \n",
    "    grey = cv2.cvtColor(frame, cv2.COLOR_BGR2GRAY)\n",
    "    blur = cv2.GaussianBlur(grey, (3, 3), 5)\n",
    "    \n",
    "    img_sub = algo.apply(blur)\n",
    "    dilat = cv2.dilate(img_sub, np.ones((5, 5), np.uint8))\n",
    "    kernel = cv2.getStructuringElement(cv2.MORPH_ELLIPSE, (5, 5))\n",
    "    dil = cv2.morphologyEx(dilat, cv2.MORPH_CLOSE, kernel)\n",
    "    dil = cv2.morphologyEx(dil, cv2.MORPH_CLOSE, kernel)\n",
    "    \n",
    "    contours, _ = cv2.findContours(dil, cv2.RETR_TREE, cv2.CHAIN_APPROX_SIMPLE)\n",
    "    \n",
    "    for c in contours:\n",
    "        (x, y, w, h) = cv2.boundingRect(c)\n",
    "        validate_counter = (w >= min_width_rect) and (h >= min_height_rect)\n",
    "        if not validate_counter:\n",
    "            continue\n",
    "        \n",
    "        cv2.rectangle(frame, (x, y), (x + w, y + h), (0, 0, 255), 2)\n",
    "        cv2.putText(frame, \"Car Detected\", (x, y - 10), cv2.FONT_HERSHEY_SIMPLEX, 0.5, (0, 255, 0), 2)\n",
    "    \n",
    "    cv2.imshow(\"Cars\", frame)\n",
    "    cv2.imshow(\"Processed\", dil)\n",
    "    \n",
    "    if cv2.waitKey(1) & 0xFF == ord('q'):\n",
    "        break\n",
    "\n",
    "cap.release()\n",
    "cv2.destroyAllWindows()"
   ]
  }
 ],
 "metadata": {
  "kernelspec": {
   "display_name": "Python 3 (ipykernel)",
   "language": "python",
   "name": "python3"
  },
  "language_info": {
   "codemirror_mode": {
    "name": "ipython",
    "version": 3
   },
   "file_extension": ".py",
   "mimetype": "text/x-python",
   "name": "python",
   "nbconvert_exporter": "python",
   "pygments_lexer": "ipython3",
   "version": "3.12.3"
  }
 },
 "nbformat": 4,
 "nbformat_minor": 5
}
