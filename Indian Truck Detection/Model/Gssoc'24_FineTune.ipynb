{
  "nbformat": 4,
  "nbformat_minor": 0,
  "metadata": {
    "colab": {
      "provenance": []
    },
    "kernelspec": {
      "name": "python3",
      "display_name": "Python 3"
    },
    "language_info": {
      "name": "python"
    }
  },
  "cells": [
    {
      "cell_type": "code",
      "execution_count": 3,
      "metadata": {
        "colab": {
          "base_uri": "https://localhost:8080/"
        },
        "id": "7G8sp8ET4qaB",
        "outputId": "82a08e60-7d90-43fc-f623-f22ff8a1017c"
      },
      "outputs": [
        {
          "output_type": "stream",
          "name": "stdout",
          "text": [
            "Drive already mounted at /content/drive; to attempt to forcibly remount, call drive.mount(\"/content/drive\", force_remount=True).\n"
          ]
        }
      ],
      "source": [
        "from google.colab import drive\n",
        "drive.mount('/content/drive')"
      ]
    },
    {
      "cell_type": "code",
      "source": [],
      "metadata": {
        "id": "F9KS-nfZRxqL"
      },
      "execution_count": null,
      "outputs": []
    },
    {
      "cell_type": "code",
      "source": [
        "import os\n",
        "\n",
        "# Define the path to the image folder in Google Drive\n",
        "image_folder_path = \"/content/drive/MyDrive/Dataset_truck\"  # Update this path accordingly\n",
        "\n",
        "# Function to recursively print the contents of a directory\n",
        "def print_directory_contents(folder_path):\n",
        "    for root, dirs, files in os.walk(folder_path):\n",
        "        print(f\"Directory: {root}\")\n",
        "        print(\"Files:\")\n",
        "        for file in files:\n",
        "            print(f\"\\t{file}\")\n",
        "\n",
        "# Print the contents of the image folder\n",
        "print_directory_contents(image_folder_path)\n"
      ],
      "metadata": {
        "id": "hwg7e0zq5KuT",
        "colab": {
          "base_uri": "https://localhost:8080/"
        },
        "outputId": "eb887abd-f2e1-41c2-fc6d-0740e9e294bd"
      },
      "execution_count": null,
      "outputs": [
        {
          "output_type": "stream",
          "name": "stdout",
          "text": [
            "Directory: /content/drive/MyDrive/Dataset_truck\n",
            "Files:\n",
            "Directory: /content/drive/MyDrive/Dataset_truck/test_data\n",
            "Files:\n",
            "Directory: /content/drive/MyDrive/Dataset_truck/test_data/truck\n",
            "Files:\n",
            "\t00000194.JPG\n",
            "\t00000176.jpg\n",
            "\t00000175.jpg\n",
            "\t00000191.jpg\n",
            "\t00000180.jpg\n",
            "\t00000196.jpg\n",
            "\t00000189.jpg\n",
            "\t00000180 (2).jpg\n",
            "\t00000192.jpg\n",
            "\t00000181.jpg\n",
            "\t00000183.jpg\n",
            "\t00000200.jpg\n",
            "\t00000188.jpg\n",
            "\t00000198.jpg\n",
            "\t00000190.jpg\n",
            "\t00000195.jpg\n",
            "\t00000187.jpg\n",
            "\t00000197.jpg\n",
            "\t00000193.jpg\n",
            "\t00000186.jpg\n",
            "\t00000178.jpg\n",
            "\t00000182.jpg\n",
            "\t00000179.png\n",
            "\t00000185.jpg\n",
            "\t00000202.jpg\n",
            "\t00000184.jpg\n",
            "\t00000201.jpg\n",
            "\t00000203.jpg\n",
            "\t00000184 (2).jpg\n",
            "\t00000231.jpg\n",
            "\t00000233.jpg\n",
            "\t00000217 (2).jpg\n",
            "\t00000227.jpg\n",
            "\t00000215.jpg\n",
            "\t00000219.jpg\n",
            "\t00000223.jpg\n",
            "\t00000212.jpg\n",
            "\t00000210.JPG\n",
            "\t00000221.png\n",
            "\t00000221.jpg\n",
            "\t00000216.jpg\n",
            "\t00000224.jpg\n",
            "\t00000222.jpg\n",
            "\t00000228.jpg\n",
            "\t00000230.jpg\n",
            "\t00000218.jpg\n",
            "\t00000214.jpg\n",
            "\t00000208.jpg\n",
            "\t00000205.jpg\n",
            "\t00000235.jpg\n",
            "\t00000218 (2).jpg\n",
            "\t00000212 (2).jpg\n",
            "\t00000229.jpg\n",
            "\t00000236.jpg\n",
            "\t00000225.jpg\n",
            "\t00000232.jpg\n",
            "\t00000207.jpg\n",
            "\t00000211.jpg\n",
            "\t00000230 (2).jpg\n",
            "\t00000206.jpg\n",
            "\t00000209.jpg\n",
            "\t00000217.jpg\n",
            "\t00000238.jpg\n",
            "\t00000262.jpg\n",
            "\t00000251.jpg\n",
            "\t00000254.jpg\n",
            "\t00000253.jpg\n",
            "\t00000242.jpg\n",
            "\t00000247 (2).jpg\n",
            "\t00000244.jpg\n",
            "\t00000252.jpg\n",
            "\t00000247.jpg\n",
            "\t00000246.jpg\n",
            "\t00000241 (2).jpg\n",
            "\t00000263.jpg\n",
            "\t00000240.jpg\n",
            "\t00000250.jpg\n",
            "\t00000259.jpg\n",
            "\t00000265.jpg\n",
            "\t00000243.jpg\n",
            "\t00000237.jpg\n",
            "\t00000238 (2).jpg\n",
            "\t00000264.jpg\n",
            "\t00000253 (2).jpg\n",
            "\t00000249.jpg\n",
            "\t00000239.jpg\n",
            "\t00000257.jpg\n",
            "\t00000260.jpg\n",
            "\t00000258.jpg\n",
            "\t00000248.jpg\n",
            "\t00000261.jpg\n",
            "\t00000256.jpg\n",
            "\t00000246 (2).jpg\n",
            "\t00000255.jpg\n",
            "\t00000241.jpg\n",
            "\t00000266.jpg\n",
            "\t00000271.jpg\n",
            "\t00000279.jpg\n",
            "\t00000289.jpg\n",
            "\t00000285.jpg\n",
            "\t00000275.jpg\n",
            "\t00000291.jpg\n",
            "\t00000277.jpg\n",
            "\t00000267.jpg\n",
            "\t00000272.jpg\n",
            "\t00000284.jpg\n",
            "\t00000270.jpg\n",
            "\t00000282.jpg\n",
            "\t00000278.jpg\n",
            "\t00000268.jpg\n",
            "\t00000276.jpg\n",
            "\t00000287.jpg\n",
            "\t00000288 (2).jpg\n",
            "\t00000273.jpg\n",
            "\t00000295.jpg\n",
            "\t00000281.jpg\n",
            "\t00000294.jpg\n",
            "\t00000290.jpg\n",
            "\t00000296.jpg\n",
            "\t00000293.jpg\n",
            "\t00000298.jpg\n",
            "\t00000292.jpg\n",
            "\t00000269.jpg\n",
            "\t00000282 (2).jpg\n",
            "\t00000283.jpg\n",
            "\t00000274.jpg\n",
            "\t00000288.jpg\n",
            "\t00000280.jpg\n",
            "\t00000286.jpg\n",
            "\t00000297.jpg\n",
            "\t00000309.jpg\n",
            "\t00000330.jpg\n",
            "\t00000300.jpg\n",
            "\t00000325.jpg\n",
            "\t00000315.JPG\n",
            "\t00000322.jpg\n",
            "\t00000326.jpg\n",
            "\t00000308.jpg\n",
            "\t00000306.jpg\n",
            "\t00000316.jpg\n",
            "\t00000333.jpg\n",
            "\t00000301.jpg\n",
            "\t00000304.jpg\n",
            "\t00000312.jpg\n",
            "\t00000299.jpg\n",
            "\t00000321.jpg\n",
            "\t00000302.jpg\n",
            "\t00000327.jpg\n",
            "\t00000332.jpg\n",
            "\t00000313.jpg\n",
            "\t00000310.jpg\n",
            "\t00000331.png\n",
            "\t00000328.jpg\n",
            "\t00000329.jpg\n",
            "\t00000307.jpeg\n",
            "\t00000303.jpg\n",
            "\t00000317.jpg\n",
            "\t00000319.jpg\n",
            "\t00000311.jpg\n",
            "\t00000314.jpg\n",
            "\t00000320.png\n",
            "\t00000318.jpg\n",
            "\t00000323.jpg\n",
            "\t00000324.jpg\n",
            "\t00000338.jpg\n",
            "\t00000360.jpg\n",
            "\t00000358.jpg\n",
            "\t00000341.jpg\n",
            "\t00000347.jpg\n",
            "\t00000364.jpg\n",
            "\t00000337.jpg\n",
            "\t00000351.jpg\n",
            "\t00000343.jpg\n",
            "\t00000359.jpg\n",
            "\t00000361.jpg\n",
            "\t00000346.JPG\n",
            "\t00000350.jpg\n",
            "\t00000344.jpg\n",
            "\t00000366.jpg\n",
            "\t00000342.jpg\n",
            "\t00000335.jpg\n",
            "\t00000353.jpg\n",
            "\t00000368.jpg\n",
            "\t00000362.jpg\n",
            "\t00000365.jpg\n",
            "\t00000334.jpg\n",
            "\t00000356.jpg\n",
            "\t00000340.jpg\n",
            "\t00000363.jpg\n",
            "\t00000357.jpg\n",
            "\t00000348.jpg\n",
            "\t00000349.jpg\n",
            "\t00000352.jpg\n",
            "\t00000354.jpg\n",
            "\t00000355.jpg\n",
            "\t00000345.jpg\n",
            "\t00000380.jpg\n",
            "\t00000377.jpg\n",
            "\t00000395.jpg\n",
            "\t00000370.jpg\n",
            "\t00000376.jpg\n",
            "\t00000378.JPG\n",
            "\t00000392.jpg\n",
            "\t00000388.jpg\n",
            "\t00000382.jpg\n",
            "\t00000379.jpg\n",
            "\t00000390.jpg\n",
            "\t00000386.jpg\n",
            "\t00000381.jpg\n",
            "\t00000383.jpg\n",
            "\t00000394.jpg\n",
            "\t00000393.jpg\n",
            "\t00000384.jpg\n",
            "\t00000369.jpg\n",
            "\t00000389.jpg\n",
            "Directory: /content/drive/MyDrive/Dataset_truck/train_data\n",
            "Files:\n",
            "Directory: /content/drive/MyDrive/Dataset_truck/train_data/truck\n",
            "Files:\n",
            "\t00000011 (2).jpg\n",
            "\t00000010.jpg\n",
            "\t00000008.jpg\n",
            "\t00000000 (2).jpg\n",
            "\t00000001 (2).jpg\n",
            "\t00000011.jpg\n",
            "\t00000003 (2).jpg\n",
            "\t00000012.jpg\n",
            "\t00000005 (2).jpg\n",
            "\t00000004 (2).jpg\n",
            "\t00000005.jpg\n",
            "\t00000001.jpg\n",
            "\t00000008.png\n",
            "\t00000006.jpg\n",
            "\t00000012 (2).jpg\n",
            "\t00000004.jpg\n",
            "\t00000007 (2).jpg\n",
            "\t00000002 (2).jpg\n",
            "\t00000013.jpg\n",
            "\t00000002.jpg\n",
            "\t00000003.jpg\n",
            "\t00000015.JPG\n",
            "\t00000007.jpg\n",
            "\t00000014.jpg\n",
            "\t00000006.jpeg\n",
            "\t00000009.jpg\n",
            "\t00000000.jpg\n",
            "\t00000020.jpg\n",
            "\t00000022 (2).jpg\n",
            "\t00000019.jpg\n",
            "\t00000033 (2).jpg\n",
            "\t00000018 (2).jpg\n",
            "\t00000016.jpg\n",
            "\t00000016 (2).jpg\n",
            "\t00000029.jpg\n",
            "\t00000032.jpg\n",
            "\t00000036 (2).jpg\n",
            "\t00000034.jpg\n",
            "\t00000023.png\n",
            "\t00000019 (2).jpg\n",
            "\t00000031.jpg\n",
            "\t00000021.jpg\n",
            "\t00000023.jpg\n",
            "\t00000021 (2).jpg\n",
            "\t00000018.jpg\n",
            "\t00000017.jpg\n",
            "\t00000035.jpg\n",
            "\t00000030.jpg\n",
            "\t00000027.jpg\n",
            "\t00000026.jpg\n",
            "\t00000025.jpg\n",
            "\t00000022.jpg\n",
            "\t00000030.png\n",
            "\t00000024 (2).jpg\n",
            "\t00000028.jpg\n",
            "\t00000033.jpg\n",
            "\t00000017 (2).jpg\n",
            "\t00000024.jpg\n",
            "\t00000049.jpg\n",
            "\t00000047.jpg\n",
            "\t00000043.jpg\n",
            "\t00000044 (2).jpg\n",
            "\t00000056.jpg\n",
            "\t00000054.jpg\n",
            "\t00000059 (2).jpg\n",
            "\t00000037.jpg\n",
            "\t00000044.jpg\n",
            "\t00000042.jpg\n",
            "\t00000052 (2).jpg\n",
            "\t00000036.jpg\n",
            "\t00000038.jpg\n",
            "\t00000051.jpg\n",
            "\t00000039.jpg\n",
            "\t00000049 (2).jpg\n",
            "\t00000053.jpg\n",
            "\t00000048 (2).jpg\n",
            "\t00000038 (2).jpg\n",
            "\t00000040 (2).jpg\n",
            "\t00000052.jpg\n",
            "\t00000039 (2).jpg\n",
            "\t00000045 (2).jpg\n",
            "\t00000059.jpg\n",
            "\t00000046.jpg\n",
            "\t00000057 (2).jpg\n",
            "\t00000045.jpg\n",
            "\t00000058.jpg\n",
            "\t00000041.jpg\n",
            "\t00000055.jpg\n",
            "\t00000053 (2).jpg\n",
            "\t00000057.jpg\n",
            "\t00000050.jpg\n",
            "\t00000058 (2).jpg\n",
            "\t00000040.jpg\n",
            "\t00000048.jpg\n",
            "\t00000072 (2).jpg\n",
            "\t00000074.jpg\n",
            "\t00000075.jpg\n",
            "\t00000061 (2).jpg\n",
            "\t00000068.jpg\n",
            "\t00000073.jpg\n",
            "\t00000063.jpg\n",
            "\t00000080.jpg\n",
            "\t00000070 (2).jpg\n",
            "\t00000067.jpg\n",
            "\t00000078.jpg\n",
            "\t00000065.jpg\n",
            "\t00000076.jpg\n",
            "\t00000066.jpg\n",
            "\t00000078 (2).jpg\n",
            "\t00000064 (2).jpg\n",
            "\t00000072.jpg\n",
            "\t00000066 (2).jpg\n",
            "\t00000062.jpg\n",
            "\t00000081 (2).jpg\n",
            "\t00000071.jpg\n",
            "\t00000061.jpg\n",
            "\t00000071 (2).jpg\n",
            "\t00000079.jpg\n",
            "\t00000064.jpg\n",
            "\t00000077.jpg\n",
            "\t00000062 (2).jpg\n",
            "\t00000067 (2).jpg\n",
            "\t00000060.jpg\n",
            "\t00000070.jpg\n",
            "\t00000069 (2).jpg\n",
            "\t00000073 (2).jpg\n",
            "\t00000069.jpg\n",
            "\t00000098.jpg\n",
            "\t00000093.jpg\n",
            "\t00000099 (2).jpg\n",
            "\t00000092.jpg\n",
            "\t00000097.jpg\n",
            "\t00000088 (2).jpg\n",
            "\t00000090.jpg\n",
            "\t00000081.jpg\n",
            "\t00000095 (2).jpg\n",
            "\t00000089.jpg\n",
            "\t00000084.jpg\n",
            "\t00000094.jpg\n",
            "\t00000083.jpg\n",
            "\t00000087.jpg\n",
            "\t00000082.jpg\n",
            "\t00000098 (2).jpg\n",
            "\t00000096 (2).jpg\n",
            "\t00000086.jpg\n",
            "\t00000087 (2).jpg\n",
            "\t00000095.jpg\n",
            "\t00000088.jpg\n",
            "\t00000096.jpg\n",
            "\t00000091.jpg\n",
            "Directory: /content/drive/MyDrive/Dataset_truck/validation_data\n",
            "Files:\n",
            "Directory: /content/drive/MyDrive/Dataset_truck/validation_data/truck\n",
            "Files:\n",
            "\t00000102.jpg\n",
            "\t00000101.jpg\n",
            "\t00000101 (2).jpg\n",
            "\t00000099.jpg\n",
            "\t00000100.jpg\n",
            "\t00000103.jpg\n",
            "\t00000110.jpg\n",
            "\t00000111.jpg\n",
            "\t00000128 (2).jpg\n",
            "\t00000117 (2).jpg\n",
            "\t00000113.jpg\n",
            "\t00000121.jpg\n",
            "\t00000119.jpg\n",
            "\t00000114 (2).jpg\n",
            "\t00000104.jpg\n",
            "\t00000112.jpg\n",
            "\t00000117.jpg\n",
            "\t00000114.jpg\n",
            "\t00000105.jpg\n",
            "\t00000120.jpg\n",
            "\t00000109.jpg\n",
            "\t00000127.JPG\n",
            "\t00000116.jpg\n",
            "\t00000105 (2).jpg\n",
            "\t00000124 (2).jpg\n",
            "\t00000129.jpg\n",
            "\t00000131.jpg\n",
            "\t00000123.jpg\n",
            "\t00000130 (2).jpg\n",
            "\t00000130.jpg\n",
            "\t00000121 (2).jpg\n",
            "\t00000122.jpg\n",
            "\t00000125.jpg\n",
            "\t00000115.jpg\n",
            "\t00000126.jpg\n",
            "\t00000118.jpg\n",
            "\t00000107.jpg\n",
            "\t00000128.jpg\n",
            "\t00000146.jpg\n",
            "\t00000132 (2).jpg\n",
            "\t00000132.jpg\n",
            "\t00000143 (2).jpg\n",
            "\t00000144.jpg\n",
            "\t00000141 (2).jpg\n",
            "\t00000142.jpg\n",
            "\t00000144 (2).jpg\n",
            "\t00000141.jpg\n",
            "\t00000139.jpg\n",
            "\t00000135.jpg\n",
            "\t00000145.jpg\n",
            "\t00000143.jpg\n",
            "\t00000136.jpg\n",
            "\t00000145 (2).jpg\n",
            "\t00000140 (2).jpg\n",
            "\t00000137 (2).jpg\n",
            "\t00000134.jpg\n",
            "\t00000137.jpg\n",
            "\t00000133 (2).jpg\n",
            "\t00000138.jpg\n",
            "\t00000140.jpg\n",
            "\t00000133.jpg\n",
            "\t00000147 (2).jpg\n",
            "\t00000142 (2).jpg\n",
            "\t00000139 (2).jpg\n",
            "\t00000146 (2).jpg\n",
            "\t00000152.jpg\n",
            "\t00000154 (2).jpg\n",
            "\t00000163.jpg\n",
            "\t00000150 (2).jpg\n",
            "\t00000164.jpg\n",
            "\t00000151.jpg\n",
            "\t00000168.jpg\n",
            "\t00000165.jpg\n",
            "\t00000158 (2).jpg\n",
            "\t00000160 (2).jpg\n",
            "\t00000167 (2).jpg\n",
            "\t00000166 (2).jpg\n",
            "\t00000162.jpg\n",
            "\t00000152 (2).jpg\n",
            "\t00000149 (2).jpg\n",
            "\t00000170.jpg\n",
            "\t00000160.jpg\n",
            "\t00000172.jpg\n",
            "\t00000157.jpg\n",
            "\t00000153.jpg\n",
            "\t00000161.jpg\n",
            "\t00000154.jpg\n",
            "\t00000147.jpg\n",
            "\t00000151 (2).jpg\n",
            "\t00000153 (2).jpg\n",
            "\t00000158.jpg\n",
            "\t00000148.jpg\n",
            "\t00000159.jpg\n",
            "\t00000167.jpg\n",
            "\t00000155.jpg\n",
            "\t00000150.jpg\n",
            "\t00000148 (2).jpg\n",
            "\t00000149.jpg\n",
            "\t00000166.jpg\n",
            "\t00000156.jpg\n",
            "\t00000174.jpg\n"
          ]
        }
      ]
    },
    {
      "cell_type": "code",
      "source": [
        "import os\n",
        "import numpy as np\n",
        "import tensorflow as tf\n",
        "from tensorflow.keras.preprocessing.image import load_img, img_to_array\n",
        "\n",
        "# Define the path to the image folder in Google Drive\n",
        "image_folder_path = \"/content/drive/MyDrive/Dataset_truck/test_data\"  # Update this path accordingly\n",
        "\n",
        "# Get a list of all files in the directory\n",
        "all_files = os.listdir(image_folder_path)\n",
        "\n",
        "# Filter only the image files\n",
        "image_files = [file for file in all_files if file.lower().endswith(('.png', '.jpg', '.jpeg'))]\n",
        "\n",
        "# Load images and convert them to arrays\n",
        "images = []\n",
        "for image_file in image_files:\n",
        "    image_path = os.path.join(image_folder_path, image_file)\n",
        "    try:\n",
        "        img = load_img(image_path, target_size=(150, 150))  # Adjust target_size as needed\n",
        "        img_array = img_to_array(img) / 255.0  # Rescale pixel values to [0, 1]\n",
        "        images.append(img_array)\n",
        "    except Exception as e:\n",
        "        print(f\"Error loading image {image_path}: {e}\")\n",
        "\n",
        "# Convert the list of images to a NumPy array\n",
        "images = np.array(images)\n",
        "\n",
        "# Print the number of loaded images\n",
        "print(f\"Number of images loaded: {len(images)}\")\n",
        "\n",
        "# Example: Accessing one image from the array\n",
        "if len(images) > 0:\n",
        "    example_image = images[0]\n",
        "    print(f\"Shape of the example image: {example_image.shape}\")\n"
      ],
      "metadata": {
        "colab": {
          "base_uri": "https://localhost:8080/"
        },
        "id": "Bcxu56CZ8tWn",
        "outputId": "727908a3-565b-4a82-afa0-a9a0793417fd"
      },
      "execution_count": null,
      "outputs": [
        {
          "output_type": "stream",
          "name": "stdout",
          "text": [
            "Number of images loaded: 0\n"
          ]
        }
      ]
    },
    {
      "cell_type": "code",
      "source": [
        "import pandas as pd\n",
        "import numpy as np\n",
        "import os\n",
        "import shutil\n",
        "from tensorflow import keras\n",
        "import cv2"
      ],
      "metadata": {
        "id": "4eUpapu4HiWE"
      },
      "execution_count": null,
      "outputs": []
    },
    {
      "cell_type": "code",
      "source": [
        "from imutils import paths\n",
        "from pathlib import Path"
      ],
      "metadata": {
        "id": "uxQEx--HI3-r"
      },
      "execution_count": null,
      "outputs": []
    },
    {
      "cell_type": "code",
      "source": [
        "images_path = Path(r\"/content/drive/MyDrive/Dataset_truck\")\n",
        "trucks_data = list(paths.list_images(images_path))"
      ],
      "metadata": {
        "id": "F-cjwkZgJB6h"
      },
      "execution_count": null,
      "outputs": []
    },
    {
      "cell_type": "code",
      "source": [
        "trucks_data[0:6]"
      ],
      "metadata": {
        "colab": {
          "base_uri": "https://localhost:8080/"
        },
        "id": "slqxxXIqJLWq",
        "outputId": "95ba7106-42d4-4907-f89a-7cfbbb339639"
      },
      "execution_count": null,
      "outputs": [
        {
          "output_type": "execute_result",
          "data": {
            "text/plain": [
              "['/content/drive/MyDrive/Dataset_truck/test_data/truck/00000194.JPG',\n",
              " '/content/drive/MyDrive/Dataset_truck/test_data/truck/00000176.jpg',\n",
              " '/content/drive/MyDrive/Dataset_truck/test_data/truck/00000175.jpg',\n",
              " '/content/drive/MyDrive/Dataset_truck/test_data/truck/00000191.jpg',\n",
              " '/content/drive/MyDrive/Dataset_truck/test_data/truck/00000180.jpg',\n",
              " '/content/drive/MyDrive/Dataset_truck/test_data/truck/00000196.jpg']"
            ]
          },
          "metadata": {},
          "execution_count": 9
        }
      ]
    },
    {
      "cell_type": "code",
      "source": [
        "truck_image_data = pd.Series(trucks_data, name=\"JPG\").astype(str)"
      ],
      "metadata": {
        "id": "5z6aVQZHJWB_"
      },
      "execution_count": null,
      "outputs": []
    },
    {
      "cell_type": "code",
      "source": [
        "truck_image_data.head()"
      ],
      "metadata": {
        "id": "lhom1o9dJaJr",
        "colab": {
          "base_uri": "https://localhost:8080/"
        },
        "outputId": "6072f824-9cb9-4c53-a381-040a56f6dea0"
      },
      "execution_count": null,
      "outputs": [
        {
          "output_type": "execute_result",
          "data": {
            "text/plain": [
              "0    /content/drive/MyDrive/Dataset_truck/test_data...\n",
              "1    /content/drive/MyDrive/Dataset_truck/test_data...\n",
              "2    /content/drive/MyDrive/Dataset_truck/test_data...\n",
              "3    /content/drive/MyDrive/Dataset_truck/test_data...\n",
              "4    /content/drive/MyDrive/Dataset_truck/test_data...\n",
              "Name: JPG, dtype: object"
            ]
          },
          "metadata": {},
          "execution_count": 11
        }
      ]
    },
    {
      "cell_type": "code",
      "source": [
        "import matplotlib.pyplot as plt"
      ],
      "metadata": {
        "id": "l1QrjOQ7JdwJ"
      },
      "execution_count": null,
      "outputs": []
    },
    {
      "cell_type": "code",
      "source": [
        "import cv2\n",
        "import matplotlib.pyplot as plt\n",
        "\n",
        "# Read the image in grayscale\n",
        "image_path = \"/content/drive/MyDrive/Dataset_truck/test_data/00000176.jpg\"\n",
        "truck_image = cv2.imread(image_path, cv2.IMREAD_GRAYSCALE)\n",
        "\n",
        "# Check if the image was loaded correctly\n",
        "if truck_image is None:\n",
        "    print(f\"Error: Could not load image from {image_path}\")\n",
        "else:\n",
        "    # Display the image shape and dtype for verification\n",
        "    print(f\"Image shape: {truck_image.shape}, dtype: {truck_image.dtype}\")\n",
        "\n",
        "    # Convert image to float32 if needed\n",
        "    if truck_image.dtype == 'object':\n",
        "        truck_image = truck_image.astype('float32')\n",
        "\n",
        "    # Display the image using matplotlib\n",
        "    plt.imshow(truck_image, cmap='gray')\n",
        "    plt.axis('off')  # Hide axis\n",
        "    plt.show()"
      ],
      "metadata": {
        "id": "2thUsTv6JjOp",
        "colab": {
          "base_uri": "https://localhost:8080/"
        },
        "outputId": "4518a52c-887d-4893-81ba-a8f03c56ede5"
      },
      "execution_count": null,
      "outputs": [
        {
          "output_type": "stream",
          "name": "stdout",
          "text": [
            "Error: Could not load image from /content/drive/MyDrive/Dataset_truck/test_data/00000176.jpg\n"
          ]
        }
      ]
    },
    {
      "cell_type": "code",
      "source": [
        "from skimage.morphology import skeletonize"
      ],
      "metadata": {
        "id": "phHMwLkWJ3uK"
      },
      "execution_count": null,
      "outputs": []
    },
    {
      "cell_type": "code",
      "source": [
        "def simple_vision(img_path):\n",
        "    Picking_Img = cv2.cvtColor(cv2.imread(img_path),cv2.COLOR_BGR2RGB)\n",
        "    return Picking_Img\n",
        "\n",
        "def skeleton_morph_vision(img_path):\n",
        "    Picking_Img = simple_vision(img_path)\n",
        "    Gray_Img = cv2.cvtColor(Picking_Img,cv2.COLOR_RGB2GRAY)\n",
        "    _,Threshold_Img = cv2.threshold(Gray_Img,90,255,cv2.THRESH_BINARY_INV)\n",
        "\n",
        "    Array_Img = np.array(Gray_Img > Threshold_Img).astype(int)\n",
        "    Skeleton_Img = skeletonize(Array_Img)\n",
        "\n",
        "    return Skeleton_Img\n",
        "\n",
        "def threshold_vision(img_path):\n",
        "    Picking_Img = simple_vision(img_path)\n",
        "    Gray_Img = cv2.cvtColor(Picking_Img,cv2.COLOR_RGB2GRAY)\n",
        "    _,threshold_Img = cv2.threshold(Gray_Img,90,255,cv2.THRESH_BINARY_INV)\n",
        "\n",
        "    return threshold_Img\n",
        "\n",
        "def canny_vision(img_path):\n",
        "    Threshold_Img = threshold_vision(img_path)\n",
        "    Canny_Img = cv2.Canny(Threshold_Img,10,100)\n",
        "\n",
        "    return Canny_Img"
      ],
      "metadata": {
        "id": "RyTaSHDOLFZE"
      },
      "execution_count": null,
      "outputs": []
    },
    {
      "cell_type": "code",
      "source": [
        "import random\n",
        "number = random.randint(0, 466)\n",
        "global truck_label\n",
        "truck_label = \"Indian Truck\""
      ],
      "metadata": {
        "id": "7AACMN4JLGqf"
      },
      "execution_count": null,
      "outputs": []
    },
    {
      "cell_type": "code",
      "source": [
        "figure,axis = plt.subplots(nrows=1,ncols=2,figsize=(10,10))\n",
        "\n",
        "Skel_Img = skeleton_morph_vision(truck_image_data[number])\n",
        "Simple_Img = simple_vision(truck_image_data[number])\n",
        "\n",
        "axis[0].imshow(Skel_Img)\n",
        "axis[0].set_xlabel(Skel_Img.shape)\n",
        "axis[0].set_ylabel(Skel_Img.size)\n",
        "axis[0].set_title(truck_label)\n",
        "axis[1].imshow(Simple_Img)\n",
        "axis[1].set_xlabel(Simple_Img.shape)\n",
        "axis[1].set_ylabel(Simple_Img.size)\n",
        "axis[1].set_title(truck_label)"
      ],
      "metadata": {
        "id": "lR4AuaK1LKAT",
        "colab": {
          "base_uri": "https://localhost:8080/",
          "height": 305
        },
        "outputId": "d065f9fc-eca2-4b51-d42e-88d660a8a069"
      },
      "execution_count": null,
      "outputs": [
        {
          "output_type": "execute_result",
          "data": {
            "text/plain": [
              "Text(0.5, 1.0, 'Indian Truck')"
            ]
          },
          "metadata": {},
          "execution_count": 17
        },
        {
          "output_type": "display_data",
          "data": {
            "text/plain": [
              "<Figure size 1000x1000 with 2 Axes>"
            ],
            "image/png": "[encoded data removed]"
          },
          "metadata": {}
        }
      ]
    },
    {
      "cell_type": "code",
      "source": [
        "from keras.preprocessing.image import ImageDataGenerator\n",
        "from keras.utils import img_to_array, array_to_img"
      ],
      "metadata": {
        "id": "N3yuyFLdLNmS"
      },
      "execution_count": null,
      "outputs": []
    },
    {
      "cell_type": "code",
      "source": [
        "cv2.imread(truck_image_data[number])"
      ],
      "metadata": {
        "id": "AhrZ3qBPLQi-",
        "colab": {
          "base_uri": "https://localhost:8080/",
          "height": 543
        },
        "outputId": "7a32bae8-dd5d-46b2-b28d-bf2c8ea2f301"
      },
      "execution_count": null,
      "outputs": [
        {
          "output_type": "execute_result",
          "data": {
            "text/plain": [
              "array([[[247, 247, 247],\n",
              "        [247, 247, 247],\n",
              "        [247, 247, 247],\n",
              "        ...,\n",
              "        [247, 247, 247],\n",
              "        [247, 247, 247],\n",
              "        [247, 247, 247]],\n",
              "\n",
              "       [[247, 247, 247],\n",
              "        [247, 247, 247],\n",
              "        [247, 247, 247],\n",
              "        ...,\n",
              "        [247, 247, 247],\n",
              "        [247, 247, 247],\n",
              "        [247, 247, 247]],\n",
              "\n",
              "       [[247, 247, 247],\n",
              "        [247, 247, 247],\n",
              "        [247, 247, 247],\n",
              "        ...,\n",
              "        [247, 247, 247],\n",
              "        [247, 247, 247],\n",
              "        [247, 247, 247]],\n",
              "\n",
              "       ...,\n",
              "\n",
              "       [[247, 247, 247],\n",
              "        [247, 247, 247],\n",
              "        [247, 247, 247],\n",
              "        ...,\n",
              "        [247, 247, 247],\n",
              "        [247, 247, 247],\n",
              "        [247, 247, 247]],\n",
              "\n",
              "       [[247, 247, 247],\n",
              "        [247, 247, 247],\n",
              "        [247, 247, 247],\n",
              "        ...,\n",
              "        [247, 247, 247],\n",
              "        [247, 247, 247],\n",
              "        [247, 247, 247]],\n",
              "\n",
              "       [[247, 247, 247],\n",
              "        [247, 247, 247],\n",
              "        [247, 247, 247],\n",
              "        ...,\n",
              "        [247, 247, 247],\n",
              "        [247, 247, 247],\n",
              "        [247, 247, 247]]], dtype=uint8)"
            ],
            "text/html": [
              "<style>\n",
              "      .ndarray_repr .ndarray_raw_data {\n",
              "        display: none;\n",
              "      }\n",
              "      .ndarray_repr.show_array .ndarray_raw_data {\n",
              "        display: block;\n",
              "      }\n",
              "      .ndarray_repr.show_array .ndarray_image_preview {\n",
              "        display: none;\n",
              "      }\n",
              "      </style>\n",
              "      <div id=\"id-5b5afb25-e4cf-4d8a-af3f-a5afbbbf7acc\" class=\"ndarray_repr\"><pre>ndarray (484, 920, 3) <button style=\"padding: 0 2px;\">show data</button></pre><img src=\"data:image/png;base64,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\" class=\"ndarray_image_preview\" /><pre class=\"ndarray_raw_data\">array([[[247, 247, 247],\n",
              "        [247, 247, 247],\n",
              "        [247, 247, 247],\n",
              "        ...,\n",
              "        [247, 247, 247],\n",
              "        [247, 247, 247],\n",
              "        [247, 247, 247]],\n",
              "\n",
              "       [[247, 247, 247],\n",
              "        [247, 247, 247],\n",
              "        [247, 247, 247],\n",
              "        ...,\n",
              "        [247, 247, 247],\n",
              "        [247, 247, 247],\n",
              "        [247, 247, 247]],\n",
              "\n",
              "       [[247, 247, 247],\n",
              "        [247, 247, 247],\n",
              "        [247, 247, 247],\n",
              "        ...,\n",
              "        [247, 247, 247],\n",
              "        [247, 247, 247],\n",
              "        [247, 247, 247]],\n",
              "\n",
              "       ...,\n",
              "\n",
              "       [[247, 247, 247],\n",
              "        [247, 247, 247],\n",
              "        [247, 247, 247],\n",
              "        ...,\n",
              "        [247, 247, 247],\n",
              "        [247, 247, 247],\n",
              "        [247, 247, 247]],\n",
              "\n",
              "       [[247, 247, 247],\n",
              "        [247, 247, 247],\n",
              "        [247, 247, 247],\n",
              "        ...,\n",
              "        [247, 247, 247],\n",
              "        [247, 247, 247],\n",
              "        [247, 247, 247]],\n",
              "\n",
              "       [[247, 247, 247],\n",
              "        [247, 247, 247],\n",
              "        [247, 247, 247],\n",
              "        ...,\n",
              "        [247, 247, 247],\n",
              "        [247, 247, 247],\n",
              "        [247, 247, 247]]], dtype=uint8)</pre></div><script>\n",
              "      (() => {\n",
              "      const titles = ['show data', 'hide data'];\n",
              "      let index = 0\n",
              "      document.querySelector('#id-5b5afb25-e4cf-4d8a-af3f-a5afbbbf7acc button').onclick = (e) => {\n",
              "        document.querySelector('#id-5b5afb25-e4cf-4d8a-af3f-a5afbbbf7acc').classList.toggle('show_array');\n",
              "        index = (++index) % 2;\n",
              "        document.querySelector('#id-5b5afb25-e4cf-4d8a-af3f-a5afbbbf7acc button').textContent = titles[index];\n",
              "        e.preventDefault();\n",
              "        e.stopPropagation();\n",
              "      }\n",
              "      })();\n",
              "    </script>"
            ]
          },
          "metadata": {},
          "execution_count": 19
        }
      ]
    },
    {
      "cell_type": "code",
      "source": [
        "sample_image = cv2.imread(truck_image_data[number])\n",
        "sample_image.shape"
      ],
      "metadata": {
        "id": "dO3DfUVjLTKv",
        "colab": {
          "base_uri": "https://localhost:8080/"
        },
        "outputId": "4be11ee9-34b2-47fa-a681-de85273afc79"
      },
      "execution_count": null,
      "outputs": [
        {
          "output_type": "execute_result",
          "data": {
            "text/plain": [
              "(484, 920, 3)"
            ]
          },
          "metadata": {},
          "execution_count": 20
        }
      ]
    },
    {
      "cell_type": "code",
      "source": [
        "trainImageData = ImageDataGenerator(rescale = 1/255)\n",
        "validImageData = ImageDataGenerator(rescale = 1/255)"
      ],
      "metadata": {
        "id": "Vjmj2YQXLWJI"
      },
      "execution_count": null,
      "outputs": []
    },
    {
      "cell_type": "code",
      "source": [
        "train_dataset = trainImageData.flow_from_directory(\n",
        "    '/content/drive/MyDrive/Dataset_truck/train_data',\n",
        "    target_size = (200, 200),\n",
        "    batch_size = 3,\n",
        "    class_mode = 'binary'\n",
        ")"
      ],
      "metadata": {
        "id": "ePwrukRaLZRD",
        "colab": {
          "base_uri": "https://localhost:8080/"
        },
        "outputId": "0eb7c4da-648b-430b-8736-72cea6b395c5"
      },
      "execution_count": null,
      "outputs": [
        {
          "output_type": "stream",
          "name": "stdout",
          "text": [
            "Found 150 images belonging to 1 classes.\n"
          ]
        }
      ]
    },
    {
      "cell_type": "code",
      "source": [
        "validation_dataset = validImageData.flow_from_directory(\n",
        "    '/content/drive/MyDrive/Dataset_truck/validation_data',\n",
        "    target_size = (200, 200),\n",
        "    batch_size = 3,\n",
        "    class_mode = 'binary'\n",
        ")"
      ],
      "metadata": {
        "id": "GmmLoguILfKM",
        "colab": {
          "base_uri": "https://localhost:8080/"
        },
        "outputId": "c955d4b6-9a3d-454f-db9d-a4e5c10d7b06"
      },
      "execution_count": null,
      "outputs": [
        {
          "output_type": "stream",
          "name": "stdout",
          "text": [
            "Found 101 images belonging to 1 classes.\n"
          ]
        }
      ]
    },
    {
      "cell_type": "code",
      "source": [
        "train_dataset.class_indices"
      ],
      "metadata": {
        "id": "__ewNOOhLgIR",
        "colab": {
          "base_uri": "https://localhost:8080/"
        },
        "outputId": "7b0d920b-e22d-4988-9391-c4333505ee8e"
      },
      "execution_count": null,
      "outputs": [
        {
          "output_type": "execute_result",
          "data": {
            "text/plain": [
              "{'truck': 0}"
            ]
          },
          "metadata": {},
          "execution_count": 24
        }
      ]
    },
    {
      "cell_type": "code",
      "source": [
        "from keras import layers\n",
        "from keras.layers import Flatten, Dense, MaxPooling2D, Conv2D\n",
        "from keras.models import Sequential"
      ],
      "metadata": {
        "id": "9fVpfXfLLi-i"
      },
      "execution_count": null,
      "outputs": []
    },
    {
      "cell_type": "code",
      "source": [
        "from tensorflow.keras.models import Sequential\n",
        "from tensorflow.keras.layers import Conv2D, MaxPooling2D, Flatten, Dense, Dropout, BatchNormalization\n",
        "\n",
        "truck_model = Sequential([\n",
        "    Conv2D(16, (3, 3), activation='relu', input_shape=(200, 200, 3)),\n",
        "    BatchNormalization(),\n",
        "    MaxPooling2D((2, 2)),\n",
        "    Dropout(0.2),\n",
        "\n",
        "    Conv2D(32, (3, 3), activation='relu'),\n",
        "    BatchNormalization(),\n",
        "    MaxPooling2D((2, 2)),\n",
        "    Dropout(0.3),\n",
        "\n",
        "    Conv2D(64, (3, 3), activation='relu'),\n",
        "    BatchNormalization(),\n",
        "    MaxPooling2D((2, 2)),\n",
        "    Dropout(0.4),\n",
        "\n",
        "    Flatten(),\n",
        "\n",
        "    Dense(512, activation='relu'),\n",
        "    BatchNormalization(),\n",
        "    Dropout(0.5),\n",
        "    Dense(1, activation='sigmoid'),\n",
        "])"
      ],
      "metadata": {
        "id": "5V9Lk7A3Lm7s"
      },
      "execution_count": null,
      "outputs": []
    },
    {
      "cell_type": "code",
      "source": [
        "truck_model.compile(\n",
        "    loss = 'binary_crossentropy',\n",
        "    optimizer = 'adam',\n",
        "    metrics = ['accuracy']\n",
        ")"
      ],
      "metadata": {
        "id": "lUx5JbjqLqDi"
      },
      "execution_count": null,
      "outputs": []
    },
    {
      "cell_type": "code",
      "source": [
        "truck_model.summary()"
      ],
      "metadata": {
        "id": "RaTU0LTALseV",
        "colab": {
          "base_uri": "https://localhost:8080/"
        },
        "outputId": "133f5e9a-241a-4f3b-bb60-47e1ce6f1efc"
      },
      "execution_count": null,
      "outputs": [
        {
          "output_type": "stream",
          "name": "stdout",
          "text": [
            "Model: \"sequential\"\n",
            "_________________________________________________________________\n",
            " Layer (type)                Output Shape              Param #   \n",
            "=================================================================\n",
            " conv2d (Conv2D)             (None, 198, 198, 16)      448       \n",
            "                                                                 \n",
            " batch_normalization (Batch  (None, 198, 198, 16)      64        \n",
            " Normalization)                                                  \n",
            "                                                                 \n",
            " max_pooling2d (MaxPooling2  (None, 99, 99, 16)        0         \n",
            " D)                                                              \n",
            "                                                                 \n",
            " dropout (Dropout)           (None, 99, 99, 16)        0         \n",
            "                                                                 \n",
            " conv2d_1 (Conv2D)           (None, 97, 97, 32)        4640      \n",
            "                                                                 \n",
            " batch_normalization_1 (Bat  (None, 97, 97, 32)        128       \n",
            " chNormalization)                                                \n",
            "                                                                 \n",
            " max_pooling2d_1 (MaxPoolin  (None, 48, 48, 32)        0         \n",
            " g2D)                                                            \n",
            "                                                                 \n",
            " dropout_1 (Dropout)         (None, 48, 48, 32)        0         \n",
            "                                                                 \n",
            " conv2d_2 (Conv2D)           (None, 46, 46, 64)        18496     \n",
            "                                                                 \n",
            " batch_normalization_2 (Bat  (None, 46, 46, 64)        256       \n",
            " chNormalization)                                                \n",
            "                                                                 \n",
            " max_pooling2d_2 (MaxPoolin  (None, 23, 23, 64)        0         \n",
            " g2D)                                                            \n",
            "                                                                 \n",
            " dropout_2 (Dropout)         (None, 23, 23, 64)        0         \n",
            "                                                                 \n",
            " flatten (Flatten)           (None, 33856)             0         \n",
            "                                                                 \n",
            " dense (Dense)               (None, 512)               17334784  \n",
            "                                                                 \n",
            " batch_normalization_3 (Bat  (None, 512)               2048      \n",
            " chNormalization)                                                \n",
            "                                                                 \n",
            " dropout_3 (Dropout)         (None, 512)               0         \n",
            "                                                                 \n",
            " dense_1 (Dense)             (None, 1)                 513       \n",
            "                                                                 \n",
            "=================================================================\n",
            "Total params: 17361377 (66.23 MB)\n",
            "Trainable params: 17360129 (66.22 MB)\n",
            "Non-trainable params: 1248 (4.88 KB)\n",
            "_________________________________________________________________\n"
          ]
        }
      ]
    },
    {
      "cell_type": "code",
      "source": [
        "truck_model.fit(\n",
        "    train_dataset,\n",
        "    steps_per_epoch = len(train_dataset),\n",
        "    epochs = 3,\n",
        "    validation_data = validation_dataset\n",
        ")"
      ],
      "metadata": {
        "id": "9aEj5aB-LvNe",
        "colab": {
          "base_uri": "https://localhost:8080/"
        },
        "outputId": "e811e91a-5f5f-45b2-a2e9-a44ade0acc5c"
      },
      "execution_count": null,
      "outputs": [
        {
          "output_type": "stream",
          "name": "stdout",
          "text": [
            "Epoch 1/3\n",
            "50/50 [==============================] - 71s 1s/step - loss: 0.6999 - accuracy: 0.6467 - val_loss: 0.0898 - val_accuracy: 1.0000\n",
            "Epoch 2/3\n",
            "50/50 [==============================] - 44s 878ms/step - loss: 0.3576 - accuracy: 0.8667 - val_loss: 5.9229e-08 - val_accuracy: 1.0000\n",
            "Epoch 3/3\n",
            "50/50 [==============================] - 45s 889ms/step - loss: 0.1411 - accuracy: 0.9600 - val_loss: 0.0068 - val_accuracy: 1.0000\n"
          ]
        },
        {
          "output_type": "execute_result",
          "data": {
            "text/plain": [
              "<keras.src.callbacks.History at 0x7a29758e4e80>"
            ]
          },
          "metadata": {},
          "execution_count": 29
        }
      ]
    },
    {
      "cell_type": "code",
      "source": [
        "testingImageData = ImageDataGenerator(rescale = 1/255)\n",
        "testing_dataset = validImageData.flow_from_directory(\n",
        "    '/content/drive/MyDrive/Dataset_truck/test_data',\n",
        "    target_size = (200, 200),\n",
        "    batch_size = 3,\n",
        "    class_mode = 'binary'\n",
        ")"
      ],
      "metadata": {
        "id": "DK7gLarALyog",
        "colab": {
          "base_uri": "https://localhost:8080/"
        },
        "outputId": "1dd6df50-e51c-4385-bc72-616d1598fe91"
      },
      "execution_count": null,
      "outputs": [
        {
          "output_type": "stream",
          "name": "stdout",
          "text": [
            "Found 215 images belonging to 1 classes.\n"
          ]
        }
      ]
    },
    {
      "cell_type": "code",
      "source": [
        "loss, accuracy = truck_model.evaluate(testing_dataset)"
      ],
      "metadata": {
        "id": "AAouLoXXL16c",
        "colab": {
          "base_uri": "https://localhost:8080/"
        },
        "outputId": "7f8c284e-3897-4aef-807c-29f809f649cf"
      },
      "execution_count": null,
      "outputs": [
        {
          "output_type": "stream",
          "name": "stdout",
          "text": [
            "72/72 [==============================] - 10s 102ms/step - loss: 0.0409 - accuracy: 0.9860\n"
          ]
        }
      ]
    },
    {
      "cell_type": "code",
      "source": [
        "import numpy as np\n",
        "from tensorflow.keras.preprocessing.image import load_img, img_to_array\n",
        "\n",
        "# Define the path to a single image (example)\n",
        "image_path = '/content/drive/MyDrive/Dataset_truck/train_data/truck/00000000 (2).jpg'  # Update with your image path\n",
        "\n",
        "# Load and preprocess the image\n",
        "img = load_img(image_path, target_size=(200, 200))  # Ensure the image is resized to (200, 200)\n",
        "img_array = img_to_array(img) / 255.0  # Rescale pixel values to [0, 1]\n",
        "img_array = np.expand_dims(img_array, axis=0)  # Add batch dimension\n",
        "\n",
        "# Ensure the model is already defined and loaded as 'truck_model'\n",
        "# Example: truck_model = tf.keras.models.load_model('path_to_model')\n",
        "\n",
        "# Make prediction\n",
        "prediction = truck_model.predict(img_array)\n",
        "if prediction[0] < 0.5:  # Adjust threshold based on your model's output\n",
        "    print(\"Truck\")\n",
        "else:\n",
        "    print(\"Not a Truck\")\n"
      ],
      "metadata": {
        "id": "i1O_2myohySV",
        "colab": {
          "base_uri": "https://localhost:8080/"
        },
        "outputId": "97b2f3b3-6694-4c5d-db46-d87fe2031339"
      },
      "execution_count": null,
      "outputs": [
        {
          "output_type": "stream",
          "name": "stdout",
          "text": [
            "1/1 [==============================] - 0s 396ms/step\n",
            "Truck\n"
          ]
        }
      ]
    },
    {
      "cell_type": "code",
      "source": [
        "from keras.utils import load_img"
      ],
      "metadata": {
        "id": "U8TrkZk1L4f8"
      },
      "execution_count": null,
      "outputs": []
    },
    {
      "cell_type": "code",
      "source": [
        "import numpy as np\n",
        "import os\n",
        "from keras.preprocessing.image import load_img, img_to_array\n",
        "import matplotlib.pyplot as plt\n",
        "\n",
        "test_path = \"/content/drive/MyDrive/Dataset_truck/test_data\"\n",
        "count = 0\n",
        "\n",
        "for i in os.listdir(test_path):\n",
        "    file_path = os.path.join(test_path, i)\n",
        "\n",
        "    if os.path.isfile(file_path):\n",
        "        img = load_img(file_path)\n",
        "        plt.imshow(img)\n",
        "        plt.show()\n",
        "\n",
        "        X = img_to_array(img)\n",
        "        x_imag = np.expand_dims(X, axis=0)\n",
        "        images = np.vstack([x_imag])\n",
        "\n",
        "        prediction = truck_model.predict(images)\n",
        "        if prediction == 0:\n",
        "            print(\"Truck\")\n",
        "        else:\n",
        "            print(\"No truck\")\n",
        "\n",
        "        count += 1\n",
        "        if count == 5:\n",
        "            break"
      ],
      "metadata": {
        "id": "qziIOnHyL7iz"
      },
      "execution_count": null,
      "outputs": []
    },
    {
      "cell_type": "code",
      "source": [],
      "metadata": {
        "id": "QuKdA8rwRZXt"
      },
      "execution_count": null,
      "outputs": []
    },
    {
      "cell_type": "code",
      "source": [
        "from keras import models"
      ],
      "metadata": {
        "id": "v9xYeLmcL_Rc"
      },
      "execution_count": null,
      "outputs": []
    },
    {
      "cell_type": "code",
      "source": [
        "truck_model_ann = models.Sequential([\n",
        "    layers.Flatten(input_shape=(200, 200, 3)),\n",
        "\n",
        "    layers.Dense(3000, activation='relu'),\n",
        "    layers.BatchNormalization(),\n",
        "    layers.Dropout(0.5),\n",
        "\n",
        "    layers.Dense(1000, activation='relu'),\n",
        "    layers.BatchNormalization(),\n",
        "    layers.Dropout(0.5),\n",
        "\n",
        "    layers.Dense(1, activation='sigmoid')\n",
        "])"
      ],
      "metadata": {
        "id": "jk8g92UOMCt0"
      },
      "execution_count": null,
      "outputs": []
    },
    {
      "cell_type": "code",
      "source": [
        "truck_model_ann.summary()"
      ],
      "metadata": {
        "id": "dICWnparMFdx",
        "colab": {
          "base_uri": "https://localhost:8080/"
        },
        "outputId": "fd034714-f7b4-4438-961f-9c78c1609d21"
      },
      "execution_count": null,
      "outputs": [
        {
          "output_type": "stream",
          "name": "stdout",
          "text": [
            "Model: \"sequential_3\"\n",
            "_________________________________________________________________\n",
            " Layer (type)                Output Shape              Param #   \n",
            "=================================================================\n",
            " flatten_3 (Flatten)         (None, 120000)            0         \n",
            "                                                                 \n",
            " dense_8 (Dense)             (None, 3000)              360003000 \n",
            "                                                                 \n",
            " batch_normalization_6 (Bat  (None, 3000)              12000     \n",
            " chNormalization)                                                \n",
            "                                                                 \n",
            " dropout_6 (Dropout)         (None, 3000)              0         \n",
            "                                                                 \n",
            " dense_9 (Dense)             (None, 1000)              3001000   \n",
            "                                                                 \n",
            " batch_normalization_7 (Bat  (None, 1000)              4000      \n",
            " chNormalization)                                                \n",
            "                                                                 \n",
            " dropout_7 (Dropout)         (None, 1000)              0         \n",
            "                                                                 \n",
            " dense_10 (Dense)            (None, 1)                 1001      \n",
            "                                                                 \n",
            "=================================================================\n",
            "Total params: 363021001 (1.35 GB)\n",
            "Trainable params: 363013001 (1.35 GB)\n",
            "Non-trainable params: 8000 (31.25 KB)\n",
            "_________________________________________________________________\n"
          ]
        }
      ]
    },
    {
      "cell_type": "code",
      "source": [
        "truck_model_ann.compile(\n",
        "    optimizer = 'sgd',\n",
        "    loss = 'binary_crossentropy',\n",
        "    metrics = ['accuracy']\n",
        ")"
      ],
      "metadata": {
        "id": "hpPOleyQMIWe"
      },
      "execution_count": null,
      "outputs": []
    },
    {
      "cell_type": "code",
      "source": [
        "history = truck_model_ann.fit(train_dataset, validation_data = validation_dataset, epochs = 2)"
      ],
      "metadata": {
        "id": "n7G2-SaaMLbV",
        "colab": {
          "base_uri": "https://localhost:8080/"
        },
        "outputId": "a627ba86-5cd0-4533-ecb5-fc50bde18396"
      },
      "execution_count": null,
      "outputs": [
        {
          "output_type": "stream",
          "name": "stdout",
          "text": [
            "Epoch 1/2\n",
            "50/50 [==============================] - 129s 3s/step - loss: 0.9580 - accuracy: 0.5733 - val_loss: 0.3147 - val_accuracy: 0.8911\n",
            "Epoch 2/2\n",
            "50/50 [==============================] - 124s 2s/step - loss: 0.6753 - accuracy: 0.6867 - val_loss: 0.3783 - val_accuracy: 0.8713\n"
          ]
        }
      ]
    },
    {
      "cell_type": "code",
      "source": [
        "plt.plot(history.history['accuracy'])\n",
        "plt.plot(history.history['val_accuracy'])\n",
        "plt.xlabel('epoch')\n",
        "plt.ylabel('accuracy')\n",
        "plt.title(\"Model accuracy\")\n",
        "plt.legend(['Training', \"Validation\"], loc = 'upper left')\n",
        "plt.show()"
      ],
      "metadata": {
        "id": "4C5Ft_yQMOKU",
        "colab": {
          "base_uri": "https://localhost:8080/",
          "height": 472
        },
        "outputId": "f4962dd4-7fdc-477c-96fa-999330e5fdf5"
      },
      "execution_count": null,
      "outputs": [
        {
          "output_type": "display_data",
          "data": {
            "text/plain": [
              "<Figure size 640x480 with 1 Axes>"
            ],
            "image/png": "[encoded data removed]"
          },
          "metadata": {}
        }
      ]
    },
    {
      "cell_type": "code",
      "source": [
        "plt.plot(history.history['loss'])\n",
        "plt.plot(history.history['val_loss'])\n",
        "plt.title('model loss')\n",
        "plt.ylabel('loss')\n",
        "plt.xlabel('epoch')\n",
        "plt.legend(['Train', 'Validation'], loc='upper left')\n",
        "plt.show()"
      ],
      "metadata": {
        "id": "XU5zooGkMQ2G",
        "colab": {
          "base_uri": "https://localhost:8080/",
          "height": 472
        },
        "outputId": "b29bb66e-ccc1-4717-cc71-9152d0cbd6ac"
      },
      "execution_count": null,
      "outputs": [
        {
          "output_type": "display_data",
          "data": {
            "text/plain": [
              "<Figure size 640x480 with 1 Axes>"
            ],
            "image/png": "[encoded data removed]"
          },
          "metadata": {}
        }
      ]
    },
    {
      "cell_type": "code",
      "source": [],
      "metadata": {
        "id": "7IyAzqHVMUbS"
      },
      "execution_count": null,
      "outputs": []
    }
  ]
}