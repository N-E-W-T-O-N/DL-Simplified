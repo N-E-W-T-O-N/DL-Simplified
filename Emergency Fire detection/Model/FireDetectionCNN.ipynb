{
  "nbformat": 4,
  "nbformat_minor": 0,
  "metadata": {
    "colab": {
      "provenance": []
    },
    "kernelspec": {
      "name": "python3",
      "display_name": "Python 3"
    },
    "language_info": {
      "name": "python"
    }
  },
  "cells": [
    {
      "cell_type": "code",
      "execution_count": null,
      "metadata": {
        "id": "hIjBCYBQLRJh"
      },
      "outputs": [],
      "source": []
    },
    {
      "cell_type": "code",
      "source": [],
      "metadata": {
        "id": "w2XMwOh9Mb94"
      },
      "execution_count": null,
      "outputs": []
    },
    {
      "cell_type": "code",
      "source": [
        "!pip install keras_preprocessing"
      ],
      "metadata": {
        "id": "aYVx9n3DMb_z"
      },
      "execution_count": null,
      "outputs": []
    },
    {
      "cell_type": "code",
      "source": [
        "import tensorflow as tf\n",
        "import keras_preprocessing\n",
        "from keras_preprocessing import image\n",
        "from keras_preprocessing.image import ImageDataGenerator\n",
        "import shutil"
      ],
      "metadata": {
        "id": "yCvc-eGBLwWd"
      },
      "execution_count": 4,
      "outputs": []
    },
    {
      "cell_type": "code",
      "source": [
        "\n",
        "TRAINING_DIR = \"Train\"\n",
        "training_datagen = ImageDataGenerator(rescale = 1./255,\n",
        "                                  horizontal_flip=True,\n",
        "                                  rotation_range=30,\n",
        "                                  height_shift_range=0.2,\n",
        "                                  fill_mode='nearest')\n",
        "VALIDATION_DIR = \"Validation\"\n",
        "validation_datagen = ImageDataGenerator(rescale = 1./255)\n",
        "train_generator = training_datagen.flow_from_directory(TRAINING_DIR,\n",
        "                                         target_size=(224,224),\n",
        "                                         class_mode='categorical',\n",
        "                                         batch_size = 64)\n",
        "validation_generator = validation_datagen.flow_from_directory(\n",
        "                                           VALIDATION_DIR,\n",
        "                                           target_size=(224,224),\n",
        "                                           class_mode='categorical',\n",
        "                                           batch_size= 16)"
      ],
      "metadata": {
        "id": "WD5TISzaOY75"
      },
      "execution_count": null,
      "outputs": []
    },
    {
      "cell_type": "code",
      "source": [
        "TRAINING_DIR = \"/content/drive/MyDrive/fire-detection-master/fire-detection-master/Datasets 1-2/Training\"\n",
        "\n",
        "training_datagen = ImageDataGenerator(rescale = 1./255,\n",
        "                                      horizontal_flip=True,\n",
        "\t\t\t\t\t\t\t\t\t\t\t\t\t\t\t\t\t\t\trotation_range=30,\n",
        "\t\t\t\t\t\t\t\t\t\t\t\t\t\t\t\t\t\t\theight_shift_range=0.2,\n",
        "                                      fill_mode='nearest')\n",
        "\n",
        "VALIDATION_DIR = \"/content/drive/MyDrive/fire-detection-master/fire-detection-master/Datasets 1-2/Validation\"\n",
        "validation_datagen = ImageDataGenerator(rescale = 1./255)\n",
        "\n",
        "train_generator = training_datagen.flow_from_directory(\n",
        "\tTRAINING_DIR,\n",
        "\ttarget_size=(224,224),\n",
        "\tclass_mode='categorical',\n",
        "  batch_size = 64\n",
        ")\n",
        "\n",
        "validation_generator = validation_datagen.flow_from_directory(\n",
        "\tVALIDATION_DIR,\n",
        "\ttarget_size=(224,224),\n",
        "\tclass_mode='categorical',\n",
        "  batch_size= 16\n",
        ")"
      ],
      "metadata": {
        "colab": {
          "base_uri": "https://localhost:8080/"
        },
        "id": "JFnVYnyqLxHo",
        "outputId": "8d5a699b-5870-435a-8b3f-05c4c6c3a16d"
      },
      "execution_count": 11,
      "outputs": [
        {
          "output_type": "stream",
          "name": "stdout",
          "text": [
            "Found 980 images belonging to 2 classes.\n",
            "Found 239 images belonging to 2 classes.\n"
          ]
        }
      ]
    },
    {
      "cell_type": "code",
      "source": [
        "from tensorflow.keras.optimizers import RMSprop,Adam\n",
        "model = tf.keras.models.Sequential([\n",
        "          tf.keras.layers.Conv2D(96, (11,11), strides=(4,4), activation='relu', input_shape=(224, 224, 3)),\n",
        "          tf.keras.layers.MaxPooling2D(pool_size = (3,3), strides=(2,2)),\n",
        "          tf.keras.layers.Conv2D(256, (5,5), activation='relu'),\n",
        "          tf.keras.layers.MaxPooling2D(pool_size = (3,3), strides=(2,2)),\n",
        "          tf.keras.layers.Conv2D(384, (5,5), activation='relu'),\n",
        "          tf.keras.layers.MaxPooling2D(pool_size = (3,3), strides=(2,2)),\n",
        "          tf.keras.layers.Flatten(),\n",
        "          tf.keras.layers.Dropout(0.2),\n",
        "          tf.keras.layers.Dense(2048, activation='relu'),\n",
        "          tf.keras.layers.Dropout(0.25),\n",
        "          tf.keras.layers.Dense(1024, activation='relu'),\n",
        "          tf.keras.layers.Dropout(0.2),\n",
        "          tf.keras.layers.Dense(2, activation='softmax')\n",
        "])\n",
        "model.compile(loss='categorical_crossentropy',\n",
        "              optimizer=Adam(lr=0.0001),\n",
        "              metrics=['acc'])\n",
        "model.summary()"
      ],
      "metadata": {
        "colab": {
          "base_uri": "https://localhost:8080/"
        },
        "id": "n8iIz6zPL3rC",
        "outputId": "1fab656a-88c8-426f-e01e-a98fc29457bb"
      },
      "execution_count": 12,
      "outputs": [
        {
          "output_type": "stream",
          "name": "stderr",
          "text": [
            "WARNING:absl:`lr` is deprecated in Keras optimizer, please use `learning_rate` or use the legacy optimizer, e.g.,tf.keras.optimizers.legacy.Adam.\n"
          ]
        },
        {
          "output_type": "stream",
          "name": "stdout",
          "text": [
            "Model: \"sequential\"\n",
            "_________________________________________________________________\n",
            " Layer (type)                Output Shape              Param #   \n",
            "=================================================================\n",
            " conv2d (Conv2D)             (None, 54, 54, 96)        34944     \n",
            "                                                                 \n",
            " max_pooling2d (MaxPooling2D  (None, 26, 26, 96)       0         \n",
            " )                                                               \n",
            "                                                                 \n",
            " conv2d_1 (Conv2D)           (None, 22, 22, 256)       614656    \n",
            "                                                                 \n",
            " max_pooling2d_1 (MaxPooling  (None, 10, 10, 256)      0         \n",
            " 2D)                                                             \n",
            "                                                                 \n",
            " conv2d_2 (Conv2D)           (None, 6, 6, 384)         2457984   \n",
            "                                                                 \n",
            " max_pooling2d_2 (MaxPooling  (None, 2, 2, 384)        0         \n",
            " 2D)                                                             \n",
            "                                                                 \n",
            " flatten (Flatten)           (None, 1536)              0         \n",
            "                                                                 \n",
            " dropout (Dropout)           (None, 1536)              0         \n",
            "                                                                 \n",
            " dense (Dense)               (None, 2048)              3147776   \n",
            "                                                                 \n",
            " dropout_1 (Dropout)         (None, 2048)              0         \n",
            "                                                                 \n",
            " dense_1 (Dense)             (None, 1024)              2098176   \n",
            "                                                                 \n",
            " dropout_2 (Dropout)         (None, 1024)              0         \n",
            "                                                                 \n",
            " dense_2 (Dense)             (None, 2)                 2050      \n",
            "                                                                 \n",
            "=================================================================\n",
            "Total params: 8,355,586\n",
            "Trainable params: 8,355,586\n",
            "Non-trainable params: 0\n",
            "_________________________________________________________________\n"
          ]
        }
      ]
    },
    {
      "cell_type": "code",
      "source": [
        "# class myCallback(tf.keras.callbacks.Callback):\n",
        "#   def on_epoch_end(self, epoch, logs={}):\n",
        "#     if(logs.get('val_acc')>=0.98):\n",
        "#       print('\\nReached ^98%')\n",
        "#       self.model.stop_training = True\n",
        "# callbacks = myCallback()\n",
        "\n",
        "history = model.fit(\n",
        "    train_generator,\n",
        "    steps_per_epoch = 15,\n",
        "    epochs = 50,\n",
        "    validation_data = validation_generator,\n",
        "    validation_steps = 15\n",
        "    #callbacks=[callbacks]\n",
        ")"
      ],
      "metadata": {
        "colab": {
          "base_uri": "https://localhost:8080/"
        },
        "id": "E6rIQmt5L8_J",
        "outputId": "b6b5b1bc-7240-4c1e-81f0-56f9dd3ea4b8"
      },
      "execution_count": 13,
      "outputs": [
        {
          "output_type": "stream",
          "name": "stdout",
          "text": [
            "Epoch 1/50\n",
            "15/15 [==============================] - 701s 47s/step - loss: 0.9124 - acc: 0.7041 - val_loss: 0.4655 - val_acc: 0.7448\n",
            "Epoch 2/50\n",
            "15/15 [==============================] - 139s 9s/step - loss: 0.4083 - acc: 0.7631 - val_loss: 0.4438 - val_acc: 0.8243\n",
            "Epoch 3/50\n",
            "15/15 [==============================] - 138s 9s/step - loss: 0.3421 - acc: 0.8592 - val_loss: 0.4269 - val_acc: 0.8326\n",
            "Epoch 4/50\n",
            "15/15 [==============================] - 130s 8s/step - loss: 0.3432 - acc: 0.8614 - val_loss: 0.3697 - val_acc: 0.8870\n",
            "Epoch 5/50\n",
            "15/15 [==============================] - 146s 10s/step - loss: 0.3368 - acc: 0.8844 - val_loss: 0.3076 - val_acc: 0.9038\n",
            "Epoch 6/50\n",
            "15/15 [==============================] - 137s 9s/step - loss: 0.2263 - acc: 0.9279 - val_loss: 0.2994 - val_acc: 0.9331\n",
            "Epoch 7/50\n",
            "15/15 [==============================] - 137s 10s/step - loss: 0.2872 - acc: 0.8952 - val_loss: 0.3229 - val_acc: 0.9079\n",
            "Epoch 8/50\n",
            "15/15 [==============================] - 137s 9s/step - loss: 0.2104 - acc: 0.9345 - val_loss: 0.2909 - val_acc: 0.8912\n",
            "Epoch 9/50\n",
            "15/15 [==============================] - 141s 9s/step - loss: 0.1895 - acc: 0.9378 - val_loss: 0.2930 - val_acc: 0.9079\n",
            "Epoch 10/50\n",
            "15/15 [==============================] - 137s 9s/step - loss: 0.2723 - acc: 0.8919 - val_loss: 0.3520 - val_acc: 0.8828\n",
            "Epoch 11/50\n",
            "15/15 [==============================] - 127s 9s/step - loss: 0.2889 - acc: 0.9028 - val_loss: 0.2806 - val_acc: 0.9079\n",
            "Epoch 12/50\n",
            "15/15 [==============================] - 137s 9s/step - loss: 0.2276 - acc: 0.9094 - val_loss: 0.2426 - val_acc: 0.9372\n",
            "Epoch 13/50\n",
            "15/15 [==============================] - 135s 9s/step - loss: 0.2082 - acc: 0.9301 - val_loss: 0.2460 - val_acc: 0.9247\n",
            "Epoch 14/50\n",
            "15/15 [==============================] - 128s 8s/step - loss: 0.2073 - acc: 0.9334 - val_loss: 0.2411 - val_acc: 0.8954\n",
            "Epoch 15/50\n",
            "15/15 [==============================] - 136s 9s/step - loss: 0.2116 - acc: 0.9345 - val_loss: 0.2507 - val_acc: 0.9414\n",
            "Epoch 16/50\n",
            "15/15 [==============================] - 136s 9s/step - loss: 0.1890 - acc: 0.9389 - val_loss: 0.2609 - val_acc: 0.8996\n",
            "Epoch 17/50\n",
            "15/15 [==============================] - 134s 9s/step - loss: 0.2129 - acc: 0.9192 - val_loss: 0.2549 - val_acc: 0.9079\n",
            "Epoch 18/50\n",
            "15/15 [==============================] - 142s 9s/step - loss: 0.1987 - acc: 0.9323 - val_loss: 0.3925 - val_acc: 0.9038\n",
            "Epoch 19/50\n",
            "15/15 [==============================] - 137s 9s/step - loss: 0.2078 - acc: 0.9258 - val_loss: 0.2476 - val_acc: 0.9079\n",
            "Epoch 20/50\n",
            "15/15 [==============================] - 135s 9s/step - loss: 0.1862 - acc: 0.9345 - val_loss: 0.2876 - val_acc: 0.9331\n",
            "Epoch 21/50\n",
            "15/15 [==============================] - 139s 9s/step - loss: 0.1953 - acc: 0.9247 - val_loss: 0.2295 - val_acc: 0.9121\n",
            "Epoch 22/50\n",
            "15/15 [==============================] - 136s 9s/step - loss: 0.2033 - acc: 0.9389 - val_loss: 0.2865 - val_acc: 0.9247\n",
            "Epoch 23/50\n",
            "15/15 [==============================] - 135s 9s/step - loss: 0.2118 - acc: 0.9312 - val_loss: 0.2387 - val_acc: 0.9372\n",
            "Epoch 24/50\n",
            "15/15 [==============================] - 128s 8s/step - loss: 0.1814 - acc: 0.9421 - val_loss: 0.2600 - val_acc: 0.9163\n",
            "Epoch 25/50\n",
            "15/15 [==============================] - 129s 8s/step - loss: 0.1849 - acc: 0.9345 - val_loss: 0.2201 - val_acc: 0.9372\n",
            "Epoch 26/50\n",
            "15/15 [==============================] - 136s 9s/step - loss: 0.1689 - acc: 0.9443 - val_loss: 0.1633 - val_acc: 0.9498\n",
            "Epoch 27/50\n",
            "15/15 [==============================] - 136s 9s/step - loss: 0.1516 - acc: 0.9552 - val_loss: 0.3308 - val_acc: 0.8870\n",
            "Epoch 28/50\n",
            "15/15 [==============================] - 137s 9s/step - loss: 0.2093 - acc: 0.9247 - val_loss: 0.2555 - val_acc: 0.9331\n",
            "Epoch 29/50\n",
            "15/15 [==============================] - 139s 9s/step - loss: 0.1587 - acc: 0.9448 - val_loss: 0.2242 - val_acc: 0.9331\n",
            "Epoch 30/50\n",
            "15/15 [==============================] - 130s 9s/step - loss: 0.1531 - acc: 0.9400 - val_loss: 0.1917 - val_acc: 0.9414\n",
            "Epoch 31/50\n",
            "15/15 [==============================] - 136s 9s/step - loss: 0.1554 - acc: 0.9465 - val_loss: 0.2159 - val_acc: 0.9456\n",
            "Epoch 32/50\n",
            "15/15 [==============================] - 137s 9s/step - loss: 0.1363 - acc: 0.9509 - val_loss: 0.1843 - val_acc: 0.9372\n",
            "Epoch 33/50\n",
            "15/15 [==============================] - 136s 9s/step - loss: 0.1277 - acc: 0.9520 - val_loss: 0.1964 - val_acc: 0.9205\n",
            "Epoch 34/50\n",
            "15/15 [==============================] - 132s 9s/step - loss: 0.1364 - acc: 0.9476 - val_loss: 0.1606 - val_acc: 0.9498\n",
            "Epoch 35/50\n",
            "15/15 [==============================] - 131s 9s/step - loss: 0.1252 - acc: 0.9563 - val_loss: 0.1834 - val_acc: 0.9498\n",
            "Epoch 36/50\n",
            "15/15 [==============================] - 127s 8s/step - loss: 0.1281 - acc: 0.9585 - val_loss: 0.1819 - val_acc: 0.9414\n",
            "Epoch 37/50\n",
            "15/15 [==============================] - 135s 9s/step - loss: 0.1151 - acc: 0.9573 - val_loss: 0.1674 - val_acc: 0.9414\n",
            "Epoch 38/50\n",
            "15/15 [==============================] - 135s 9s/step - loss: 0.1316 - acc: 0.9552 - val_loss: 0.1513 - val_acc: 0.9498\n",
            "Epoch 39/50\n",
            "15/15 [==============================] - 139s 9s/step - loss: 0.1335 - acc: 0.9541 - val_loss: 0.2104 - val_acc: 0.9540\n",
            "Epoch 40/50\n",
            "15/15 [==============================] - 135s 9s/step - loss: 0.1683 - acc: 0.9498 - val_loss: 0.1546 - val_acc: 0.9456\n",
            "Epoch 41/50\n",
            "15/15 [==============================] - 129s 9s/step - loss: 0.1303 - acc: 0.9531 - val_loss: 0.2217 - val_acc: 0.9372\n",
            "Epoch 42/50\n",
            "15/15 [==============================] - 129s 8s/step - loss: 0.1473 - acc: 0.9487 - val_loss: 0.1587 - val_acc: 0.9540\n",
            "Epoch 43/50\n",
            "15/15 [==============================] - 136s 9s/step - loss: 0.1259 - acc: 0.9563 - val_loss: 0.1657 - val_acc: 0.9414\n",
            "Epoch 44/50\n",
            "15/15 [==============================] - 137s 9s/step - loss: 0.1123 - acc: 0.9629 - val_loss: 0.1789 - val_acc: 0.9414\n",
            "Epoch 45/50\n",
            "15/15 [==============================] - 136s 9s/step - loss: 0.1221 - acc: 0.9596 - val_loss: 0.1596 - val_acc: 0.9372\n",
            "Epoch 46/50\n",
            "15/15 [==============================] - 141s 9s/step - loss: 0.1257 - acc: 0.9563 - val_loss: 0.1540 - val_acc: 0.9498\n",
            "Epoch 47/50\n",
            "15/15 [==============================] - 135s 9s/step - loss: 0.1080 - acc: 0.9596 - val_loss: 0.1389 - val_acc: 0.9540\n",
            "Epoch 48/50\n",
            "15/15 [==============================] - 138s 9s/step - loss: 0.1371 - acc: 0.9454 - val_loss: 0.1362 - val_acc: 0.9414\n",
            "Epoch 49/50\n",
            "15/15 [==============================] - 138s 9s/step - loss: 0.1333 - acc: 0.9531 - val_loss: 0.1401 - val_acc: 0.9498\n",
            "Epoch 50/50\n",
            "15/15 [==============================] - 134s 9s/step - loss: 0.1251 - acc: 0.9604 - val_loss: 0.2125 - val_acc: 0.9372\n"
          ]
        }
      ]
    },
    {
      "cell_type": "code",
      "source": [
        "%matplotlib inline\n",
        "import matplotlib.pyplot as plt\n",
        "acc = history.history['acc']\n",
        "val_acc = history.history['val_acc']\n",
        "loss = history.history['loss']\n",
        "val_loss = history.history['val_loss']\n",
        "\n",
        "epochs = range(len(acc))\n",
        "\n",
        "plt.plot(epochs, acc, 'g', label='Training accuracy')\n",
        "plt.plot(epochs, val_acc, 'b', label='Validation accuracy')\n",
        "plt.title('Training and validation accuracy')\n",
        "plt.legend(loc=0)\n",
        "plt.figure()\n",
        "plt.show()\n",
        "\n",
        "plt.plot(epochs, loss, 'r', label='Training loss')\n",
        "plt.plot(epochs, val_loss, 'orange', label='Validation loss')\n",
        "plt.title('Training and validation loss')\n",
        "\n",
        "plt.legend(loc=0)\n",
        "plt.figure()\n",
        "plt.show()"
      ],
      "metadata": {
        "colab": {
          "base_uri": "https://localhost:8080/",
          "height": 922
        },
        "id": "8q7uURkUMJ-Z",
        "outputId": "85e0f8fd-8ba1-4464-e194-90c11cea44d2"
      },
      "execution_count": 14,
      "outputs": [
        {
          "output_type": "display_data",
          "data": {
            "text/plain": [
              "<Figure size 640x480 with 1 Axes>"
            ],
            "image/png": "[encoded data removed]"
          },
          "metadata": {}
        },
        {
          "output_type": "display_data",
          "data": {
            "text/plain": [
              "<Figure size 640x480 with 0 Axes>"
            ]
          },
          "metadata": {}
        },
        {
          "output_type": "display_data",
          "data": {
            "text/plain": [
              "<Figure size 640x480 with 1 Axes>"
            ],
            "image/png": "[encoded data removed]"
          },
          "metadata": {}
        },
        {
          "output_type": "display_data",
          "data": {
            "text/plain": [
              "<Figure size 640x480 with 0 Axes>"
            ]
          },
          "metadata": {}
        }
      ]
    },
    {
      "cell_type": "code",
      "source": [
        "#predicting any random image\n",
        "import numpy as np\n",
        "from google.colab import files\n",
        "import keras.utils as image\n",
        "\n",
        "uploaded = files.upload()\n",
        "for fn in uploaded.keys():\n",
        "  path = '/content/' + fn\n",
        "  img = image.load_img(path, target_size=(224, 224))\n",
        "  x = image.img_to_array(img)\n",
        "  x = np.expand_dims(x, axis=0) /255\n",
        "  classes = model.predict(x)\n",
        "  print(np.argmax(classes[0])==0, max(classes[0]))"
      ],
      "metadata": {
        "colab": {
          "base_uri": "https://localhost:8080/",
          "height": 107
        },
        "id": "D6pO9ypNMUER",
        "outputId": "7e4634ac-51a4-416a-8996-dc1d39419c05"
      },
      "execution_count": 16,
      "outputs": [
        {
          "output_type": "display_data",
          "data": {
            "text/plain": [
              "<IPython.core.display.HTML object>"
            ],
            "text/html": [
              "\n",
              "     <input type=\"file\" id=\"files-b9786b72-a698-4af0-a1ae-75e147a56d85\" name=\"files[]\" multiple disabled\n",
              "        style=\"border:none\" />\n",
              "     <output id=\"result-b9786b72-a698-4af0-a1ae-75e147a56d85\">\n",
              "      Upload widget is only available when the cell has been executed in the\n",
              "      current browser session. Please rerun this cell to enable.\n",
              "      </output>\n",
              "      <script>// Copyright 2017 Google LLC\n",
              "//\n",
              "// Licensed under the Apache License, Version 2.0 (the \"License\");\n",
              "// you may not use this file except in compliance with the License.\n",
              "// You may obtain a copy of the License at\n",
              "//\n",
              "//      http://www.apache.org/licenses/LICENSE-2.0\n",
              "//\n",
              "// Unless required by applicable law or agreed to in writing, software\n",
              "// distributed under the License is distributed on an \"AS IS\" BASIS,\n",
              "// WITHOUT WARRANTIES OR CONDITIONS OF ANY KIND, either express or implied.\n",
              "// See the License for the specific language governing permissions and\n",
              "// limitations under the License.\n",
              "\n",
              "/**\n",
              " * @fileoverview Helpers for google.colab Python module.\n",
              " */\n",
              "(function(scope) {\n",
              "function span(text, styleAttributes = {}) {\n",
              "  const element = document.createElement('span');\n",
              "  element.textContent = text;\n",
              "  for (const key of Object.keys(styleAttributes)) {\n",
              "    element.style[key] = styleAttributes[key];\n",
              "  }\n",
              "  return element;\n",
              "}\n",
              "\n",
              "// Max number of bytes which will be uploaded at a time.\n",
              "const MAX_PAYLOAD_SIZE = 100 * 1024;\n",
              "\n",
              "function _uploadFiles(inputId, outputId) {\n",
              "  const steps = uploadFilesStep(inputId, outputId);\n",
              "  const outputElement = document.getElementById(outputId);\n",
              "  // Cache steps on the outputElement to make it available for the next call\n",
              "  // to uploadFilesContinue from Python.\n",
              "  outputElement.steps = steps;\n",
              "\n",
              "  return _uploadFilesContinue(outputId);\n",
              "}\n",
              "\n",
              "// This is roughly an async generator (not supported in the browser yet),\n",
              "// where there are multiple asynchronous steps and the Python side is going\n",
              "// to poll for completion of each step.\n",
              "// This uses a Promise to block the python side on completion of each step,\n",
              "// then passes the result of the previous step as the input to the next step.\n",
              "function _uploadFilesContinue(outputId) {\n",
              "  const outputElement = document.getElementById(outputId);\n",
              "  const steps = outputElement.steps;\n",
              "\n",
              "  const next = steps.next(outputElement.lastPromiseValue);\n",
              "  return Promise.resolve(next.value.promise).then((value) => {\n",
              "    // Cache the last promise value to make it available to the next\n",
              "    // step of the generator.\n",
              "    outputElement.lastPromiseValue = value;\n",
              "    return next.value.response;\n",
              "  });\n",
              "}\n",
              "\n",
              "/**\n",
              " * Generator function which is called between each async step of the upload\n",
              " * process.\n",
              " * @param {string} inputId Element ID of the input file picker element.\n",
              " * @param {string} outputId Element ID of the output display.\n",
              " * @return {!Iterable<!Object>} Iterable of next steps.\n",
              " */\n",
              "function* uploadFilesStep(inputId, outputId) {\n",
              "  const inputElement = document.getElementById(inputId);\n",
              "  inputElement.disabled = false;\n",
              "\n",
              "  const outputElement = document.getElementById(outputId);\n",
              "  outputElement.innerHTML = '';\n",
              "\n",
              "  const pickedPromise = new Promise((resolve) => {\n",
              "    inputElement.addEventListener('change', (e) => {\n",
              "      resolve(e.target.files);\n",
              "    });\n",
              "  });\n",
              "\n",
              "  const cancel = document.createElement('button');\n",
              "  inputElement.parentElement.appendChild(cancel);\n",
              "  cancel.textContent = 'Cancel upload';\n",
              "  const cancelPromise = new Promise((resolve) => {\n",
              "    cancel.onclick = () => {\n",
              "      resolve(null);\n",
              "    };\n",
              "  });\n",
              "\n",
              "  // Wait for the user to pick the files.\n",
              "  const files = yield {\n",
              "    promise: Promise.race([pickedPromise, cancelPromise]),\n",
              "    response: {\n",
              "      action: 'starting',\n",
              "    }\n",
              "  };\n",
              "\n",
              "  cancel.remove();\n",
              "\n",
              "  // Disable the input element since further picks are not allowed.\n",
              "  inputElement.disabled = true;\n",
              "\n",
              "  if (!files) {\n",
              "    return {\n",
              "      response: {\n",
              "        action: 'complete',\n",
              "      }\n",
              "    };\n",
              "  }\n",
              "\n",
              "  for (const file of files) {\n",
              "    const li = document.createElement('li');\n",
              "    li.append(span(file.name, {fontWeight: 'bold'}));\n",
              "    li.append(span(\n",
              "        `(${file.type || 'n/a'}) - ${file.size} bytes, ` +\n",
              "        `last modified: ${\n",
              "            file.lastModifiedDate ? file.lastModifiedDate.toLocaleDateString() :\n",
              "                                    'n/a'} - `));\n",
              "    const percent = span('0% done');\n",
              "    li.appendChild(percent);\n",
              "\n",
              "    outputElement.appendChild(li);\n",
              "\n",
              "    const fileDataPromise = new Promise((resolve) => {\n",
              "      const reader = new FileReader();\n",
              "      reader.onload = (e) => {\n",
              "        resolve(e.target.result);\n",
              "      };\n",
              "      reader.readAsArrayBuffer(file);\n",
              "    });\n",
              "    // Wait for the data to be ready.\n",
              "    let fileData = yield {\n",
              "      promise: fileDataPromise,\n",
              "      response: {\n",
              "        action: 'continue',\n",
              "      }\n",
              "    };\n",
              "\n",
              "    // Use a chunked sending to avoid message size limits. See b/62115660.\n",
              "    let position = 0;\n",
              "    do {\n",
              "      const length = Math.min(fileData.byteLength - position, MAX_PAYLOAD_SIZE);\n",
              "      const chunk = new Uint8Array(fileData, position, length);\n",
              "      position += length;\n",
              "\n",
              "      const base64 = btoa(String.fromCharCode.apply(null, chunk));\n",
              "      yield {\n",
              "        response: {\n",
              "          action: 'append',\n",
              "          file: file.name,\n",
              "          data: base64,\n",
              "        },\n",
              "      };\n",
              "\n",
              "      let percentDone = fileData.byteLength === 0 ?\n",
              "          100 :\n",
              "          Math.round((position / fileData.byteLength) * 100);\n",
              "      percent.textContent = `${percentDone}% done`;\n",
              "\n",
              "    } while (position < fileData.byteLength);\n",
              "  }\n",
              "\n",
              "  // All done.\n",
              "  yield {\n",
              "    response: {\n",
              "      action: 'complete',\n",
              "    }\n",
              "  };\n",
              "}\n",
              "\n",
              "scope.google = scope.google || {};\n",
              "scope.google.colab = scope.google.colab || {};\n",
              "scope.google.colab._files = {\n",
              "  _uploadFiles,\n",
              "  _uploadFilesContinue,\n",
              "};\n",
              "})(self);\n",
              "</script> "
            ]
          },
          "metadata": {}
        },
        {
          "output_type": "stream",
          "name": "stdout",
          "text": [
            "Saving 4.png to 4.png\n",
            "1/1 [==============================] - 0s 194ms/step\n",
            "True 0.9792309\n"
          ]
        }
      ]
    },
    {
      "cell_type": "code",
      "source": [],
      "metadata": {
        "id": "Q8NUs-WSMUGx"
      },
      "execution_count": null,
      "outputs": []
    },
    {
      "cell_type": "code",
      "source": [],
      "metadata": {
        "id": "8oFm6bUeLRom"
      },
      "execution_count": null,
      "outputs": []
    },
    {
      "cell_type": "code",
      "source": [],
      "metadata": {
        "id": "5vZw9xpSLTm0"
      },
      "execution_count": null,
      "outputs": []
    },
    {
      "cell_type": "code",
      "source": [],
      "metadata": {
        "id": "dsu4TDr9LRqy"
      },
      "execution_count": null,
      "outputs": []
    },
    {
      "cell_type": "code",
      "source": [],
      "metadata": {
        "id": "wYxwiPC_LRsi"
      },
      "execution_count": null,
      "outputs": []
    }
  ]
}