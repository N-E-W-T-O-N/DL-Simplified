{
  "nbformat": 4,
  "nbformat_minor": 0,
  "metadata": {
    "colab": {
      "provenance": [],
      "authorship_tag": "ABX9TyMC3kIyWd7Ei2sLbd/Q6FFD",
      "include_colab_link": true
    },
    "kernelspec": {
      "name": "python3",
      "display_name": "Python 3"
    },
    "language_info": {
      "name": "python"
    }
  },
  "cells": [
    {
      "cell_type": "markdown",
      "metadata": {
        "id": "view-in-github",
        "colab_type": "text"
      },
      "source": [
        "<a href=\"https://colab.research.google.com/github/stiwari-ds/DL-Simplified-SWOC-S3/blob/phishing-website-detection/Phishing-Website-Detection/Model/01_ml_baseline.ipynb\" target=\"_parent\"><img src=\"https://colab.research.google.com/assets/colab-badge.svg\" alt=\"Open In Colab\"/></a>"
      ]
    },
    {
      "cell_type": "markdown",
      "source": [
        "# Setup"
      ],
      "metadata": {
        "id": "H2Z1bJ-AblsN"
      }
    },
    {
      "cell_type": "code",
      "execution_count": 1,
      "metadata": {
        "id": "OlNZC9IzZguJ"
      },
      "outputs": [],
      "source": [
        "#Utils\n",
        "import gc\n",
        "import os\n",
        "import warnings\n",
        "\n",
        "gc.enable()\n",
        "warnings.filterwarnings(action='ignore')\n",
        "\n",
        "#Data analysis\n",
        "import numpy as np\n",
        "import pandas as pd\n",
        "\n",
        "#Visualization\n",
        "import matplotlib.pyplot as plt\n",
        "\n",
        "%matplotlib inline\n",
        "%config InlineBackend.figure_format = 'png'\n",
        "\n",
        "#Reproducibility\n",
        "SEED = 2311\n",
        "os.environ['PYTHONHASHSEED'] = str(SEED)\n",
        "np.random.seed(SEED)"
      ]
    },
    {
      "cell_type": "code",
      "source": [
        "#modeling\n",
        "from sklearn.pipeline import Pipeline\n",
        "from sklearn.decomposition import PCA\n",
        "from sklearn.linear_model import LogisticRegression\n",
        "from sklearn.ensemble import RandomForestClassifier\n",
        "from sklearn.model_selection import StratifiedKFold\n",
        "from sklearn.metrics import roc_auc_score, accuracy_score\n",
        "from sklearn.metrics import classification_report, ConfusionMatrixDisplay"
      ],
      "metadata": {
        "id": "6mB-tjmuqAKx"
      },
      "execution_count": 2,
      "outputs": []
    },
    {
      "cell_type": "markdown",
      "source": [
        "# Data"
      ],
      "metadata": {
        "id": "3VQaF0WDsszW"
      }
    },
    {
      "cell_type": "markdown",
      "source": [
        "**Cleaned data and feature sets (from [EDA notebook](https://github.com/stiwari-ds/DL-Simplified-SWOC-S3/blob/phishing-website-detection/Phishing-Website-Detection/Model/00_eda_and_preprocessing.ipynb))**"
      ],
      "metadata": {
        "id": "_mn2WXR4bYCn"
      }
    },
    {
      "cell_type": "code",
      "source": [
        "#data: cleaned version\n",
        "DATA_URL = 'https://raw.githubusercontent.com/stiwari-ds/DL-Simplified-SWOC-S3/phishing-website-detection/Phishing-Website-Detection/Dataset/processed/phishing_website_dataset_cleaned.csv'\n",
        "data = pd.read_csv(DATA_URL)"
      ],
      "metadata": {
        "id": "T_18eVAobrIK"
      },
      "execution_count": 3,
      "outputs": []
    },
    {
      "cell_type": "code",
      "source": [
        "TARGET = 'result'\n",
        "\n",
        "all_features = [f for f in data.columns if f != TARGET]\n",
        "\n",
        "reduced_features = [\n",
        "    f for f in all_features if f not in \n",
        "    ('favicon', 'submitting_to_email', 'redirect', 'right_click',\n",
        "    'popup_window', 'iframe', 'links_pointing_to_page')\n",
        "]\n",
        "\n",
        "top_features = [\n",
        "    'ssl_final_state', 'url_of_anchor', 'prefix_suffix', \n",
        "    'web_traffic', 'having_subdomain', 'links_in_tags', \n",
        "    'request_url', 'sfh', 'domain_registration_length'\n",
        "]"
      ],
      "metadata": {
        "id": "yLCKsSZdbgjH"
      },
      "execution_count": 4,
      "outputs": []
    },
    {
      "cell_type": "markdown",
      "source": [
        "# Modeling"
      ],
      "metadata": {
        "id": "2mh0-5Hxsuat"
      }
    },
    {
      "cell_type": "code",
      "source": [
        "model1 = LogisticRegression(C=0.1, max_iter=1000, random_state=SEED)\n",
        "\n",
        "model2 = Pipeline([\n",
        "    ('pca', PCA(n_components=0.95)),\n",
        "    ('lr', LogisticRegression(C=0.1, max_iter=1000, random_state=SEED))\n",
        "])\n",
        "\n",
        "model3 = RandomForestClassifier(\n",
        "    n_estimators=150, \n",
        "    max_depth=7, \n",
        "    n_jobs=-1,\n",
        "    random_state=SEED\n",
        ")"
      ],
      "metadata": {
        "id": "P1d6-79isxkG"
      },
      "execution_count": 5,
      "outputs": []
    },
    {
      "cell_type": "code",
      "source": [
        "def evaluate(model, feature_set, seed, return_oof=False):\n",
        "    cv_rocauc = []\n",
        "    cv_acc = []\n",
        "    oof_preds = {}\n",
        "\n",
        "    X, y = data[feature_set], data[TARGET]\n",
        "    cv = StratifiedKFold(n_splits=10, shuffle=True, random_state=seed)\n",
        "    for fold, (train_idx, val_idx) in enumerate(cv.split(X, y)):\n",
        "        X_train, y_train = X.loc[train_idx], y.iloc[train_idx]\n",
        "        X_val, y_val = X.loc[val_idx], y.iloc[val_idx]\n",
        "        \n",
        "        model.fit(X_train, y_train)\n",
        "        val_probs = model.predict_proba(X_val)[:, 1]\n",
        "        val_preds = model.predict(X_val)\n",
        "        oof_preds.update(dict(zip(val_idx, val_preds)))\n",
        "        \n",
        "        cv_rocauc.append(roc_auc_score(y_val, val_probs))\n",
        "        cv_acc.append(accuracy_score(y_val, val_preds))\n",
        "    \n",
        "    avg_acc = np.mean(cv_acc)\n",
        "    avg_rocauc = np.mean(cv_rocauc)\n",
        "    oof_preds = pd.Series(oof_preds).sort_index()\n",
        "    \n",
        "    if return_oof: \n",
        "        return avg_rocauc, avg_acc, oof_preds\n",
        "    else: \n",
        "        return avg_rocauc, avg_acc"
      ],
      "metadata": {
        "id": "o3nEz8newYVA"
      },
      "execution_count": 6,
      "outputs": []
    },
    {
      "cell_type": "code",
      "source": [
        "def run_experiment(model, feature_set, verbose=False, runs=10):\n",
        "    training_seeds = np.random.randint(low=1, high=1e5, size=runs)\n",
        "    \n",
        "    all_rocauc = []\n",
        "    all_acc = []\n",
        "    for i, seed in enumerate(training_seeds):\n",
        "        rocauc, acc = evaluate(model, feature_set, seed)\n",
        "        all_rocauc.append(rocauc)\n",
        "        all_acc.append(acc)\n",
        "        if verbose:\n",
        "            print(f'Run #{i+1:<2} [seed = {seed:<4}]: ' \\\n",
        "                  f'ROC-AUC = {rocauc:.4f}, Accuracy = {acc:.4f}')\n",
        "        \n",
        "    print(f'\\nAverage over {runs} runs of 10-fold CV: ' \\\n",
        "          f'ROC-AUC = {np.mean(all_rocauc):.4f}+/-{np.std(all_rocauc):.4f}, ' \\\n",
        "          f'Accuracy = {np.mean(all_acc):.4f}+/-{np.std(all_acc):.4f}\\n')"
      ],
      "metadata": {
        "id": "Uc52aAnFzqUK"
      },
      "execution_count": 7,
      "outputs": []
    },
    {
      "cell_type": "markdown",
      "source": [
        "### 1. Model 1 + All features"
      ],
      "metadata": {
        "id": "8O46K57J8-3h"
      }
    },
    {
      "cell_type": "code",
      "source": [
        "run_experiment(model1, all_features, verbose=True, runs=3)"
      ],
      "metadata": {
        "colab": {
          "base_uri": "https://localhost:8080/"
        },
        "id": "ZRBMCwIyDHcY",
        "outputId": "e3296b90-047c-4182-a920-b64b8997276c"
      },
      "execution_count": 8,
      "outputs": [
        {
          "output_type": "stream",
          "name": "stdout",
          "text": [
            "Run #1  [seed = 4127]: ROC-AUC = 0.9783, Accuracy = 0.9281\n",
            "Run #2  [seed = 74863]: ROC-AUC = 0.9788, Accuracy = 0.9283\n",
            "Run #3  [seed = 13464]: ROC-AUC = 0.9784, Accuracy = 0.9279\n",
            "\n",
            "Average over 3 runs of 10-fold CV: ROC-AUC = 0.9785+/-0.0002, Accuracy = 0.9281+/-0.0001\n",
            "\n"
          ]
        }
      ]
    },
    {
      "cell_type": "code",
      "source": [
        "%%time\n",
        "run_experiment(model1, all_features)"
      ],
      "metadata": {
        "colab": {
          "base_uri": "https://localhost:8080/"
        },
        "id": "GoIfWsjB9EDW",
        "outputId": "029c166e-f143-412d-bd86-62a15e1480d6"
      },
      "execution_count": 9,
      "outputs": [
        {
          "output_type": "stream",
          "name": "stdout",
          "text": [
            "\n",
            "Average over 10 runs of 10-fold CV: ROC-AUC = 0.9786+/-0.0001, Accuracy = 0.9281+/-0.0004\n",
            "\n",
            "CPU times: user 17 s, sys: 15 s, total: 32.1 s\n",
            "Wall time: 27.3 s\n"
          ]
        }
      ]
    },
    {
      "cell_type": "markdown",
      "source": [
        "### 2. Model 1 + Reduced features"
      ],
      "metadata": {
        "id": "0X3jfs849EbV"
      }
    },
    {
      "cell_type": "code",
      "source": [
        "%%time\n",
        "run_experiment(model1, reduced_features)"
      ],
      "metadata": {
        "colab": {
          "base_uri": "https://localhost:8080/"
        },
        "id": "Yrkm7ub29JSC",
        "outputId": "a49515ff-78d9-4a02-e4d4-a48134a4e320"
      },
      "execution_count": 10,
      "outputs": [
        {
          "output_type": "stream",
          "name": "stdout",
          "text": [
            "\n",
            "Average over 10 runs of 10-fold CV: ROC-AUC = 0.9769+/-0.0001, Accuracy = 0.9251+/-0.0003\n",
            "\n",
            "CPU times: user 10.9 s, sys: 7.5 s, total: 18.4 s\n",
            "Wall time: 9.57 s\n"
          ]
        }
      ]
    },
    {
      "cell_type": "markdown",
      "source": [
        "### 3. Model 1 + Top features"
      ],
      "metadata": {
        "id": "IGmttyH39JqO"
      }
    },
    {
      "cell_type": "code",
      "source": [
        "%%time\n",
        "run_experiment(model1, top_features)"
      ],
      "metadata": {
        "colab": {
          "base_uri": "https://localhost:8080/"
        },
        "id": "IXauX2oV9N3v",
        "outputId": "21da78f9-6434-4d4d-8b4e-605e9dd50656"
      },
      "execution_count": 11,
      "outputs": [
        {
          "output_type": "stream",
          "name": "stdout",
          "text": [
            "\n",
            "Average over 10 runs of 10-fold CV: ROC-AUC = 0.9741+/-0.0001, Accuracy = 0.9205+/-0.0003\n",
            "\n",
            "CPU times: user 5.82 s, sys: 4.36 s, total: 10.2 s\n",
            "Wall time: 5.31 s\n"
          ]
        }
      ]
    },
    {
      "cell_type": "markdown",
      "source": [
        "### 4. Model 2 + All features"
      ],
      "metadata": {
        "id": "BVKZ9QCm9OS3"
      }
    },
    {
      "cell_type": "code",
      "source": [
        "%%time\n",
        "run_experiment(model2, all_features)"
      ],
      "metadata": {
        "colab": {
          "base_uri": "https://localhost:8080/"
        },
        "id": "OMa-Scex9Tr5",
        "outputId": "70793b92-d6ff-4371-c107-e6eaa4fab826"
      },
      "execution_count": 12,
      "outputs": [
        {
          "output_type": "stream",
          "name": "stdout",
          "text": [
            "\n",
            "Average over 10 runs of 10-fold CV: ROC-AUC = 0.9774+/-0.0000, Accuracy = 0.9245+/-0.0005\n",
            "\n",
            "CPU times: user 11.5 s, sys: 14.1 s, total: 25.6 s\n",
            "Wall time: 13.4 s\n"
          ]
        }
      ]
    },
    {
      "cell_type": "markdown",
      "source": [
        "### 5. Model 2 + Reduced features"
      ],
      "metadata": {
        "id": "lBMMrhacDsUk"
      }
    },
    {
      "cell_type": "code",
      "source": [
        "%%time\n",
        "run_experiment(model2, reduced_features)"
      ],
      "metadata": {
        "colab": {
          "base_uri": "https://localhost:8080/"
        },
        "id": "5BYnS9iXDnV0",
        "outputId": "c5c7f14d-352a-4c0e-f378-dd3d15f7018b"
      },
      "execution_count": 13,
      "outputs": [
        {
          "output_type": "stream",
          "name": "stdout",
          "text": [
            "\n",
            "Average over 10 runs of 10-fold CV: ROC-AUC = 0.9767+/-0.0001, Accuracy = 0.9238+/-0.0002\n",
            "\n",
            "CPU times: user 9.78 s, sys: 11.2 s, total: 20.9 s\n",
            "Wall time: 10.9 s\n"
          ]
        }
      ]
    },
    {
      "cell_type": "markdown",
      "source": [
        "### 6. Model 2 + Top features"
      ],
      "metadata": {
        "id": "khBfABfcD0k7"
      }
    },
    {
      "cell_type": "code",
      "source": [
        "%%time\n",
        "run_experiment(model2, top_features)"
      ],
      "metadata": {
        "colab": {
          "base_uri": "https://localhost:8080/"
        },
        "id": "JuGlQuWpD6Jw",
        "outputId": "25aaee2e-8a53-49c9-9733-f31c30153406"
      },
      "execution_count": 14,
      "outputs": [
        {
          "output_type": "stream",
          "name": "stdout",
          "text": [
            "\n",
            "Average over 10 runs of 10-fold CV: ROC-AUC = 0.9738+/-0.0001, Accuracy = 0.9212+/-0.0004\n",
            "\n",
            "CPU times: user 7.06 s, sys: 9.7 s, total: 16.8 s\n",
            "Wall time: 10.2 s\n"
          ]
        }
      ]
    },
    {
      "cell_type": "markdown",
      "source": [
        "### 7. Model 3 + All features"
      ],
      "metadata": {
        "id": "a2qRwd3s9UAn"
      }
    },
    {
      "cell_type": "code",
      "source": [
        "%%time\n",
        "run_experiment(model3, all_features)"
      ],
      "metadata": {
        "colab": {
          "base_uri": "https://localhost:8080/"
        },
        "id": "dI6UJYOh9mFz",
        "outputId": "d0d774c6-f5c5-49a0-aa59-545fbc2787d8"
      },
      "execution_count": 15,
      "outputs": [
        {
          "output_type": "stream",
          "name": "stdout",
          "text": [
            "\n",
            "Average over 10 runs of 10-fold CV: ROC-AUC = 0.9872+/-0.0002, Accuracy = 0.9384+/-0.0006\n",
            "\n",
            "CPU times: user 1min 58s, sys: 8.52 s, total: 2min 6s\n",
            "Wall time: 1min 23s\n"
          ]
        }
      ]
    },
    {
      "cell_type": "markdown",
      "source": [
        "### 8. Model 3 + Reduced features"
      ],
      "metadata": {
        "id": "hF7xansuD4ui"
      }
    },
    {
      "cell_type": "code",
      "source": [
        "%%time\n",
        "run_experiment(model3, reduced_features)"
      ],
      "metadata": {
        "colab": {
          "base_uri": "https://localhost:8080/"
        },
        "id": "CirUCDn9EIFn",
        "outputId": "c5154f9c-a1fa-4081-dd63-1a32a450dcc7"
      },
      "execution_count": 16,
      "outputs": [
        {
          "output_type": "stream",
          "name": "stdout",
          "text": [
            "\n",
            "Average over 10 runs of 10-fold CV: ROC-AUC = 0.9868+/-0.0001, Accuracy = 0.9385+/-0.0007\n",
            "\n",
            "CPU times: user 1min 52s, sys: 7.88 s, total: 2min\n",
            "Wall time: 1min 19s\n"
          ]
        }
      ]
    },
    {
      "cell_type": "markdown",
      "source": [
        "### 9. Model 3 + Top features"
      ],
      "metadata": {
        "id": "iZ2bZ6RcEE2R"
      }
    },
    {
      "cell_type": "code",
      "source": [
        "%%time\n",
        "run_experiment(model3, top_features)"
      ],
      "metadata": {
        "colab": {
          "base_uri": "https://localhost:8080/"
        },
        "id": "sqaaHiimEKUh",
        "outputId": "b9dc1925-98fc-48ef-edf2-bb1326dd407d"
      },
      "execution_count": 17,
      "outputs": [
        {
          "output_type": "stream",
          "name": "stdout",
          "text": [
            "\n",
            "Average over 10 runs of 10-fold CV: ROC-AUC = 0.9859+/-0.0001, Accuracy = 0.9363+/-0.0006\n",
            "\n",
            "CPU times: user 1min 44s, sys: 7.75 s, total: 1min 52s\n",
            "Wall time: 1min 14s\n"
          ]
        }
      ]
    },
    {
      "cell_type": "markdown",
      "source": [
        "# Results analysis"
      ],
      "metadata": {
        "id": "-nvPdJpxnBWh"
      }
    },
    {
      "cell_type": "markdown",
      "source": [
        "### 1. Logistic Regression"
      ],
      "metadata": {
        "id": "UCRlr_rnpmZs"
      }
    },
    {
      "cell_type": "code",
      "source": [
        "lr = LogisticRegression(C=0.1, max_iter=1000, random_state=SEED)\n",
        "\n",
        "lr_rocauc, lr_acc, lr_oof = evaluate(lr, all_features, seed=SEED, return_oof=True)"
      ],
      "metadata": {
        "id": "uUGvfhUnnEZZ"
      },
      "execution_count": 18,
      "outputs": []
    },
    {
      "cell_type": "code",
      "source": [
        "print(f'ROC-AUC = {lr_rocauc:.4f}, Accuracy = {lr_acc:.4f}')"
      ],
      "metadata": {
        "colab": {
          "base_uri": "https://localhost:8080/"
        },
        "id": "PHXvzPDGuiUE",
        "outputId": "c94540a7-4f94-43d9-d6eb-c86bdc7bda2e"
      },
      "execution_count": 19,
      "outputs": [
        {
          "output_type": "stream",
          "name": "stdout",
          "text": [
            "ROC-AUC = 0.9786, Accuracy = 0.9288\n"
          ]
        }
      ]
    },
    {
      "cell_type": "code",
      "source": [
        "lr_cm = ConfusionMatrixDisplay.from_predictions(data[TARGET], lr_oof, cmap='Blues')\n",
        "lr_cm.ax_.set_title('Logistic Regression out-of-fold predictions',\n",
        "                    fontweight='bold', fontsize=12, ha='center')\n",
        "plt.savefig(fname='logistic-regression-confusion-matrix.png', bbox_inches='tight')\n",
        "plt.show()"
      ],
      "metadata": {
        "colab": {
          "base_uri": "https://localhost:8080/",
          "height": 295
        },
        "id": "QN9f1EGuuvrb",
        "outputId": "852e912e-2f47-415e-e3db-4b2e6c0b098b"
      },
      "execution_count": 20,
      "outputs": [
        {
          "output_type": "display_data",
          "data": {
            "text/plain": [
              "<Figure size 432x288 with 2 Axes>"
            ],
            "image/png": "[encoded data removed]"
          },
          "metadata": {
            "needs_background": "light"
          }
        }
      ]
    },
    {
      "cell_type": "markdown",
      "source": [
        "### 2. PCA + Logistic Regression"
      ],
      "metadata": {
        "id": "B0J5fDEs0b9w"
      }
    },
    {
      "cell_type": "code",
      "source": [
        "pcalr = Pipeline([\n",
        "    ('pca', PCA(n_components=0.95)),\n",
        "    ('lr', LogisticRegression(C=0.1, max_iter=1000, random_state=SEED))\n",
        "])\n",
        "\n",
        "pcalr_rocauc, pcalr_acc, pcalr_oof = evaluate(pcalr, all_features, seed=SEED, return_oof=True)"
      ],
      "metadata": {
        "id": "ch5nIfxEtC-6"
      },
      "execution_count": 21,
      "outputs": []
    },
    {
      "cell_type": "code",
      "source": [
        "print(f'ROC-AUC = {pcalr_rocauc:.4f}, Accuracy = {pcalr_acc:.4f}')"
      ],
      "metadata": {
        "colab": {
          "base_uri": "https://localhost:8080/"
        },
        "outputId": "4b55eda2-1cb9-49af-fcf7-6d76ac5de90b",
        "id": "0BU6Tq8B0jfx"
      },
      "execution_count": 22,
      "outputs": [
        {
          "output_type": "stream",
          "name": "stdout",
          "text": [
            "ROC-AUC = 0.9773, Accuracy = 0.9243\n"
          ]
        }
      ]
    },
    {
      "cell_type": "code",
      "source": [
        "pcalr_cm = ConfusionMatrixDisplay.from_predictions(data[TARGET], pcalr_oof, cmap='Blues')\n",
        "pcalr_cm.ax_.set_title('PCA + Logistic Regression out-of-fold predictions',\n",
        "                        fontweight='bold', fontsize=12, ha='center')\n",
        "plt.savefig(fname='pca-logistic-regression-confusion-matrix.png', bbox_inches='tight')\n",
        "plt.show()"
      ],
      "metadata": {
        "colab": {
          "base_uri": "https://localhost:8080/",
          "height": 295
        },
        "outputId": "f9219e04-10de-4cd4-9617-6a3ccb20c94b",
        "id": "_XYLciN70jfz"
      },
      "execution_count": 23,
      "outputs": [
        {
          "output_type": "display_data",
          "data": {
            "text/plain": [
              "<Figure size 432x288 with 2 Axes>"
            ],
            "image/png": "[encoded data removed]"
          },
          "metadata": {
            "needs_background": "light"
          }
        }
      ]
    },
    {
      "cell_type": "markdown",
      "source": [
        "### 3. RandomForestClassifier"
      ],
      "metadata": {
        "id": "ZTkjreek1CMh"
      }
    },
    {
      "cell_type": "code",
      "source": [
        "rf = RandomForestClassifier(\n",
        "    n_estimators=150, \n",
        "    max_depth=7, \n",
        "    n_jobs=-1,\n",
        "    random_state=SEED\n",
        ")\n",
        "\n",
        "rf_rocauc, rf_acc, rf_oof = evaluate(rf, all_features, seed=SEED, return_oof=True)"
      ],
      "metadata": {
        "id": "jXioeI0itEri"
      },
      "execution_count": 24,
      "outputs": []
    },
    {
      "cell_type": "code",
      "source": [
        "print(f'ROC-AUC = {rf_rocauc:.4f}, Accuracy = {rf_acc:.4f}')"
      ],
      "metadata": {
        "colab": {
          "base_uri": "https://localhost:8080/"
        },
        "outputId": "cadb9fc9-e66d-4e37-973c-edfab71940b2",
        "id": "r3hrRECA1P85"
      },
      "execution_count": 25,
      "outputs": [
        {
          "output_type": "stream",
          "name": "stdout",
          "text": [
            "ROC-AUC = 0.9872, Accuracy = 0.9377\n"
          ]
        }
      ]
    },
    {
      "cell_type": "code",
      "source": [
        "rf_cm = ConfusionMatrixDisplay.from_predictions(data[TARGET], rf_oof, cmap='Blues')\n",
        "rf_cm.ax_.set_title('Random Forest out-of-fold predictions',\n",
        "                    fontweight='bold', fontsize=12, ha='center')\n",
        "plt.savefig(fname='random-forest-confusion-matrix.png', bbox_inches='tight')\n",
        "plt.show()"
      ],
      "metadata": {
        "colab": {
          "base_uri": "https://localhost:8080/",
          "height": 295
        },
        "outputId": "d2ac7a4d-cb0c-4c3e-b3ed-45b30297d1cf",
        "id": "F0BVatBK1P86"
      },
      "execution_count": 26,
      "outputs": [
        {
          "output_type": "display_data",
          "data": {
            "text/plain": [
              "<Figure size 432x288 with 2 Axes>"
            ],
            "image/png": "[encoded data removed]"
          },
          "metadata": {
            "needs_background": "light"
          }
        }
      ]
    },
    {
      "cell_type": "markdown",
      "source": [
        "Random Forest was able to make a significant improvement on false-negatives."
      ],
      "metadata": {
        "id": "Fw4rleHS1uNi"
      }
    },
    {
      "cell_type": "markdown",
      "source": [
        "# Summary"
      ],
      "metadata": {
        "id": "0J3FUDeoPBK9"
      }
    },
    {
      "cell_type": "markdown",
      "source": [
        "* We tried three ML models for binary classification: \n",
        "    1. Logistic Regression (LR)\n",
        "    2. Principal Component Analysis + Logistic Regression pipeline (PCA-LR)\n",
        "    3. RandomForestClassifier (RF)\n",
        "\n",
        "* All three models show very small drop in accuracy (maximum of 0.7% for LR) even when feature set is reduced by 70% (30 -> 9), with the training time getting shorter. \n",
        "* PCA-LR shows consistent performance since components have variance in decreasing order so most of the information is captured by the first few components. RF also shows no significant drop in performance since it is able to utilize the informative features better, compared to a linear model like LR.\n",
        "* Thus, we can prioritize working with a smaller feature set first and see if it is enough to outperform these models. The reduction in training time might be more valuable for fitting a complex model like a neural network as compared to these simple models.\n",
        "* **When modeling with neural networks, we should be aiming to beat this baseline performance: AUC $\\approx$ 0.987 and Accuracy $\\approx$ 93.8%**"
      ],
      "metadata": {
        "id": "1pjJy4zFPEyz"
      }
    }
  ]
}