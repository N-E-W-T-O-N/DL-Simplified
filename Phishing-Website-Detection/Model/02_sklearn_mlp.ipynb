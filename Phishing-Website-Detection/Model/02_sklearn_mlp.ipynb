{
  "nbformat": 4,
  "nbformat_minor": 0,
  "metadata": {
    "colab": {
      "provenance": [],
      "authorship_tag": "ABX9TyMN6WSqiqu4CS7vtFI8ctU9",
      "include_colab_link": true
    },
    "kernelspec": {
      "name": "python3",
      "display_name": "Python 3"
    },
    "language_info": {
      "name": "python"
    }
  },
  "cells": [
    {
      "cell_type": "markdown",
      "metadata": {
        "id": "view-in-github",
        "colab_type": "text"
      },
      "source": [
        "<a href=\"https://colab.research.google.com/github/stiwari-ds/DL-Simplified-SWOC-S3/blob/phishing-website-detection/Phishing-Website-Detection/Model/02_sklearn_mlp.ipynb\" target=\"_parent\"><img src=\"https://colab.research.google.com/assets/colab-badge.svg\" alt=\"Open In Colab\"/></a>"
      ]
    },
    {
      "cell_type": "markdown",
      "source": [
        "# [**Multi-Layer Perceptron classifier using Scikit-learn**](https://scikit-learn.org/stable/modules/generated/sklearn.neural_network.MLPClassifier.html)"
      ],
      "metadata": {
        "id": "ASFsQoj23stc"
      }
    },
    {
      "cell_type": "markdown",
      "source": [
        "# Setup"
      ],
      "metadata": {
        "id": "9D9QPlrg305z"
      }
    },
    {
      "cell_type": "code",
      "execution_count": 43,
      "metadata": {
        "id": "usdcb_d9u0jD"
      },
      "outputs": [],
      "source": [
        "#Utils\n",
        "import gc\n",
        "import os\n",
        "import warnings\n",
        "\n",
        "gc.enable()\n",
        "warnings.filterwarnings(action='ignore')\n",
        "\n",
        "#Data analysis\n",
        "import numpy as np\n",
        "import pandas as pd\n",
        "\n",
        "#Visualization\n",
        "import matplotlib.pyplot as plt\n",
        "\n",
        "%matplotlib inline\n",
        "%config InlineBackend.figure_format = 'png'\n",
        "\n",
        "#Reproducibility\n",
        "SEED = 2311\n",
        "os.environ['PYTHONHASHSEED'] = str(SEED)\n",
        "np.random.seed(SEED)"
      ]
    },
    {
      "cell_type": "code",
      "source": [
        "#modeling\n",
        "from sklearn.neural_network import MLPClassifier\n",
        "from sklearn.model_selection import StratifiedKFold\n",
        "from sklearn.experimental import enable_halving_search_cv\n",
        "from sklearn.model_selection import HalvingGridSearchCV\n",
        "from sklearn.metrics import roc_auc_score, accuracy_score\n",
        "from sklearn.metrics import ConfusionMatrixDisplay"
      ],
      "metadata": {
        "id": "y9jjzzVq4YkZ"
      },
      "execution_count": 44,
      "outputs": []
    },
    {
      "cell_type": "markdown",
      "source": [
        "# Data"
      ],
      "metadata": {
        "id": "3VQaF0WDsszW"
      }
    },
    {
      "cell_type": "markdown",
      "source": [
        "**Cleaned data and feature sets (from [EDA notebook](https://github.com/stiwari-ds/DL-Simplified-SWOC-S3/blob/phishing-website-detection/Phishing-Website-Detection/Model/00_eda_and_preprocessing.ipynb))**"
      ],
      "metadata": {
        "id": "_mn2WXR4bYCn"
      }
    },
    {
      "cell_type": "code",
      "source": [
        "#data: cleaned version\n",
        "DATA_URL = 'https://raw.githubusercontent.com/stiwari-ds/DL-Simplified-SWOC-S3/phishing-website-detection/Phishing-Website-Detection/Dataset/processed/phishing_website_dataset_cleaned.csv'\n",
        "data = pd.read_csv(DATA_URL)"
      ],
      "metadata": {
        "id": "T_18eVAobrIK"
      },
      "execution_count": 45,
      "outputs": []
    },
    {
      "cell_type": "code",
      "source": [
        "TARGET = 'result'\n",
        "\n",
        "all_features = [f for f in data.columns if f != TARGET]\n",
        "\n",
        "reduced_features = [\n",
        "    f for f in all_features if f not in \n",
        "    ('favicon', 'submitting_to_email', 'redirect', 'right_click',\n",
        "    'popup_window', 'iframe', 'links_pointing_to_page')\n",
        "]\n",
        "\n",
        "top_features = [\n",
        "    'ssl_final_state', 'url_of_anchor', 'prefix_suffix', \n",
        "    'web_traffic', 'having_subdomain', 'links_in_tags', \n",
        "    'request_url', 'sfh', 'domain_registration_length'\n",
        "]"
      ],
      "metadata": {
        "id": "yLCKsSZdbgjH"
      },
      "execution_count": 46,
      "outputs": []
    },
    {
      "cell_type": "markdown",
      "source": [
        "# Modeling"
      ],
      "metadata": {
        "id": "2mh0-5Hxsuat"
      }
    },
    {
      "cell_type": "code",
      "source": [
        "def evaluate(model, feature_set, seed, return_oof=False):\n",
        "    cv_rocauc = []\n",
        "    cv_acc = []\n",
        "    oof_preds = {}\n",
        "\n",
        "    X, y = data[feature_set], data[TARGET]\n",
        "    cv = StratifiedKFold(n_splits=10, shuffle=True, random_state=seed)\n",
        "    for fold, (train_idx, val_idx) in enumerate(cv.split(X, y)):\n",
        "        X_train, y_train = X.loc[train_idx], y.iloc[train_idx]\n",
        "        X_val, y_val = X.loc[val_idx], y.iloc[val_idx]\n",
        "        \n",
        "        model.fit(X_train, y_train)\n",
        "        val_probs = model.predict_proba(X_val)[:, 1]\n",
        "        val_preds = model.predict(X_val)\n",
        "        oof_preds.update(dict(zip(val_idx, val_preds)))\n",
        "        \n",
        "        cv_rocauc.append(roc_auc_score(y_val, val_probs))\n",
        "        cv_acc.append(accuracy_score(y_val, val_preds))\n",
        "    \n",
        "    avg_acc = np.mean(cv_acc)\n",
        "    avg_rocauc = np.mean(cv_rocauc)\n",
        "    oof_preds = pd.Series(oof_preds).sort_index()\n",
        "    \n",
        "    if return_oof: \n",
        "        return avg_rocauc, avg_acc, oof_preds\n",
        "    else: \n",
        "        return avg_rocauc, avg_acc"
      ],
      "metadata": {
        "id": "o3nEz8newYVA"
      },
      "execution_count": 47,
      "outputs": []
    },
    {
      "cell_type": "code",
      "source": [
        "def run_experiment(model, feature_set, verbose=False, runs=10):\n",
        "    training_seeds = np.random.randint(low=1, high=1e5, size=runs)\n",
        "    \n",
        "    all_rocauc = []\n",
        "    all_acc = []\n",
        "    for i, seed in enumerate(training_seeds):\n",
        "        rocauc, acc = evaluate(model, feature_set, seed)\n",
        "        all_rocauc.append(rocauc)\n",
        "        all_acc.append(acc)\n",
        "        if verbose:\n",
        "            print(f'Run #{i+1:<2} [seed = {seed:<4}]: ' \\\n",
        "                  f'ROC-AUC = {rocauc:.4f}, Accuracy = {acc:.4f}')\n",
        "        \n",
        "    print(f'\\nAverage over {runs} runs of 10-fold CV: ' \\\n",
        "          f'ROC-AUC = {np.mean(all_rocauc):.4f}+/-{np.std(all_rocauc):.4f}, ' \\\n",
        "          f'Accuracy = {np.mean(all_acc):.4f}+/-{np.std(all_acc):.4f}\\n')"
      ],
      "metadata": {
        "id": "Uc52aAnFzqUK"
      },
      "execution_count": 48,
      "outputs": []
    },
    {
      "cell_type": "code",
      "source": [
        "base_params = {\n",
        "    'max_iter': 1000,\n",
        "    'shuffle': True,\n",
        "    'tol': 2e-4,\n",
        "    'early_stopping': True,\n",
        "    'n_iter_no_change': 10\n",
        "}"
      ],
      "metadata": {
        "id": "avwetmPDC80I"
      },
      "execution_count": 49,
      "outputs": []
    },
    {
      "cell_type": "markdown",
      "source": [
        "## Shallow neural network"
      ],
      "metadata": {
        "id": "xwD-r1pzA91U"
      }
    },
    {
      "cell_type": "code",
      "source": [
        "%%time\n",
        "model1 = MLPClassifier(**base_params) #default: 1 hidden layer, size = 100\n",
        "run_experiment(model1, top_features, verbose=True, runs=3)"
      ],
      "metadata": {
        "colab": {
          "base_uri": "https://localhost:8080/"
        },
        "id": "GEd8UbasBgfz",
        "outputId": "672bea38-6dfe-48a6-efa1-e90ea5351885"
      },
      "execution_count": 50,
      "outputs": [
        {
          "output_type": "stream",
          "name": "stdout",
          "text": [
            "Run #1  [seed = 4127]: ROC-AUC = 0.9851, Accuracy = 0.9356\n",
            "Run #2  [seed = 74863]: ROC-AUC = 0.9847, Accuracy = 0.9355\n",
            "Run #3  [seed = 13464]: ROC-AUC = 0.9802, Accuracy = 0.9286\n",
            "\n",
            "Average over 3 runs of 10-fold CV: ROC-AUC = 0.9834+/-0.0022, Accuracy = 0.9332+/-0.0033\n",
            "\n",
            "CPU times: user 1min 38s, sys: 1min 22s, total: 3min\n",
            "Wall time: 1min 44s\n"
          ]
        }
      ]
    },
    {
      "cell_type": "code",
      "source": [
        "%%time\n",
        "run_experiment(model1, top_features)"
      ],
      "metadata": {
        "colab": {
          "base_uri": "https://localhost:8080/"
        },
        "id": "xastGObMKDMd",
        "outputId": "1cf58fbd-f87e-4594-bbcf-46d393807155"
      },
      "execution_count": 51,
      "outputs": [
        {
          "output_type": "stream",
          "name": "stdout",
          "text": [
            "\n",
            "Average over 10 runs of 10-fold CV: ROC-AUC = 0.9833+/-0.0012, Accuracy = 0.9328+/-0.0020\n",
            "\n",
            "CPU times: user 4min 40s, sys: 3min 43s, total: 8min 23s\n",
            "Wall time: 4min 22s\n"
          ]
        }
      ]
    },
    {
      "cell_type": "code",
      "source": [
        "%%time\n",
        "run_experiment(model1, reduced_features)"
      ],
      "metadata": {
        "colab": {
          "base_uri": "https://localhost:8080/"
        },
        "id": "EfpuK9a3VLpq",
        "outputId": "88c13255-cfc6-4682-bd18-34db12f71f0b"
      },
      "execution_count": 52,
      "outputs": [
        {
          "output_type": "stream",
          "name": "stdout",
          "text": [
            "\n",
            "Average over 10 runs of 10-fold CV: ROC-AUC = 0.9901+/-0.0007, Accuracy = 0.9487+/-0.0015\n",
            "\n",
            "CPU times: user 7min 32s, sys: 5min 32s, total: 13min 5s\n",
            "Wall time: 6min 46s\n"
          ]
        }
      ]
    },
    {
      "cell_type": "code",
      "source": [
        "%%time\n",
        "run_experiment(model1, all_features)"
      ],
      "metadata": {
        "colab": {
          "base_uri": "https://localhost:8080/"
        },
        "id": "JifNcfyFVPYW",
        "outputId": "2990ccb8-6fa6-4e41-84e0-e7e486bb447d"
      },
      "execution_count": 53,
      "outputs": [
        {
          "output_type": "stream",
          "name": "stdout",
          "text": [
            "\n",
            "Average over 10 runs of 10-fold CV: ROC-AUC = 0.9926+/-0.0011, Accuracy = 0.9559+/-0.0025\n",
            "\n",
            "CPU times: user 8min 37s, sys: 6min 11s, total: 14min 48s\n",
            "Wall time: 7min 39s\n"
          ]
        }
      ]
    },
    {
      "cell_type": "markdown",
      "source": [
        "**We have already surpassed our [target baseline score](https://colab.research.google.com/drive/1rlOr88p4nHO0si1t_TuBjOnGreFGpDPH#scrollTo=0J3FUDeoPBK9) with a shallow neural network.**  \n",
        "Next, we will work with multiple hidden layers to create deep neural networks."
      ],
      "metadata": {
        "id": "k2jZYLQFc2cj"
      }
    },
    {
      "cell_type": "markdown",
      "source": [
        "## Deep neural network"
      ],
      "metadata": {
        "id": "57tsXfuTdb0C"
      }
    },
    {
      "cell_type": "code",
      "source": [
        "model2 = MLPClassifier(\n",
        "    **base_params,\n",
        "    hidden_layer_sizes=(64, 64)\n",
        ")"
      ],
      "metadata": {
        "id": "bVoNpwa7VSB4"
      },
      "execution_count": 54,
      "outputs": []
    },
    {
      "cell_type": "code",
      "source": [
        "%%time\n",
        "run_experiment(model2, top_features, verbose=True, runs=3)"
      ],
      "metadata": {
        "colab": {
          "base_uri": "https://localhost:8080/"
        },
        "outputId": "8a3bc94e-55ef-4ef0-b93f-3a170af99d90",
        "id": "WsR4psggd4Tm"
      },
      "execution_count": 55,
      "outputs": [
        {
          "output_type": "stream",
          "name": "stdout",
          "text": [
            "Run #1  [seed = 54692]: ROC-AUC = 0.9871, Accuracy = 0.9403\n",
            "Run #2  [seed = 21352]: ROC-AUC = 0.9867, Accuracy = 0.9396\n",
            "Run #3  [seed = 84863]: ROC-AUC = 0.9865, Accuracy = 0.9383\n",
            "\n",
            "Average over 3 runs of 10-fold CV: ROC-AUC = 0.9868+/-0.0002, Accuracy = 0.9394+/-0.0008\n",
            "\n",
            "CPU times: user 1min 54s, sys: 1min 24s, total: 3min 18s\n",
            "Wall time: 1min 43s\n"
          ]
        }
      ]
    },
    {
      "cell_type": "code",
      "source": [
        "%%time\n",
        "run_experiment(model2, top_features)"
      ],
      "metadata": {
        "colab": {
          "base_uri": "https://localhost:8080/"
        },
        "outputId": "285c6295-5549-433c-9bd8-093b9ec48362",
        "id": "AU3pyEhjd4Tp"
      },
      "execution_count": 56,
      "outputs": [
        {
          "output_type": "stream",
          "name": "stdout",
          "text": [
            "\n",
            "Average over 10 runs of 10-fold CV: ROC-AUC = 0.9868+/-0.0004, Accuracy = 0.9382+/-0.0011\n",
            "\n",
            "CPU times: user 6min 18s, sys: 4min 26s, total: 10min 45s\n",
            "Wall time: 5min 37s\n"
          ]
        }
      ]
    },
    {
      "cell_type": "code",
      "source": [
        "%%time\n",
        "run_experiment(model2, reduced_features)"
      ],
      "metadata": {
        "colab": {
          "base_uri": "https://localhost:8080/"
        },
        "outputId": "8b00f49c-c732-4963-cafb-8fc18c2f9ddb",
        "id": "B32qATBid4Tq"
      },
      "execution_count": 57,
      "outputs": [
        {
          "output_type": "stream",
          "name": "stdout",
          "text": [
            "\n",
            "Average over 10 runs of 10-fold CV: ROC-AUC = 0.9926+/-0.0005, Accuracy = 0.9557+/-0.0016\n",
            "\n",
            "CPU times: user 8min 51s, sys: 5min 58s, total: 14min 49s\n",
            "Wall time: 7min 40s\n"
          ]
        }
      ]
    },
    {
      "cell_type": "code",
      "source": [
        "%%time\n",
        "run_experiment(model2, all_features)"
      ],
      "metadata": {
        "colab": {
          "base_uri": "https://localhost:8080/"
        },
        "outputId": "8d188c5a-d686-4f35-eef2-9139c632993e",
        "id": "FlWsWBcpd4Ts"
      },
      "execution_count": 58,
      "outputs": [
        {
          "output_type": "stream",
          "name": "stdout",
          "text": [
            "\n",
            "Average over 10 runs of 10-fold CV: ROC-AUC = 0.9942+/-0.0003, Accuracy = 0.9622+/-0.0014\n",
            "\n",
            "CPU times: user 10min 17s, sys: 6min 50s, total: 17min 8s\n",
            "Wall time: 8min 52s\n"
          ]
        }
      ]
    },
    {
      "cell_type": "markdown",
      "source": [
        "**Easily beating the target baseline and also outperforming the shallow neural network.**  \n",
        "Next, we can tune the hyperparameters to squeeze out some more performance. We will use all the features to do so, since we are aiming for best performance in terms of accuracy/AUC."
      ],
      "metadata": {
        "id": "caiNpDt8pHow"
      }
    },
    {
      "cell_type": "markdown",
      "source": [
        "## Hyperparameter tuning"
      ],
      "metadata": {
        "id": "BSEQwU7JmTFt"
      }
    },
    {
      "cell_type": "code",
      "source": [
        "param_grid = {\n",
        "    'hidden_layer_sizes': [(128, 128), (128, 64), (64, 64, 64), (32, 32, 32)],\n",
        "    'alpha': [0.0001, 0.001, 0.01, 0.05, 0.1, 1.0],\n",
        "    'batch_size': [64, 128, 256, 512],\n",
        "    'learning_rate_init': [0.001, 0.01, 0.1, 1.0]\n",
        "}"
      ],
      "metadata": {
        "id": "bvKqo9oBm9UV"
      },
      "execution_count": 59,
      "outputs": []
    },
    {
      "cell_type": "code",
      "source": [
        "%%time\n",
        "mlp_tuner = HalvingGridSearchCV(\n",
        "    estimator=MLPClassifier(**base_params),\n",
        "    param_grid=param_grid,\n",
        "    factor=2,\n",
        "    cv=10,\n",
        "    scoring='accuracy',\n",
        "    refit=True,\n",
        "    n_jobs=-1,\n",
        "    random_state=SEED,\n",
        "    verbose=2\n",
        ")\n",
        "\n",
        "mlp_tuner.fit(data[all_features], data[TARGET])"
      ],
      "metadata": {
        "colab": {
          "base_uri": "https://localhost:8080/"
        },
        "id": "opDSTxNEqtDP",
        "outputId": "1a273601-633d-4cc4-b2ea-a469f491e1b5"
      },
      "execution_count": 60,
      "outputs": [
        {
          "output_type": "stream",
          "name": "stdout",
          "text": [
            "n_iterations: 9\n",
            "n_required_iterations: 9\n",
            "n_possible_iterations: 9\n",
            "min_resources_: 43\n",
            "max_resources_: 11055\n",
            "aggressive_elimination: False\n",
            "factor: 2\n",
            "----------\n",
            "iter: 0\n",
            "n_candidates: 384\n",
            "n_resources: 43\n",
            "Fitting 10 folds for each of 384 candidates, totalling 3840 fits\n",
            "----------\n",
            "iter: 1\n",
            "n_candidates: 192\n",
            "n_resources: 86\n",
            "Fitting 10 folds for each of 192 candidates, totalling 1920 fits\n",
            "----------\n",
            "iter: 2\n",
            "n_candidates: 96\n",
            "n_resources: 172\n",
            "Fitting 10 folds for each of 96 candidates, totalling 960 fits\n",
            "----------\n",
            "iter: 3\n",
            "n_candidates: 48\n",
            "n_resources: 344\n",
            "Fitting 10 folds for each of 48 candidates, totalling 480 fits\n",
            "----------\n",
            "iter: 4\n",
            "n_candidates: 24\n",
            "n_resources: 688\n",
            "Fitting 10 folds for each of 24 candidates, totalling 240 fits\n",
            "----------\n",
            "iter: 5\n",
            "n_candidates: 12\n",
            "n_resources: 1376\n",
            "Fitting 10 folds for each of 12 candidates, totalling 120 fits\n",
            "----------\n",
            "iter: 6\n",
            "n_candidates: 6\n",
            "n_resources: 2752\n",
            "Fitting 10 folds for each of 6 candidates, totalling 60 fits\n",
            "----------\n",
            "iter: 7\n",
            "n_candidates: 3\n",
            "n_resources: 5504\n",
            "Fitting 10 folds for each of 3 candidates, totalling 30 fits\n",
            "----------\n",
            "iter: 8\n",
            "n_candidates: 2\n",
            "n_resources: 11008\n",
            "Fitting 10 folds for each of 2 candidates, totalling 20 fits\n",
            "CPU times: user 24.3 s, sys: 8.78 s, total: 33.1 s\n",
            "Wall time: 7min 58s\n"
          ]
        },
        {
          "output_type": "execute_result",
          "data": {
            "text/plain": [
              "HalvingGridSearchCV(cv=10,\n",
              "                    estimator=MLPClassifier(early_stopping=True, max_iter=1000,\n",
              "                                            tol=0.0002),\n",
              "                    factor=2, n_jobs=-1,\n",
              "                    param_grid={'alpha': [0.0001, 0.001, 0.01, 0.05, 0.1, 1.0],\n",
              "                                'batch_size': [64, 128, 256, 512],\n",
              "                                'hidden_layer_sizes': [(128, 128), (128, 64),\n",
              "                                                       (64, 64, 64),\n",
              "                                                       (32, 32, 32)],\n",
              "                                'learning_rate_init': [0.001, 0.01, 0.1, 1.0]},\n",
              "                    random_state=2311, scoring='accuracy', verbose=2)"
            ]
          },
          "metadata": {},
          "execution_count": 60
        }
      ]
    },
    {
      "cell_type": "code",
      "source": [
        "mlp_tuner.best_params_"
      ],
      "metadata": {
        "id": "dJCYRYBxtsSd",
        "colab": {
          "base_uri": "https://localhost:8080/"
        },
        "outputId": "035e920d-ba6c-4563-918e-20518387f552"
      },
      "execution_count": 61,
      "outputs": [
        {
          "output_type": "execute_result",
          "data": {
            "text/plain": [
              "{'alpha': 0.001,\n",
              " 'batch_size': 256,\n",
              " 'hidden_layer_sizes': (128, 128),\n",
              " 'learning_rate_init': 0.01}"
            ]
          },
          "metadata": {},
          "execution_count": 61
        }
      ]
    },
    {
      "cell_type": "code",
      "source": [
        "mlp_tuner.best_score_"
      ],
      "metadata": {
        "colab": {
          "base_uri": "https://localhost:8080/"
        },
        "id": "6xcx5KO1JZyG",
        "outputId": "684fd142-ceac-42a2-a55d-2d2dac82e545"
      },
      "execution_count": 62,
      "outputs": [
        {
          "output_type": "execute_result",
          "data": {
            "text/plain": [
              "0.9662842044422426"
            ]
          },
          "metadata": {},
          "execution_count": 62
        }
      ]
    },
    {
      "cell_type": "markdown",
      "source": [
        "# Results analysis"
      ],
      "metadata": {
        "id": "MfF6hIJ33SIO"
      }
    },
    {
      "cell_type": "markdown",
      "source": [
        "### 1. Base MLP"
      ],
      "metadata": {
        "id": "y1wmiRrn5SXP"
      }
    },
    {
      "cell_type": "code",
      "source": [
        "simple_mlp = MLPClassifier(**base_params, hidden_layer_sizes=(64, 64))\n",
        "\n",
        "simple_rocauc, simple_acc, simple_oof = evaluate(simple_mlp, all_features, seed=SEED, return_oof=True)"
      ],
      "metadata": {
        "id": "C2Jz-8cE5H5o"
      },
      "execution_count": 63,
      "outputs": []
    },
    {
      "cell_type": "code",
      "source": [
        "print(f'ROC-AUC = {simple_rocauc:.4f}, Accuracy = {simple_acc:.4f}')"
      ],
      "metadata": {
        "colab": {
          "base_uri": "https://localhost:8080/"
        },
        "id": "1QCxS4GN5H50",
        "outputId": "304da5ef-14ce-4650-e2d3-f2914b700150"
      },
      "execution_count": 64,
      "outputs": [
        {
          "output_type": "stream",
          "name": "stdout",
          "text": [
            "ROC-AUC = 0.9944, Accuracy = 0.9627\n"
          ]
        }
      ]
    },
    {
      "cell_type": "code",
      "source": [
        "simple_cm = ConfusionMatrixDisplay.from_predictions(data[TARGET], simple_oof, cmap='Blues')\n",
        "simple_cm.ax_.set_title('Simple MLP out-of-fold predictions',\n",
        "                    fontweight='bold', fontsize=12, ha='center')\n",
        "plt.savefig(fname='simple-mlp-confusion-matrix.png', bbox_inches='tight')\n",
        "plt.show()"
      ],
      "metadata": {
        "colab": {
          "base_uri": "https://localhost:8080/",
          "height": 295
        },
        "outputId": "08b6e1e7-41cf-4a69-8f34-5e112f701b60",
        "id": "Iz0qQRL95H50"
      },
      "execution_count": 65,
      "outputs": [
        {
          "output_type": "display_data",
          "data": {
            "text/plain": [
              "<Figure size 432x288 with 2 Axes>"
            ],
            "image/png": "[encoded data removed]"
          },
          "metadata": {
            "needs_background": "light"
          }
        }
      ]
    },
    {
      "cell_type": "markdown",
      "source": [
        "### 2. Best MLP after hyperparameter-tuning"
      ],
      "metadata": {
        "id": "HqTN1ATd5Kl7"
      }
    },
    {
      "cell_type": "code",
      "source": [
        "best_mlp = MLPClassifier(**base_params, **mlp_tuner.best_params_)\n",
        "\n",
        "best_rocauc, best_acc, best_oof = evaluate(best_mlp, all_features, seed=SEED, return_oof=True)"
      ],
      "metadata": {
        "id": "DMsNSOFA3WNa"
      },
      "execution_count": 66,
      "outputs": []
    },
    {
      "cell_type": "code",
      "source": [
        "print(f'ROC-AUC = {best_rocauc:.4f}, Accuracy = {best_acc:.4f}')"
      ],
      "metadata": {
        "id": "0SHFWLY8JaU3",
        "colab": {
          "base_uri": "https://localhost:8080/"
        },
        "outputId": "3e52d46f-96d2-454b-dce0-a1b2f6a80600"
      },
      "execution_count": 67,
      "outputs": [
        {
          "output_type": "stream",
          "name": "stdout",
          "text": [
            "ROC-AUC = 0.9956, Accuracy = 0.9673\n"
          ]
        }
      ]
    },
    {
      "cell_type": "code",
      "source": [
        "best_cm = ConfusionMatrixDisplay.from_predictions(data[TARGET], best_oof, cmap='Blues')\n",
        "best_cm.ax_.set_title('Tuned MLP out-of-fold predictions',\n",
        "                    fontweight='bold', fontsize=12, ha='center')\n",
        "plt.savefig(fname='tuned-mlp-confusion-matrix.png', bbox_inches='tight')\n",
        "plt.show()"
      ],
      "metadata": {
        "colab": {
          "base_uri": "https://localhost:8080/",
          "height": 295
        },
        "id": "Ybo_5FfaKRGE",
        "outputId": "fbdd65bf-0616-498a-ab94-d2d31acc7579"
      },
      "execution_count": 68,
      "outputs": [
        {
          "output_type": "display_data",
          "data": {
            "text/plain": [
              "<Figure size 432x288 with 2 Axes>"
            ],
            "image/png": "[encoded data removed]"
          },
          "metadata": {
            "needs_background": "light"
          }
        }
      ]
    },
    {
      "cell_type": "markdown",
      "source": [
        "**We can see significant reduction in both false-negatives and false-positives compared to the ML models in [notebook 01](https://github.com/stiwari-ds/DL-Simplified-SWOC-S3/blob/phishing-website-detection/Phishing-Website-Detection/Model/01_ml_baseline.ipynb), which shows that the tuned deep neural network is able to learn an overall better representation of our data.**"
      ],
      "metadata": {
        "id": "B9AHqHDz6sIZ"
      }
    }
  ]
}